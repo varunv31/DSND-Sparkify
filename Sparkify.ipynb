{
 "cells": [
  {
   "cell_type": "markdown",
   "metadata": {},
   "source": [
    "# Sparkify Project Workspace\n",
    "This workspace contains a tiny subset (128MB) of the full dataset available (12GB). Feel free to use this workspace to build your project, or to explore a smaller subset with Spark before deploying your cluster on the cloud. Instructions for setting up your Spark cluster is included in the last lesson of the Extracurricular Spark Course content.\n",
    "\n",
    "You can follow the steps below to guide your data analysis and model building portion of this project."
   ]
  },
  {
   "cell_type": "code",
   "execution_count": 48,
   "metadata": {},
   "outputs": [],
   "source": [
    "# import libraries\n",
    "from pyspark.sql import SparkSession"
   ]
  },
  {
   "cell_type": "code",
   "execution_count": 49,
   "metadata": {},
   "outputs": [],
   "source": [
    "from pyspark.sql.functions import udf\n",
    "from pyspark.sql.types import StringType\n",
    "from pyspark.sql.types import IntegerType\n",
    "from pyspark.sql.functions import desc\n",
    "from pyspark.sql.functions import asc\n",
    "from pyspark.sql.functions import sum as Fsum\n",
    "from pyspark.sql.functions import greatest\n",
    "from pyspark.sql.functions import col\n",
    "from pyspark.sql.functions import *\n",
    "\n",
    "import datetime\n",
    "\n",
    "from pyspark.sql import Window\n",
    "import pandas as pd\n",
    "import numpy as np\n",
    "import seaborn as sns\n",
    "from matplotlib import pyplot as plt\n",
    "%matplotlib inline\n",
    "\n",
    "import re\n",
    "from pyspark.sql import functions as sF\n",
    "from pyspark.sql import types as sT\n",
    "\n",
    "from functools import reduce"
   ]
  },
  {
   "cell_type": "code",
   "execution_count": 50,
   "metadata": {},
   "outputs": [],
   "source": [
    "# create a Spark session\n",
    "spark = SparkSession.builder.appName(\"Sparkify\").getOrCreate()"
   ]
  },
  {
   "cell_type": "markdown",
   "metadata": {},
   "source": [
    "# Load and Clean Dataset\n",
    "In this workspace, the mini-dataset file is `mini_sparkify_event_data.json`. Load and clean the dataset, checking for invalid or missing data - for example, records without userids or sessionids. "
   ]
  },
  {
   "cell_type": "code",
   "execution_count": 4,
   "metadata": {},
   "outputs": [
    {
     "name": "stdout",
     "output_type": "stream",
     "text": [
      "Sparkify-zh.ipynb\n",
      "Sparkify.ipynb\n",
      "mini_sparkify_event_data.json\n",
      "notebook.tar.gz\n",
      "tar: notebook.tar.gz: file changed as we read it\n",
      "spark-warehouse/\n"
     ]
    }
   ],
   "source": [
    "# Extract data\n",
    "!tar chvfz notebook.tar.gz *"
   ]
  },
  {
   "cell_type": "code",
   "execution_count": 5,
   "metadata": {},
   "outputs": [
    {
     "name": "stdout",
     "output_type": "stream",
     "text": [
      "root\n",
      " |-- artist: string (nullable = true)\n",
      " |-- auth: string (nullable = true)\n",
      " |-- firstName: string (nullable = true)\n",
      " |-- gender: string (nullable = true)\n",
      " |-- itemInSession: long (nullable = true)\n",
      " |-- lastName: string (nullable = true)\n",
      " |-- length: double (nullable = true)\n",
      " |-- level: string (nullable = true)\n",
      " |-- location: string (nullable = true)\n",
      " |-- method: string (nullable = true)\n",
      " |-- page: string (nullable = true)\n",
      " |-- registration: long (nullable = true)\n",
      " |-- sessionId: long (nullable = true)\n",
      " |-- song: string (nullable = true)\n",
      " |-- status: long (nullable = true)\n",
      " |-- ts: long (nullable = true)\n",
      " |-- userAgent: string (nullable = true)\n",
      " |-- userId: string (nullable = true)\n",
      "\n"
     ]
    }
   ],
   "source": [
    "data_path = 'mini_sparkify_event_data.json'\n",
    "df = spark.read.json(data_path)\n",
    "# See the frame schema\n",
    "df.printSchema()"
   ]
  },
  {
   "cell_type": "code",
   "execution_count": 6,
   "metadata": {},
   "outputs": [
    {
     "data": {
      "text/plain": [
       "[Row(artist='Martha Tilston', auth='Logged In', firstName='Colin', gender='M', itemInSession=50, lastName='Freeman', length=277.89016, level='paid', location='Bakersfield, CA', method='PUT', page='NextSong', registration=1538173362000, sessionId=29, song='Rockpools', status=200, ts=1538352117000, userAgent='Mozilla/5.0 (Windows NT 6.1; WOW64; rv:31.0) Gecko/20100101 Firefox/31.0', userId='30'),\n",
       " Row(artist='Five Iron Frenzy', auth='Logged In', firstName='Micah', gender='M', itemInSession=79, lastName='Long', length=236.09424, level='free', location='Boston-Cambridge-Newton, MA-NH', method='PUT', page='NextSong', registration=1538331630000, sessionId=8, song='Canada', status=200, ts=1538352180000, userAgent='\"Mozilla/5.0 (Windows NT 6.1; WOW64) AppleWebKit/537.36 (KHTML, like Gecko) Chrome/37.0.2062.103 Safari/537.36\"', userId='9'),\n",
       " Row(artist='Adam Lambert', auth='Logged In', firstName='Colin', gender='M', itemInSession=51, lastName='Freeman', length=282.8273, level='paid', location='Bakersfield, CA', method='PUT', page='NextSong', registration=1538173362000, sessionId=29, song='Time For Miracles', status=200, ts=1538352394000, userAgent='Mozilla/5.0 (Windows NT 6.1; WOW64; rv:31.0) Gecko/20100101 Firefox/31.0', userId='30'),\n",
       " Row(artist='Enigma', auth='Logged In', firstName='Micah', gender='M', itemInSession=80, lastName='Long', length=262.71302, level='free', location='Boston-Cambridge-Newton, MA-NH', method='PUT', page='NextSong', registration=1538331630000, sessionId=8, song='Knocking On Forbidden Doors', status=200, ts=1538352416000, userAgent='\"Mozilla/5.0 (Windows NT 6.1; WOW64) AppleWebKit/537.36 (KHTML, like Gecko) Chrome/37.0.2062.103 Safari/537.36\"', userId='9'),\n",
       " Row(artist='Daft Punk', auth='Logged In', firstName='Colin', gender='M', itemInSession=52, lastName='Freeman', length=223.60771, level='paid', location='Bakersfield, CA', method='PUT', page='NextSong', registration=1538173362000, sessionId=29, song='Harder Better Faster Stronger', status=200, ts=1538352676000, userAgent='Mozilla/5.0 (Windows NT 6.1; WOW64; rv:31.0) Gecko/20100101 Firefox/31.0', userId='30')]"
      ]
     },
     "execution_count": 6,
     "metadata": {},
     "output_type": "execute_result"
    }
   ],
   "source": [
    "# reading the first few rows\n",
    "df.take(5)"
   ]
  },
  {
   "cell_type": "code",
   "execution_count": 7,
   "metadata": {},
   "outputs": [
    {
     "data": {
      "text/plain": [
       "DataFrame[summary: string, artist: string, auth: string, firstName: string, gender: string, itemInSession: string, lastName: string, length: string, level: string, location: string, method: string, page: string, registration: string, sessionId: string, song: string, status: string, ts: string, userAgent: string, userId: string]"
      ]
     },
     "execution_count": 7,
     "metadata": {},
     "output_type": "execute_result"
    }
   ],
   "source": [
    "# checking the column types\n",
    "df.describe()"
   ]
  },
  {
   "cell_type": "code",
   "execution_count": 8,
   "metadata": {},
   "outputs": [
    {
     "name": "stdout",
     "output_type": "stream",
     "text": [
      "+-------+------------------+----------+---------+------+------------------+--------+-----------------+------+-----------------+------+-------+--------------------+-----------------+--------------------+------------------+--------------------+--------------------+-----------------+\n",
      "|summary|            artist|      auth|firstName|gender|     itemInSession|lastName|           length| level|         location|method|   page|        registration|        sessionId|                song|            status|                  ts|           userAgent|           userId|\n",
      "+-------+------------------+----------+---------+------+------------------+--------+-----------------+------+-----------------+------+-------+--------------------+-----------------+--------------------+------------------+--------------------+--------------------+-----------------+\n",
      "|  count|            228108|    286500|   278154|278154|            286500|  278154|           228108|286500|           278154|286500| 286500|              278154|           286500|              228108|            286500|              286500|              278154|           286500|\n",
      "|   mean| 551.0852017937219|      null|     null|  null|114.41421291448516|    null|249.1171819778458|  null|             null|  null|   null|1.535358834084427...|1041.526554973822|            Infinity|210.05459685863875|1.540956889810483...|                null|59682.02278593872|\n",
      "| stddev|1217.7693079161374|      null|     null|  null|129.76726201140994|    null|99.23517921058361|  null|             null|  null|   null| 3.291321616327586E9|726.7762634630741|                 NaN| 31.50507848842214|1.5075439608226302E9|                null|109091.9499991047|\n",
      "|    min|               !!!| Cancelled| Adelaida|     F|                 0|   Adams|          0.78322|  free|       Albany, OR|   GET|  About|       1521380675000|                1|\u001c",
      "ÃÂg ÃÂtti Gr...|               200|       1538352117000|\"Mozilla/5.0 (Mac...|                 |\n",
      "|    max| ÃÂlafur Arnalds|Logged Out|   Zyonna|     M|              1321|  Wright|       3024.66567|  paid|Winston-Salem, NC|   PUT|Upgrade|       1543247354000|             2474|ÃÂau hafa slopp...|               404|       1543799476000|Mozilla/5.0 (comp...|               99|\n",
      "+-------+------------------+----------+---------+------+------------------+--------+-----------------+------+-----------------+------+-------+--------------------+-----------------+--------------------+------------------+--------------------+--------------------+-----------------+\n",
      "\n"
     ]
    }
   ],
   "source": [
    "df.describe().show()"
   ]
  },
  {
   "cell_type": "code",
   "execution_count": 9,
   "metadata": {},
   "outputs": [
    {
     "name": "stdout",
     "output_type": "stream",
     "text": [
      "+-------+------------------+\n",
      "|summary|            artist|\n",
      "+-------+------------------+\n",
      "|  count|            228108|\n",
      "|   mean| 551.0852017937219|\n",
      "| stddev|1217.7693079161374|\n",
      "|    min|               !!!|\n",
      "|    max| ÃÂlafur Arnalds|\n",
      "+-------+------------------+\n",
      "\n"
     ]
    }
   ],
   "source": [
    "# Total count of artists\n",
    "df.describe(\"artist\").show()"
   ]
  },
  {
   "cell_type": "code",
   "execution_count": 10,
   "metadata": {},
   "outputs": [
    {
     "name": "stdout",
     "output_type": "stream",
     "text": [
      "+-------+-----------------+\n",
      "|summary|        sessionId|\n",
      "+-------+-----------------+\n",
      "|  count|           286500|\n",
      "|   mean|1041.526554973822|\n",
      "| stddev|726.7762634630741|\n",
      "|    min|                1|\n",
      "|    max|             2474|\n",
      "+-------+-----------------+\n",
      "\n"
     ]
    }
   ],
   "source": [
    "#total count of sessionIds\n",
    "df.describe(\"sessionId\").show()"
   ]
  },
  {
   "cell_type": "code",
   "execution_count": 11,
   "metadata": {},
   "outputs": [
    {
     "data": {
      "text/plain": [
       "286500"
      ]
     },
     "execution_count": 11,
     "metadata": {},
     "output_type": "execute_result"
    }
   ],
   "source": [
    "#Overall count\n",
    "df.count()"
   ]
  },
  {
   "cell_type": "code",
   "execution_count": 12,
   "metadata": {},
   "outputs": [
    {
     "name": "stdout",
     "output_type": "stream",
     "text": [
      "+--------------------+\n",
      "|                page|\n",
      "+--------------------+\n",
      "|               About|\n",
      "|          Add Friend|\n",
      "|     Add to Playlist|\n",
      "|              Cancel|\n",
      "|Cancellation Conf...|\n",
      "|           Downgrade|\n",
      "|               Error|\n",
      "|                Help|\n",
      "|                Home|\n",
      "|               Login|\n",
      "|              Logout|\n",
      "|            NextSong|\n",
      "|            Register|\n",
      "|         Roll Advert|\n",
      "|       Save Settings|\n",
      "|            Settings|\n",
      "|    Submit Downgrade|\n",
      "| Submit Registration|\n",
      "|      Submit Upgrade|\n",
      "|         Thumbs Down|\n",
      "+--------------------+\n",
      "only showing top 20 rows\n",
      "\n"
     ]
    }
   ],
   "source": [
    "#Dropping duplicates\n",
    "df.select(\"page\").dropDuplicates().sort(\"page\").show()"
   ]
  },
  {
   "cell_type": "markdown",
   "metadata": {},
   "source": [
    "### Drop Rows with Missing Values"
   ]
  },
  {
   "cell_type": "code",
   "execution_count": 13,
   "metadata": {},
   "outputs": [],
   "source": [
    "#retaining only valid rows\n",
    "df_valid = df.dropna(how = \"any\", subset = [\"userId\", \"sessionId\"])"
   ]
  },
  {
   "cell_type": "code",
   "execution_count": 14,
   "metadata": {},
   "outputs": [
    {
     "data": {
      "text/plain": [
       "286500"
      ]
     },
     "execution_count": 14,
     "metadata": {},
     "output_type": "execute_result"
    }
   ],
   "source": [
    "# counting the number of rows dropped\n",
    "df_valid.count()"
   ]
  },
  {
   "cell_type": "code",
   "execution_count": 15,
   "metadata": {},
   "outputs": [
    {
     "data": {
      "text/plain": [
       "286500"
      ]
     },
     "execution_count": 15,
     "metadata": {},
     "output_type": "execute_result"
    }
   ],
   "source": [
    "df.count()"
   ]
  },
  {
   "cell_type": "code",
   "execution_count": 16,
   "metadata": {},
   "outputs": [],
   "source": [
    "# Hence, there are no missing values in the 'UserId' column"
   ]
  },
  {
   "cell_type": "code",
   "execution_count": 17,
   "metadata": {},
   "outputs": [
    {
     "name": "stdout",
     "output_type": "stream",
     "text": [
      "+------+\n",
      "|userId|\n",
      "+------+\n",
      "|      |\n",
      "|    10|\n",
      "|   100|\n",
      "|100001|\n",
      "|100002|\n",
      "|100003|\n",
      "|100004|\n",
      "|100005|\n",
      "|100006|\n",
      "|100007|\n",
      "|100008|\n",
      "|100009|\n",
      "|100010|\n",
      "|100011|\n",
      "|100012|\n",
      "|100013|\n",
      "|100014|\n",
      "|100015|\n",
      "|100016|\n",
      "|100017|\n",
      "+------+\n",
      "only showing top 20 rows\n",
      "\n"
     ]
    }
   ],
   "source": [
    "df_valid.select(\"userId\").dropDuplicates().sort(\"userId\").show()"
   ]
  },
  {
   "cell_type": "code",
   "execution_count": 18,
   "metadata": {},
   "outputs": [],
   "source": [
    "#Looks like there are rows with null strings and we will need to eliminate these"
   ]
  },
  {
   "cell_type": "code",
   "execution_count": 19,
   "metadata": {},
   "outputs": [],
   "source": [
    "df_valid = df_valid.filter(df_valid[\"userId\"] != \"\")"
   ]
  },
  {
   "cell_type": "code",
   "execution_count": 20,
   "metadata": {},
   "outputs": [
    {
     "data": {
      "text/plain": [
       "278154"
      ]
     },
     "execution_count": 20,
     "metadata": {},
     "output_type": "execute_result"
    }
   ],
   "source": [
    "# counting the total number of rows\n",
    "df_valid.count()"
   ]
  },
  {
   "cell_type": "code",
   "execution_count": 21,
   "metadata": {},
   "outputs": [
    {
     "data": {
      "text/plain": [
       "8346"
      ]
     },
     "execution_count": 21,
     "metadata": {},
     "output_type": "execute_result"
    }
   ],
   "source": [
    "#Hence, we dropped \n",
    "df.count() - df_valid.count()"
   ]
  },
  {
   "cell_type": "markdown",
   "metadata": {},
   "source": [
    "# Exploratory Data Analysis\n",
    "When you're working with the full dataset, perform EDA by loading a small subset of the data and doing basic manipulations within Spark. In this workspace, you are already provided a small subset of data you can explore.\n",
    "\n",
    "### Define Churn\n",
    "\n",
    "Once you've done some preliminary analysis, create a column `Churn` to use as the label for your model. I suggest using the `Cancellation Confirmation` events to define your churn, which happen for both paid and free users. As a bonus task, you can also look into the `Downgrade` events.\n",
    "\n",
    "### Explore Data\n",
    "Once you've defined churn, perform some exploratory data analysis to observe the behavior for users who stayed vs users who churned. You can start by exploring aggregates on these two groups of users, observing how much of a specific action they experienced per a certain time unit or number of songs played."
   ]
  },
  {
   "cell_type": "markdown",
   "metadata": {},
   "source": [
    "### Churn Definition\n",
    "A user is defined as churned when there's an event called Cancellation Confirmation appeared in activity log. This event happens for both paid and free users."
   ]
  },
  {
   "cell_type": "code",
   "execution_count": 22,
   "metadata": {},
   "outputs": [],
   "source": [
    "#Creating a flag for churn\n",
    "churn_users = df_valid.filter(df.page==\"Cancellation Confirmation\").select(\"userId\").dropDuplicates()\n",
    "churn_users_list = [(row['userId']) for row in churn_users.collect()]\n",
    "df_valid = df_valid.withColumn(\"churn\", df_valid.userId.isin(churn_users_list))"
   ]
  },
  {
   "cell_type": "code",
   "execution_count": 23,
   "metadata": {},
   "outputs": [
    {
     "data": {
      "image/png": "[encoded data removed]",
      "text/plain": [
       "<matplotlib.figure.Figure at 0x7f9d461079e8>"
      ]
     },
     "metadata": {
      "needs_background": "light"
     },
     "output_type": "display_data"
    }
   ],
   "source": [
    "# Seeing who churned more: Males or Females?\n",
    "\n",
    "gender_churn_pd = df_valid.dropDuplicates([\"userId\", \"gender\"]).groupby([\"churn\", \"gender\"]).count().sort(\"churn\").toPandas()\n",
    "\n",
    "ax = sns.barplot(x='churn', y='count', hue='gender', data=gender_churn_pd)\n",
    "plt.xlabel('Customer churn: True or Flase')\n",
    "plt.ylabel('# customers')\n",
    "plt.legend(title='Gender', loc='best')\n",
    "plt.title('Churn across genders')\n",
    "sns.despine(ax=ax);"
   ]
  },
  {
   "cell_type": "markdown",
   "metadata": {},
   "source": [
    "#### Observation:\n",
    "_Male customers are likely to churn more than Female customers_"
   ]
  },
  {
   "cell_type": "code",
   "execution_count": 24,
   "metadata": {},
   "outputs": [],
   "source": [
    "# add a time column to df\n",
    "convert_ts = udf(lambda x: datetime.datetime.fromtimestamp(x / 1000.0).strftime(\"%Y-%m-%d %H:%M:%S\"))\n",
    "df_valid = df_valid.withColumn('event_time', convert_ts('ts'))\n",
    "df_valid = df_valid.withColumn('registration_time', convert_ts('registration'))"
   ]
  },
  {
   "cell_type": "markdown",
   "metadata": {},
   "source": [
    "#### Looking at Male and Female customers across their lifetime"
   ]
  },
  {
   "cell_type": "code",
   "execution_count": 25,
   "metadata": {},
   "outputs": [],
   "source": [
    "# total number of songs listened over a customer's lifetime\n",
    "lifetime_pd = df_valid.where('page == \"NextSong\" OR page == \"Thumbs Up\"').groupby(['userId', 'churn', 'gender', 'page']).count().toPandas()\n",
    "lifetime_pd = lifetime_pd.pivot_table(index=['userId','churn','gender'], values='count', columns='page').reset_index()"
   ]
  },
  {
   "cell_type": "code",
   "execution_count": 26,
   "metadata": {},
   "outputs": [
    {
     "data": {
      "image/png": "[encoded data removed]",
      "text/plain": [
       "<matplotlib.figure.Figure at 0x7f9d44033208>"
      ]
     },
     "metadata": {
      "needs_background": "light"
     },
     "output_type": "display_data"
    }
   ],
   "source": [
    "#bar plot for a better representation of #songs over lifetime across both genders\n",
    "ax = sns.barplot(data=lifetime_pd, x='churn', y='NextSong', hue='gender')\n",
    "plt.xlabel('Customer churn: True or Flase')\n",
    "plt.ylabel('Lifetime songs listened')\n",
    "plt.legend(title='Gender', loc='best')\n",
    "plt.title('Customer lifetime songs')\n",
    "sns.despine(ax=ax);"
   ]
  },
  {
   "cell_type": "markdown",
   "metadata": {},
   "source": [
    "#### Observation:\n",
    "_Female customers seem to use the service many more times than male customers_"
   ]
  },
  {
   "cell_type": "code",
   "execution_count": 27,
   "metadata": {},
   "outputs": [
    {
     "data": {
      "image/png": "[encoded data removed]",
      "text/plain": [
       "<matplotlib.figure.Figure at 0x7f9d4406f208>"
      ]
     },
     "metadata": {
      "needs_background": "light"
     },
     "output_type": "display_data"
    }
   ],
   "source": [
    "#bar plot for a better representation of #songs liked over lifetime across both genders\n",
    "ax = sns.barplot(data=lifetime_pd, x='churn', y='Thumbs Up', hue='gender')\n",
    "plt.xlabel('Customer churn: True or Flase')\n",
    "plt.ylabel('Lifetime songs with Thumbs Up')\n",
    "plt.legend(title='Gender', loc='best')\n",
    "plt.title('# Songs \"liked\" by customers')\n",
    "sns.despine(ax=ax);"
   ]
  },
  {
   "cell_type": "markdown",
   "metadata": {},
   "source": [
    "#### Observation:\n",
    "_Female customers review the songs more than male customers_"
   ]
  },
  {
   "cell_type": "code",
   "execution_count": 28,
   "metadata": {},
   "outputs": [
    {
     "data": {
      "image/png": "[encoded data removed]",
      "text/plain": [
       "<matplotlib.figure.Figure at 0x7f9d3fe933c8>"
      ]
     },
     "metadata": {
      "needs_background": "light"
     },
     "output_type": "display_data"
    }
   ],
   "source": [
    "#bar plot for a number of songs played per session over lifetime across both genders\n",
    "songs_gender_pd = df_valid.where('page == \"NextSong\"').groupby(['churn', 'userId', 'sessionId','gender']).count()\\\n",
    "    .groupby(['churn', 'userId', 'gender']).agg({'count':'avg'})\\\n",
    "    .withColumnRenamed('avg(count)', 'avg_songs_played')\\\n",
    "    .toPandas()\n",
    "\n",
    "ax = sns.barplot('churn', y='avg_songs_played', hue='gender', data=songs_gender_pd)\n",
    "plt.xlabel('Customer churn: True or Flase')\n",
    "plt.ylabel('Average songs played per session')\n",
    "plt.legend(title='Gender', loc='best', ncol=2)\n",
    "plt.title('# songs played per session over lifetime ')\n",
    "sns.despine(ax=ax);"
   ]
  },
  {
   "cell_type": "markdown",
   "metadata": {},
   "source": [
    "#### Observation:\n",
    "_Female customers use the service more before churning, whereas, Male customers who continue seem to play marginally more songs_"
   ]
  },
  {
   "cell_type": "markdown",
   "metadata": {},
   "source": [
    "#### Additional EDA:"
   ]
  },
  {
   "cell_type": "markdown",
   "metadata": {},
   "source": [
    "#### After how long does a customer churn"
   ]
  },
  {
   "cell_type": "code",
   "execution_count": 29,
   "metadata": {},
   "outputs": [],
   "source": [
    "# After how long does a customer churn?\n",
    "lt_pd = df_valid \\\n",
    "    .select('userId','registration','ts','churn') \\\n",
    "    .withColumn('lifetime',((df_valid.ts-df_valid.registration)/1000/3600/24))\\\n",
    "    .groupBy('userId','churn') \\\n",
    "    .agg({'lifetime':'max'}) \\\n",
    "    .withColumnRenamed('max(lifetime)','lifetime') \\\n",
    "    .select('userId', 'churn', 'lifetime')\\\n",
    "    .toPandas()"
   ]
  },
  {
   "cell_type": "code",
   "execution_count": 30,
   "metadata": {},
   "outputs": [
    {
     "data": {
      "image/png": "[encoded data removed]",
      "text/plain": [
       "<matplotlib.figure.Figure at 0x7f9d3fe54518>"
      ]
     },
     "metadata": {
      "needs_background": "light"
     },
     "output_type": "display_data"
    }
   ],
   "source": [
    "ax = sns.boxplot(data=lt_pd, y='churn', x='lifetime', orient='h')\n",
    "plt.xlabel('Days since registration when churn')\n",
    "plt.ylabel('Customer churn: True or Flase')\n",
    "plt.title('Service used before churning')\n",
    "sns.despine(ax=ax);"
   ]
  },
  {
   "cell_type": "markdown",
   "metadata": {},
   "source": [
    "#### Observation:\n",
    "_Churned customer use the service for a shorter period of time. Hypothesis: Customers quickly realize that the service is not to their liking and de-register quickly_"
   ]
  },
  {
   "cell_type": "markdown",
   "metadata": {},
   "source": [
    "#### Calculating Statistics by Hour"
   ]
  },
  {
   "cell_type": "code",
   "execution_count": 31,
   "metadata": {},
   "outputs": [],
   "source": [
    "#count at an hourly level\n",
    "get_hour = udf(lambda x: datetime.datetime.fromtimestamp(x / 1000.0). hour)"
   ]
  },
  {
   "cell_type": "code",
   "execution_count": 32,
   "metadata": {},
   "outputs": [],
   "source": [
    "df = df.withColumn(\"hour\", get_hour(df.ts))"
   ]
  },
  {
   "cell_type": "code",
   "execution_count": 33,
   "metadata": {},
   "outputs": [
    {
     "data": {
      "text/plain": [
       "Row(artist='Martha Tilston', auth='Logged In', firstName='Colin', gender='M', itemInSession=50, lastName='Freeman', length=277.89016, level='paid', location='Bakersfield, CA', method='PUT', page='NextSong', registration=1538173362000, sessionId=29, song='Rockpools', status=200, ts=1538352117000, userAgent='Mozilla/5.0 (Windows NT 6.1; WOW64; rv:31.0) Gecko/20100101 Firefox/31.0', userId='30', hour='0')"
      ]
     },
     "execution_count": 33,
     "metadata": {},
     "output_type": "execute_result"
    }
   ],
   "source": [
    "df.head()"
   ]
  },
  {
   "cell_type": "code",
   "execution_count": 34,
   "metadata": {},
   "outputs": [],
   "source": [
    "#total number of songs requested by the hour\n",
    "songs_in_hour = df.filter(df.page == \"NextSong\").groupby(df.hour).count().orderBy(df.hour.cast(\"float\"))"
   ]
  },
  {
   "cell_type": "code",
   "execution_count": 35,
   "metadata": {},
   "outputs": [
    {
     "name": "stdout",
     "output_type": "stream",
     "text": [
      "+----+-----+\n",
      "|hour|count|\n",
      "+----+-----+\n",
      "|   0| 9062|\n",
      "|   1| 8388|\n",
      "|   2| 8336|\n",
      "|   3| 8355|\n",
      "|   4| 8147|\n",
      "|   5| 8178|\n",
      "|   6| 8054|\n",
      "|   7| 8091|\n",
      "|   8| 8253|\n",
      "|   9| 8498|\n",
      "|  10| 8882|\n",
      "|  11| 8830|\n",
      "|  12| 9326|\n",
      "|  13| 9644|\n",
      "|  14|10494|\n",
      "|  15|11354|\n",
      "|  16|11636|\n",
      "|  17|11460|\n",
      "|  18|11124|\n",
      "|  19|10930|\n",
      "+----+-----+\n",
      "only showing top 20 rows\n",
      "\n"
     ]
    }
   ],
   "source": [
    "songs_in_hour.show()"
   ]
  },
  {
   "cell_type": "code",
   "execution_count": 36,
   "metadata": {},
   "outputs": [],
   "source": [
    "# converting to a pandas df for plotting graphs\n",
    "songs_in_hour_pd = songs_in_hour.toPandas()\n",
    "songs_in_hour_pd.hour = pd.to_numeric(songs_in_hour_pd.hour)"
   ]
  },
  {
   "cell_type": "code",
   "execution_count": 42,
   "metadata": {
    "scrolled": true
   },
   "outputs": [
    {
     "data": {
      "image/png": "[encoded data removed]",
      "text/plain": [
       "<matplotlib.figure.Figure at 0x7f9d3fbfe780>"
      ]
     },
     "metadata": {
      "needs_background": "light"
     },
     "output_type": "display_data"
    }
   ],
   "source": [
    "#scatterplot to check when is the next song requested\n",
    "plt.scatter(songs_in_hour_pd[\"hour\"], songs_in_hour_pd[\"count\"])\n",
    "plt.xlim(-1, 24);\n",
    "plt.xlabel(\"Hour\")\n",
    "plt.ylabel(\"Songs played\");"
   ]
  },
  {
   "cell_type": "markdown",
   "metadata": {},
   "source": [
    "#### Observation:\n",
    "_Customers tend to play more songs post lunch (after 2 PM) and it slowly tapers down to 10 PM_"
   ]
  },
  {
   "cell_type": "markdown",
   "metadata": {},
   "source": [
    "#### Users Downgrade Their Accounts\n",
    "Find when users downgrade their accounts and then flag those log entries."
   ]
  },
  {
   "cell_type": "code",
   "execution_count": 43,
   "metadata": {},
   "outputs": [
    {
     "name": "stdout",
     "output_type": "stream",
     "text": [
      "+------+---------+---------+------+-------------+---------+------+-----+--------------------+------+----------------+-------------+---------+----+------+-------------+--------------------+------+-----+-------------------+-------------------+\n",
      "|artist|     auth|firstName|gender|itemInSession| lastName|length|level|            location|method|            page| registration|sessionId|song|status|           ts|           userAgent|userId|churn|         event_time|  registration_time|\n",
      "+------+---------+---------+------+-------------+---------+------+-----+--------------------+------+----------------+-------------+---------+----+------+-------------+--------------------+------+-----+-------------------+-------------------+\n",
      "|  null|Logged In|     Kael|     M|           47|    Baker|  null| paid|Kingsport-Bristol...|   PUT|Submit Downgrade|1533102330000|      249|null|   307|1538393619000|\"Mozilla/5.0 (Mac...|   131|false|2018-10-01 11:33:39|2018-08-01 05:45:30|\n",
      "|  null|Logged In|   Calvin|     M|           17| Marshall|  null| paid|      Pittsburgh, PA|   PUT|Submit Downgrade|1537120757000|      313|null|   307|1538516445000|\"Mozilla/5.0 (Mac...|    38|false|2018-10-02 21:40:45|2018-09-16 17:59:17|\n",
      "|  null|Logged In|  Kaylenn|     F|          354|  Jenkins|  null| paid|           Price, UT|   PUT|Submit Downgrade|1535903878000|      479|null|   307|1538835479000|\"Mozilla/5.0 (Mac...|   141|false|2018-10-06 14:17:59|2018-09-02 15:57:58|\n",
      "|  null|Logged In|    Colin|     M|          214|  Freeman|  null| paid|     Bakersfield, CA|   PUT|Submit Downgrade|1538173362000|      532|null|   307|1538995454000|Mozilla/5.0 (Wind...|    30|false|2018-10-08 10:44:14|2018-09-28 22:22:42|\n",
      "|  null|Logged In|  Destiny|     F|            2|  Herring|  null| paid|Miami-Fort Lauder...|   PUT|Submit Downgrade|1536844410000|      378|null|   307|1538997356000|\"Mozilla/5.0 (Win...|    20|false|2018-10-08 11:15:56|2018-09-13 13:13:30|\n",
      "|  null|Logged In|   Sophia|     F|           42|    Perry|  null| paid|Los Angeles-Long ...|   PUT|Submit Downgrade|1533885783000|      632|null|   307|1539144047000|Mozilla/5.0 (Wind...|    12| true|2018-10-10 04:00:47|2018-08-10 07:23:03|\n",
      "|  null|Logged In|      Zoe|     F|           23|    Patel|  null| paid|Providence-Warwic...|   PUT|Submit Downgrade|1532554781000|      487|null|   307|1539239742000|Mozilla/5.0 (Wind...|    11|false|2018-10-11 06:35:42|2018-07-25 21:39:41|\n",
      "|  null|Logged In|   Parker|     M|          636| Williams|  null| paid|San Francisco-Oak...|   PUT|Submit Downgrade|1537188538000|      529|null|   307|1539244188000|\"Mozilla/5.0 (iPh...|    61|false|2018-10-11 07:49:48|2018-09-17 12:48:58|\n",
      "|  null|Logged In|   Oliver|     M|           89|  Gilbert|  null| paid|Philadelphia-Camd...|   PUT|Submit Downgrade|1535093367000|      725|null|   307|1539264337000|\"Mozilla/5.0 (Mac...|    81|false|2018-10-11 13:25:37|2018-08-24 06:49:27|\n",
      "|  null|Logged In|  Brayden|     M|          113|   Thomas|  null| paid|Los Angeles-Long ...|   PUT|Submit Downgrade|1534133898000|      734|null|   307|1539335599000|\"Mozilla/5.0 (Mac...|    85|false|2018-10-12 09:13:19|2018-08-13 04:18:18|\n",
      "|  null|Logged In|   Lucero|     F|           19|     Reed|  null| paid|Louisville/Jeffer...|   PUT|Submit Downgrade|1536642109000|      753|null|   307|1539337383000|\"Mozilla/5.0 (Win...|   140|false|2018-10-12 09:43:03|2018-09-11 05:01:49|\n",
      "|  null|Logged In|     Lily|     F|           69|  Barnett|  null| paid|Washington-Arling...|   PUT|Submit Downgrade|1537053412000|      812|null|   307|1539467798000|\"Mozilla/5.0 (Mac...|    35|false|2018-10-13 21:56:38|2018-09-15 23:16:52|\n",
      "|  null|Logged In|    Alexi|     F|           41|   Warren|  null| paid|Spokane-Spokane V...|   PUT|Submit Downgrade|1532482662000|      859|null|   307|1539608060000|Mozilla/5.0 (Wind...|    54| true|2018-10-15 12:54:20|2018-07-25 01:37:42|\n",
      "|  null|Logged In|   Autumn|     F|           53|   Martin|  null| paid|     Gainesville, FL|   PUT|Submit Downgrade|1537749786000|      688|null|   307|1539608338000|\"Mozilla/5.0 (Win...|    77|false|2018-10-15 12:58:58|2018-09-24 00:43:06|\n",
      "|  null|Logged In|   Jaleel|     M|          180|Maldonado|  null| paid|         Boulder, CO|   PUT|Submit Downgrade|1537890437000|      510|null|   307|1539633167000|Mozilla/5.0 (Wind...|    59|false|2018-10-15 19:52:47|2018-09-25 15:47:17|\n",
      "|  null|Logged In|    Piper|     F|          210|  Nielsen|  null| paid|New York-Newark-J...|   PUT|Submit Downgrade|1537699856000|      865|null|   307|1539647785000|\"Mozilla/5.0 (Mac...|   103| true|2018-10-15 23:56:25|2018-09-23 10:50:56|\n",
      "|  null|Logged In|    Faigy|     F|          101|     Howe|  null| paid|Phoenix-Mesa-Scot...|   PUT|Submit Downgrade|1538211832000|      826|null|   307|1539675894000|Mozilla/5.0 (Maci...|    95|false|2018-10-16 07:44:54|2018-09-29 09:03:52|\n",
      "|  null|Logged In|  Ashlynn|     F|          303| Williams|  null| paid|     Tallahassee, FL|   PUT|Submit Downgrade|1537365219000|     1101|null|   307|1540235073000|\"Mozilla/5.0 (Mac...|    74|false|2018-10-22 19:04:33|2018-09-19 13:53:39|\n",
      "|  null|Logged In|  Brayden|     M|          105|   Thomas|  null| paid|Los Angeles-Long ...|   PUT|Submit Downgrade|1534133898000|     1183|null|   307|1540383285000|\"Mozilla/5.0 (Mac...|    85|false|2018-10-24 12:14:45|2018-08-13 04:18:18|\n",
      "|  null|Logged In|    Micah|     M|           11|     Long|  null| paid|Boston-Cambridge-...|   PUT|Submit Downgrade|1538331630000|     1276|null|   307|1540706007000|\"Mozilla/5.0 (Win...|     9|false|2018-10-28 05:53:27|2018-09-30 18:20:30|\n",
      "+------+---------+---------+------+-------------+---------+------+-----+--------------------+------+----------------+-------------+---------+----+------+-------------+--------------------+------+-----+-------------------+-------------------+\n",
      "only showing top 20 rows\n",
      "\n"
     ]
    }
   ],
   "source": [
    "df_valid.filter(\"page = 'Submit Downgrade'\").show()"
   ]
  },
  {
   "cell_type": "code",
   "execution_count": 44,
   "metadata": {},
   "outputs": [],
   "source": [
    "#creating a flag\n",
    "flag_downgrade_event = udf(lambda x: 1 if x == \"Submit Downgrade\" else 0, IntegerType())"
   ]
  },
  {
   "cell_type": "code",
   "execution_count": 45,
   "metadata": {},
   "outputs": [],
   "source": [
    "df_valid = df_valid.withColumn(\"downgraded\", flag_downgrade_event(\"page\"))"
   ]
  },
  {
   "cell_type": "code",
   "execution_count": 46,
   "metadata": {},
   "outputs": [
    {
     "data": {
      "text/plain": [
       "Row(artist='Martha Tilston', auth='Logged In', firstName='Colin', gender='M', itemInSession=50, lastName='Freeman', length=277.89016, level='paid', location='Bakersfield, CA', method='PUT', page='NextSong', registration=1538173362000, sessionId=29, song='Rockpools', status=200, ts=1538352117000, userAgent='Mozilla/5.0 (Windows NT 6.1; WOW64; rv:31.0) Gecko/20100101 Firefox/31.0', userId='30', churn=False, event_time='2018-10-01 00:01:57', registration_time='2018-09-28 22:22:42', downgraded=0)"
      ]
     },
     "execution_count": 46,
     "metadata": {},
     "output_type": "execute_result"
    }
   ],
   "source": [
    "df_valid.head()"
   ]
  },
  {
   "cell_type": "code",
   "execution_count": 47,
   "metadata": {},
   "outputs": [],
   "source": [
    "#using windows function for calculating cumulative scores in reverse chronological order for Phase column\n",
    "windowval = Window.partitionBy(\"userId\").orderBy(desc(\"ts\")).rangeBetween(Window.unboundedPreceding, 0)"
   ]
  },
  {
   "cell_type": "code",
   "execution_count": 48,
   "metadata": {},
   "outputs": [],
   "source": [
    "df_valid = df_valid.withColumn(\"phase\", Fsum(\"downgraded\").over(windowval))"
   ]
  },
  {
   "cell_type": "code",
   "execution_count": 49,
   "metadata": {},
   "outputs": [
    {
     "data": {
      "text/plain": [
       "[Row(userId='30', firstname='Colin', ts=1538352117000, page='NextSong', level='paid', phase=1),\n",
       " Row(userId='9', firstname='Micah', ts=1538352180000, page='NextSong', level='free', phase=1),\n",
       " Row(userId='30', firstname='Colin', ts=1538352394000, page='NextSong', level='paid', phase=1),\n",
       " Row(userId='9', firstname='Micah', ts=1538352416000, page='NextSong', level='free', phase=1),\n",
       " Row(userId='30', firstname='Colin', ts=1538352676000, page='NextSong', level='paid', phase=1),\n",
       " Row(userId='9', firstname='Micah', ts=1538352678000, page='NextSong', level='free', phase=1),\n",
       " Row(userId='9', firstname='Micah', ts=1538352886000, page='NextSong', level='free', phase=1),\n",
       " Row(userId='30', firstname='Colin', ts=1538352899000, page='NextSong', level='paid', phase=1),\n",
       " Row(userId='30', firstname='Colin', ts=1538352905000, page='Add to Playlist', level='paid', phase=1),\n",
       " Row(userId='30', firstname='Colin', ts=1538353084000, page='NextSong', level='paid', phase=1),\n",
       " Row(userId='9', firstname='Micah', ts=1538353146000, page='NextSong', level='free', phase=1),\n",
       " Row(userId='9', firstname='Micah', ts=1538353150000, page='Roll Advert', level='free', phase=1),\n",
       " Row(userId='30', firstname='Colin', ts=1538353218000, page='NextSong', level='paid', phase=1),\n",
       " Row(userId='9', firstname='Micah', ts=1538353375000, page='NextSong', level='free', phase=1),\n",
       " Row(userId='9', firstname='Micah', ts=1538353376000, page='Thumbs Up', level='free', phase=1),\n",
       " Row(userId='30', firstname='Colin', ts=1538353441000, page='NextSong', level='paid', phase=1),\n",
       " Row(userId='9', firstname='Micah', ts=1538353576000, page='NextSong', level='free', phase=1),\n",
       " Row(userId='74', firstname='Ashlynn', ts=1538353668000, page='NextSong', level='free', phase=1),\n",
       " Row(userId='30', firstname='Colin', ts=1538353687000, page='NextSong', level='paid', phase=1),\n",
       " Row(userId='9', firstname='Micah', ts=1538353744000, page='NextSong', level='free', phase=1),\n",
       " Row(userId='74', firstname='Ashlynn', ts=1538353834000, page='NextSong', level='free', phase=1),\n",
       " Row(userId='30', firstname='Colin', ts=1538353909000, page='NextSong', level='paid', phase=1),\n",
       " Row(userId='54', firstname='Alexi', ts=1538353930000, page='NextSong', level='paid', phase=1),\n",
       " Row(userId='9', firstname='Micah', ts=1538353973000, page='NextSong', level='free', phase=1),\n",
       " Row(userId='74', firstname='Ashlynn', ts=1538354117000, page='NextSong', level='free', phase=1),\n",
       " Row(userId='30', firstname='Colin', ts=1538354132000, page='NextSong', level='paid', phase=1),\n",
       " Row(userId='54', firstname='Alexi', ts=1538354180000, page='NextSong', level='paid', phase=1),\n",
       " Row(userId='9', firstname='Micah', ts=1538354204000, page='NextSong', level='free', phase=1),\n",
       " Row(userId='74', firstname='Ashlynn', ts=1538354291000, page='NextSong', level='free', phase=1),\n",
       " Row(userId='30', firstname='Colin', ts=1538354365000, page='NextSong', level='paid', phase=1),\n",
       " Row(userId='54', firstname='Alexi', ts=1538354396000, page='NextSong', level='paid', phase=1),\n",
       " Row(userId='9', firstname='Micah', ts=1538354445000, page='NextSong', level='free', phase=1),\n",
       " Row(userId='30', firstname='Colin', ts=1538354584000, page='NextSong', level='paid', phase=1),\n",
       " Row(userId='74', firstname='Ashlynn', ts=1538354598000, page='NextSong', level='free', phase=1),\n",
       " Row(userId='54', firstname='Alexi', ts=1538354739000, page='NextSong', level='paid', phase=1),\n",
       " Row(userId='54', firstname='Alexi', ts=1538354749000, page='Downgrade', level='paid', phase=1),\n",
       " Row(userId='30', firstname='Colin', ts=1538354806000, page='NextSong', level='paid', phase=1),\n",
       " Row(userId='9', firstname='Micah', ts=1538354818000, page='NextSong', level='free', phase=1),\n",
       " Row(userId='30', firstname='Colin', ts=1538354945000, page='NextSong', level='paid', phase=1),\n",
       " Row(userId='54', firstname='Alexi', ts=1538354985000, page='NextSong', level='paid', phase=1),\n",
       " Row(userId='74', firstname='Ashlynn', ts=1538355027000, page='NextSong', level='free', phase=1),\n",
       " Row(userId='9', firstname='Micah', ts=1538355127000, page='NextSong', level='free', phase=1),\n",
       " Row(userId='74', firstname='Ashlynn', ts=1538355252000, page='NextSong', level='free', phase=1),\n",
       " Row(userId='54', firstname='Alexi', ts=1538355254000, page='NextSong', level='paid', phase=1),\n",
       " Row(userId='54', firstname='Alexi', ts=1538355255000, page='Thumbs Up', level='paid', phase=1),\n",
       " Row(userId='30', firstname='Colin', ts=1538355256000, page='NextSong', level='paid', phase=1),\n",
       " Row(userId='9', firstname='Micah', ts=1538355305000, page='NextSong', level='free', phase=1),\n",
       " Row(userId='9', firstname='Micah', ts=1538355306000, page='Thumbs Down', level='free', phase=1),\n",
       " Row(userId='74', firstname='Ashlynn', ts=1538355459000, page='NextSong', level='free', phase=1),\n",
       " Row(userId='30', firstname='Colin', ts=1538355473000, page='NextSong', level='paid', phase=1),\n",
       " Row(userId='9', firstname='Micah', ts=1538355501000, page='NextSong', level='free', phase=1),\n",
       " Row(userId='9', firstname='Micah', ts=1538355504000, page='Home', level='free', phase=1),\n",
       " Row(userId='9', firstname='Micah', ts=1538355686000, page='NextSong', level='free', phase=1),\n",
       " Row(userId='9', firstname='Micah', ts=1538355687000, page='Logout', level='free', phase=1),\n",
       " Row(userId='74', firstname='Ashlynn', ts=1538355710000, page='NextSong', level='free', phase=1),\n",
       " Row(userId='30', firstname='Colin', ts=1538355711000, page='NextSong', level='paid', phase=1),\n",
       " Row(userId='74', firstname='Ashlynn', ts=1538355711000, page='Thumbs Up', level='free', phase=1),\n",
       " Row(userId='9', firstname='Micah', ts=1538355855000, page='Home', level='free', phase=1),\n",
       " Row(userId='9', firstname='Micah', ts=1538355875000, page='NextSong', level='free', phase=1),\n",
       " Row(userId='30', firstname='Colin', ts=1538355915000, page='NextSong', level='paid', phase=1),\n",
       " Row(userId='74', firstname='Ashlynn', ts=1538356000000, page='NextSong', level='free', phase=1),\n",
       " Row(userId='9', firstname='Micah', ts=1538356108000, page='NextSong', level='free', phase=1),\n",
       " Row(userId='74', firstname='Ashlynn', ts=1538356218000, page='NextSong', level='free', phase=1),\n",
       " Row(userId='9', firstname='Micah', ts=1538356259000, page='NextSong', level='free', phase=1),\n",
       " Row(userId='30', firstname='Colin', ts=1538356263000, page='NextSong', level='paid', phase=1),\n",
       " Row(userId='74', firstname='Ashlynn', ts=1538356359000, page='NextSong', level='free', phase=1),\n",
       " Row(userId='30', firstname='Colin', ts=1538356523000, page='NextSong', level='paid', phase=1),\n",
       " Row(userId='30', firstname='Colin', ts=1538356524000, page='Thumbs Down', level='paid', phase=1),\n",
       " Row(userId='74', firstname='Ashlynn', ts=1538356598000, page='NextSong', level='free', phase=1),\n",
       " Row(userId='9', firstname='Micah', ts=1538356616000, page='NextSong', level='free', phase=1),\n",
       " Row(userId='4', firstname='Warren', ts=1538356650000, page='NextSong', level='free', phase=0),\n",
       " Row(userId='4', firstname='Warren', ts=1538356651000, page='Logout', level='free', phase=0),\n",
       " Row(userId='4', firstname='Warren', ts=1538356686000, page='Home', level='free', phase=0),\n",
       " Row(userId='30', firstname='Colin', ts=1538356707000, page='NextSong', level='paid', phase=1),\n",
       " Row(userId='74', firstname='Ashlynn', ts=1538356782000, page='NextSong', level='free', phase=1),\n",
       " Row(userId='74', firstname='Ashlynn', ts=1538356816000, page='Add to Playlist', level='free', phase=1),\n",
       " Row(userId='74', firstname='Ashlynn', ts=1538356824000, page='NextSong', level='free', phase=1),\n",
       " Row(userId='4', firstname='Warren', ts=1538356889000, page='NextSong', level='free', phase=0),\n",
       " Row(userId='30', firstname='Colin', ts=1538356903000, page='NextSong', level='paid', phase=1),\n",
       " Row(userId='9', firstname='Micah', ts=1538356918000, page='NextSong', level='free', phase=1),\n",
       " Row(userId='4', firstname='Warren', ts=1538356954000, page='Home', level='free', phase=0),\n",
       " Row(userId='74', firstname='Ashlynn', ts=1538357103000, page='NextSong', level='free', phase=1),\n",
       " Row(userId='74', firstname='Ashlynn', ts=1538357104000, page='Thumbs Up', level='free', phase=1),\n",
       " Row(userId='4', firstname='Warren', ts=1538357110000, page='NextSong', level='free', phase=0),\n",
       " Row(userId='9', firstname='Micah', ts=1538357159000, page='NextSong', level='free', phase=1),\n",
       " Row(userId='9', firstname='Micah', ts=1538357160000, page='Thumbs Up', level='free', phase=1),\n",
       " Row(userId='30', firstname='Colin', ts=1538357223000, page='NextSong', level='paid', phase=1),\n",
       " Row(userId='4', firstname='Warren', ts=1538357328000, page='NextSong', level='free', phase=0),\n",
       " Row(userId='74', firstname='Ashlynn', ts=1538357377000, page='NextSong', level='free', phase=1),\n",
       " Row(userId='9', firstname='Micah', ts=1538357401000, page='NextSong', level='free', phase=1),\n",
       " Row(userId='30', firstname='Colin', ts=1538357452000, page='NextSong', level='paid', phase=1),\n",
       " Row(userId='4', firstname='Warren', ts=1538357543000, page='NextSong', level='free', phase=0),\n",
       " Row(userId='74', firstname='Ashlynn', ts=1538357578000, page='NextSong', level='free', phase=1),\n",
       " Row(userId='9', firstname='Micah', ts=1538357593000, page='NextSong', level='free', phase=1),\n",
       " Row(userId='30', firstname='Colin', ts=1538357648000, page='NextSong', level='paid', phase=1),\n",
       " Row(userId='30', firstname='Colin', ts=1538357649000, page='Thumbs Up', level='paid', phase=1),\n",
       " Row(userId='4', firstname='Warren', ts=1538357746000, page='NextSong', level='free', phase=0),\n",
       " Row(userId='9', firstname='Micah', ts=1538357839000, page='NextSong', level='free', phase=1),\n",
       " Row(userId='74', firstname='Ashlynn', ts=1538357915000, page='NextSong', level='free', phase=1),\n",
       " Row(userId='74', firstname='Ashlynn', ts=1538357916000, page='Thumbs Up', level='free', phase=1),\n",
       " Row(userId='30', firstname='Colin', ts=1538357990000, page='NextSong', level='paid', phase=1),\n",
       " Row(userId='30', firstname='Colin', ts=1538357991000, page='Thumbs Up', level='paid', phase=1),\n",
       " Row(userId='4', firstname='Warren', ts=1538357996000, page='NextSong', level='free', phase=0),\n",
       " Row(userId='9', firstname='Micah', ts=1538358074000, page='NextSong', level='free', phase=1),\n",
       " Row(userId='74', firstname='Ashlynn', ts=1538358191000, page='NextSong', level='free', phase=1),\n",
       " Row(userId='74', firstname='Ashlynn', ts=1538358192000, page='Thumbs Down', level='free', phase=1),\n",
       " Row(userId='4', firstname='Warren', ts=1538358264000, page='NextSong', level='free', phase=0),\n",
       " Row(userId='9', firstname='Micah', ts=1538358304000, page='NextSong', level='free', phase=1),\n",
       " Row(userId='30', firstname='Colin', ts=1538358314000, page='NextSong', level='paid', phase=1),\n",
       " Row(userId='4', firstname='Warren', ts=1538358503000, page='NextSong', level='free', phase=0),\n",
       " Row(userId='30', firstname='Colin', ts=1538358532000, page='NextSong', level='paid', phase=1),\n",
       " Row(userId='101', firstname='Alex', ts=1538358605000, page='Home', level='free', phase=0),\n",
       " Row(userId='9', firstname='Micah', ts=1538358688000, page='NextSong', level='free', phase=1),\n",
       " Row(userId='9', firstname='Micah', ts=1538358757000, page='NextSong', level='free', phase=1),\n",
       " Row(userId='30', firstname='Colin', ts=1538358761000, page='NextSong', level='paid', phase=1),\n",
       " Row(userId='9', firstname='Micah', ts=1538358779000, page='Roll Advert', level='free', phase=1),\n",
       " Row(userId='101', firstname='Alex', ts=1538358818000, page='NextSong', level='free', phase=0),\n",
       " Row(userId='9', firstname='Micah', ts=1538359002000, page='NextSong', level='free', phase=1),\n",
       " Row(userId='101', firstname='Alex', ts=1538359016000, page='NextSong', level='free', phase=0),\n",
       " Row(userId='30', firstname='Colin', ts=1538359054000, page='NextSong', level='paid', phase=1),\n",
       " Row(userId='78', firstname='Ainsley', ts=1538359181000, page='Home', level='free', phase=0),\n",
       " Row(userId='78', firstname='Ainsley', ts=1538359204000, page='NextSong', level='free', phase=0),\n",
       " Row(userId='9', firstname='Micah', ts=1538359236000, page='NextSong', level='free', phase=1),\n",
       " Row(userId='9', firstname='Micah', ts=1538359261000, page='Add to Playlist', level='free', phase=1),\n",
       " Row(userId='101', firstname='Alex', ts=1538359289000, page='NextSong', level='free', phase=0),\n",
       " Row(userId='30', firstname='Colin', ts=1538359320000, page='NextSong', level='paid', phase=1),\n",
       " Row(userId='78', firstname='Ainsley', ts=1538359398000, page='NextSong', level='free', phase=0),\n",
       " Row(userId='101', firstname='Alex', ts=1538359435000, page='NextSong', level='free', phase=0),\n",
       " Row(userId='78', firstname='Ainsley', ts=1538359596000, page='NextSong', level='free', phase=0),\n",
       " Row(userId='101', firstname='Alex', ts=1538359652000, page='NextSong', level='free', phase=0),\n",
       " Row(userId='4', firstname='Warren', ts=1538359745000, page='NextSong', level='free', phase=0),\n",
       " Row(userId='78', firstname='Ainsley', ts=1538359749000, page='NextSong', level='free', phase=0),\n",
       " Row(userId='101', firstname='Alex', ts=1538359923000, page='Help', level='free', phase=0),\n",
       " Row(userId='4', firstname='Warren', ts=1538359961000, page='NextSong', level='free', phase=0),\n",
       " Row(userId='78', firstname='Ainsley', ts=1538359971000, page='NextSong', level='free', phase=0),\n",
       " Row(userId='101', firstname='Alex', ts=1538359998000, page='NextSong', level='free', phase=0),\n",
       " Row(userId='9', firstname='Micah', ts=1538360024000, page='NextSong', level='free', phase=1),\n",
       " Row(userId='9', firstname='Micah', ts=1538360042000, page='Upgrade', level='free', phase=1),\n",
       " Row(userId='9', firstname='Micah', ts=1538360044000, page='Upgrade', level='free', phase=1),\n",
       " Row(userId='88', firstname='Zyonna', ts=1538360138000, page='Home', level='free', phase=0),\n",
       " Row(userId='88', firstname='Zyonna', ts=1538360163000, page='NextSong', level='free', phase=0),\n",
       " Row(userId='4', firstname='Warren', ts=1538360174000, page='NextSong', level='free', phase=0),\n",
       " Row(userId='101', firstname='Alex', ts=1538360211000, page='NextSong', level='free', phase=0),\n",
       " Row(userId='9', firstname='Micah', ts=1538360224000, page='NextSong', level='free', phase=1),\n",
       " Row(userId='9', firstname='Micah', ts=1538360228000, page='Roll Advert', level='free', phase=1),\n",
       " Row(userId='78', firstname='Ainsley', ts=1538360229000, page='NextSong', level='free', phase=0),\n",
       " Row(userId='4', firstname='Warren', ts=1538360391000, page='NextSong', level='free', phase=0),\n",
       " Row(userId='101', firstname='Alex', ts=1538360432000, page='NextSong', level='free', phase=0),\n",
       " Row(userId='88', firstname='Zyonna', ts=1538360458000, page='NextSong', level='free', phase=0),\n",
       " Row(userId='78', firstname='Ainsley', ts=1538360490000, page='NextSong', level='free', phase=0),\n",
       " Row(userId='78', firstname='Ainsley', ts=1538360520000, page='Help', level='free', phase=0),\n",
       " Row(userId='4', firstname='Warren', ts=1538360577000, page='NextSong', level='free', phase=0),\n",
       " Row(userId='101', firstname='Alex', ts=1538360696000, page='NextSong', level='free', phase=0),\n",
       " Row(userId='30', firstname='Colin', ts=1538360720000, page='NextSong', level='paid', phase=1),\n",
       " Row(userId='78', firstname='Ainsley', ts=1538360729000, page='NextSong', level='free', phase=0),\n",
       " Row(userId='30', firstname='Colin', ts=1538360737000, page='Roll Advert', level='paid', phase=1),\n",
       " Row(userId='88', firstname='Zyonna', ts=1538360739000, page='Roll Advert', level='free', phase=0),\n",
       " Row(userId='4', firstname='Warren', ts=1538360783000, page='NextSong', level='free', phase=0),\n",
       " Row(userId='30', firstname='Colin', ts=1538360905000, page='NextSong', level='paid', phase=1),\n",
       " Row(userId='88', firstname='Zyonna', ts=1538360912000, page='Roll Advert', level='free', phase=0),\n",
       " Row(userId='88', firstname='Zyonna', ts=1538360930000, page='NextSong', level='free', phase=0),\n",
       " Row(userId='101', firstname='Alex', ts=1538360973000, page='NextSong', level='free', phase=0),\n",
       " Row(userId='78', firstname='Ainsley', ts=1538360987000, page='NextSong', level='free', phase=0),\n",
       " Row(userId='4', firstname='Warren', ts=1538361026000, page='NextSong', level='free', phase=0),\n",
       " Row(userId='30', firstname='Colin', ts=1538361107000, page='NextSong', level='paid', phase=1),\n",
       " Row(userId='88', firstname='Zyonna', ts=1538361125000, page='NextSong', level='free', phase=0),\n",
       " Row(userId='88', firstname='Zyonna', ts=1538361154000, page='Roll Advert', level='free', phase=0),\n",
       " Row(userId='101', firstname='Alex', ts=1538361193000, page='NextSong', level='free', phase=0),\n",
       " Row(userId='101', firstname='Alex', ts=1538361194000, page='Add Friend', level='free', phase=0),\n",
       " Row(userId='78', firstname='Ainsley', ts=1538361264000, page='NextSong', level='free', phase=0),\n",
       " Row(userId='4', firstname='Warren', ts=1538361312000, page='NextSong', level='free', phase=0),\n",
       " Row(userId='30', firstname='Colin', ts=1538361372000, page='NextSong', level='paid', phase=1),\n",
       " Row(userId='101', firstname='Alex', ts=1538361487000, page='Home', level='free', phase=0),\n",
       " Row(userId='78', firstname='Ainsley', ts=1538361520000, page='NextSong', level='free', phase=0),\n",
       " Row(userId='78', firstname='Ainsley', ts=1538361521000, page='Logout', level='free', phase=0),\n",
       " Row(userId='30', firstname='Colin', ts=1538361540000, page='NextSong', level='paid', phase=1),\n",
       " Row(userId='101', firstname='Alex', ts=1538361541000, page='NextSong', level='free', phase=0),\n",
       " Row(userId='78', firstname='Ainsley', ts=1538361561000, page='Home', level='free', phase=0),\n",
       " Row(userId='30', firstname='Colin', ts=1538361575000, page='Add to Playlist', level='paid', phase=1),\n",
       " Row(userId='4', firstname='Warren', ts=1538361601000, page='NextSong', level='free', phase=0),\n",
       " Row(userId='101', firstname='Alex', ts=1538361792000, page='NextSong', level='free', phase=0),\n",
       " Row(userId='78', firstname='Ainsley', ts=1538361802000, page='NextSong', level='free', phase=0),\n",
       " Row(userId='78', firstname='Ainsley', ts=1538361803000, page='Thumbs Up', level='free', phase=0),\n",
       " Row(userId='4', firstname='Warren', ts=1538361908000, page='NextSong', level='free', phase=0),\n",
       " Row(userId='78', firstname='Ainsley', ts=1538362005000, page='NextSong', level='free', phase=0),\n",
       " Row(userId='78', firstname='Ainsley', ts=1538362006000, page='Logout', level='free', phase=0),\n",
       " Row(userId='78', firstname='Ainsley', ts=1538362104000, page='Home', level='free', phase=0),\n",
       " Row(userId='78', firstname='Ainsley', ts=1538362218000, page='NextSong', level='free', phase=0),\n",
       " Row(userId='78', firstname='Ainsley', ts=1538362440000, page='NextSong', level='free', phase=0),\n",
       " Row(userId='101', firstname='Alex', ts=1538362584000, page='Roll Advert', level='free', phase=0),\n",
       " Row(userId='101', firstname='Alex', ts=1538362608000, page='NextSong', level='free', phase=0),\n",
       " Row(userId='78', firstname='Ainsley', ts=1538362684000, page='NextSong', level='free', phase=0),\n",
       " Row(userId='78', firstname='Ainsley', ts=1538362848000, page='NextSong', level='free', phase=0),\n",
       " Row(userId='101', firstname='Alex', ts=1538362980000, page='NextSong', level='free', phase=0),\n",
       " Row(userId='78', firstname='Ainsley', ts=1538363074000, page='NextSong', level='free', phase=0),\n",
       " Row(userId='78', firstname='Ainsley', ts=1538363091000, page='Home', level='free', phase=0),\n",
       " Row(userId='101', firstname='Alex', ts=1538363229000, page='NextSong', level='free', phase=0),\n",
       " Row(userId='78', firstname='Ainsley', ts=1538363308000, page='NextSong', level='free', phase=0),\n",
       " Row(userId='78', firstname='Ainsley', ts=1538363335000, page='Roll Advert', level='free', phase=0),\n",
       " Row(userId='78', firstname='Ainsley', ts=1538363525000, page='NextSong', level='free', phase=0),\n",
       " Row(userId='101', firstname='Alex', ts=1538363536000, page='Roll Advert', level='free', phase=0),\n",
       " Row(userId='78', firstname='Ainsley', ts=1538363783000, page='NextSong', level='free', phase=0),\n",
       " Row(userId='101', firstname='Alex', ts=1538363884000, page='NextSong', level='free', phase=0),\n",
       " Row(userId='101', firstname='Alex', ts=1538363885000, page='Thumbs Up', level='free', phase=0),\n",
       " Row(userId='78', firstname='Ainsley', ts=1538363980000, page='NextSong', level='free', phase=0),\n",
       " Row(userId='101', firstname='Alex', ts=1538364102000, page='NextSong', level='free', phase=0),\n",
       " Row(userId='78', firstname='Ainsley', ts=1538364239000, page='NextSong', level='free', phase=0),\n",
       " Row(userId='78', firstname='Ainsley', ts=1538364240000, page='Logout', level='free', phase=0),\n",
       " Row(userId='78', firstname='Ainsley', ts=1538364282000, page='Home', level='free', phase=0),\n",
       " Row(userId='78', firstname='Ainsley', ts=1538364406000, page='NextSong', level='free', phase=0),\n",
       " Row(userId='101', firstname='Alex', ts=1538364596000, page='Roll Advert', level='free', phase=0),\n",
       " Row(userId='78', firstname='Ainsley', ts=1538364701000, page='NextSong', level='free', phase=0),\n",
       " Row(userId='78', firstname='Ainsley', ts=1538364996000, page='NextSong', level='free', phase=0),\n",
       " Row(userId='78', firstname='Ainsley', ts=1538365284000, page='NextSong', level='free', phase=0),\n",
       " Row(userId='101', firstname='Alex', ts=1538365388000, page='NextSong', level='free', phase=0),\n",
       " Row(userId='78', firstname='Ainsley', ts=1538365492000, page='NextSong', level='free', phase=0),\n",
       " Row(userId='78', firstname='Ainsley', ts=1538365665000, page='NextSong', level='free', phase=0),\n",
       " Row(userId='78', firstname='Ainsley', ts=1538365864000, page='NextSong', level='free', phase=0),\n",
       " Row(userId='101', firstname='Alex', ts=1538365959000, page='Roll Advert', level='free', phase=0),\n",
       " Row(userId='78', firstname='Ainsley', ts=1538366102000, page='NextSong', level='free', phase=0),\n",
       " Row(userId='101', firstname='Alex', ts=1538366196000, page='NextSong', level='free', phase=0),\n",
       " Row(userId='101', firstname='Alex', ts=1538366411000, page='NextSong', level='free', phase=0),\n",
       " Row(userId='78', firstname='Ainsley', ts=1538366414000, page='NextSong', level='free', phase=0),\n",
       " Row(userId='78', firstname='Ainsley', ts=1538366595000, page='NextSong', level='free', phase=0),\n",
       " Row(userId='101', firstname='Alex', ts=1538366717000, page='NextSong', level='free', phase=0),\n",
       " Row(userId='78', firstname='Ainsley', ts=1538366877000, page='NextSong', level='free', phase=0),\n",
       " Row(userId='101', firstname='Alex', ts=1538366973000, page='NextSong', level='free', phase=0),\n",
       " Row(userId='78', firstname='Ainsley', ts=1538367088000, page='NextSong', level='free', phase=0),\n",
       " Row(userId='78', firstname='Ainsley', ts=1538367356000, page='NextSong', level='free', phase=0),\n",
       " Row(userId='101', firstname='Alex', ts=1538367379000, page='NextSong', level='free', phase=0),\n",
       " Row(userId='101', firstname='Alex', ts=1538367496000, page='NextSong', level='free', phase=0),\n",
       " Row(userId='78', firstname='Ainsley', ts=1538367608000, page='NextSong', level='free', phase=0),\n",
       " Row(userId='95', firstname='Faigy', ts=1538367702000, page='NextSong', level='paid', phase=1),\n",
       " Row(userId='101', firstname='Alex', ts=1538367739000, page='NextSong', level='free', phase=0),\n",
       " Row(userId='101', firstname='Alex', ts=1538367740000, page='Thumbs Up', level='free', phase=0),\n",
       " Row(userId='78', firstname='Ainsley', ts=1538367871000, page='NextSong', level='free', phase=0),\n",
       " Row(userId='95', firstname='Faigy', ts=1538367885000, page='NextSong', level='paid', phase=1),\n",
       " Row(userId='101', firstname='Alex', ts=1538367970000, page='NextSong', level='free', phase=0),\n",
       " Row(userId='95', firstname='Faigy', ts=1538368080000, page='NextSong', level='paid', phase=1),\n",
       " Row(userId='78', firstname='Ainsley', ts=1538368142000, page='NextSong', level='free', phase=0),\n",
       " Row(userId='101', firstname='Alex', ts=1538368222000, page='NextSong', level='free', phase=0),\n",
       " Row(userId='95', firstname='Faigy', ts=1538368245000, page='NextSong', level='paid', phase=1),\n",
       " Row(userId='78', firstname='Ainsley', ts=1538368390000, page='NextSong', level='free', phase=0),\n",
       " Row(userId='95', firstname='Faigy', ts=1538368446000, page='NextSong', level='paid', phase=1),\n",
       " Row(userId='78', firstname='Ainsley', ts=1538368600000, page='NextSong', level='free', phase=0),\n",
       " Row(userId='95', firstname='Faigy', ts=1538368654000, page='NextSong', level='paid', phase=1),\n",
       " Row(userId='101', firstname='Alex', ts=1538368737000, page='NextSong', level='free', phase=0),\n",
       " Row(userId='78', firstname='Ainsley', ts=1538368782000, page='NextSong', level='free', phase=0),\n",
       " Row(userId='95', firstname='Faigy', ts=1538368903000, page='NextSong', level='paid', phase=1),\n",
       " Row(userId='95', firstname='Faigy', ts=1538368904000, page='Thumbs Up', level='paid', phase=1),\n",
       " Row(userId='78', firstname='Ainsley', ts=1538368916000, page='NextSong', level='free', phase=0),\n",
       " Row(userId='78', firstname='Ainsley', ts=1538368921000, page='Roll Advert', level='free', phase=0),\n",
       " Row(userId='101', firstname='Alex', ts=1538368941000, page='NextSong', level='free', phase=0),\n",
       " Row(userId='78', firstname='Ainsley', ts=1538369088000, page='NextSong', level='free', phase=0),\n",
       " Row(userId='95', firstname='Faigy', ts=1538369153000, page='NextSong', level='paid', phase=1),\n",
       " Row(userId='101', firstname='Alex', ts=1538369196000, page='NextSong', level='free', phase=0),\n",
       " Row(userId='25', firstname='Madison', ts=1538369228000, page='NextSong', level='paid', phase=1),\n",
       " Row(userId='25', firstname='Madison', ts=1538369407000, page='NextSong', level='paid', phase=1),\n",
       " Row(userId='78', firstname='Ainsley', ts=1538369535000, page='NextSong', level='free', phase=0),\n",
       " Row(userId='25', firstname='Madison', ts=1538369571000, page='NextSong', level='paid', phase=1),\n",
       " Row(userId='78', firstname='Ainsley', ts=1538369581000, page='Add to Playlist', level='free', phase=0),\n",
       " Row(userId='101', firstname='Alex', ts=1538369602000, page='Roll Advert', level='free', phase=0),\n",
       " Row(userId='25', firstname='Madison', ts=1538369625000, page='Home', level='paid', phase=1),\n",
       " Row(userId='78', firstname='Ainsley', ts=1538369669000, page='NextSong', level='free', phase=0),\n",
       " Row(userId='101', firstname='Alex', ts=1538369782000, page='NextSong', level='free', phase=0),\n",
       " Row(userId='95', firstname='Faigy', ts=1538369808000, page='NextSong', level='paid', phase=1),\n",
       " Row(userId='25', firstname='Madison', ts=1538369836000, page='NextSong', level='paid', phase=1),\n",
       " Row(userId='25', firstname='Madison', ts=1538370013000, page='NextSong', level='paid', phase=1),\n",
       " Row(userId='25', firstname='Madison', ts=1538370014000, page='Add Friend', level='paid', phase=1),\n",
       " Row(userId='78', firstname='Ainsley', ts=1538370036000, page='NextSong', level='free', phase=0),\n",
       " Row(userId='95', firstname='Faigy', ts=1538370059000, page='NextSong', level='paid', phase=1),\n",
       " Row(userId='95', firstname='Faigy', ts=1538370071000, page='Add to Playlist', level='paid', phase=1),\n",
       " Row(userId='25', firstname='Madison', ts=1538370161000, page='NextSong', level='paid', phase=1),\n",
       " Row(userId='101', firstname='Alex', ts=1538370192000, page='Home', level='free', phase=0),\n",
       " Row(userId='95', firstname='Faigy', ts=1538370268000, page='NextSong', level='paid', phase=1),\n",
       " Row(userId='78', firstname='Ainsley', ts=1538370296000, page='NextSong', level='free', phase=0),\n",
       " Row(userId='78', firstname='Ainsley', ts=1538370301000, page='Upgrade', level='free', phase=0),\n",
       " Row(userId='25', firstname='Madison', ts=1538370400000, page='NextSong', level='paid', phase=1),\n",
       " Row(userId='95', firstname='Faigy', ts=1538370478000, page='NextSong', level='paid', phase=1),\n",
       " Row(userId='78', firstname='Ainsley', ts=1538370551000, page='NextSong', level='free', phase=0),\n",
       " Row(userId='101', firstname='Alex', ts=1538370562000, page='NextSong', level='free', phase=0),\n",
       " Row(userId='101', firstname='Alex', ts=1538370563000, page='Logout', level='free', phase=0),\n",
       " Row(userId='25', firstname='Madison', ts=1538370679000, page='NextSong', level='paid', phase=1),\n",
       " Row(userId='95', firstname='Faigy', ts=1538370767000, page='NextSong', level='paid', phase=1),\n",
       " Row(userId='78', firstname='Ainsley', ts=1538370795000, page='NextSong', level='free', phase=0),\n",
       " Row(userId='25', firstname='Madison', ts=1538370934000, page='NextSong', level='paid', phase=1),\n",
       " Row(userId='95', firstname='Faigy', ts=1538371062000, page='NextSong', level='paid', phase=1),\n",
       " Row(userId='95', firstname='Faigy', ts=1538371070000, page='Settings', level='paid', phase=1),\n",
       " Row(userId='95', firstname='Faigy', ts=1538371078000, page='Help', level='paid', phase=1),\n",
       " Row(userId='78', firstname='Ainsley', ts=1538371098000, page='NextSong', level='free', phase=0),\n",
       " Row(userId='25', firstname='Madison', ts=1538371116000, page='NextSong', level='paid', phase=1),\n",
       " Row(userId='95', firstname='Faigy', ts=1538371228000, page='NextSong', level='paid', phase=1),\n",
       " Row(userId='78', firstname='Ainsley', ts=1538371240000, page='NextSong', level='free', phase=0),\n",
       " Row(userId='95', firstname='Faigy', ts=1538371318000, page='NextSong', level='paid', phase=1),\n",
       " Row(userId='95', firstname='Faigy', ts=1538371319000, page='Thumbs Up', level='paid', phase=1),\n",
       " Row(userId='25', firstname='Madison', ts=1538371341000, page='NextSong', level='paid', phase=1),\n",
       " Row(userId='25', firstname='Madison', ts=1538371342000, page='Thumbs Up', level='paid', phase=1),\n",
       " Row(userId='78', firstname='Ainsley', ts=1538371432000, page='NextSong', level='free', phase=0),\n",
       " Row(userId='25', firstname='Madison', ts=1538371613000, page='NextSong', level='paid', phase=1),\n",
       " Row(userId='78', firstname='Ainsley', ts=1538371692000, page='NextSong', level='free', phase=0),\n",
       " Row(userId='95', firstname='Faigy', ts=1538371736000, page='NextSong', level='paid', phase=1),\n",
       " Row(userId='25', firstname='Madison', ts=1538371796000, page='NextSong', level='paid', phase=1),\n",
       " Row(userId='78', firstname='Ainsley', ts=1538371901000, page='NextSong', level='free', phase=0),\n",
       " Row(userId='78', firstname='Ainsley', ts=1538371928000, page='Roll Advert', level='free', phase=0),\n",
       " Row(userId='95', firstname='Faigy', ts=1538371963000, page='NextSong', level='paid', phase=1),\n",
       " Row(userId='25', firstname='Madison', ts=1538372116000, page='NextSong', level='paid', phase=1),\n",
       " Row(userId='142', firstname='Grant', ts=1538372121000, page='Home', level='free', phase=0),\n",
       " Row(userId='142', firstname='Grant', ts=1538372142000, page='NextSong', level='free', phase=0),\n",
       " Row(userId='78', firstname='Ainsley', ts=1538372173000, page='NextSong', level='free', phase=0),\n",
       " Row(userId='95', firstname='Faigy', ts=1538372215000, page='NextSong', level='paid', phase=1),\n",
       " Row(userId='13', firstname='Anika', ts=1538372289000, page='NextSong', level='free', phase=2),\n",
       " Row(userId='142', firstname='Grant', ts=1538372311000, page='NextSong', level='free', phase=0),\n",
       " Row(userId='78', firstname='Ainsley', ts=1538372391000, page='NextSong', level='free', phase=0),\n",
       " Row(userId='95', firstname='Faigy', ts=1538372404000, page='NextSong', level='paid', phase=1),\n",
       " Row(userId='25', firstname='Madison', ts=1538372466000, page='NextSong', level='paid', phase=1),\n",
       " Row(userId='142', firstname='Grant', ts=1538372567000, page='NextSong', level='free', phase=0),\n",
       " Row(userId='78', firstname='Ainsley', ts=1538372601000, page='NextSong', level='free', phase=0),\n",
       " Row(userId='95', firstname='Faigy', ts=1538372626000, page='NextSong', level='paid', phase=1),\n",
       " Row(userId='25', firstname='Madison', ts=1538372735000, page='NextSong', level='paid', phase=1),\n",
       " Row(userId='13', firstname='Anika', ts=1538372746000, page='NextSong', level='free', phase=2),\n",
       " Row(userId='142', firstname='Grant', ts=1538372762000, page='NextSong', level='free', phase=0),\n",
       " Row(userId='95', firstname='Faigy', ts=1538372911000, page='NextSong', level='paid', phase=1),\n",
       " Row(userId='95', firstname='Faigy', ts=1538372912000, page='Thumbs Up', level='paid', phase=1),\n",
       " Row(userId='13', firstname='Anika', ts=1538372919000, page='NextSong', level='free', phase=2),\n",
       " Row(userId='45', firstname='Isobella', ts=1538372920000, page='NextSong', level='free', phase=0),\n",
       " Row(userId='25', firstname='Madison', ts=1538372947000, page='NextSong', level='paid', phase=1),\n",
       " Row(userId='13', firstname='Anika', ts=1538373053000, page='NextSong', level='free', phase=2),\n",
       " Row(userId='13', firstname='Anika', ts=1538373080000, page='Add to Playlist', level='free', phase=2),\n",
       " Row(userId='142', firstname='Grant', ts=1538373123000, page='NextSong', level='free', phase=0),\n",
       " Row(userId='78', firstname='Ainsley', ts=1538373133000, page='NextSong', level='free', phase=0),\n",
       " Row(userId='78', firstname='Ainsley', ts=1538373134000, page='Thumbs Down', level='free', phase=0),\n",
       " Row(userId='25', firstname='Madison', ts=1538373141000, page='NextSong', level='paid', phase=1),\n",
       " Row(userId='142', firstname='Grant', ts=1538373147000, page='Roll Advert', level='free', phase=0),\n",
       " Row(userId='13', firstname='Anika', ts=1538373206000, page='NextSong', level='free', phase=2),\n",
       " Row(userId='45', firstname='Isobella', ts=1538373209000, page='NextSong', level='free', phase=0),\n",
       " Row(userId='78', firstname='Ainsley', ts=1538373253000, page='NextSong', level='free', phase=0),\n",
       " Row(userId='95', firstname='Faigy', ts=1538373255000, page='NextSong', level='paid', phase=1),\n",
       " Row(userId='95', firstname='Faigy', ts=1538373286000, page='Downgrade', level='paid', phase=1),\n",
       " Row(userId='25', firstname='Madison', ts=1538373296000, page='NextSong', level='paid', phase=1),\n",
       " Row(userId='142', firstname='Grant', ts=1538373312000, page='NextSong', level='free', phase=0),\n",
       " Row(userId='13', firstname='Anika', ts=1538373344000, page='NextSong', level='free', phase=2),\n",
       " Row(userId='13', firstname='Anika', ts=1538373345000, page='Logout', level='free', phase=2),\n",
       " Row(userId='13', firstname='Anika', ts=1538373384000, page='Home', level='free', phase=2),\n",
       " Row(userId='78', firstname='Ainsley', ts=1538373482000, page='NextSong', level='free', phase=0),\n",
       " Row(userId='95', firstname='Faigy', ts=1538373504000, page='NextSong', level='paid', phase=1),\n",
       " Row(userId='45', firstname='Isobella', ts=1538373506000, page='NextSong', level='free', phase=0),\n",
       " Row(userId='45', firstname='Isobella', ts=1538373507000, page='Logout', level='free', phase=0),\n",
       " Row(userId='142', firstname='Grant', ts=1538373590000, page='NextSong', level='free', phase=0),\n",
       " Row(userId='142', firstname='Grant', ts=1538373622000, page='Add to Playlist', level='free', phase=0),\n",
       " Row(userId='25', firstname='Madison', ts=1538373649000, page='NextSong', level='paid', phase=1),\n",
       " Row(userId='142', firstname='Grant', ts=1538373718000, page='Upgrade', level='free', phase=0),\n",
       " Row(userId='142', firstname='Grant', ts=1538373719000, page='Submit Upgrade', level='free', phase=0),\n",
       " Row(userId='78', firstname='Ainsley', ts=1538373781000, page='NextSong', level='free', phase=0),\n",
       " Row(userId='78', firstname='Ainsley', ts=1538373782000, page='Thumbs Up', level='free', phase=0),\n",
       " Row(userId='95', firstname='Faigy', ts=1538373873000, page='NextSong', level='paid', phase=1),\n",
       " Row(userId='95', firstname='Faigy', ts=1538373874000, page='Thumbs Down', level='paid', phase=1),\n",
       " Row(userId='25', firstname='Madison', ts=1538373888000, page='NextSong', level='paid', phase=1),\n",
       " Row(userId='142', firstname='Grant', ts=1538373924000, page='Home', level='paid', phase=0),\n",
       " Row(userId='142', firstname='Grant', ts=1538373980000, page='NextSong', level='paid', phase=0),\n",
       " Row(userId='78', firstname='Ainsley', ts=1538374065000, page='NextSong', level='free', phase=0),\n",
       " Row(userId='95', firstname='Faigy', ts=1538374190000, page='NextSong', level='paid', phase=1),\n",
       " Row(userId='142', firstname='Grant', ts=1538374242000, page='NextSong', level='paid', phase=0),\n",
       " Row(userId='78', firstname='Ainsley', ts=1538374287000, page='NextSong', level='free', phase=0),\n",
       " Row(userId='78', firstname='Ainsley', ts=1538374288000, page='Thumbs Up', level='free', phase=0),\n",
       " Row(userId='25', firstname='Madison', ts=1538374313000, page='NextSong', level='paid', phase=1),\n",
       " Row(userId='142', firstname='Grant', ts=1538374313000, page='NextSong', level='paid', phase=0),\n",
       " Row(userId='100009', firstname='Troy', ts=1538374371000, page='NextSong', level='free', phase=1),\n",
       " Row(userId='95', firstname='Faigy', ts=1538374381000, page='NextSong', level='paid', phase=1),\n",
       " Row(userId='142', firstname='Grant', ts=1538374466000, page='NextSong', level='paid', phase=0),\n",
       " Row(userId='25', firstname='Madison', ts=1538374504000, page='NextSong', level='paid', phase=1),\n",
       " Row(userId='100009', firstname='Troy', ts=1538374563000, page='NextSong', level='free', phase=1),\n",
       " Row(userId='100009', firstname='Troy', ts=1538374564000, page='Thumbs Up', level='free', phase=1),\n",
       " Row(userId='95', firstname='Faigy', ts=1538374606000, page='NextSong', level='paid', phase=1),\n",
       " Row(userId='142', firstname='Grant', ts=1538374785000, page='NextSong', level='paid', phase=0),\n",
       " Row(userId='100009', firstname='Troy', ts=1538374802000, page='NextSong', level='free', phase=1),\n",
       " Row(userId='25', firstname='Madison', ts=1538374852000, page='NextSong', level='paid', phase=1),\n",
       " Row(userId='95', firstname='Faigy', ts=1538374853000, page='NextSong', level='paid', phase=1),\n",
       " Row(userId='142', firstname='Grant', ts=1538374889000, page='NextSong', level='paid', phase=0),\n",
       " Row(userId='142', firstname='Grant', ts=1538374943000, page='NextSong', level='paid', phase=0),\n",
       " Row(userId='100009', firstname='Troy', ts=1538375013000, page='NextSong', level='free', phase=1),\n",
       " Row(userId='95', firstname='Faigy', ts=1538375078000, page='NextSong', level='paid', phase=1),\n",
       " Row(userId='25', firstname='Madison', ts=1538375123000, page='NextSong', level='paid', phase=1),\n",
       " Row(userId='142', firstname='Grant', ts=1538375189000, page='NextSong', level='paid', phase=0),\n",
       " Row(userId='100009', firstname='Troy', ts=1538375250000, page='NextSong', level='free', phase=1),\n",
       " Row(userId='95', firstname='Faigy', ts=1538375314000, page='NextSong', level='paid', phase=1),\n",
       " Row(userId='25', firstname='Madison', ts=1538375355000, page='NextSong', level='paid', phase=1),\n",
       " Row(userId='142', firstname='Grant', ts=1538375407000, page='NextSong', level='paid', phase=0),\n",
       " Row(userId='142', firstname='Grant', ts=1538375408000, page='Thumbs Up', level='paid', phase=0),\n",
       " Row(userId='25', firstname='Madison', ts=1538375553000, page='NextSong', level='paid', phase=1),\n",
       " Row(userId='100009', firstname='Troy', ts=1538375624000, page='NextSong', level='free', phase=1),\n",
       " Row(userId='95', firstname='Faigy', ts=1538375709000, page='NextSong', level='paid', phase=1),\n",
       " Row(userId='25', firstname='Madison', ts=1538375721000, page='NextSong', level='paid', phase=1),\n",
       " Row(userId='39', firstname='Payton', ts=1538375748000, page='Home', level='free', phase=3),\n",
       " Row(userId='39', firstname='Payton', ts=1538375752000, page='NextSong', level='free', phase=3),\n",
       " Row(userId='142', firstname='Grant', ts=1538375812000, page='NextSong', level='paid', phase=0),\n",
       " Row(userId='100009', firstname='Troy', ts=1538375896000, page='NextSong', level='free', phase=1),\n",
       " Row(userId='39', firstname='Payton', ts=1538375952000, page='NextSong', level='free', phase=3),\n",
       " Row(userId='95', firstname='Faigy', ts=1538375969000, page='NextSong', level='paid', phase=1),\n",
       " Row(userId='95', firstname='Faigy', ts=1538375970000, page='Thumbs Up', level='paid', phase=1),\n",
       " Row(userId='25', firstname='Madison', ts=1538375995000, page='NextSong', level='paid', phase=1),\n",
       " Row(userId='142', firstname='Grant', ts=1538376115000, page='NextSong', level='paid', phase=0),\n",
       " Row(userId='100022', firstname='Mahi', ts=1538376195000, page='Home', level='free', phase=0),\n",
       " Row(userId='100022', firstname='Mahi', ts=1538376207000, page='NextSong', level='free', phase=0),\n",
       " Row(userId='25', firstname='Madison', ts=1538376219000, page='NextSong', level='paid', phase=1),\n",
       " Row(userId='95', firstname='Faigy', ts=1538376232000, page='NextSong', level='paid', phase=1),\n",
       " Row(userId='100009', firstname='Troy', ts=1538376252000, page='NextSong', level='free', phase=1),\n",
       " Row(userId='39', firstname='Payton', ts=1538376332000, page='NextSong', level='free', phase=3),\n",
       " Row(userId='142', firstname='Grant', ts=1538376338000, page='NextSong', level='paid', phase=0),\n",
       " Row(userId='39', firstname='Payton', ts=1538376376000, page='Roll Advert', level='free', phase=3),\n",
       " Row(userId='87', firstname='Christian', ts=1538376435000, page='Home', level='free', phase=0),\n",
       " Row(userId='25', firstname='Madison', ts=1538376445000, page='NextSong', level='paid', phase=1),\n",
       " Row(userId='100009', firstname='Troy', ts=1538376448000, page='NextSong', level='free', phase=1),\n",
       " Row(userId='100022', firstname='Mahi', ts=1538376458000, page='NextSong', level='free', phase=0),\n",
       " Row(userId='100022', firstname='Mahi', ts=1538376459000, page='Thumbs Up', level='free', phase=0),\n",
       " Row(userId='100009', firstname='Troy', ts=1538376474000, page='Roll Advert', level='free', phase=1),\n",
       " Row(userId='100009', firstname='Troy', ts=1538376474000, page='Roll Advert', level='free', phase=1),\n",
       " Row(userId='95', firstname='Faigy', ts=1538376482000, page='NextSong', level='paid', phase=1),\n",
       " Row(userId='100001', firstname='Delaney', ts=1538376504000, page='Home', level='free', phase=0),\n",
       " Row(userId='100001', firstname='Delaney', ts=1538376509000, page='NextSong', level='free', phase=0),\n",
       " Row(userId='142', firstname='Grant', ts=1538376520000, page='NextSong', level='paid', phase=0),\n",
       " Row(userId='87', firstname='Christian', ts=1538376540000, page='NextSong', level='free', phase=0),\n",
       " Row(userId='100001', firstname='Delaney', ts=1538376542000, page='Roll Advert', level='free', phase=0),\n",
       " Row(userId='39', firstname='Payton', ts=1538376557000, page='NextSong', level='free', phase=3),\n",
       " Row(userId='25', firstname='Madison', ts=1538376667000, page='NextSong', level='paid', phase=1),\n",
       " Row(userId='100009', firstname='Troy', ts=1538376705000, page='NextSong', level='free', phase=1),\n",
       " Row(userId='142', firstname='Grant', ts=1538376722000, page='NextSong', level='paid', phase=0),\n",
       " Row(userId='100001', firstname='Delaney', ts=1538376747000, page='NextSong', level='free', phase=0),\n",
       " Row(userId='39', firstname='Payton', ts=1538376754000, page='NextSong', level='free', phase=3),\n",
       " Row(userId='100009', firstname='Troy', ts=1538376759000, page='Roll Advert', level='free', phase=1),\n",
       " Row(userId='100001', firstname='Delaney', ts=1538376783000, page='Roll Advert', level='free', phase=0),\n",
       " Row(userId='100022', firstname='Mahi', ts=1538376791000, page='NextSong', level='free', phase=0),\n",
       " Row(userId='95', firstname='Faigy', ts=1538376801000, page='NextSong', level='paid', phase=1),\n",
       " Row(userId='25', firstname='Madison', ts=1538376925000, page='NextSong', level='paid', phase=1),\n",
       " Row(userId='100009', firstname='Troy', ts=1538376930000, page='NextSong', level='free', phase=1),\n",
       " Row(userId='142', firstname='Grant', ts=1538376944000, page='NextSong', level='paid', phase=0),\n",
       " Row(userId='100022', firstname='Mahi', ts=1538376950000, page='NextSong', level='free', phase=0),\n",
       " Row(userId='39', firstname='Payton', ts=1538377032000, page='NextSong', level='free', phase=3),\n",
       " Row(userId='95', firstname='Faigy', ts=1538377049000, page='NextSong', level='paid', phase=1),\n",
       " Row(userId='39', firstname='Payton', ts=1538377079000, page='Roll Advert', level='free', phase=3),\n",
       " Row(userId='25', firstname='Madison', ts=1538377096000, page='NextSong', level='paid', phase=1),\n",
       " Row(userId='100022', firstname='Mahi', ts=1538377155000, page='NextSong', level='free', phase=0),\n",
       " Row(userId='100022', firstname='Mahi', ts=1538377163000, page='Settings', level='free', phase=0),\n",
       " Row(userId='100022', firstname='Mahi', ts=1538377164000, page='Save Settings', level='free', phase=0),\n",
       " Row(userId='100009', firstname='Troy', ts=1538377192000, page='NextSong', level='free', phase=1),\n",
       " Row(userId='100022', firstname='Mahi', ts=1538377206000, page='Home', level='free', phase=0),\n",
       " Row(userId='95', firstname='Faigy', ts=1538377295000, page='NextSong', level='paid', phase=1),\n",
       " Row(userId='95', firstname='Faigy', ts=1538377300000, page='Add to Playlist', level='paid', phase=1),\n",
       " Row(userId='25', firstname='Madison', ts=1538377301000, page='NextSong', level='paid', phase=1),\n",
       " Row(userId='25', firstname='Madison', ts=1538377302000, page='Thumbs Up', level='paid', phase=1),\n",
       " Row(userId='142', firstname='Grant', ts=1538377304000, page='NextSong', level='paid', phase=0),\n",
       " Row(userId='100001', firstname='Delaney', ts=1538377349000, page='NextSong', level='free', phase=0),\n",
       " Row(userId='100009', firstname='Troy', ts=1538377402000, page='NextSong', level='free', phase=1),\n",
       " Row(userId='87', firstname='Christian', ts=1538377411000, page='NextSong', level='free', phase=0),\n",
       " Row(userId='100022', firstname='Mahi', ts=1538377437000, page='NextSong', level='free', phase=0),\n",
       " Row(userId='39', firstname='Payton', ts=1538377451000, page='NextSong', level='free', phase=3),\n",
       " Row(userId='28', firstname='Teagan', ts=1538377521000, page='Home', level='free', phase=0),\n",
       " Row(userId='28', firstname='Teagan', ts=1538377521000, page='NextSong', level='free', phase=0),\n",
       " Row(userId='95', firstname='Faigy', ts=1538377532000, page='NextSong', level='paid', phase=1),\n",
       " Row(userId='25', firstname='Madison', ts=1538377534000, page='NextSong', level='paid', phase=1),\n",
       " Row(userId='142', firstname='Grant', ts=1538377592000, page='NextSong', level='paid', phase=0),\n",
       " Row(userId='100009', firstname='Troy', ts=1538377596000, page='NextSong', level='free', phase=1),\n",
       " Row(userId='39', firstname='Payton', ts=1538377604000, page='NextSong', level='free', phase=3),\n",
       " Row(userId='100022', firstname='Mahi', ts=1538377668000, page='NextSong', level='free', phase=0),\n",
       " Row(userId='28', firstname='Teagan', ts=1538377675000, page='NextSong', level='free', phase=0),\n",
       " Row(userId='87', firstname='Christian', ts=1538377678000, page='NextSong', level='free', phase=0),\n",
       " Row(userId='100001', firstname='Delaney', ts=1538377748000, page='NextSong', level='free', phase=0),\n",
       " Row(userId='100022', firstname='Mahi', ts=1538377769000, page='NextSong', level='free', phase=0),\n",
       " Row(userId='25', firstname='Madison', ts=1538377780000, page='NextSong', level='paid', phase=1),\n",
       " Row(userId='39', firstname='Payton', ts=1538377780000, page='Roll Advert', level='free', phase=3),\n",
       " Row(userId='100009', firstname='Troy', ts=1538377819000, page='NextSong', level='free', phase=1),\n",
       " Row(userId='39', firstname='Payton', ts=1538377824000, page='NextSong', level='free', phase=3),\n",
       " Row(userId='95', firstname='Faigy', ts=1538377829000, page='NextSong', level='paid', phase=1),\n",
       " Row(userId='87', firstname='Christian', ts=1538377866000, page='NextSong', level='free', phase=0),\n",
       " Row(userId='100001', firstname='Delaney', ts=1538377932000, page='NextSong', level='free', phase=0),\n",
       " Row(userId='142', firstname='Grant', ts=1538377941000, page='NextSong', level='paid', phase=0),\n",
       " Row(userId='100022', firstname='Mahi', ts=1538377996000, page='NextSong', level='free', phase=0),\n",
       " Row(userId='100009', firstname='Troy', ts=1538378023000, page='NextSong', level='free', phase=1),\n",
       " Row(userId='100022', firstname='Mahi', ts=1538378029000, page='Roll Advert', level='free', phase=0),\n",
       " Row(userId='95', firstname='Faigy', ts=1538378055000, page='NextSong', level='paid', phase=1),\n",
       " Row(userId='39', firstname='Payton', ts=1538378060000, page='NextSong', level='free', phase=3),\n",
       " Row(userId='28', firstname='Teagan', ts=1538378061000, page='NextSong', level='free', phase=0),\n",
       " Row(userId='87', firstname='Christian', ts=1538378123000, page='NextSong', level='free', phase=0),\n",
       " Row(userId='28', firstname='Teagan', ts=1538378184000, page='NextSong', level='free', phase=0),\n",
       " Row(userId='28', firstname='Teagan', ts=1538378185000, page='Logout', level='free', phase=0),\n",
       " Row(userId='25', firstname='Madison', ts=1538378230000, page='NextSong', level='paid', phase=1),\n",
       " Row(userId='100001', firstname='Delaney', ts=1538378245000, page='NextSong', level='free', phase=0),\n",
       " Row(userId='100022', firstname='Mahi', ts=1538378248000, page='NextSong', level='free', phase=0),\n",
       " Row(userId='95', firstname='Faigy', ts=1538378287000, page='NextSong', level='paid', phase=1),\n",
       " Row(userId='87', firstname='Christian', ts=1538378313000, page='NextSong', level='free', phase=0),\n",
       " Row(userId='142', firstname='Grant', ts=1538378313000, page='NextSong', level='paid', phase=0),\n",
       " Row(userId='87', firstname='Christian', ts=1538378324000, page='Roll Advert', level='free', phase=0),\n",
       " Row(userId='100009', firstname='Troy', ts=1538378326000, page='NextSong', level='free', phase=1),\n",
       " Row(userId='39', firstname='Payton', ts=1538378336000, page='NextSong', level='free', phase=3),\n",
       " Row(userId='39', firstname='Payton', ts=1538378353000, page='Roll Advert', level='free', phase=3),\n",
       " Row(userId='100009', firstname='Troy', ts=1538378360000, page='Upgrade', level='free', phase=1),\n",
       " Row(userId='25', firstname='Madison', ts=1538378460000, page='NextSong', level='paid', phase=1),\n",
       " Row(userId='95', firstname='Faigy', ts=1538378476000, page='NextSong', level='paid', phase=1),\n",
       " Row(userId='100001', firstname='Delaney', ts=1538378483000, page='NextSong', level='free', phase=0),\n",
       " Row(userId='142', firstname='Grant', ts=1538378533000, page='NextSong', level='paid', phase=0),\n",
       " Row(userId='142', firstname='Grant', ts=1538378534000, page='Thumbs Up', level='paid', phase=0),\n",
       " Row(userId='100022', firstname='Mahi', ts=1538378608000, page='NextSong', level='free', phase=0),\n",
       " Row(userId='95', firstname='Faigy', ts=1538378657000, page='NextSong', level='paid', phase=1),\n",
       " Row(userId='100009', firstname='Troy', ts=1538378677000, page='NextSong', level='free', phase=1),\n",
       " Row(userId='100001', firstname='Delaney', ts=1538378687000, page='NextSong', level='free', phase=0),\n",
       " Row(userId='25', firstname='Madison', ts=1538378724000, page='NextSong', level='paid', phase=1),\n",
       " Row(userId='39', firstname='Payton', ts=1538378726000, page='NextSong', level='free', phase=3),\n",
       " Row(userId='142', firstname='Grant', ts=1538378741000, page='NextSong', level='paid', phase=0),\n",
       " Row(userId='100022', firstname='Mahi', ts=1538378841000, page='NextSong', level='free', phase=0),\n",
       " Row(userId='100022', firstname='Mahi', ts=1538378842000, page='Roll Advert', level='free', phase=0),\n",
       " Row(userId='100001', firstname='Delaney', ts=1538378877000, page='NextSong', level='free', phase=0),\n",
       " Row(userId='100009', firstname='Troy', ts=1538378887000, page='NextSong', level='free', phase=1),\n",
       " Row(userId='95', firstname='Faigy', ts=1538378893000, page='NextSong', level='paid', phase=1),\n",
       " Row(userId='100009', firstname='Troy', ts=1538378903000, page='Settings', level='free', phase=1),\n",
       " Row(userId='25', firstname='Madison', ts=1538378944000, page='NextSong', level='paid', phase=1),\n",
       " Row(userId='87', firstname='Christian', ts=1538378945000, page='NextSong', level='free', phase=0),\n",
       " Row(userId='39', firstname='Payton', ts=1538378953000, page='NextSong', level='free', phase=3),\n",
       " Row(userId='100022', firstname='Mahi', ts=1538378990000, page='NextSong', level='free', phase=0),\n",
       " Row(userId='142', firstname='Grant', ts=1538378998000, page='NextSong', level='paid', phase=0),\n",
       " Row(userId='100001', firstname='Delaney', ts=1538379041000, page='NextSong', level='free', phase=0),\n",
       " Row(userId='87', firstname='Christian', ts=1538379091000, page='NextSong', level='free', phase=0),\n",
       " Row(userId='95', firstname='Faigy', ts=1538379133000, page='NextSong', level='paid', phase=1),\n",
       " Row(userId='95', firstname='Faigy', ts=1538379133000, page='Home', level='paid', phase=1),\n",
       " Row(userId='142', firstname='Grant', ts=1538379198000, page='NextSong', level='paid', phase=0),\n",
       " Row(userId='100001', firstname='Delaney', ts=1538379207000, page='NextSong', level='free', phase=0),\n",
       " Row(userId='39', firstname='Payton', ts=1538379219000, page='NextSong', level='free', phase=3),\n",
       " Row(userId='100022', firstname='Mahi', ts=1538379229000, page='NextSong', level='free', phase=0),\n",
       " Row(userId='100001', firstname='Delaney', ts=1538379230000, page='Roll Advert', level='free', phase=0),\n",
       " Row(userId='25', firstname='Madison', ts=1538379265000, page='NextSong', level='paid', phase=1),\n",
       " Row(userId='142', firstname='Grant', ts=1538379313000, page='NextSong', level='paid', phase=0),\n",
       " Row(userId='87', firstname='Christian', ts=1538379322000, page='NextSong', level='free', phase=0),\n",
       " Row(userId='95', firstname='Faigy', ts=1538379348000, page='NextSong', level='paid', phase=1),\n",
       " Row(userId='39', firstname='Payton', ts=1538379381000, page='NextSong', level='free', phase=3),\n",
       " Row(userId='100009', firstname='Troy', ts=1538379384000, page='NextSong', level='free', phase=1),\n",
       " Row(userId='100001', firstname='Delaney', ts=1538379420000, page='NextSong', level='free', phase=0),\n",
       " Row(userId='25', firstname='Madison', ts=1538379468000, page='NextSong', level='paid', phase=1),\n",
       " Row(userId='87', firstname='Christian', ts=1538379523000, page='NextSong', level='free', phase=0),\n",
       " Row(userId='142', firstname='Grant', ts=1538379551000, page='NextSong', level='paid', phase=0),\n",
       " Row(userId='100022', firstname='Mahi', ts=1538379572000, page='NextSong', level='free', phase=0),\n",
       " Row(userId='100009', firstname='Troy', ts=1538379599000, page='NextSong', level='free', phase=1),\n",
       " Row(userId='100009', firstname='Troy', ts=1538379600000, page='Logout', level='free', phase=1),\n",
       " Row(userId='95', firstname='Faigy', ts=1538379620000, page='NextSong', level='paid', phase=1),\n",
       " Row(userId='100001', firstname='Delaney', ts=1538379668000, page='NextSong', level='free', phase=0),\n",
       " Row(userId='142', firstname='Grant', ts=1538379707000, page='NextSong', level='paid', phase=0),\n",
       " Row(userId='39', firstname='Payton', ts=1538379802000, page='NextSong', level='free', phase=3),\n",
       " Row(userId='39', firstname='Payton', ts=1538379803000, page='Logout', level='free', phase=3),\n",
       " Row(userId='25', firstname='Madison', ts=1538379816000, page='NextSong', level='paid', phase=1),\n",
       " Row(userId='95', firstname='Faigy', ts=1538379880000, page='NextSong', level='paid', phase=1),\n",
       " Row(userId='39', firstname='Payton', ts=1538379896000, page='Home', level='free', phase=3),\n",
       " Row(userId='100022', firstname='Mahi', ts=1538379978000, page='NextSong', level='free', phase=0),\n",
       " Row(userId='142', firstname='Grant', ts=1538379990000, page='NextSong', level='paid', phase=0),\n",
       " Row(userId='142', firstname='Grant', ts=1538379991000, page='Thumbs Up', level='paid', phase=0),\n",
       " Row(userId='100001', firstname='Delaney', ts=1538380000000, page='NextSong', level='free', phase=0),\n",
       " Row(userId='87', firstname='Christian', ts=1538380020000, page='NextSong', level='free', phase=0),\n",
       " Row(userId='39', firstname='Payton', ts=1538380026000, page='NextSong', level='free', phase=3),\n",
       " Row(userId='25', firstname='Madison', ts=1538380039000, page='NextSong', level='paid', phase=1),\n",
       " Row(userId='95', firstname='Faigy', ts=1538380099000, page='NextSong', level='paid', phase=1),\n",
       " Row(userId='100001', firstname='Delaney', ts=1538380179000, page='NextSong', level='free', phase=0),\n",
       " Row(userId='100001', firstname='Delaney', ts=1538380180000, page='Logout', level='free', phase=0),\n",
       " Row(userId='100022', firstname='Mahi', ts=1538380216000, page='NextSong', level='free', phase=0),\n",
       " Row(userId='100022', firstname='Mahi', ts=1538380217000, page='Thumbs Down', level='free', phase=0),\n",
       " Row(userId='87', firstname='Christian', ts=1538380219000, page='NextSong', level='free', phase=0),\n",
       " Row(userId='25', firstname='Madison', ts=1538380249000, page='NextSong', level='paid', phase=1),\n",
       " Row(userId='25', firstname='Madison', ts=1538380250000, page='Thumbs Up', level='paid', phase=1),\n",
       " Row(userId='39', firstname='Payton', ts=1538380263000, page='NextSong', level='free', phase=3),\n",
       " Row(userId='39', firstname='Payton', ts=1538380294000, page='About', level='free', phase=3),\n",
       " Row(userId='95', firstname='Faigy', ts=1538380312000, page='NextSong', level='paid', phase=1),\n",
       " Row(userId='142', firstname='Grant', ts=1538380389000, page='NextSong', level='paid', phase=0),\n",
       " Row(userId='100001', firstname='Delaney', ts=1538380429000, page='Home', level='free', phase=0),\n",
       " Row(userId='87', firstname='Christian', ts=1538380446000, page='NextSong', level='free', phase=0),\n",
       " Row(userId='100001', firstname='Delaney', ts=1538380481000, page='NextSong', level='free', phase=0),\n",
       " Row(userId='142', firstname='Grant', ts=1538380504000, page='Home', level='paid', phase=0),\n",
       " Row(userId='100022', firstname='Mahi', ts=1538380512000, page='NextSong', level='free', phase=0),\n",
       " Row(userId='25', firstname='Madison', ts=1538380529000, page='NextSong', level='paid', phase=1),\n",
       " Row(userId='25', firstname='Madison', ts=1538380530000, page='Thumbs Up', level='paid', phase=1),\n",
       " Row(userId='39', firstname='Payton', ts=1538380531000, page='NextSong', level='free', phase=3),\n",
       " Row(userId='39', firstname='Payton', ts=1538380560000, page='Roll Advert', level='free', phase=3),\n",
       " Row(userId='95', firstname='Faigy', ts=1538380595000, page='NextSong', level='paid', phase=1),\n",
       " Row(userId='25', firstname='Madison', ts=1538380675000, page='NextSong', level='paid', phase=1),\n",
       " Row(userId='87', firstname='Christian', ts=1538380687000, page='NextSong', level='free', phase=0),\n",
       " Row(userId='100022', firstname='Mahi', ts=1538380774000, page='NextSong', level='free', phase=0),\n",
       " Row(userId='100022', firstname='Mahi', ts=1538380775000, page='Thumbs Up', level='free', phase=0),\n",
       " Row(userId='95', firstname='Faigy', ts=1538380794000, page='NextSong', level='paid', phase=1),\n",
       " Row(userId='25', firstname='Madison', ts=1538380825000, page='NextSong', level='paid', phase=1),\n",
       " Row(userId='100001', firstname='Delaney', ts=1538380829000, page='NextSong', level='free', phase=0),\n",
       " Row(userId='39', firstname='Payton', ts=1538380879000, page='NextSong', level='free', phase=3),\n",
       " Row(userId='87', firstname='Christian', ts=1538380886000, page='NextSong', level='free', phase=0),\n",
       " Row(userId='100022', firstname='Mahi', ts=1538381020000, page='NextSong', level='free', phase=0),\n",
       " Row(userId='25', firstname='Madison', ts=1538381035000, page='NextSong', level='paid', phase=1),\n",
       " Row(userId='39', firstname='Payton', ts=1538381061000, page='NextSong', level='free', phase=3),\n",
       " Row(userId='25', firstname='Madison', ts=1538381169000, page='NextSong', level='paid', phase=1),\n",
       " Row(userId='142', firstname='Grant', ts=1538381172000, page='NextSong', level='paid', phase=0),\n",
       " Row(userId='87', firstname='Christian', ts=1538381216000, page='NextSong', level='free', phase=0),\n",
       " Row(userId='100022', firstname='Mahi', ts=1538381217000, page='NextSong', level='free', phase=0),\n",
       " Row(userId='95', firstname='Faigy', ts=1538381217000, page='NextSong', level='paid', phase=1),\n",
       " Row(userId='100001', firstname='Delaney', ts=1538381273000, page='NextSong', level='free', phase=0),\n",
       " Row(userId='100001', firstname='Delaney', ts=1538381274000, page='Thumbs Down', level='free', phase=0),\n",
       " Row(userId='87', firstname='Christian', ts=1538381290000, page='NextSong', level='free', phase=0),\n",
       " Row(userId='39', firstname='Payton', ts=1538381345000, page='NextSong', level='free', phase=3),\n",
       " Row(userId='100022', firstname='Mahi', ts=1538381422000, page='NextSong', level='free', phase=0),\n",
       " Row(userId='39', firstname='Payton', ts=1538381435000, page='Roll Advert', level='free', phase=3),\n",
       " Row(userId='142', firstname='Grant', ts=1538381436000, page='NextSong', level='paid', phase=0),\n",
       " Row(userId='95', firstname='Faigy', ts=1538381443000, page='NextSong', level='paid', phase=1),\n",
       " Row(userId='100001', firstname='Delaney', ts=1538381449000, page='NextSong', level='free', phase=0),\n",
       " Row(userId='95', firstname='Faigy', ts=1538381467000, page='Add to Playlist', level='paid', phase=1),\n",
       " Row(userId='142', firstname='Grant', ts=1538381483000, page='Settings', level='paid', phase=0),\n",
       " Row(userId='142', firstname='Grant', ts=1538381484000, page='Logout', level='paid', phase=0),\n",
       " Row(userId='142', firstname='Grant', ts=1538381535000, page='Home', level='paid', phase=0),\n",
       " Row(userId='100022', firstname='Mahi', ts=1538381588000, page='NextSong', level='free', phase=0),\n",
       " Row(userId='100022', firstname='Mahi', ts=1538381589000, page='Logout', level='free', phase=0),\n",
       " Row(userId='39', firstname='Payton', ts=1538381607000, page='NextSong', level='free', phase=3),\n",
       " Row(userId='142', firstname='Grant', ts=1538381637000, page='NextSong', level='paid', phase=0),\n",
       " Row(userId='25', firstname='Madison', ts=1538381684000, page='NextSong', level='paid', phase=1),\n",
       " Row(userId='100001', firstname='Delaney', ts=1538381708000, page='NextSong', level='free', phase=0),\n",
       " Row(userId='95', firstname='Faigy', ts=1538381717000, page='NextSong', level='paid', phase=1),\n",
       " Row(userId='142', firstname='Grant', ts=1538381864000, page='NextSong', level='paid', phase=0),\n",
       " Row(userId='39', firstname='Payton', ts=1538381875000, page='NextSong', level='free', phase=3),\n",
       " Row(userId='25', firstname='Madison', ts=1538381888000, page='NextSong', level='paid', phase=1),\n",
       " Row(userId='25', firstname='Madison', ts=1538381889000, page='Thumbs Up', level='paid', phase=1),\n",
       " Row(userId='95', firstname='Faigy', ts=1538381953000, page='NextSong', level='paid', phase=1),\n",
       " Row(userId='100001', firstname='Delaney', ts=1538381978000, page='NextSong', level='free', phase=0),\n",
       " Row(userId='142', firstname='Grant', ts=1538382020000, page='NextSong', level='paid', phase=0),\n",
       " Row(userId='25', firstname='Madison', ts=1538382119000, page='NextSong', level='paid', phase=1),\n",
       " Row(userId='39', firstname='Payton', ts=1538382162000, page='NextSong', level='free', phase=3),\n",
       " Row(userId='95', firstname='Faigy', ts=1538382198000, page='NextSong', level='paid', phase=1),\n",
       " Row(userId='95', firstname='Faigy', ts=1538382199000, page='Thumbs Up', level='paid', phase=1),\n",
       " Row(userId='100001', firstname='Delaney', ts=1538382217000, page='NextSong', level='free', phase=0),\n",
       " Row(userId='142', firstname='Grant', ts=1538382290000, page='NextSong', level='paid', phase=0),\n",
       " Row(userId='142', firstname='Grant', ts=1538382291000, page='Logout', level='paid', phase=0),\n",
       " Row(userId='25', firstname='Madison', ts=1538382354000, page='NextSong', level='paid', phase=1),\n",
       " Row(userId='95', firstname='Faigy', ts=1538382370000, page='NextSong', level='paid', phase=1),\n",
       " Row(userId='142', firstname='Grant', ts=1538382418000, page='Home', level='paid', phase=0),\n",
       " Row(userId='95', firstname='Faigy', ts=1538382469000, page='NextSong', level='paid', phase=1),\n",
       " Row(userId='100001', firstname='Delaney', ts=1538382476000, page='NextSong', level='free', phase=0),\n",
       " Row(userId='25', firstname='Madison', ts=1538382545000, page='NextSong', level='paid', phase=1),\n",
       " Row(userId='100001', firstname='Delaney', ts=1538382550000, page='Roll Advert', level='free', phase=0),\n",
       " Row(userId='142', firstname='Grant', ts=1538382593000, page='NextSong', level='paid', phase=0),\n",
       " Row(userId='39', firstname='Payton', ts=1538382596000, page='NextSong', level='free', phase=3),\n",
       " Row(userId='100001', firstname='Delaney', ts=1538382674000, page='NextSong', level='free', phase=0),\n",
       " Row(userId='95', firstname='Faigy', ts=1538382705000, page='NextSong', level='paid', phase=1),\n",
       " Row(userId='100001', firstname='Delaney', ts=1538382775000, page='Roll Advert', level='free', phase=0),\n",
       " Row(userId='25', firstname='Madison', ts=1538382779000, page='NextSong', level='paid', phase=1),\n",
       " Row(userId='142', firstname='Grant', ts=1538382833000, page='NextSong', level='paid', phase=0),\n",
       " Row(userId='39', firstname='Payton', ts=1538382900000, page='NextSong', level='free', phase=3),\n",
       " Row(userId='100001', firstname='Delaney', ts=1538382964000, page='NextSong', level='free', phase=0),\n",
       " Row(userId='25', firstname='Madison', ts=1538382982000, page='NextSong', level='paid', phase=1),\n",
       " Row(userId='95', firstname='Faigy', ts=1538382987000, page='NextSong', level='paid', phase=1),\n",
       " Row(userId='142', firstname='Grant', ts=1538383079000, page='NextSong', level='paid', phase=0),\n",
       " Row(userId='39', firstname='Payton', ts=1538383177000, page='NextSong', level='free', phase=3),\n",
       " Row(userId='100001', firstname='Delaney', ts=1538383234000, page='NextSong', level='free', phase=0),\n",
       " Row(userId='25', firstname='Madison', ts=1538383251000, page='NextSong', level='paid', phase=1),\n",
       " Row(userId='95', firstname='Faigy', ts=1538383275000, page='NextSong', level='paid', phase=1),\n",
       " Row(userId='142', firstname='Grant', ts=1538383312000, page='NextSong', level='paid', phase=0),\n",
       " Row(userId='39', firstname='Payton', ts=1538383446000, page='NextSong', level='free', phase=3),\n",
       " Row(userId='25', firstname='Madison', ts=1538383456000, page='NextSong', level='paid', phase=1),\n",
       " Row(userId='100001', firstname='Delaney', ts=1538383532000, page='NextSong', level='free', phase=0),\n",
       " Row(userId='142', firstname='Grant', ts=1538383559000, page='NextSong', level='paid', phase=0),\n",
       " Row(userId='25', firstname='Madison', ts=1538383610000, page='NextSong', level='paid', phase=1),\n",
       " Row(userId='39', firstname='Payton', ts=1538383622000, page='NextSong', level='free', phase=3),\n",
       " Row(userId='95', firstname='Faigy', ts=1538383719000, page='NextSong', level='paid', phase=1),\n",
       " Row(userId='100001', firstname='Delaney', ts=1538383757000, page='NextSong', level='free', phase=0),\n",
       " Row(userId='100001', firstname='Delaney', ts=1538383758000, page='Logout', level='free', phase=0),\n",
       " Row(userId='39', firstname='Payton', ts=1538383787000, page='NextSong', level='free', phase=3),\n",
       " Row(userId='142', firstname='Grant', ts=1538383792000, page='NextSong', level='paid', phase=0),\n",
       " Row(userId='100001', firstname='Delaney', ts=1538383846000, page='Home', level='free', phase=0),\n",
       " Row(userId='25', firstname='Madison', ts=1538383933000, page='NextSong', level='paid', phase=1),\n",
       " Row(userId='25', firstname='Madison', ts=1538383934000, page='Add Friend', level='paid', phase=1),\n",
       " Row(userId='142', firstname='Grant', ts=1538383941000, page='NextSong', level='paid', phase=0),\n",
       " Row(userId='100001', firstname='Delaney', ts=1538384003000, page='NextSong', level='free', phase=0),\n",
       " Row(userId='100001', firstname='Delaney', ts=1538384004000, page='Add Friend', level='free', phase=0),\n",
       " Row(userId='39', firstname='Payton', ts=1538384057000, page='NextSong', level='free', phase=3),\n",
       " Row(userId='95', firstname='Faigy', ts=1538384092000, page='NextSong', level='paid', phase=1),\n",
       " Row(userId='142', firstname='Grant', ts=1538384139000, page='NextSong', level='paid', phase=0),\n",
       " Row(userId='25', firstname='Madison', ts=1538384191000, page='NextSong', level='paid', phase=1),\n",
       " Row(userId='25', firstname='Madison', ts=1538384192000, page='Thumbs Up', level='paid', phase=1),\n",
       " Row(userId='100001', firstname='Delaney', ts=1538384240000, page='NextSong', level='free', phase=0),\n",
       " Row(userId='95', firstname='Faigy', ts=1538384350000, page='NextSong', level='paid', phase=1),\n",
       " Row(userId='131', firstname='Kael', ts=1538384355000, page='NextSong', level='free', phase=2),\n",
       " Row(userId='142', firstname='Grant', ts=1538384358000, page='NextSong', level='paid', phase=0),\n",
       " Row(userId='142', firstname='Grant', ts=1538384371000, page='Home', level='paid', phase=0),\n",
       " Row(userId='25', firstname='Madison', ts=1538384389000, page='NextSong', level='paid', phase=1),\n",
       " Row(userId='39', firstname='Payton', ts=1538384448000, page='NextSong', level='free', phase=3),\n",
       " Row(userId='142', firstname='Grant', ts=1538384567000, page='NextSong', level='paid', phase=0),\n",
       " Row(userId='25', firstname='Madison', ts=1538384625000, page='NextSong', level='paid', phase=1),\n",
       " Row(userId='95', firstname='Faigy', ts=1538384661000, page='NextSong', level='paid', phase=1),\n",
       " Row(userId='39', firstname='Payton', ts=1538384686000, page='NextSong', level='free', phase=3),\n",
       " Row(userId='131', firstname='Kael', ts=1538384770000, page='NextSong', level='free', phase=2),\n",
       " Row(userId='142', firstname='Grant', ts=1538384810000, page='NextSong', level='paid', phase=0),\n",
       " Row(userId='39', firstname='Payton', ts=1538384860000, page='NextSong', level='free', phase=3),\n",
       " Row(userId='39', firstname='Payton', ts=1538384860000, page='Roll Advert', level='free', phase=3),\n",
       " Row(userId='100001', firstname='Delaney', ts=1538384895000, page='NextSong', level='free', phase=0),\n",
       " Row(userId='25', firstname='Madison', ts=1538384924000, page='NextSong', level='paid', phase=1),\n",
       " Row(userId='25', firstname='Madison', ts=1538384925000, page='Add Friend', level='paid', phase=1),\n",
       " Row(userId='25', firstname='Madison', ts=1538384926000, page='Add Friend', level='paid', phase=1),\n",
       " Row(userId='25', firstname='Madison', ts=1538384927000, page='Add Friend', level='paid', phase=1),\n",
       " Row(userId='142', firstname='Grant', ts=1538384953000, page='NextSong', level='paid', phase=0),\n",
       " Row(userId='200014', firstname='Emmanuel', ts=1538384958000, page='Home', level='free', phase=0),\n",
       " Row(userId='95', firstname='Faigy', ts=1538384973000, page='NextSong', level='paid', phase=1),\n",
       " Row(userId='200014', firstname='Emmanuel', ts=1538384979000, page='NextSong', level='free', phase=0),\n",
       " Row(userId='25', firstname='Madison', ts=1538385014000, page='NextSong', level='paid', phase=1),\n",
       " Row(userId='131', firstname='Kael', ts=1538385046000, page='NextSong', level='free', phase=2),\n",
       " Row(userId='100001', firstname='Delaney', ts=1538385105000, page='NextSong', level='free', phase=0),\n",
       " Row(userId='39', firstname='Payton', ts=1538385114000, page='NextSong', level='free', phase=3),\n",
       " Row(userId='39', firstname='Payton', ts=1538385114000, page='Roll Advert', level='free', phase=3),\n",
       " Row(userId='95', firstname='Faigy', ts=1538385168000, page='NextSong', level='paid', phase=1),\n",
       " Row(userId='131', firstname='Kael', ts=1538385180000, page='NextSong', level='free', phase=2),\n",
       " Row(userId='200014', firstname='Emmanuel', ts=1538385205000, page='NextSong', level='free', phase=0),\n",
       " Row(userId='200014', firstname='Emmanuel', ts=1538385206000, page='Logout', level='free', phase=0),\n",
       " Row(userId='200014', firstname='Emmanuel', ts=1538385218000, page='Home', level='free', phase=0),\n",
       " Row(userId='142', firstname='Grant', ts=1538385248000, page='NextSong', level='paid', phase=0),\n",
       " Row(userId='25', firstname='Madison', ts=1538385255000, page='NextSong', level='paid', phase=1),\n",
       " Row(userId='39', firstname='Payton', ts=1538385311000, page='NextSong', level='free', phase=3),\n",
       " Row(userId='100001', firstname='Delaney', ts=1538385353000, page='NextSong', level='free', phase=0),\n",
       " Row(userId='100001', firstname='Delaney', ts=1538385354000, page='Thumbs Up', level='free', phase=0),\n",
       " Row(userId='131', firstname='Kael', ts=1538385402000, page='NextSong', level='free', phase=2),\n",
       " Row(userId='25', firstname='Madison', ts=1538385498000, page='NextSong', level='paid', phase=1),\n",
       " Row(userId='131', firstname='Kael', ts=1538385558000, page='NextSong', level='free', phase=2),\n",
       " Row(userId='142', firstname='Grant', ts=1538385559000, page='NextSong', level='paid', phase=0),\n",
       " Row(userId='39', firstname='Payton', ts=1538385562000, page='NextSong', level='free', phase=3),\n",
       " Row(userId='200014', firstname='Emmanuel', ts=1538385587000, page='NextSong', level='free', phase=0),\n",
       " Row(userId='25', firstname='Madison', ts=1538385656000, page='Help', level='paid', phase=1),\n",
       " Row(userId='95', firstname='Faigy', ts=1538385662000, page='NextSong', level='paid', phase=1),\n",
       " Row(userId='100001', firstname='Delaney', ts=1538385682000, page='NextSong', level='free', phase=0),\n",
       " Row(userId='25', firstname='Madison', ts=1538385712000, page='NextSong', level='paid', phase=1),\n",
       " Row(userId='25', firstname='Madison', ts=1538385724000, page='NextSong', level='paid', phase=1),\n",
       " Row(userId='200014', firstname='Emmanuel', ts=1538385826000, page='NextSong', level='free', phase=0),\n",
       " Row(userId='142', firstname='Grant', ts=1538385831000, page='NextSong', level='paid', phase=0),\n",
       " Row(userId='200014', firstname='Emmanuel', ts=1538385835000, page='Home', level='free', phase=0),\n",
       " Row(userId='39', firstname='Payton', ts=1538385847000, page='NextSong', level='free', phase=3),\n",
       " Row(userId='95', firstname='Faigy', ts=1538385873000, page='NextSong', level='paid', phase=1),\n",
       " Row(userId='100001', firstname='Delaney', ts=1538385917000, page='NextSong', level='free', phase=0),\n",
       " Row(userId='200014', firstname='Emmanuel', ts=1538385970000, page='NextSong', level='free', phase=0),\n",
       " Row(userId='142', firstname='Grant', ts=1538386008000, page='NextSong', level='paid', phase=0),\n",
       " Row(userId='100001', firstname='Delaney', ts=1538386066000, page='Add to Playlist', level='free', phase=0),\n",
       " Row(userId='131', firstname='Kael', ts=1538386074000, page='NextSong', level='free', phase=2),\n",
       " Row(userId='100001', firstname='Delaney', ts=1538386082000, page='NextSong', level='free', phase=0),\n",
       " Row(userId='100001', firstname='Delaney', ts=1538386083000, page='Logout', level='free', phase=0),\n",
       " Row(userId='39', firstname='Payton', ts=1538386135000, page='NextSong', level='free', phase=3),\n",
       " Row(userId='95', firstname='Faigy', ts=1538386180000, page='NextSong', level='paid', phase=1),\n",
       " Row(userId='200014', firstname='Emmanuel', ts=1538386193000, page='NextSong', level='free', phase=0),\n",
       " Row(userId='142', firstname='Grant', ts=1538386227000, page='NextSong', level='paid', phase=0),\n",
       " Row(userId='200014', firstname='Emmanuel', ts=1538386231000, page='Roll Advert', level='free', phase=0),\n",
       " Row(userId='131', firstname='Kael', ts=1538386309000, page='NextSong', level='free', phase=2),\n",
       " Row(userId='25', firstname='Madison', ts=1538386379000, page='NextSong', level='paid', phase=1),\n",
       " Row(userId='39', firstname='Payton', ts=1538386419000, page='NextSong', level='free', phase=3),\n",
       " Row(userId='39', firstname='Payton', ts=1538386420000, page='Thumbs Up', level='free', phase=3),\n",
       " Row(userId='95', firstname='Faigy', ts=1538386434000, page='NextSong', level='paid', phase=1),\n",
       " Row(userId='200014', firstname='Emmanuel', ts=1538386443000, page='NextSong', level='free', phase=0),\n",
       " Row(userId='200014', firstname='Emmanuel', ts=1538386444000, page='Thumbs Up', level='free', phase=0),\n",
       " Row(userId='142', firstname='Grant', ts=1538386444000, page='NextSong', level='paid', phase=0),\n",
       " Row(userId='131', firstname='Kael', ts=1538386520000, page='NextSong', level='free', phase=2),\n",
       " Row(userId='200014', firstname='Emmanuel', ts=1538386525000, page='NextSong', level='free', phase=0),\n",
       " Row(userId='25', firstname='Madison', ts=1538386623000, page='NextSong', level='paid', phase=1),\n",
       " Row(userId='39', firstname='Payton', ts=1538386644000, page='NextSong', level='free', phase=3),\n",
       " Row(userId='25', firstname='Madison', ts=1538386646000, page='Add to Playlist', level='paid', phase=1),\n",
       " Row(userId='142', firstname='Grant', ts=1538386646000, page='NextSong', level='paid', phase=0),\n",
       " Row(userId='95', firstname='Faigy', ts=1538386659000, page='NextSong', level='paid', phase=1),\n",
       " Row(userId='131', firstname='Kael', ts=1538386726000, page='NextSong', level='free', phase=2),\n",
       " Row(userId='25', firstname='Madison', ts=1538386805000, page='NextSong', level='paid', phase=1),\n",
       " Row(userId='200014', firstname='Emmanuel', ts=1538386816000, page='NextSong', level='free', phase=0),\n",
       " Row(userId='200014', firstname='Emmanuel', ts=1538386891000, page='NextSong', level='free', phase=0),\n",
       " Row(userId='39', firstname='Payton', ts=1538386924000, page='NextSong', level='free', phase=3),\n",
       " Row(userId='95', firstname='Faigy', ts=1538386926000, page='NextSong', level='paid', phase=1),\n",
       " Row(userId='131', firstname='Kael', ts=1538386977000, page='NextSong', level='free', phase=2),\n",
       " Row(userId='126', firstname='Daelin', ts=1538387004000, page='Home', level='free', phase=0),\n",
       " Row(userId='200014', firstname='Emmanuel', ts=1538387027000, page='NextSong', level='free', phase=0),\n",
       " Row(userId='200014', firstname='Emmanuel', ts=1538387028000, page='Thumbs Down', level='free', phase=0),\n",
       " Row(userId='126', firstname='Daelin', ts=1538387041000, page='NextSong', level='free', phase=0),\n",
       " Row(userId='25', firstname='Madison', ts=1538387082000, page='NextSong', level='paid', phase=1),\n",
       " Row(userId='95', firstname='Faigy', ts=1538387092000, page='NextSong', level='paid', phase=1),\n",
       " Row(userId='39', firstname='Payton', ts=1538387107000, page='NextSong', level='free', phase=3),\n",
       " Row(userId='142', firstname='Grant', ts=1538387111000, page='NextSong', level='paid', phase=0),\n",
       " Row(userId='39', firstname='Payton', ts=1538387139000, page='Roll Advert', level='free', phase=3),\n",
       " Row(userId='131', firstname='Kael', ts=1538387193000, page='NextSong', level='free', phase=2),\n",
       " Row(userId='200014', firstname='Emmanuel', ts=1538387228000, page='NextSong', level='free', phase=0),\n",
       " Row(userId='142', firstname='Grant', ts=1538387233000, page='NextSong', level='paid', phase=0),\n",
       " Row(userId='25', firstname='Madison', ts=1538387257000, page='Help', level='paid', phase=1),\n",
       " Row(userId='25', firstname='Madison', ts=1538387258000, page='Add Friend', level='paid', phase=1),\n",
       " Row(userId='25', firstname='Madison', ts=1538387259000, page='Add Friend', level='paid', phase=1),\n",
       " Row(userId='25', firstname='Madison', ts=1538387260000, page='Add Friend', level='paid', phase=1),\n",
       " Row(userId='126', firstname='Daelin', ts=1538387273000, page='NextSong', level='free', phase=0),\n",
       " Row(userId='25', firstname='Madison', ts=1538387302000, page='NextSong', level='paid', phase=1),\n",
       " Row(userId='39', firstname='Payton', ts=1538387315000, page='NextSong', level='free', phase=3),\n",
       " Row(userId='95', firstname='Faigy', ts=1538387392000, page='NextSong', level='paid', phase=1),\n",
       " Row(userId='25', firstname='Madison', ts=1538387470000, page='NextSong', level='paid', phase=1),\n",
       " Row(userId='142', firstname='Grant', ts=1538387535000, page='NextSong', level='paid', phase=0),\n",
       " Row(userId='25', firstname='Madison', ts=1538387548000, page='NextSong', level='paid', phase=1),\n",
       " Row(userId='39', firstname='Payton', ts=1538387562000, page='NextSong', level='free', phase=3),\n",
       " Row(userId='131', firstname='Kael', ts=1538387604000, page='NextSong', level='free', phase=2),\n",
       " Row(userId='126', firstname='Daelin', ts=1538387645000, page='NextSong', level='free', phase=0),\n",
       " Row(userId='95', firstname='Faigy', ts=1538387659000, page='NextSong', level='paid', phase=1),\n",
       " Row(userId='126', firstname='Daelin', ts=1538387676000, page='Roll Advert', level='free', phase=0),\n",
       " Row(userId='200014', firstname='Emmanuel', ts=1538387743000, page='NextSong', level='free', phase=0),\n",
       " Row(userId='200014', firstname='Emmanuel', ts=1538387743000, page='Roll Advert', level='free', phase=0),\n",
       " Row(userId='142', firstname='Grant', ts=1538387758000, page='NextSong', level='paid', phase=0),\n",
       " Row(userId='39', firstname='Payton', ts=1538387789000, page='NextSong', level='free', phase=3),\n",
       " Row(userId='25', firstname='Madison', ts=1538387838000, page='NextSong', level='paid', phase=1),\n",
       " Row(userId='131', firstname='Kael', ts=1538387868000, page='NextSong', level='free', phase=2),\n",
       " Row(userId='126', firstname='Daelin', ts=1538387870000, page='NextSong', level='free', phase=0),\n",
       " Row(userId='95', firstname='Faigy', ts=1538387899000, page='NextSong', level='paid', phase=1),\n",
       " Row(userId='95', firstname='Faigy', ts=1538387907000, page='Roll Advert', level='paid', phase=1),\n",
       " Row(userId='200014', firstname='Emmanuel', ts=1538388013000, page='NextSong', level='free', phase=0),\n",
       " Row(userId='146', firstname='Giovanni', ts=1538388015000, page='Home', level='free', phase=0),\n",
       " Row(userId='25', firstname='Madison', ts=1538388062000, page='NextSong', level='paid', phase=1),\n",
       " Row(userId='126', firstname='Daelin', ts=1538388066000, page='NextSong', level='free', phase=0),\n",
       " Row(userId='39', firstname='Payton', ts=1538388091000, page='NextSong', level='free', phase=3),\n",
       " Row(userId='146', firstname='Giovanni', ts=1538388101000, page='NextSong', level='free', phase=0),\n",
       " Row(userId='131', firstname='Kael', ts=1538388132000, page='NextSong', level='free', phase=2),\n",
       " Row(userId='25', firstname='Madison', ts=1538388149000, page='Home', level='paid', phase=1),\n",
       " Row(userId='200014', firstname='Emmanuel', ts=1538388229000, page='NextSong', level='free', phase=0),\n",
       " Row(userId='200014', firstname='Emmanuel', ts=1538388240000, page='Add to Playlist', level='free', phase=0),\n",
       " Row(userId='25', firstname='Madison', ts=1538388287000, page='NextSong', level='paid', phase=1),\n",
       " Row(userId='95', firstname='Faigy', ts=1538388293000, page='NextSong', level='paid', phase=1),\n",
       " Row(userId='95', firstname='Faigy', ts=1538388294000, page='Logout', level='paid', phase=1),\n",
       " Row(userId='95', firstname='Faigy', ts=1538388298000, page='Home', level='paid', phase=1),\n",
       " Row(userId='39', firstname='Payton', ts=1538388306000, page='NextSong', level='free', phase=3),\n",
       " Row(userId='131', firstname='Kael', ts=1538388327000, page='NextSong', level='free', phase=2),\n",
       " Row(userId='146', firstname='Giovanni', ts=1538388387000, page='NextSong', level='free', phase=0),\n",
       " Row(userId='142', firstname='Grant', ts=1538388435000, page='NextSong', level='paid', phase=0),\n",
       " Row(userId='126', firstname='Daelin', ts=1538388465000, page='NextSong', level='free', phase=0),\n",
       " Row(userId='25', firstname='Madison', ts=1538388507000, page='NextSong', level='paid', phase=1),\n",
       " Row(userId='39', firstname='Payton', ts=1538388520000, page='NextSong', level='free', phase=3),\n",
       " Row(userId='95', firstname='Faigy', ts=1538388527000, page='NextSong', level='paid', phase=1),\n",
       " Row(userId='146', firstname='Giovanni', ts=1538388620000, page='NextSong', level='free', phase=0),\n",
       " Row(userId='131', firstname='Kael', ts=1538388627000, page='NextSong', level='free', phase=2),\n",
       " Row(userId='142', firstname='Grant', ts=1538388646000, page='NextSong', level='paid', phase=0),\n",
       " Row(userId='39', firstname='Payton', ts=1538388701000, page='NextSong', level='free', phase=3),\n",
       " Row(userId='25', firstname='Madison', ts=1538388702000, page='NextSong', level='paid', phase=1),\n",
       " Row(userId='200014', firstname='Emmanuel', ts=1538388759000, page='NextSong', level='free', phase=0),\n",
       " Row(userId='131', firstname='Kael', ts=1538388796000, page='NextSong', level='free', phase=2),\n",
       " Row(userId='126', firstname='Daelin', ts=1538388801000, page='NextSong', level='free', phase=0),\n",
       " Row(userId='95', firstname='Faigy', ts=1538388802000, page='NextSong', level='paid', phase=1),\n",
       " Row(userId='131', firstname='Kael', ts=1538388861000, page='Add to Playlist', level='free', phase=2),\n",
       " Row(userId='142', firstname='Grant', ts=1538388886000, page='NextSong', level='paid', phase=0),\n",
       " Row(userId='142', firstname='Grant', ts=1538388887000, page='Thumbs Up', level='paid', phase=0),\n",
       " Row(userId='146', firstname='Giovanni', ts=1538388894000, page='NextSong', level='free', phase=0),\n",
       " Row(userId='146', firstname='Giovanni', ts=1538388903000, page='Add to Playlist', level='free', phase=0),\n",
       " Row(userId='95', firstname='Faigy', ts=1538389000000, page='NextSong', level='paid', phase=1),\n",
       " Row(userId='39', firstname='Payton', ts=1538389007000, page='NextSong', level='free', phase=3),\n",
       " Row(userId='200014', firstname='Emmanuel', ts=1538389033000, page='NextSong', level='free', phase=0),\n",
       " Row(userId='200014', firstname='Emmanuel', ts=1538389039000, page='Home', level='free', phase=0),\n",
       " Row(userId='146', firstname='Giovanni', ts=1538389062000, page='NextSong', level='free', phase=0),\n",
       " Row(userId='146', firstname='Giovanni', ts=1538389077000, page='Add to Playlist', level='free', phase=0),\n",
       " Row(userId='131', firstname='Kael', ts=1538389085000, page='NextSong', level='free', phase=2),\n",
       " Row(userId='142', firstname='Grant', ts=1538389126000, page='NextSong', level='paid', phase=0),\n",
       " Row(userId='59', firstname='Jaleel', ts=1538389169000, page='Home', level='free', phase=1),\n",
       " Row(userId='126', firstname='Daelin', ts=1538389172000, page='NextSong', level='free', phase=0),\n",
       " Row(userId='95', firstname='Faigy', ts=1538389239000, page='NextSong', level='paid', phase=1),\n",
       " Row(userId='146', firstname='Giovanni', ts=1538389270000, page='NextSong', level='free', phase=0),\n",
       " Row(userId='131', firstname='Kael', ts=1538389326000, page='NextSong', level='free', phase=2),\n",
       " Row(userId='142', firstname='Grant', ts=1538389345000, page='NextSong', level='paid', phase=0),\n",
       " Row(userId='131', firstname='Kael', ts=1538389366000, page='Help', level='free', phase=2),\n",
       " Row(userId='15', firstname='Panav', ts=1538389415000, page='Home', level='paid', phase=0),\n",
       " Row(userId='95', firstname='Faigy', ts=1538389449000, page='NextSong', level='paid', phase=1),\n",
       " Row(userId='39', firstname='Payton', ts=1538389467000, page='NextSong', level='free', phase=3),\n",
       " Row(userId='15', firstname='Panav', ts=1538389474000, page='NextSong', level='paid', phase=0),\n",
       " Row(userId='200014', firstname='Emmanuel', ts=1538389480000, page='NextSong', level='free', phase=0),\n",
       " Row(userId='146', firstname='Giovanni', ts=1538389499000, page='NextSong', level='free', phase=0),\n",
       " Row(userId='146', firstname='Giovanni', ts=1538389581000, page='Roll Advert', level='free', phase=0),\n",
       " Row(userId='15', firstname='Panav', ts=1538389586000, page='NextSong', level='paid', phase=0),\n",
       " Row(userId='59', firstname='Jaleel', ts=1538389614000, page='NextSong', level='free', phase=1),\n",
       " Row(userId='39', firstname='Payton', ts=1538389616000, page='Add to Playlist', level='free', phase=3),\n",
       " Row(userId='131', firstname='Kael', ts=1538389659000, page='NextSong', level='free', phase=2),\n",
       " Row(userId='131', firstname='Kael', ts=1538389667000, page='Home', level='free', phase=2),\n",
       " Row(userId='142', firstname='Grant', ts=1538389672000, page='NextSong', level='paid', phase=0),\n",
       " Row(userId='95', firstname='Faigy', ts=1538389718000, page='NextSong', level='paid', phase=1),\n",
       " Row(userId='39', firstname='Payton', ts=1538389718000, page='NextSong', level='free', phase=3),\n",
       " Row(userId='95', firstname='Faigy', ts=1538389719000, page='Thumbs Up', level='paid', phase=1),\n",
       " Row(userId='39', firstname='Payton', ts=1538389723000, page='Roll Advert', level='free', phase=3),\n",
       " Row(userId='146', firstname='Giovanni', ts=1538389748000, page='NextSong', level='free', phase=0),\n",
       " Row(userId='200014', firstname='Emmanuel', ts=1538389755000, page='NextSong', level='free', phase=0),\n",
       " Row(userId='15', firstname='Panav', ts=1538389840000, page='NextSong', level='paid', phase=0),\n",
       " Row(userId='131', firstname='Kael', ts=1538389860000, page='NextSong', level='free', phase=2),\n",
       " Row(userId='142', firstname='Grant', ts=1538389877000, page='NextSong', level='paid', phase=0),\n",
       " Row(userId='59', firstname='Jaleel', ts=1538389911000, page='NextSong', level='free', phase=1),\n",
       " Row(userId='131', firstname='Kael', ts=1538389930000, page='Upgrade', level='free', phase=2),\n",
       " Row(userId='131', firstname='Kael', ts=1538389931000, page='Submit Upgrade', level='free', phase=2),\n",
       " Row(userId='131', firstname='Kael', ts=1538389931000, page='Home', level='paid', phase=2),\n",
       " Row(userId='146', firstname='Giovanni', ts=1538389997000, page='NextSong', level='free', phase=0),\n",
       " Row(userId='131', firstname='Kael', ts=1538389997000, page='NextSong', level='paid', phase=2),\n",
       " Row(userId='200014', firstname='Emmanuel', ts=1538390001000, page='NextSong', level='free', phase=0),\n",
       " Row(userId='39', firstname='Payton', ts=1538390032000, page='NextSong', level='free', phase=3),\n",
       " Row(userId='39', firstname='Payton', ts=1538390033000, page='Logout', level='free', phase=3),\n",
       " Row(userId='300001', firstname='Antonina', ts=1538390082000, page='Home', level='free', phase=0),\n",
       " Row(userId='15', firstname='Panav', ts=1538390085000, page='NextSong', level='paid', phase=0),\n",
       " Row(userId='142', firstname='Grant', ts=1538390108000, page='NextSong', level='paid', phase=0),\n",
       " Row(userId='59', firstname='Jaleel', ts=1538390128000, page='NextSong', level='free', phase=1),\n",
       " Row(userId='39', firstname='Payton', ts=1538390177000, page='Home', level='free', phase=3),\n",
       " Row(userId='95', firstname='Faigy', ts=1538390178000, page='NextSong', level='paid', phase=1),\n",
       " Row(userId='200014', firstname='Emmanuel', ts=1538390220000, page='NextSong', level='free', phase=0),\n",
       " Row(userId='39', firstname='Payton', ts=1538390224000, page='NextSong', level='free', phase=3),\n",
       " Row(userId='300001', firstname='Antonina', ts=1538390239000, page='NextSong', level='free', phase=0),\n",
       " Row(userId='300001', firstname='Antonina', ts=1538390240000, page='Logout', level='free', phase=0),\n",
       " Row(userId='131', firstname='Kael', ts=1538390255000, page='NextSong', level='paid', phase=2),\n",
       " Row(userId='131', firstname='Kael', ts=1538390256000, page='Thumbs Up', level='paid', phase=2),\n",
       " Row(userId='142', firstname='Grant', ts=1538390304000, page='NextSong', level='paid', phase=0),\n",
       " Row(userId='59', firstname='Jaleel', ts=1538390313000, page='NextSong', level='free', phase=1),\n",
       " Row(userId='59', firstname='Jaleel', ts=1538390314000, page='Add Friend', level='free', phase=1),\n",
       " Row(userId='146', firstname='Giovanni', ts=1538390345000, page='NextSong', level='free', phase=0),\n",
       " Row(userId='146', firstname='Giovanni', ts=1538390372000, page='Roll Advert', level='free', phase=0),\n",
       " Row(userId='88', firstname='Zyonna', ts=1538390385000, page='NextSong', level='free', phase=0),\n",
       " Row(userId='88', firstname='Zyonna', ts=1538390386000, page='Logout', level='free', phase=0),\n",
       " Row(userId='15', firstname='Panav', ts=1538390392000, page='NextSong', level='paid', phase=0),\n",
       " Row(userId='95', firstname='Faigy', ts=1538390472000, page='NextSong', level='paid', phase=1),\n",
       " Row(userId='39', firstname='Payton', ts=1538390472000, page='NextSong', level='free', phase=3),\n",
       " Row(userId='200014', firstname='Emmanuel', ts=1538390494000, page='NextSong', level='free', phase=0),\n",
       " Row(userId='131', firstname='Kael', ts=1538390502000, page='NextSong', level='paid', phase=2),\n",
       " Row(userId='200014', firstname='Emmanuel', ts=1538390504000, page='Roll Advert', level='free', phase=0),\n",
       " Row(userId='300001', firstname='Antonina', ts=1538390515000, page='Home', level='free', phase=0),\n",
       " Row(userId='300001', firstname='Antonina', ts=1538390530000, page='NextSong', level='free', phase=0),\n",
       " Row(userId='142', firstname='Grant', ts=1538390554000, page='NextSong', level='paid', phase=0),\n",
       " Row(userId='59', firstname='Jaleel', ts=1538390568000, page='NextSong', level='free', phase=1),\n",
       " Row(userId='88', firstname='Zyonna', ts=1538390579000, page='Home', level='free', phase=0),\n",
       " Row(userId='95', firstname='Faigy', ts=1538390639000, page='NextSong', level='paid', phase=1),\n",
       " Row(userId='95', firstname='Faigy', ts=1538390640000, page='Thumbs Up', level='paid', phase=1),\n",
       " Row(userId='131', firstname='Kael', ts=1538390678000, page='NextSong', level='paid', phase=2),\n",
       " Row(userId='15', firstname='Panav', ts=1538390697000, page='NextSong', level='paid', phase=0),\n",
       " Row(userId='146', firstname='Giovanni', ts=1538390716000, page='NextSong', level='free', phase=0),\n",
       " Row(userId='146', firstname='Giovanni', ts=1538390717000, page='Logout', level='free', phase=0),\n",
       " Row(userId='200014', firstname='Emmanuel', ts=1538390732000, page='NextSong', level='free', phase=0),\n",
       " Row(userId='142', firstname='Grant', ts=1538390757000, page='NextSong', level='paid', phase=0),\n",
       " Row(userId='95', firstname='Faigy', ts=1538390843000, page='NextSong', level='paid', phase=1),\n",
       " Row(userId='200014', firstname='Emmanuel', ts=1538390859000, page='NextSong', level='free', phase=0),\n",
       " Row(userId='200014', firstname='Emmanuel', ts=1538390860000, page='Thumbs Down', level='free', phase=0),\n",
       " Row(userId='142', firstname='Grant', ts=1538390876000, page='NextSong', level='paid', phase=0),\n",
       " Row(userId='131', firstname='Kael', ts=1538390890000, page='NextSong', level='paid', phase=2),\n",
       " Row(userId='15', firstname='Panav', ts=1538390907000, page='NextSong', level='paid', phase=0),\n",
       " Row(userId='59', firstname='Jaleel', ts=1538390921000, page='NextSong', level='free', phase=1),\n",
       " Row(userId='146', firstname='Giovanni', ts=1538390969000, page='Home', level='free', phase=0),\n",
       " Row(userId='146', firstname='Giovanni', ts=1538390996000, page='NextSong', level='free', phase=0),\n",
       " Row(userId='15', firstname='Panav', ts=1538391094000, page='NextSong', level='paid', phase=0),\n",
       " Row(userId='131', firstname='Kael', ts=1538391102000, page='NextSong', level='paid', phase=2),\n",
       " Row(userId='95', firstname='Faigy', ts=1538391137000, page='NextSong', level='paid', phase=1),\n",
       " Row(userId='146', firstname='Giovanni', ts=1538391152000, page='NextSong', level='free', phase=0),\n",
       " Row(userId='300001', firstname='Antonina', ts=1538391185000, page='NextSong', level='free', phase=0),\n",
       " Row(userId='36', firstname='Carly', ts=1538391194000, page='Home', level='free', phase=0),\n",
       " Row(userId='142', firstname='Grant', ts=1538391198000, page='NextSong', level='paid', phase=0),\n",
       " Row(userId='142', firstname='Grant', ts=1538391199000, page='Thumbs Up', level='paid', phase=0),\n",
       " Row(userId='200014', firstname='Emmanuel', ts=1538391229000, page='NextSong', level='free', phase=0),\n",
       " Row(userId='200014', firstname='Emmanuel', ts=1538391230000, page='Logout', level='free', phase=0),\n",
       " Row(userId='200014', firstname='Emmanuel', ts=1538391254000, page='Home', level='free', phase=0),\n",
       " Row(userId='36', firstname='Carly', ts=1538391272000, page='NextSong', level='free', phase=0),\n",
       " Row(userId='36', firstname='Carly', ts=1538391273000, page='Thumbs Down', level='free', phase=0),\n",
       " Row(userId='131', firstname='Kael', ts=1538391301000, page='NextSong', level='paid', phase=2),\n",
       " Row(userId='146', firstname='Giovanni', ts=1538391319000, page='NextSong', level='free', phase=0),\n",
       " Row(userId='15', firstname='Panav', ts=1538391333000, page='NextSong', level='paid', phase=0),\n",
       " Row(userId='95', firstname='Faigy', ts=1538391350000, page='NextSong', level='paid', phase=1),\n",
       " Row(userId='59', firstname='Jaleel', ts=1538391392000, page='NextSong', level='free', phase=1),\n",
       " Row(userId='142', firstname='Grant', ts=1538391405000, page='NextSong', level='paid', phase=0),\n",
       " Row(userId='36', firstname='Carly', ts=1538391416000, page='NextSong', level='free', phase=0),\n",
       " Row(userId='300001', firstname='Antonina', ts=1538391435000, page='NextSong', level='free', phase=0),\n",
       " Row(userId='300001', firstname='Antonina', ts=1538391468000, page='Roll Advert', level='free', phase=0),\n",
       " Row(userId='15', firstname='Panav', ts=1538391482000, page='NextSong', level='paid', phase=0),\n",
       " Row(userId='15', firstname='Panav', ts=1538391482000, page='Home', level='paid', phase=0),\n",
       " Row(userId='200014', firstname='Emmanuel', ts=1538391521000, page='NextSong', level='free', phase=0),\n",
       " Row(userId='131', firstname='Kael', ts=1538391522000, page='NextSong', level='paid', phase=2),\n",
       " Row(userId='146', firstname='Giovanni', ts=1538391555000, page='NextSong', level='free', phase=0),\n",
       " Row(userId='146', firstname='Giovanni', ts=1538391556000, page='Thumbs Up', level='free', phase=0),\n",
       " Row(userId='95', firstname='Faigy', ts=1538391583000, page='NextSong', level='paid', phase=1),\n",
       " Row(userId='59', firstname='Jaleel', ts=1538391587000, page='NextSong', level='free', phase=1),\n",
       " Row(userId='200014', firstname='Emmanuel', ts=1538391596000, page='Roll Advert', level='free', phase=0),\n",
       " Row(userId='300001', firstname='Antonina', ts=1538391633000, page='NextSong', level='free', phase=0),\n",
       " Row(userId='142', firstname='Grant', ts=1538391640000, page='NextSong', level='paid', phase=0),\n",
       " Row(userId='36', firstname='Carly', ts=1538391640000, page='NextSong', level='free', phase=0),\n",
       " Row(userId='59', firstname='Jaleel', ts=1538391736000, page='NextSong', level='free', phase=1),\n",
       " Row(userId='131', firstname='Kael', ts=1538391794000, page='NextSong', level='paid', phase=2),\n",
       " Row(userId='142', firstname='Grant', ts=1538391798000, page='NextSong', level='paid', phase=0),\n",
       " Row(userId='142', firstname='Grant', ts=1538391799000, page='Logout', level='paid', phase=0),\n",
       " Row(userId='146', firstname='Giovanni', ts=1538391815000, page='NextSong', level='free', phase=0),\n",
       " Row(userId='15', firstname='Panav', ts=1538391850000, page='NextSong', level='paid', phase=0),\n",
       " Row(userId='36', firstname='Carly', ts=1538391864000, page='NextSong', level='free', phase=0),\n",
       " Row(userId='59', firstname='Jaleel', ts=1538391979000, page='NextSong', level='free', phase=1),\n",
       " Row(userId='142', firstname='Grant', ts=1538391986000, page='Home', level='paid', phase=0),\n",
       " Row(userId='142', firstname='Grant', ts=1538392015000, page='NextSong', level='paid', phase=0),\n",
       " Row(userId='146', firstname='Giovanni', ts=1538392064000, page='NextSong', level='free', phase=0),\n",
       " Row(userId='15', firstname='Panav', ts=1538392090000, page='NextSong', level='paid', phase=0),\n",
       " Row(userId='36', firstname='Carly', ts=1538392099000, page='NextSong', level='free', phase=0),\n",
       " Row(userId='131', firstname='Kael', ts=1538392164000, page='NextSong', level='paid', phase=2),\n",
       " Row(userId='59', firstname='Jaleel', ts=1538392194000, page='NextSong', level='free', phase=1),\n",
       " Row(userId='126', firstname='Daelin', ts=1538392196000, page='NextSong', level='free', phase=0),\n",
       " Row(userId='200014', firstname='Emmanuel', ts=1538392227000, page='NextSong', level='free', phase=0),\n",
       " Row(userId='300001', firstname='Antonina', ts=1538392243000, page='NextSong', level='free', phase=0),\n",
       " Row(userId='36', firstname='Carly', ts=1538392357000, page='NextSong', level='free', phase=0),\n",
       " Row(userId='146', firstname='Giovanni', ts=1538392370000, page='NextSong', level='free', phase=0),\n",
       " Row(userId='95', firstname='Faigy', ts=1538392375000, page='NextSong', level='paid', phase=1),\n",
       " Row(userId='146', firstname='Giovanni', ts=1538392400000, page='Roll Advert', level='free', phase=0),\n",
       " Row(userId='200019', firstname='Conley', ts=1538392417000, page='NextSong', level='free', phase=1),\n",
       " Row(userId='300001', firstname='Antonina', ts=1538392432000, page='NextSong', level='free', phase=0),\n",
       " Row(userId='200014', firstname='Emmanuel', ts=1538392439000, page='NextSong', level='free', phase=0),\n",
       " Row(userId='15', firstname='Panav', ts=1538392447000, page='NextSong', level='paid', phase=0),\n",
       " Row(userId='131', firstname='Kael', ts=1538392491000, page='NextSong', level='paid', phase=2),\n",
       " Row(userId='59', firstname='Jaleel', ts=1538392507000, page='NextSong', level='free', phase=1),\n",
       " Row(userId='126', firstname='Daelin', ts=1538392534000, page='NextSong', level='free', phase=0),\n",
       " Row(userId='126', firstname='Daelin', ts=1538392598000, page='Home', level='free', phase=0),\n",
       " Row(userId='95', firstname='Faigy', ts=1538392601000, page='NextSong', level='paid', phase=1),\n",
       " Row(userId='95', firstname='Faigy', ts=1538392612000, page='Downgrade', level='paid', phase=1),\n",
       " Row(userId='200019', firstname='Conley', ts=1538392640000, page='NextSong', level='free', phase=1),\n",
       " Row(userId='300001', firstname='Antonina', ts=1538392641000, page='NextSong', level='free', phase=0),\n",
       " Row(userId='300001', firstname='Antonina', ts=1538392642000, page='Thumbs Up', level='free', phase=0),\n",
       " Row(userId='142', firstname='Grant', ts=1538392657000, page='NextSong', level='paid', phase=0),\n",
       " Row(userId='36', firstname='Carly', ts=1538392659000, page='NextSong', level='free', phase=0),\n",
       " ...]"
      ]
     },
     "execution_count": 49,
     "metadata": {},
     "output_type": "execute_result"
    }
   ],
   "source": [
    "df_valid.select([\"userId\", \"firstname\", \"ts\", \"page\", \"level\", \"phase\"]).sort(\"ts\").collect()"
   ]
  },
  {
   "cell_type": "code",
   "execution_count": 50,
   "metadata": {},
   "outputs": [
    {
     "name": "stdout",
     "output_type": "stream",
     "text": [
      "+--------------------+\n",
      "|                page|\n",
      "+--------------------+\n",
      "|              Cancel|\n",
      "|    Submit Downgrade|\n",
      "|         Thumbs Down|\n",
      "|                Home|\n",
      "|           Downgrade|\n",
      "|         Roll Advert|\n",
      "|              Logout|\n",
      "|       Save Settings|\n",
      "|Cancellation Conf...|\n",
      "|               About|\n",
      "|            Settings|\n",
      "|     Add to Playlist|\n",
      "|          Add Friend|\n",
      "|            NextSong|\n",
      "|           Thumbs Up|\n",
      "|                Help|\n",
      "|             Upgrade|\n",
      "|               Error|\n",
      "|      Submit Upgrade|\n",
      "+--------------------+\n",
      "\n"
     ]
    }
   ],
   "source": [
    "df_valid.select(\"page\").dropDuplicates().show()"
   ]
  },
  {
   "cell_type": "markdown",
   "metadata": {},
   "source": [
    "#### Perhaps a blank user id represents users who have not signed up yet or who are signed out and are about to log in"
   ]
  },
  {
   "cell_type": "code",
   "execution_count": 51,
   "metadata": {},
   "outputs": [
    {
     "name": "stdout",
     "output_type": "stream",
     "text": [
      "+------+------+\n",
      "|gender| count|\n",
      "+------+------+\n",
      "|     F|154578|\n",
      "|     M|123576|\n",
      "+------+------+\n",
      "\n"
     ]
    }
   ],
   "source": [
    "# Evaluating #gender users in the data set?\n",
    "df_valid.groupby(\"gender\").count().show()"
   ]
  },
  {
   "cell_type": "code",
   "execution_count": 52,
   "metadata": {},
   "outputs": [],
   "source": [
    "# It seems like females use this service more than males"
   ]
  },
  {
   "cell_type": "markdown",
   "metadata": {},
   "source": [
    "#### Understand how many songs were played from the most played artist?"
   ]
  },
  {
   "cell_type": "code",
   "execution_count": 53,
   "metadata": {},
   "outputs": [
    {
     "name": "stdout",
     "output_type": "stream",
     "text": [
      "+--------------------+-----------+\n",
      "|              Artist|Artistcount|\n",
      "+--------------------+-----------+\n",
      "|       Kings Of Leon|       1841|\n",
      "|            Coldplay|       1813|\n",
      "|Florence + The Ma...|       1236|\n",
      "|       Dwight Yoakam|       1135|\n",
      "|            BjÃÂ¶rk|       1133|\n",
      "+--------------------+-----------+\n",
      "only showing top 5 rows\n",
      "\n"
     ]
    }
   ],
   "source": [
    "df_valid.filter(df.page == 'NextSong') \\\n",
    "    .select('Artist') \\\n",
    "    .groupBy('Artist') \\\n",
    "    .agg({'Artist':'count'}) \\\n",
    "    .withColumnRenamed('count(Artist)', 'Artistcount') \\\n",
    "    .sort(desc('Artistcount')) \\\n",
    "    .show(5)"
   ]
  },
  {
   "cell_type": "markdown",
   "metadata": {},
   "source": [
    "#### How many songs do users listen to on average between visiting our home page?"
   ]
  },
  {
   "cell_type": "code",
   "execution_count": 54,
   "metadata": {},
   "outputs": [
    {
     "name": "stdout",
     "output_type": "stream",
     "text": [
      "+------------------+\n",
      "|avg(count(period))|\n",
      "+------------------+\n",
      "| 23.60389072847682|\n",
      "+------------------+\n",
      "\n"
     ]
    }
   ],
   "source": [
    "\n",
    "\n",
    "function = udf(lambda ishome : int(ishome == 'Home'), IntegerType())\n",
    "\n",
    "user_window = Window \\\n",
    "    .partitionBy('userID') \\\n",
    "    .orderBy(desc('ts')) \\\n",
    "    .rangeBetween(Window.unboundedPreceding, 0)\n",
    "\n",
    "cusum = df_valid.filter((df.page == 'NextSong') | (df.page == 'Home')) \\\n",
    "    .select('userID', 'page', 'ts') \\\n",
    "    .withColumn('homevisit', function(col('page'))) \\\n",
    "    .withColumn('period', Fsum('homevisit').over(user_window))\n",
    "\n",
    "cusum.filter((cusum.page == 'NextSong')) \\\n",
    "    .groupBy('userID', 'period') \\\n",
    "    .agg({'period':'count'}) \\\n",
    "    .agg({'count(period)':'avg'}).show()"
   ]
  },
  {
   "cell_type": "markdown",
   "metadata": {},
   "source": [
    "# Feature Engineering\n",
    "Once you've familiarized yourself with the data, build out the features you find promising to train your model on. To work with the full dataset, you can follow the following steps.\n",
    "- Write a script to extract the necessary features from the smaller subset of data\n",
    "- Ensure that your script is scalable, using the best practices discussed in Lesson 3\n",
    "- Try your script on the full data set, debugging your script if necessary\n",
    "\n",
    "If you are working in the classroom workspace, you can just extract features based on the small subset of data contained here. Be sure to transfer over this work to the larger dataset when you work on your Spark cluster."
   ]
  },
  {
   "cell_type": "markdown",
   "metadata": {},
   "source": [
    "### We will build the following features:\n",
    " - Feature1: Number of days since registration\n",
    " - Feature2: Total length of listening\n",
    " - Feature3: Session Duration(3 Features: Min, Max and Avg)\n",
    " - Feature4: Number of songs per session\n",
    " - Feature5: Total number of sessions\n",
    " - Feature6: Gender(Male or Female)\n",
    " - Feature7: Distinct count of singers\n",
    " - Feature8: Churn\n",
    " - Feature9: Like (Thumbs up/down)\n",
    " - Feature10: Paid or Free user\n",
    " - Feature11: Number of songs added to Playlist\n",
    " - Feature12: Number of friends added"
   ]
  },
  {
   "cell_type": "markdown",
   "metadata": {},
   "source": [
    "**Feature1:Number of days since registration**"
   ]
  },
  {
   "cell_type": "code",
   "execution_count": 55,
   "metadata": {},
   "outputs": [],
   "source": [
    "user_max_ts = df_valid.groupby(\"userId\").max(\"ts\").sort(\"userId\")\n",
    "user_reg_ts = df_valid.select(\"userId\", \"registration\").dropDuplicates().sort(\"userId\")\n",
    "user_reg_days = user_reg_ts.join(user_max_ts, user_reg_ts.userId == user_max_ts.userId).select(user_reg_ts[\"userId\"], ((user_max_ts[\"max(ts)\"]-user_reg_ts[\"registration\"])/(1000*60*60*24)).alias(\"regDay\"))"
   ]
  },
  {
   "cell_type": "code",
   "execution_count": 56,
   "metadata": {},
   "outputs": [
    {
     "name": "stdout",
     "output_type": "stream",
     "text": [
      "+------+------------------+\n",
      "|userId|            regDay|\n",
      "+------+------------------+\n",
      "|100010| 55.64365740740741|\n",
      "|200002| 70.07462962962963|\n",
      "|   125| 71.31688657407408|\n",
      "|   124|131.55591435185184|\n",
      "|    51|19.455844907407407|\n",
      "+------+------------------+\n",
      "only showing top 5 rows\n",
      "\n"
     ]
    }
   ],
   "source": [
    "user_reg_days.show(5)"
   ]
  },
  {
   "cell_type": "markdown",
   "metadata": {},
   "source": [
    "**Feature2: Total length of listening**"
   ]
  },
  {
   "cell_type": "code",
   "execution_count": 57,
   "metadata": {},
   "outputs": [
    {
     "name": "stdout",
     "output_type": "stream",
     "text": [
      "+-------+------------------+------------------+\n",
      "|summary|            userID|       listen_time|\n",
      "+-------+------------------+------------------+\n",
      "|  count|               225|               225|\n",
      "|   mean|65391.013333333336|252558.32065155543|\n",
      "| stddev|105396.47791907164| 275396.4038847635|\n",
      "|    min|                10|         691.66884|\n",
      "|    max|                99|1991154.9155799907|\n",
      "+-------+------------------+------------------+\n",
      "\n"
     ]
    }
   ],
   "source": [
    "length_listening = df_valid \\\n",
    "    .select('userID','length') \\\n",
    "    .groupBy('userID') \\\n",
    "    .sum() \\\n",
    "    .withColumnRenamed('sum(length)', 'listen_time')\n",
    "\n",
    "length_listening.describe().show()"
   ]
  },
  {
   "cell_type": "markdown",
   "metadata": {},
   "source": [
    "**Feature3: Session Duration(3 Features: Min, Max and Avg)**"
   ]
  },
  {
   "cell_type": "code",
   "execution_count": 58,
   "metadata": {},
   "outputs": [
    {
     "name": "stdout",
     "output_type": "stream",
     "text": [
      "+----------+---------+---------+------+-------------+---------+---------+-----+--------------------+------+-----------+-------------+---------+-------------------+------+-------------+--------------------+------+-----+-------------------+-------------------+----------+-----+\n",
      "|    artist|     auth|firstName|gender|itemInSession| lastName|   length|level|            location|method|       page| registration|sessionId|               song|status|           ts|           userAgent|userId|churn|         event_time|  registration_time|downgraded|phase|\n",
      "+----------+---------+---------+------+-------------+---------+---------+-----+--------------------+------+-----------+-------------+---------+-------------------+------+-------------+--------------------+------+-----+-------------------+-------------------+----------+-----+\n",
      "|      null|Logged In| Darianna|     F|           34|Carpenter|     null| free|Bridgeport-Stamfo...|   PUT|     Logout|1538016340000|      187|               null|   307|1542823952000|\"Mozilla/5.0 (iPh...|100010|false|2018-11-21 18:12:32|2018-09-27 02:45:40|         0|    0|\n",
      "|Lily Allen|Logged In| Darianna|     F|           33|Carpenter|185.25995| free|Bridgeport-Stamfo...|   PUT|   NextSong|1538016340000|      187|                 22|   200|1542823951000|\"Mozilla/5.0 (iPh...|100010|false|2018-11-21 18:12:31|2018-09-27 02:45:40|         0|    0|\n",
      "|John Waite|Logged In| Darianna|     F|           32|Carpenter|269.76608| free|Bridgeport-Stamfo...|   PUT|   NextSong|1538016340000|      187|        Missing You|   200|1542823682000|\"Mozilla/5.0 (iPh...|100010|false|2018-11-21 18:08:02|2018-09-27 02:45:40|         0|    0|\n",
      "|   Hermano|Logged In| Darianna|     F|           31|Carpenter|115.90485| free|Bridgeport-Stamfo...|   PUT|   NextSong|1538016340000|      187|Letters From Madrid|   200|1542823567000|\"Mozilla/5.0 (iPh...|100010|false|2018-11-21 18:06:07|2018-09-27 02:45:40|         0|    0|\n",
      "|      null|Logged In| Darianna|     F|           30|Carpenter|     null| free|Bridgeport-Stamfo...|   GET|Roll Advert|1538016340000|      187|               null|   200|1542823257000|\"Mozilla/5.0 (iPh...|100010|false|2018-11-21 18:00:57|2018-09-27 02:45:40|         0|    0|\n",
      "+----------+---------+---------+------+-------------+---------+---------+-----+--------------------+------+-----------+-------------+---------+-------------------+------+-------------+--------------------+------+-----+-------------------+-------------------+----------+-----+\n",
      "only showing top 5 rows\n",
      "\n"
     ]
    }
   ],
   "source": [
    "df_valid.show(5)"
   ]
  },
  {
   "cell_type": "code",
   "execution_count": 59,
   "metadata": {},
   "outputs": [],
   "source": [
    "user_session_time = df_valid.groupby(\"userId\", \"sessionId\") \\\n",
    "                           .agg(((max(df_valid.event_time)-min(df_valid.event_time))/(1000*60)).alias(\"sessionTime\"))\n",
    "                           "
   ]
  },
  {
   "cell_type": "code",
   "execution_count": 60,
   "metadata": {},
   "outputs": [],
   "source": [
    "user_session_time_stat = user_session_time.groupby(\"userId\")\\\n",
    "                        .agg(avg(user_session_time.sessionTime).alias(\"avgSessionTime\"), min(user_session_time.sessionTime).alias(\"minSessionTime\"), max(user_session_time.sessionTime).alias(\"maxSessionTime\"))\\\n",
    "                        .sort(\"userId\")"
   ]
  },
  {
   "cell_type": "code",
   "execution_count": 61,
   "metadata": {},
   "outputs": [
    {
     "name": "stdout",
     "output_type": "stream",
     "text": [
      "+------+--------------+--------------+--------------+\n",
      "|userId|avgSessionTime|minSessionTime|maxSessionTime|\n",
      "+------+--------------+--------------+--------------+\n",
      "|    10|          null|          null|          null|\n",
      "|   100|          null|          null|          null|\n",
      "|100001|          null|          null|          null|\n",
      "|100002|          null|          null|          null|\n",
      "|100003|          null|          null|          null|\n",
      "+------+--------------+--------------+--------------+\n",
      "only showing top 5 rows\n",
      "\n"
     ]
    }
   ],
   "source": [
    "user_session_time_stat.show(5)"
   ]
  },
  {
   "cell_type": "markdown",
   "metadata": {},
   "source": [
    "**Feature4: Number of songs per session**"
   ]
  },
  {
   "cell_type": "code",
   "execution_count": 62,
   "metadata": {},
   "outputs": [],
   "source": [
    "user_session_songs = df_valid.filter(df_valid.page==\"NextSong\")\\\n",
    "                    .groupby(\"userId\", \"sessionId\")\\\n",
    "                    .count()"
   ]
  },
  {
   "cell_type": "code",
   "execution_count": 63,
   "metadata": {},
   "outputs": [],
   "source": [
    "user_session_songs_avg = user_session_songs.groupby(\"userId\")\\\n",
    "                        .agg(avg(user_session_songs[\"count\"]).alias(\"avgSessionSongs\"))\\\n",
    "                        .sort(\"userId\")"
   ]
  },
  {
   "cell_type": "code",
   "execution_count": 64,
   "metadata": {},
   "outputs": [
    {
     "name": "stdout",
     "output_type": "stream",
     "text": [
      "+------+------------------+\n",
      "|userId|   avgSessionSongs|\n",
      "+------+------------------+\n",
      "|    10|112.16666666666667|\n",
      "|   100| 78.88235294117646|\n",
      "|100001|             33.25|\n",
      "|100002|             48.75|\n",
      "|100003|              25.5|\n",
      "+------+------------------+\n",
      "only showing top 5 rows\n",
      "\n"
     ]
    }
   ],
   "source": [
    "user_session_songs_avg.show(5)"
   ]
  },
  {
   "cell_type": "markdown",
   "metadata": {},
   "source": [
    "**Feature5: Total number of sessions**"
   ]
  },
  {
   "cell_type": "code",
   "execution_count": 65,
   "metadata": {},
   "outputs": [],
   "source": [
    "user_session_count = df_valid.select(\"userId\", \"sessionId\")\\\n",
    "                    .dropDuplicates()\\\n",
    "                    .groupby(\"userId\")\\\n",
    "                    .count()\\\n",
    "                    .withColumnRenamed(\"count\", \"sessionCount\")"
   ]
  },
  {
   "cell_type": "code",
   "execution_count": 66,
   "metadata": {},
   "outputs": [
    {
     "name": "stdout",
     "output_type": "stream",
     "text": [
      "+------+------------+\n",
      "|userId|sessionCount|\n",
      "+------+------------+\n",
      "|100010|           7|\n",
      "|200002|           6|\n",
      "|   125|           1|\n",
      "|    51|          10|\n",
      "|   124|          29|\n",
      "+------+------------+\n",
      "only showing top 5 rows\n",
      "\n"
     ]
    }
   ],
   "source": [
    "user_session_count.show(5)"
   ]
  },
  {
   "cell_type": "markdown",
   "metadata": {},
   "source": [
    "**Feature6: Gender(Male or Female)**"
   ]
  },
  {
   "cell_type": "code",
   "execution_count": 67,
   "metadata": {},
   "outputs": [],
   "source": [
    "user_gender = df_valid.select(\"userId\", \"gender\")\\\n",
    "            .dropDuplicates()\\\n",
    "            .replace([\"M\", \"F\"], [\"0\", \"1\"], \"gender\")\\\n",
    "            .select(\"userId\", col(\"gender\").cast(\"int\"))"
   ]
  },
  {
   "cell_type": "code",
   "execution_count": 68,
   "metadata": {},
   "outputs": [
    {
     "name": "stdout",
     "output_type": "stream",
     "text": [
      "+-------+------------------+-------------------+\n",
      "|summary|            userId|             gender|\n",
      "+-------+------------------+-------------------+\n",
      "|  count|               225|                225|\n",
      "|   mean|65391.013333333336| 0.4622222222222222|\n",
      "| stddev|105396.47791907165|0.49968243883744773|\n",
      "|    min|                10|                  0|\n",
      "|    max|                99|                  1|\n",
      "+-------+------------------+-------------------+\n",
      "\n"
     ]
    }
   ],
   "source": [
    "temp = user_gender.describe().show()"
   ]
  },
  {
   "cell_type": "code",
   "execution_count": 69,
   "metadata": {},
   "outputs": [],
   "source": [
    "#This shows that both males and females are tagged"
   ]
  },
  {
   "cell_type": "markdown",
   "metadata": {},
   "source": [
    "**Feature7: Distinct count of singers**"
   ]
  },
  {
   "cell_type": "code",
   "execution_count": 70,
   "metadata": {},
   "outputs": [],
   "source": [
    "user_singers_count = df_valid \\\n",
    "                    .filter(df_valid.page==\"NextSong\") \\\n",
    "                    .select(\"userId\", \"artist\") \\\n",
    "                    .dropDuplicates() \\\n",
    "                    .groupby(\"userId\") \\\n",
    "                    .count() \\\n",
    "                    .withColumnRenamed(\"count\", \"artist_count\")\n"
   ]
  },
  {
   "cell_type": "code",
   "execution_count": 71,
   "metadata": {},
   "outputs": [
    {
     "name": "stdout",
     "output_type": "stream",
     "text": [
      "+-------+------------------+-----------------+\n",
      "|summary|            userId|     artist_count|\n",
      "+-------+------------------+-----------------+\n",
      "|  count|               225|              225|\n",
      "|   mean|65391.013333333336|696.3777777777777|\n",
      "| stddev|105396.47791907164|603.9518698630802|\n",
      "|    min|                10|                3|\n",
      "|    max|                99|             3544|\n",
      "+-------+------------------+-----------------+\n",
      "\n"
     ]
    }
   ],
   "source": [
    "user_singers_count.describe().show()"
   ]
  },
  {
   "cell_type": "markdown",
   "metadata": {},
   "source": [
    "**Feature8: Churn**"
   ]
  },
  {
   "cell_type": "code",
   "execution_count": 72,
   "metadata": {},
   "outputs": [],
   "source": [
    "user_churn_label = df_valid \\\n",
    "    .select('userId',col(\"churn\").alias(\"churn_label\")) \\\n",
    "    .dropDuplicates()"
   ]
  },
  {
   "cell_type": "code",
   "execution_count": 73,
   "metadata": {},
   "outputs": [
    {
     "name": "stdout",
     "output_type": "stream",
     "text": [
      "+------+-----------+\n",
      "|userId|churn_label|\n",
      "+------+-----------+\n",
      "|    19|      false|\n",
      "|100005|       true|\n",
      "|200007|      false|\n",
      "|300007|       true|\n",
      "|    50|      false|\n",
      "+------+-----------+\n",
      "only showing top 5 rows\n",
      "\n"
     ]
    }
   ],
   "source": [
    "user_churn_label.show(5)"
   ]
  },
  {
   "cell_type": "markdown",
   "metadata": {},
   "source": [
    "**Feature9: Like (Thumbs up/down)**"
   ]
  },
  {
   "cell_type": "code",
   "execution_count": 74,
   "metadata": {},
   "outputs": [
    {
     "name": "stdout",
     "output_type": "stream",
     "text": [
      "+-------+------------------+-----------------+\n",
      "|summary|            userID|     num_thumb_up|\n",
      "+-------+------------------+-----------------+\n",
      "|  count|               220|              220|\n",
      "|   mean| 66420.27727272727|            57.05|\n",
      "| stddev|106196.51156121881|65.67028650524044|\n",
      "|    min|                10|                1|\n",
      "|    max|                99|              437|\n",
      "+-------+------------------+-----------------+\n",
      "\n"
     ]
    }
   ],
   "source": [
    "user_thumbs_up = df_valid \\\n",
    "                .select('userID','page') \\\n",
    "                .where(df_valid.page == 'Thumbs Up') \\\n",
    "                .groupBy('userID') \\\n",
    "                .count() \\\n",
    "                .withColumnRenamed('count', 'num_thumb_up') \n",
    "\n",
    "user_thumbs_up.describe().show()\n"
   ]
  },
  {
   "cell_type": "code",
   "execution_count": 75,
   "metadata": {},
   "outputs": [
    {
     "name": "stdout",
     "output_type": "stream",
     "text": [
      "+-------+------------------+-----------------+\n",
      "|summary|            userID|     num_thumb_up|\n",
      "+-------+------------------+-----------------+\n",
      "|  count|               220|              220|\n",
      "|   mean| 66420.27727272727|            57.05|\n",
      "| stddev|106196.51156121881|65.67028650524044|\n",
      "|    min|                10|                1|\n",
      "|    max|                99|              437|\n",
      "+-------+------------------+-----------------+\n",
      "\n"
     ]
    }
   ],
   "source": [
    "user_thumbs_down = df_valid \\\n",
    "                   .select('userID','page') \\\n",
    "                   .where(df_valid.page == 'Thumbs Down') \\\n",
    "                   .groupBy('userID') \\\n",
    "                   .count() \\\n",
    "                   .withColumnRenamed('count', 'num_thumb_down')\n",
    "\n",
    "user_thumbs_up.describe().show()"
   ]
  },
  {
   "cell_type": "markdown",
   "metadata": {},
   "source": [
    "**Feature10: Paid or Free user**"
   ]
  },
  {
   "cell_type": "code",
   "execution_count": 76,
   "metadata": {},
   "outputs": [],
   "source": [
    "user_paid = df_valid.groupby(\"userId\", \"level\")\\\n",
    "            .agg(max(df_valid.ts).alias(\"finalTime\"))\\\n",
    "            .replace([\"free\", \"paid\"], [\"0\", \"1\"], \"level\")\\\n",
    "            .select(\"userId\",\"level\")\n"
   ]
  },
  {
   "cell_type": "code",
   "execution_count": 77,
   "metadata": {},
   "outputs": [
    {
     "name": "stdout",
     "output_type": "stream",
     "text": [
      "+------+-----+\n",
      "|userId|level|\n",
      "+------+-----+\n",
      "|100021|    0|\n",
      "|200021|    0|\n",
      "|200001|    0|\n",
      "|     6|    0|\n",
      "|300022|    1|\n",
      "+------+-----+\n",
      "only showing top 5 rows\n",
      "\n"
     ]
    }
   ],
   "source": [
    "user_paid.show(5)"
   ]
  },
  {
   "cell_type": "markdown",
   "metadata": {},
   "source": [
    "**Feature11: Number of songs added to Playlist**"
   ]
  },
  {
   "cell_type": "code",
   "execution_count": 78,
   "metadata": {},
   "outputs": [],
   "source": [
    "user_songs_playlist = df_valid \\\n",
    "                    .select('userID','page') \\\n",
    "                    .where(df_valid.page == 'Add to Playlist') \\\n",
    "                    .groupBy('userID') \\\n",
    "                    .count() \\\n",
    "                    .withColumnRenamed('count', 'add_to_playlist')\n"
   ]
  },
  {
   "cell_type": "code",
   "execution_count": 79,
   "metadata": {},
   "outputs": [
    {
     "name": "stdout",
     "output_type": "stream",
     "text": [
      "+-------+------------------+-----------------+\n",
      "|summary|            userID|  add_to_playlist|\n",
      "+-------+------------------+-----------------+\n",
      "|  count|               215|              215|\n",
      "|   mean| 66103.63720930232|30.35348837209302|\n",
      "| stddev|106360.47999565038| 32.8520568555997|\n",
      "|    min|                10|                1|\n",
      "|    max|                99|              240|\n",
      "+-------+------------------+-----------------+\n",
      "\n"
     ]
    }
   ],
   "source": [
    "user_songs_playlist.describe().show()"
   ]
  },
  {
   "cell_type": "markdown",
   "metadata": {},
   "source": [
    "**Feature12: Number of friends added**"
   ]
  },
  {
   "cell_type": "code",
   "execution_count": 80,
   "metadata": {},
   "outputs": [],
   "source": [
    "user_no_of_friends = df_valid \\\n",
    "                    .select('userID','page') \\\n",
    "                    .where(df_valid.page == 'Add Friend') \\\n",
    "                    .groupBy('userID') \\\n",
    "                    .count() \\\n",
    "                    .withColumnRenamed('count', 'add_friend') \n"
   ]
  },
  {
   "cell_type": "code",
   "execution_count": 81,
   "metadata": {},
   "outputs": [
    {
     "name": "stdout",
     "output_type": "stream",
     "text": [
      "+-------+------------------+------------------+\n",
      "|summary|            userID|        add_friend|\n",
      "+-------+------------------+------------------+\n",
      "|  count|               206|               206|\n",
      "|   mean| 66076.91262135922|20.762135922330096|\n",
      "| stddev|106860.60517425007|20.646779074405007|\n",
      "|    min|                10|                 1|\n",
      "|    max|                99|               143|\n",
      "+-------+------------------+------------------+\n",
      "\n"
     ]
    }
   ],
   "source": [
    "user_no_of_friends.describe().show()"
   ]
  },
  {
   "cell_type": "markdown",
   "metadata": {},
   "source": [
    "#### Merging all features"
   ]
  },
  {
   "cell_type": "code",
   "execution_count": 82,
   "metadata": {},
   "outputs": [
    {
     "data": {
      "text/plain": [
       "\"\\n\\ndf_model = user_reg_days.join(length_listening,'userID','outer')                         .drop('userID')                         .fillna(0)\\n\\ndf_model.show(5)\\n\\n\""
      ]
     },
     "execution_count": 82,
     "metadata": {},
     "output_type": "execute_result"
    }
   ],
   "source": [
    "\"\"\"\n",
    "\n",
    "df_model = user_reg_days.join(length_listening,'userID','outer') \\\n",
    "                        .drop('userID') \\\n",
    "                        .fillna(0)\n",
    "\n",
    "df_model.show(5)\n",
    "\n",
    "\"\"\"\n",
    "# This code works"
   ]
  },
  {
   "cell_type": "code",
   "execution_count": 89,
   "metadata": {},
   "outputs": [
    {
     "data": {
      "text/plain": [
       "\"\\n\\ndf_temp = user_reg_days.join(length_listening,'userID','outer')                        .join(user_session_time_stat,'userID','outer')                        .join(user_session_songs_avg,'userID','outer')                        .join(user_session_count,'userID','outer')                        .join(user_gender,'userID','outer')                        .join(user_singers_count,'userUD','outer')\\n                       .join(user_churn_label,'userID','outer')                        .join(user_thumbs_up,'userID','outer')                        .join(user_thumbs_down,'userID','outer')                        .join(user_paid,'userID','outer')                       .join(user_songs_playlist,'userID','outer')                       .join(user_no_of_friends, 'userID','outer')\\n                       \\n\\ndf_temp.show(5)\\n\""
      ]
     },
     "execution_count": 89,
     "metadata": {},
     "output_type": "execute_result"
    }
   ],
   "source": [
    "### Looks like there is an error when joinging multiple tables together, but, runs smoothly while doing it one by one\n",
    "\"\"\"\n",
    "\n",
    "df_temp = user_reg_days.join(length_listening,'userID','outer') \\\n",
    "                       .join(user_session_time_stat,'userID','outer') \\\n",
    "                       .join(user_session_songs_avg,'userID','outer') \\\n",
    "                       .join(user_session_count,'userID','outer') \\\n",
    "                       .join(user_gender,'userID','outer') \\\n",
    "                       .join(user_singers_count,'userUD','outer')\n",
    "                       .join(user_churn_label,'userID','outer') \\\n",
    "                       .join(user_thumbs_up,'userID','outer') \\\n",
    "                       .join(user_thumbs_down,'userID','outer') \\\n",
    "                       .join(user_paid,'userID','outer')\\\n",
    "                       .join(user_songs_playlist,'userID','outer')\\\n",
    "                       .join(user_no_of_friends, 'userID','outer')\n",
    "                       \n",
    "\n",
    "df_temp.show(5)\n",
    "\"\"\"\n"
   ]
  },
  {
   "cell_type": "code",
   "execution_count": 96,
   "metadata": {},
   "outputs": [],
   "source": [
    "# creating a list for features\n",
    "features_list = []\n",
    "features_list.append(user_reg_days)\n",
    "features_list.append(length_listening)\n",
    "features_list.append(user_session_time_stat)\n",
    "features_list.append(user_session_songs_avg)\n",
    "features_list.append(user_session_count)\n",
    "features_list.append(user_gender)\n",
    "features_list.append(user_singers_count)\n",
    "features_list.append(user_churn_label)\n",
    "features_list.append(user_thumbs_up)\n",
    "features_list.append(user_thumbs_down)\n",
    "features_list.append(user_paid)\n",
    "features_list.append(user_songs_playlist)\n",
    "features_list.append(user_no_of_friends)\n"
   ]
  },
  {
   "cell_type": "code",
   "execution_count": 98,
   "metadata": {},
   "outputs": [],
   "source": [
    "# defining a fuction for merging\n",
    "def merge(df1, df2):\n",
    "    df2 = df2.withColumnRenamed(\"userId\", \"userIdTemp\")\n",
    "    df = df1.join(df2, df1.userId == df2.userIdTemp, \"left\").drop(\"userIdTemp\")\n",
    "    return df"
   ]
  },
  {
   "cell_type": "code",
   "execution_count": 99,
   "metadata": {},
   "outputs": [],
   "source": [
    "# use function to merge the features in the list\n",
    "df_model = df_valid.select(\"userId\").dropDuplicates()\n",
    "\n",
    "for feature in features_list:\n",
    "    df_model = merge(df_model, feature)"
   ]
  },
  {
   "cell_type": "code",
   "execution_count": 100,
   "metadata": {},
   "outputs": [
    {
     "name": "stdout",
     "output_type": "stream",
     "text": [
      "+------+------------------+------------------+--------------+--------------+--------------+------------------+------------+------+------------+-----------+------------+--------------+-----+---------------+----------+\n",
      "|userId|            regDay|       listen_time|avgSessionTime|minSessionTime|maxSessionTime|   avgSessionSongs|sessionCount|gender|artist_count|churn_label|num_thumb_up|num_thumb_down|level|add_to_playlist|add_friend|\n",
      "+------+------------------+------------------+--------------+--------------+--------------+------------------+------------+------+------------+-----------+------------+--------------+-----+---------------+----------+\n",
      "|100010| 55.64365740740741| 66940.89735000003|          null|          null|          null|39.285714285714285|           7|     1|         252|      false|          17|             5|    0|              7|         4|\n",
      "|200002| 70.07462962962963| 94008.87593999993|          null|          null|          null|              64.5|           6|     0|         339|      false|          21|             6|    0|              8|         4|\n",
      "|200002| 70.07462962962963| 94008.87593999993|          null|          null|          null|              64.5|           6|     0|         339|      false|          21|             6|    1|              8|         4|\n",
      "|   125| 71.31688657407408|2089.1131000000005|          null|          null|          null|               8.0|           1|     0|           8|       true|        null|          null|    0|           null|      null|\n",
      "|   124|131.55591435185184|1012312.0927899999|          null|          null|          null|145.67857142857142|          29|     1|        2232|      false|         171|            41|    1|            118|        74|\n",
      "+------+------------------+------------------+--------------+--------------+--------------+------------------+------------+------+------------+-----------+------------+--------------+-----+---------------+----------+\n",
      "only showing top 5 rows\n",
      "\n"
     ]
    }
   ],
   "source": [
    "df_model.show(5)"
   ]
  },
  {
   "cell_type": "markdown",
   "metadata": {},
   "source": [
    "### Creating a CSV, so that the models can be run as a separate session"
   ]
  },
  {
   "cell_type": "code",
   "execution_count": 101,
   "metadata": {},
   "outputs": [],
   "source": [
    "# creating a path\n",
    "out_path = \"data/sparkify_model.csv\""
   ]
  },
  {
   "cell_type": "code",
   "execution_count": 102,
   "metadata": {},
   "outputs": [],
   "source": [
    "#saving the csv\n",
    "df_model.write.save(out_path, format=\"csv\", header=True)"
   ]
  },
  {
   "cell_type": "code",
   "execution_count": 103,
   "metadata": {},
   "outputs": [],
   "source": [
    "#validating the csv\n",
    "df_model_2 = spark.read.csv(out_path, header=True)"
   ]
  },
  {
   "cell_type": "code",
   "execution_count": 104,
   "metadata": {},
   "outputs": [
    {
     "name": "stdout",
     "output_type": "stream",
     "text": [
      "+------+------------------+------------------+--------------+--------------+--------------+-----------------+------------+------+------------+-----------+------------+--------------+-----+---------------+----------+\n",
      "|userId|            regDay|       listen_time|avgSessionTime|minSessionTime|maxSessionTime|  avgSessionSongs|sessionCount|gender|artist_count|churn_label|num_thumb_up|num_thumb_down|level|add_to_playlist|add_friend|\n",
      "+------+------------------+------------------+--------------+--------------+--------------+-----------------+------------+------+------------+-----------+------------+--------------+-----+---------------+----------+\n",
      "|   126| 62.09569444444445| 648839.6086000006|          null|          null|          null|88.86206896551724|          30|     0|        1643|      false|         135|            21|    1|             72|        33|\n",
      "|   126| 62.09569444444445| 648839.6086000006|          null|          null|          null|88.86206896551724|          30|     0|        1643|      false|         135|            21|    0|             72|        33|\n",
      "|   131|120.89991898148148|389584.29663999996|          null|          null|          null|             92.0|          19|     0|        1100|      false|          72|            20|    1|             51|        26|\n",
      "|   131|120.89991898148148|389584.29663999996|          null|          null|          null|             92.0|          19|     0|        1100|      false|          72|            20|    0|             51|        26|\n",
      "|   140| 80.60512731481481|1410075.4463299962|          null|          null|          null|84.53731343283582|          71|     1|        2819|      false|         277|            75|    0|            148|       143|\n",
      "+------+------------------+------------------+--------------+--------------+--------------+-----------------+------------+------+------------+-----------+------------+--------------+-----+---------------+----------+\n",
      "only showing top 5 rows\n",
      "\n"
     ]
    }
   ],
   "source": [
    "df_model_2.show(5)"
   ]
  },
  {
   "cell_type": "code",
   "execution_count": 107,
   "metadata": {},
   "outputs": [
    {
     "name": "stdout",
     "output_type": "stream",
     "text": [
      "+-------+------------------+-------------------+------------------+--------------+--------------+--------------+-----------------+------------------+-------------------+-----------------+-----------------+------------------+-------------------+------------------+-----------------+\n",
      "|summary|            userId|             regDay|       listen_time|avgSessionTime|minSessionTime|maxSessionTime|  avgSessionSongs|      sessionCount|             gender|     artist_count|     num_thumb_up|    num_thumb_down|              level|   add_to_playlist|       add_friend|\n",
      "+-------+------------------+-------------------+------------------+--------------+--------------+--------------+-----------------+------------------+-------------------+-----------------+-----------------+------------------+-------------------+------------------+-----------------+\n",
      "|  count|               360|                360|               360|             0|             0|             0|              360|               360|                360|              360|              355|               337|                360|               350|              340|\n",
      "|   mean| 64780.23888888889|  81.48606581147118| 287153.8101443053|          null|          null|          null|74.91947954710523|15.769444444444444| 0.4666666666666667|785.0083333333333| 64.4112676056338|13.735905044510385| 0.4583333333333333|34.011428571428574|22.83235294117647|\n",
      "| stddev|106080.85223362083| 37.754423508343244|284150.77074485697|          null|          null|          null|40.77729370715465|15.399043479400607|0.49958199797625813|606.5979173691137|67.91607389286726|13.536930917221348|0.49895433834658126| 33.73748114570038|21.28770776344808|\n",
      "|    min|                10|0.31372685185185184|         691.66884|          null|          null|          null|              3.0|                 1|                  0|                3|                1|                 1|                  0|                 1|                1|\n",
      "|    max|                99|  256.3776736111111|1991154.9155799907|          null|          null|          null|286.6666666666667|               107|                  1|             3544|              437|                75|                  1|               240|              143|\n",
      "+-------+------------------+-------------------+------------------+--------------+--------------+--------------+-----------------+------------------+-------------------+-----------------+-----------------+------------------+-------------------+------------------+-----------------+\n",
      "\n"
     ]
    }
   ],
   "source": [
    "df_model.describe().show()"
   ]
  },
  {
   "cell_type": "code",
   "execution_count": 108,
   "metadata": {},
   "outputs": [
    {
     "name": "stdout",
     "output_type": "stream",
     "text": [
      "+-------+-----------------+-------------------+------------------+--------------+--------------+--------------+------------------+------------------+-------------------+-----------------+-----------+-----------------+------------------+------------------+------------------+------------------+\n",
      "|summary|           userId|             regDay|       listen_time|avgSessionTime|minSessionTime|maxSessionTime|   avgSessionSongs|      sessionCount|             gender|     artist_count|churn_label|     num_thumb_up|    num_thumb_down|             level|   add_to_playlist|        add_friend|\n",
      "+-------+-----------------+-------------------+------------------+--------------+--------------+--------------+------------------+------------------+-------------------+-----------------+-----------+-----------------+------------------+------------------+------------------+------------------+\n",
      "|  count|              360|                360|               360|             0|             0|             0|               360|               360|                360|              360|        360|              355|               337|               360|               350|               340|\n",
      "|   mean|64780.23888888889|  81.48606581147115|287153.81014430535|          null|          null|          null| 74.91947954710525|15.769444444444444| 0.4666666666666667|785.0083333333333|       null| 64.4112676056338|13.735905044510385|0.4583333333333333|34.011428571428574| 22.83235294117647|\n",
      "| stddev|106080.8522336208| 37.754423508343244| 284150.7707448569|          null|          null|          null| 40.77729370715465|15.399043479400607|0.49958199797625796|606.5979173691136|       null|67.91607389286725| 13.53693091722135|0.4989543383465811| 33.73748114570037|21.287707763448083|\n",
      "|    min|               10|0.31372685185185184|1012312.0927899999|          null|          null|          null|100.38888888888889|                 1|                  0|             1001|      false|                1|                 1|                 0|                 1|                 1|\n",
      "|    max|               99|  99.22612268518519| 97796.86112999993|          null|          null|          null| 99.71428571428571|                 9|                  1|              982|       true|               98|                 9|                 1|                 9|                93|\n",
      "+-------+-----------------+-------------------+------------------+--------------+--------------+--------------+------------------+------------------+-------------------+-----------------+-----------+-----------------+------------------+------------------+------------------+------------------+\n",
      "\n"
     ]
    }
   ],
   "source": [
    "df_model_2.describe().show()"
   ]
  },
  {
   "cell_type": "code",
   "execution_count": 111,
   "metadata": {},
   "outputs": [
    {
     "name": "stdout",
     "output_type": "stream",
     "text": [
      "+-----------+-----+\n",
      "|churn_label|count|\n",
      "+-----------+-----+\n",
      "|       true|   82|\n",
      "|      false|  278|\n",
      "+-----------+-----+\n",
      "\n"
     ]
    }
   ],
   "source": [
    "df_model.groupby(\"churn_label\").count().show()"
   ]
  },
  {
   "cell_type": "code",
   "execution_count": 112,
   "metadata": {},
   "outputs": [
    {
     "name": "stdout",
     "output_type": "stream",
     "text": [
      "+-----------+-----+\n",
      "|churn_label|count|\n",
      "+-----------+-----+\n",
      "|      false|  278|\n",
      "|       true|   82|\n",
      "+-----------+-----+\n",
      "\n"
     ]
    }
   ],
   "source": [
    "df_model_2.groupby(\"churn_label\").count().show()"
   ]
  },
  {
   "cell_type": "code",
   "execution_count": null,
   "metadata": {},
   "outputs": [],
   "source": [
    "#The dataframes match !!"
   ]
  },
  {
   "cell_type": "markdown",
   "metadata": {},
   "source": [
    "# Modeling\n",
    "Split the full dataset into train, test, and validation sets. Test out several of the machine learning methods you learned. Evaluate the accuracy of the various models, tuning parameters as necessary. Determine your winning model based on test accuracy and report results on the validation set. Since the churned users are a fairly small subset, I suggest using F1 score as the metric to optimize."
   ]
  },
  {
   "cell_type": "code",
   "execution_count": 51,
   "metadata": {},
   "outputs": [],
   "source": [
    "# reading the csv\n",
    "out_path = \"data/sparkify_model.csv\"\n",
    "data = spark.read.csv(out_path, header=True)"
   ]
  },
  {
   "cell_type": "code",
   "execution_count": 52,
   "metadata": {},
   "outputs": [
    {
     "data": {
      "text/plain": [
       "Row(userId='126', regDay='62.09569444444445', listen_time='648839.6086000006', avgSessionTime=None, minSessionTime=None, maxSessionTime=None, avgSessionSongs='88.86206896551724', sessionCount='30', gender='0', artist_count='1643', churn_label='false', num_thumb_up='135', num_thumb_down='21', level='1', add_to_playlist='72', add_friend='33')"
      ]
     },
     "execution_count": 52,
     "metadata": {},
     "output_type": "execute_result"
    }
   ],
   "source": [
    "data.head()"
   ]
  },
  {
   "cell_type": "code",
   "execution_count": 53,
   "metadata": {},
   "outputs": [],
   "source": [
    "#importing necessary ML packages\n",
    "from pyspark.ml import Pipeline\n",
    "from pyspark.ml.classification import LogisticRegression, RandomForestClassifier, GBTClassifier, DecisionTreeClassifier, NaiveBayes\n",
    "from pyspark.ml.evaluation import MulticlassClassificationEvaluator\n",
    "from pyspark.ml.feature import CountVectorizer, IDF, Normalizer, PCA, RegexTokenizer, StandardScaler, StopWordsRemover, StringIndexer, VectorAssembler\n",
    "from pyspark.ml.regression import LinearRegression\n",
    "from pyspark.ml.tuning import CrossValidator, ParamGridBuilder"
   ]
  },
  {
   "cell_type": "code",
   "execution_count": 54,
   "metadata": {},
   "outputs": [
    {
     "data": {
      "text/plain": [
       "'\\n\\ncols = [\"regDay\", \"listen_time\", \"avgSessionTime\", \"minSessionTime\", \"maxSessionTime\", \"avgSessionSongs\",        \"sessionCount\",\"gender\",\"artist_count\",\"churn_label\",\"num_thumb_up\",\"num_thumb_down\",        \"level\",\"add_to_playlist\",\"add_friend\"]\\n\\nassembler = VectorAssembler(inputCols=cols, outputCol=\"NumFeatures\")\\ndata = assembler.transform(df_final)\\n\\n'"
      ]
     },
     "execution_count": 54,
     "metadata": {},
     "output_type": "execute_result"
    }
   ],
   "source": [
    "#Vectorinzing\n",
    "\"\"\"\n",
    "\n",
    "cols = [\"regDay\", \"listen_time\", \"avgSessionTime\", \"minSessionTime\", \"maxSessionTime\", \"avgSessionSongs\",\\\n",
    "        \"sessionCount\",\"gender\",\"artist_count\",\"churn_label\",\"num_thumb_up\",\"num_thumb_down\",\\\n",
    "        \"level\",\"add_to_playlist\",\"add_friend\"]\n",
    "\n",
    "assembler = VectorAssembler(inputCols=cols, outputCol=\"NumFeatures\")\n",
    "data = assembler.transform(df_final)\n",
    "\n",
    "\"\"\"\n",
    "# everything is being read as strings. We will need to convert them to numeric first"
   ]
  },
  {
   "cell_type": "code",
   "execution_count": 55,
   "metadata": {},
   "outputs": [],
   "source": [
    "#Converting all feature columns to numeric\n",
    "cols = data.columns[1:]\n",
    "for c in cols:\n",
    "    c_name = c + \"Num\"\n",
    "    data = data.withColumn(c_name, data[c].cast(\"float\"))\n",
    "    data = data.drop(c)"
   ]
  },
  {
   "cell_type": "code",
   "execution_count": 56,
   "metadata": {},
   "outputs": [
    {
     "ename": "IllegalArgumentException",
     "evalue": "'Field \"regDay\" does not exist.\\nAvailable fields: userId, regDayNum, listen_timeNum, avgSessionTimeNum, minSessionTimeNum, maxSessionTimeNum, avgSessionSongsNum, sessionCountNum, genderNum, artist_countNum, churn_labelNum, num_thumb_upNum, num_thumb_downNum, levelNum, add_to_playlistNum, add_friendNum'",
     "output_type": "error",
     "traceback": [
      "\u001b[0;31m---------------------------------------------------------------------------\u001b[0m",
      "\u001b[0;31mPy4JJavaError\u001b[0m                             Traceback (most recent call last)",
      "\u001b[0;32m/opt/spark-2.4.3-bin-hadoop2.7/python/pyspark/sql/utils.py\u001b[0m in \u001b[0;36mdeco\u001b[0;34m(*a, **kw)\u001b[0m\n\u001b[1;32m     62\u001b[0m         \u001b[0;32mtry\u001b[0m\u001b[0;34m:\u001b[0m\u001b[0;34m\u001b[0m\u001b[0m\n\u001b[0;32m---> 63\u001b[0;31m             \u001b[0;32mreturn\u001b[0m \u001b[0mf\u001b[0m\u001b[0;34m(\u001b[0m\u001b[0;34m*\u001b[0m\u001b[0ma\u001b[0m\u001b[0;34m,\u001b[0m \u001b[0;34m**\u001b[0m\u001b[0mkw\u001b[0m\u001b[0;34m)\u001b[0m\u001b[0;34m\u001b[0m\u001b[0m\n\u001b[0m\u001b[1;32m     64\u001b[0m         \u001b[0;32mexcept\u001b[0m \u001b[0mpy4j\u001b[0m\u001b[0;34m.\u001b[0m\u001b[0mprotocol\u001b[0m\u001b[0;34m.\u001b[0m\u001b[0mPy4JJavaError\u001b[0m \u001b[0;32mas\u001b[0m \u001b[0me\u001b[0m\u001b[0;34m:\u001b[0m\u001b[0;34m\u001b[0m\u001b[0m\n",
      "\u001b[0;32m/opt/spark-2.4.3-bin-hadoop2.7/python/lib/py4j-0.10.7-src.zip/py4j/protocol.py\u001b[0m in \u001b[0;36mget_return_value\u001b[0;34m(answer, gateway_client, target_id, name)\u001b[0m\n\u001b[1;32m    327\u001b[0m                     \u001b[0;34m\"An error occurred while calling {0}{1}{2}.\\n\"\u001b[0m\u001b[0;34m.\u001b[0m\u001b[0;34m\u001b[0m\u001b[0m\n\u001b[0;32m--> 328\u001b[0;31m                     format(target_id, \".\", name), value)\n\u001b[0m\u001b[1;32m    329\u001b[0m             \u001b[0;32melse\u001b[0m\u001b[0;34m:\u001b[0m\u001b[0;34m\u001b[0m\u001b[0m\n",
      "\u001b[0;31mPy4JJavaError\u001b[0m: An error occurred while calling o1372.transform.\n: java.lang.IllegalArgumentException: Field \"regDay\" does not exist.\nAvailable fields: userId, regDayNum, listen_timeNum, avgSessionTimeNum, minSessionTimeNum, maxSessionTimeNum, avgSessionSongsNum, sessionCountNum, genderNum, artist_countNum, churn_labelNum, num_thumb_upNum, num_thumb_downNum, levelNum, add_to_playlistNum, add_friendNum\n\tat org.apache.spark.sql.types.StructType$$anonfun$apply$1.apply(StructType.scala:274)\n\tat org.apache.spark.sql.types.StructType$$anonfun$apply$1.apply(StructType.scala:274)\n\tat scala.collection.MapLike$class.getOrElse(MapLike.scala:128)\n\tat scala.collection.AbstractMap.getOrElse(Map.scala:59)\n\tat org.apache.spark.sql.types.StructType.apply(StructType.scala:273)\n\tat org.apache.spark.ml.feature.VectorAssembler$$anonfun$6.apply(VectorAssembler.scala:162)\n\tat org.apache.spark.ml.feature.VectorAssembler$$anonfun$6.apply(VectorAssembler.scala:161)\n\tat scala.collection.TraversableLike$$anonfun$flatMap$1.apply(TraversableLike.scala:241)\n\tat scala.collection.TraversableLike$$anonfun$flatMap$1.apply(TraversableLike.scala:241)\n\tat scala.collection.IndexedSeqOptimized$class.foreach(IndexedSeqOptimized.scala:33)\n\tat scala.collection.mutable.ArrayOps$ofRef.foreach(ArrayOps.scala:186)\n\tat scala.collection.TraversableLike$class.flatMap(TraversableLike.scala:241)\n\tat scala.collection.mutable.ArrayOps$ofRef.flatMap(ArrayOps.scala:186)\n\tat org.apache.spark.ml.feature.VectorAssembler.transformSchema(VectorAssembler.scala:161)\n\tat org.apache.spark.ml.PipelineStage.transformSchema(Pipeline.scala:74)\n\tat org.apache.spark.ml.feature.VectorAssembler.transform(VectorAssembler.scala:86)\n\tat sun.reflect.NativeMethodAccessorImpl.invoke0(Native Method)\n\tat sun.reflect.NativeMethodAccessorImpl.invoke(NativeMethodAccessorImpl.java:62)\n\tat sun.reflect.DelegatingMethodAccessorImpl.invoke(DelegatingMethodAccessorImpl.java:43)\n\tat java.lang.reflect.Method.invoke(Method.java:498)\n\tat py4j.reflection.MethodInvoker.invoke(MethodInvoker.java:244)\n\tat py4j.reflection.ReflectionEngine.invoke(ReflectionEngine.java:357)\n\tat py4j.Gateway.invoke(Gateway.java:282)\n\tat py4j.commands.AbstractCommand.invokeMethod(AbstractCommand.java:132)\n\tat py4j.commands.CallCommand.execute(CallCommand.java:79)\n\tat py4j.GatewayConnection.run(GatewayConnection.java:238)\n\tat java.lang.Thread.run(Thread.java:748)\n",
      "\nDuring handling of the above exception, another exception occurred:\n",
      "\u001b[0;31mIllegalArgumentException\u001b[0m                  Traceback (most recent call last)",
      "\u001b[0;32m<ipython-input-56-06038a25afc1>\u001b[0m in \u001b[0;36m<module>\u001b[0;34m()\u001b[0m\n\u001b[1;32m      2\u001b[0m \u001b[0mcols_vector\u001b[0m \u001b[0;34m=\u001b[0m \u001b[0;34m[\u001b[0m\u001b[0;34m\"regDay\"\u001b[0m\u001b[0;34m,\u001b[0m \u001b[0;34m\"listen_time\"\u001b[0m\u001b[0;34m,\u001b[0m \u001b[0;34m\"avgSessionTime\"\u001b[0m\u001b[0;34m,\u001b[0m \u001b[0;34m\"minSessionTime\"\u001b[0m\u001b[0;34m,\u001b[0m \u001b[0;34m\"maxSessionTime\"\u001b[0m\u001b[0;34m,\u001b[0m \u001b[0;34m\"avgSessionSongs\"\u001b[0m\u001b[0;34m,\u001b[0m                \u001b[0;34m\"sessionCount\"\u001b[0m\u001b[0;34m,\u001b[0m\u001b[0;34m\"gender\"\u001b[0m\u001b[0;34m,\u001b[0m\u001b[0;34m\"artist_count\"\u001b[0m\u001b[0;34m,\u001b[0m\u001b[0;34m\"churn_label\"\u001b[0m\u001b[0;34m,\u001b[0m\u001b[0;34m\"num_thumb_up\"\u001b[0m\u001b[0;34m,\u001b[0m\u001b[0;34m\"num_thumb_down\"\u001b[0m\u001b[0;34m,\u001b[0m                \u001b[0;34m\"level\"\u001b[0m\u001b[0;34m,\u001b[0m\u001b[0;34m\"add_to_playlist\"\u001b[0m\u001b[0;34m,\u001b[0m\u001b[0;34m\"add_friend\"\u001b[0m\u001b[0;34m]\u001b[0m\u001b[0;34m\u001b[0m\u001b[0m\n\u001b[1;32m      3\u001b[0m \u001b[0massembler\u001b[0m \u001b[0;34m=\u001b[0m \u001b[0mVectorAssembler\u001b[0m\u001b[0;34m(\u001b[0m\u001b[0minputCols\u001b[0m\u001b[0;34m=\u001b[0m\u001b[0mcols_vector\u001b[0m\u001b[0;34m,\u001b[0m \u001b[0moutputCol\u001b[0m\u001b[0;34m=\u001b[0m\u001b[0;34m\"NumFeatures\"\u001b[0m\u001b[0;34m)\u001b[0m\u001b[0;34m\u001b[0m\u001b[0m\n\u001b[0;32m----> 4\u001b[0;31m \u001b[0mdata\u001b[0m \u001b[0;34m=\u001b[0m \u001b[0massembler\u001b[0m\u001b[0;34m.\u001b[0m\u001b[0mtransform\u001b[0m\u001b[0;34m(\u001b[0m\u001b[0mdata\u001b[0m\u001b[0;34m)\u001b[0m\u001b[0;34m\u001b[0m\u001b[0m\n\u001b[0m",
      "\u001b[0;32m/opt/spark-2.4.3-bin-hadoop2.7/python/pyspark/ml/base.py\u001b[0m in \u001b[0;36mtransform\u001b[0;34m(self, dataset, params)\u001b[0m\n\u001b[1;32m    171\u001b[0m                 \u001b[0;32mreturn\u001b[0m \u001b[0mself\u001b[0m\u001b[0;34m.\u001b[0m\u001b[0mcopy\u001b[0m\u001b[0;34m(\u001b[0m\u001b[0mparams\u001b[0m\u001b[0;34m)\u001b[0m\u001b[0;34m.\u001b[0m\u001b[0m_transform\u001b[0m\u001b[0;34m(\u001b[0m\u001b[0mdataset\u001b[0m\u001b[0;34m)\u001b[0m\u001b[0;34m\u001b[0m\u001b[0m\n\u001b[1;32m    172\u001b[0m             \u001b[0;32melse\u001b[0m\u001b[0;34m:\u001b[0m\u001b[0;34m\u001b[0m\u001b[0m\n\u001b[0;32m--> 173\u001b[0;31m                 \u001b[0;32mreturn\u001b[0m \u001b[0mself\u001b[0m\u001b[0;34m.\u001b[0m\u001b[0m_transform\u001b[0m\u001b[0;34m(\u001b[0m\u001b[0mdataset\u001b[0m\u001b[0;34m)\u001b[0m\u001b[0;34m\u001b[0m\u001b[0m\n\u001b[0m\u001b[1;32m    174\u001b[0m         \u001b[0;32melse\u001b[0m\u001b[0;34m:\u001b[0m\u001b[0;34m\u001b[0m\u001b[0m\n\u001b[1;32m    175\u001b[0m             \u001b[0;32mraise\u001b[0m \u001b[0mValueError\u001b[0m\u001b[0;34m(\u001b[0m\u001b[0;34m\"Params must be a param map but got %s.\"\u001b[0m \u001b[0;34m%\u001b[0m \u001b[0mtype\u001b[0m\u001b[0;34m(\u001b[0m\u001b[0mparams\u001b[0m\u001b[0;34m)\u001b[0m\u001b[0;34m)\u001b[0m\u001b[0;34m\u001b[0m\u001b[0m\n",
      "\u001b[0;32m/opt/spark-2.4.3-bin-hadoop2.7/python/pyspark/ml/wrapper.py\u001b[0m in \u001b[0;36m_transform\u001b[0;34m(self, dataset)\u001b[0m\n\u001b[1;32m    310\u001b[0m     \u001b[0;32mdef\u001b[0m \u001b[0m_transform\u001b[0m\u001b[0;34m(\u001b[0m\u001b[0mself\u001b[0m\u001b[0;34m,\u001b[0m \u001b[0mdataset\u001b[0m\u001b[0;34m)\u001b[0m\u001b[0;34m:\u001b[0m\u001b[0;34m\u001b[0m\u001b[0m\n\u001b[1;32m    311\u001b[0m         \u001b[0mself\u001b[0m\u001b[0;34m.\u001b[0m\u001b[0m_transfer_params_to_java\u001b[0m\u001b[0;34m(\u001b[0m\u001b[0;34m)\u001b[0m\u001b[0;34m\u001b[0m\u001b[0m\n\u001b[0;32m--> 312\u001b[0;31m         \u001b[0;32mreturn\u001b[0m \u001b[0mDataFrame\u001b[0m\u001b[0;34m(\u001b[0m\u001b[0mself\u001b[0m\u001b[0;34m.\u001b[0m\u001b[0m_java_obj\u001b[0m\u001b[0;34m.\u001b[0m\u001b[0mtransform\u001b[0m\u001b[0;34m(\u001b[0m\u001b[0mdataset\u001b[0m\u001b[0;34m.\u001b[0m\u001b[0m_jdf\u001b[0m\u001b[0;34m)\u001b[0m\u001b[0;34m,\u001b[0m \u001b[0mdataset\u001b[0m\u001b[0;34m.\u001b[0m\u001b[0msql_ctx\u001b[0m\u001b[0;34m)\u001b[0m\u001b[0;34m\u001b[0m\u001b[0m\n\u001b[0m\u001b[1;32m    313\u001b[0m \u001b[0;34m\u001b[0m\u001b[0m\n\u001b[1;32m    314\u001b[0m \u001b[0;34m\u001b[0m\u001b[0m\n",
      "\u001b[0;32m/opt/spark-2.4.3-bin-hadoop2.7/python/lib/py4j-0.10.7-src.zip/py4j/java_gateway.py\u001b[0m in \u001b[0;36m__call__\u001b[0;34m(self, *args)\u001b[0m\n\u001b[1;32m   1255\u001b[0m         \u001b[0manswer\u001b[0m \u001b[0;34m=\u001b[0m \u001b[0mself\u001b[0m\u001b[0;34m.\u001b[0m\u001b[0mgateway_client\u001b[0m\u001b[0;34m.\u001b[0m\u001b[0msend_command\u001b[0m\u001b[0;34m(\u001b[0m\u001b[0mcommand\u001b[0m\u001b[0;34m)\u001b[0m\u001b[0;34m\u001b[0m\u001b[0m\n\u001b[1;32m   1256\u001b[0m         return_value = get_return_value(\n\u001b[0;32m-> 1257\u001b[0;31m             answer, self.gateway_client, self.target_id, self.name)\n\u001b[0m\u001b[1;32m   1258\u001b[0m \u001b[0;34m\u001b[0m\u001b[0m\n\u001b[1;32m   1259\u001b[0m         \u001b[0;32mfor\u001b[0m \u001b[0mtemp_arg\u001b[0m \u001b[0;32min\u001b[0m \u001b[0mtemp_args\u001b[0m\u001b[0;34m:\u001b[0m\u001b[0;34m\u001b[0m\u001b[0m\n",
      "\u001b[0;32m/opt/spark-2.4.3-bin-hadoop2.7/python/pyspark/sql/utils.py\u001b[0m in \u001b[0;36mdeco\u001b[0;34m(*a, **kw)\u001b[0m\n\u001b[1;32m     77\u001b[0m                 \u001b[0;32mraise\u001b[0m \u001b[0mQueryExecutionException\u001b[0m\u001b[0;34m(\u001b[0m\u001b[0ms\u001b[0m\u001b[0;34m.\u001b[0m\u001b[0msplit\u001b[0m\u001b[0;34m(\u001b[0m\u001b[0;34m': '\u001b[0m\u001b[0;34m,\u001b[0m \u001b[0;36m1\u001b[0m\u001b[0;34m)\u001b[0m\u001b[0;34m[\u001b[0m\u001b[0;36m1\u001b[0m\u001b[0;34m]\u001b[0m\u001b[0;34m,\u001b[0m \u001b[0mstackTrace\u001b[0m\u001b[0;34m)\u001b[0m\u001b[0;34m\u001b[0m\u001b[0m\n\u001b[1;32m     78\u001b[0m             \u001b[0;32mif\u001b[0m \u001b[0ms\u001b[0m\u001b[0;34m.\u001b[0m\u001b[0mstartswith\u001b[0m\u001b[0;34m(\u001b[0m\u001b[0;34m'java.lang.IllegalArgumentException: '\u001b[0m\u001b[0;34m)\u001b[0m\u001b[0;34m:\u001b[0m\u001b[0;34m\u001b[0m\u001b[0m\n\u001b[0;32m---> 79\u001b[0;31m                 \u001b[0;32mraise\u001b[0m \u001b[0mIllegalArgumentException\u001b[0m\u001b[0;34m(\u001b[0m\u001b[0ms\u001b[0m\u001b[0;34m.\u001b[0m\u001b[0msplit\u001b[0m\u001b[0;34m(\u001b[0m\u001b[0;34m': '\u001b[0m\u001b[0;34m,\u001b[0m \u001b[0;36m1\u001b[0m\u001b[0;34m)\u001b[0m\u001b[0;34m[\u001b[0m\u001b[0;36m1\u001b[0m\u001b[0;34m]\u001b[0m\u001b[0;34m,\u001b[0m \u001b[0mstackTrace\u001b[0m\u001b[0;34m)\u001b[0m\u001b[0;34m\u001b[0m\u001b[0m\n\u001b[0m\u001b[1;32m     80\u001b[0m             \u001b[0;32mraise\u001b[0m\u001b[0;34m\u001b[0m\u001b[0m\n\u001b[1;32m     81\u001b[0m     \u001b[0;32mreturn\u001b[0m \u001b[0mdeco\u001b[0m\u001b[0;34m\u001b[0m\u001b[0m\n",
      "\u001b[0;31mIllegalArgumentException\u001b[0m: 'Field \"regDay\" does not exist.\\nAvailable fields: userId, regDayNum, listen_timeNum, avgSessionTimeNum, minSessionTimeNum, maxSessionTimeNum, avgSessionSongsNum, sessionCountNum, genderNum, artist_countNum, churn_labelNum, num_thumb_upNum, num_thumb_downNum, levelNum, add_to_playlistNum, add_friendNum'"
     ]
    }
   ],
   "source": [
    "# Now we can vectorize it\n",
    "cols_vector = [\"regDay\", \"listen_time\", \"avgSessionTime\", \"minSessionTime\", \"maxSessionTime\", \"avgSessionSongs\",\\\n",
    "                \"sessionCount\",\"gender\",\"artist_count\",\"churn_label\",\"num_thumb_up\",\"num_thumb_down\",\\\n",
    "                \"level\",\"add_to_playlist\",\"add_friend\"]\n",
    "assembler = VectorAssembler(inputCols=cols_vector, outputCol=\"NumFeatures\")\n",
    "data = assembler.transform(data)"
   ]
  },
  {
   "cell_type": "code",
   "execution_count": null,
   "metadata": {},
   "outputs": [],
   "source": [
    "# Scaling the vectors\n",
    "scaler = StandardScaler(inputCol=\"NumFeatures\", outputCol=\"features\", withStd=True)\n",
    "scalerModel = scaler.fit(data)\n",
    "data = scalerModel.transform(data)"
   ]
  },
  {
   "cell_type": "code",
   "execution_count": null,
   "metadata": {},
   "outputs": [],
   "source": []
  },
  {
   "cell_type": "code",
   "execution_count": null,
   "metadata": {},
   "outputs": [],
   "source": []
  },
  {
   "cell_type": "code",
   "execution_count": null,
   "metadata": {},
   "outputs": [],
   "source": []
  },
  {
   "cell_type": "code",
   "execution_count": null,
   "metadata": {},
   "outputs": [],
   "source": []
  },
  {
   "cell_type": "code",
   "execution_count": null,
   "metadata": {},
   "outputs": [],
   "source": []
  },
  {
   "cell_type": "code",
   "execution_count": null,
   "metadata": {},
   "outputs": [],
   "source": []
  },
  {
   "cell_type": "code",
   "execution_count": null,
   "metadata": {},
   "outputs": [],
   "source": []
  },
  {
   "cell_type": "code",
   "execution_count": null,
   "metadata": {},
   "outputs": [],
   "source": []
  },
  {
   "cell_type": "code",
   "execution_count": null,
   "metadata": {},
   "outputs": [],
   "source": []
  },
  {
   "cell_type": "code",
   "execution_count": null,
   "metadata": {},
   "outputs": [],
   "source": []
  },
  {
   "cell_type": "code",
   "execution_count": null,
   "metadata": {},
   "outputs": [],
   "source": []
  },
  {
   "cell_type": "code",
   "execution_count": null,
   "metadata": {},
   "outputs": [],
   "source": []
  },
  {
   "cell_type": "code",
   "execution_count": null,
   "metadata": {},
   "outputs": [],
   "source": []
  },
  {
   "cell_type": "code",
   "execution_count": null,
   "metadata": {},
   "outputs": [],
   "source": []
  },
  {
   "cell_type": "code",
   "execution_count": null,
   "metadata": {},
   "outputs": [],
   "source": []
  },
  {
   "cell_type": "code",
   "execution_count": null,
   "metadata": {},
   "outputs": [],
   "source": []
  },
  {
   "cell_type": "code",
   "execution_count": null,
   "metadata": {},
   "outputs": [],
   "source": []
  },
  {
   "cell_type": "markdown",
   "metadata": {},
   "source": [
    "# Final Steps\n",
    "Clean up your code, adding comments and renaming variables to make the code easier to read and maintain. Refer to the Spark Project Overview page and Data Scientist Capstone Project Rubric to make sure you are including all components of the capstone project and meet all expectations. Remember, this includes thorough documentation in a README file in a Github repository, as well as a web app or blog post."
   ]
  },
  {
   "cell_type": "code",
   "execution_count": null,
   "metadata": {},
   "outputs": [],
   "source": []
  }
 ],
 "metadata": {
  "kernelspec": {
   "display_name": "Python 3",
   "language": "python",
   "name": "python3"
  },
  "language_info": {
   "codemirror_mode": {
    "name": "ipython",
    "version": 3
   },
   "file_extension": ".py",
   "mimetype": "text/x-python",
   "name": "python",
   "nbconvert_exporter": "python",
   "pygments_lexer": "ipython3",
   "version": "3.6.3"
  }
 },
 "nbformat": 4,
 "nbformat_minor": 2
}
