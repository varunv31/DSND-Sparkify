{
 "cells": [
  {
   "cell_type": "markdown",
   "metadata": {},
   "source": [
    "# Sparkify Project Workspace\n",
    "This workspace contains a tiny subset (128MB) of the full dataset available (12GB). Feel free to use this workspace to build your project, or to explore a smaller subset with Spark before deploying your cluster on the cloud. Instructions for setting up your Spark cluster is included in the last lesson of the Extracurricular Spark Course content.\n",
    "\n",
    "You can follow the steps below to guide your data analysis and model building portion of this project."
   ]
  },
  {
   "cell_type": "code",
   "execution_count": 1,
   "metadata": {},
   "outputs": [],
   "source": [
    "# import libraries\n",
    "from pyspark.sql import SparkSession"
   ]
  },
  {
   "cell_type": "code",
   "execution_count": 2,
   "metadata": {},
   "outputs": [],
   "source": [
    "from pyspark.sql.functions import udf\n",
    "from pyspark.sql.types import StringType\n",
    "from pyspark.sql.types import IntegerType\n",
    "from pyspark.sql.functions import desc\n",
    "from pyspark.sql.functions import asc\n",
    "from pyspark.sql.functions import sum as Fsum\n",
    "from pyspark.sql.functions import greatest\n",
    "from pyspark.sql.functions import col\n",
    "from pyspark.sql.functions import *\n",
    "\n",
    "import datetime\n",
    "\n",
    "from pyspark.sql import Window\n",
    "import pandas as pd\n",
    "import numpy as np\n",
    "import seaborn as sns\n",
    "from matplotlib import pyplot as plt\n",
    "%matplotlib inline\n",
    "\n",
    "import re\n",
    "from pyspark.sql import functions as sF\n",
    "from pyspark.sql import types as sT\n",
    "\n",
    "from functools import reduce\n"
   ]
  },
  {
   "cell_type": "code",
   "execution_count": 3,
   "metadata": {},
   "outputs": [],
   "source": [
    "# create a Spark session\n",
    "spark = SparkSession.builder.appName(\"Sparkify\").getOrCreate()"
   ]
  },
  {
   "cell_type": "markdown",
   "metadata": {},
   "source": [
    "# Load and Clean Dataset\n",
    "In this workspace, the mini-dataset file is `mini_sparkify_event_data.json`. Load and clean the dataset, checking for invalid or missing data - for example, records without userids or sessionids. "
   ]
  },
  {
   "cell_type": "code",
   "execution_count": 4,
   "metadata": {},
   "outputs": [
    {
     "name": "stdout",
     "output_type": "stream",
     "text": [
      "Sparkify-zh.ipynb\r\n",
      "Sparkify.ipynb\r\n",
      "data/\r\n",
      "data/temp/\r\n",
      "data/temp/sparkify_model.csv/\r\n",
      "data/temp/sparkify_model.csv/.part-00063-418a91ee-866c-48b8-8195-dc608d3bb39e-c000.csv.crc\r\n",
      "data/temp/sparkify_model.csv/.part-00145-418a91ee-866c-48b8-8195-dc608d3bb39e-c000.csv.crc\r\n",
      "data/temp/sparkify_model.csv/.part-00062-418a91ee-866c-48b8-8195-dc608d3bb39e-c000.csv.crc\r\n",
      "data/temp/sparkify_model.csv/.part-00183-418a91ee-866c-48b8-8195-dc608d3bb39e-c000.csv.crc\r\n",
      "data/temp/sparkify_model.csv/.part-00014-418a91ee-866c-48b8-8195-dc608d3bb39e-c000.csv.crc\r\n",
      "data/temp/sparkify_model.csv/.part-00134-418a91ee-866c-48b8-8195-dc608d3bb39e-c000.csv.crc\r\n",
      "data/temp/sparkify_model.csv/.part-00023-418a91ee-866c-48b8-8195-dc608d3bb39e-c000.csv.crc\r\n",
      "data/temp/sparkify_model.csv/.part-00009-418a91ee-866c-48b8-8195-dc608d3bb39e-c000.csv.crc\r\n",
      "data/temp/sparkify_model.csv/.part-00024-418a91ee-866c-48b8-8195-dc608d3bb39e-c000.csv.crc\r\n",
      "data/temp/sparkify_model.csv/.part-00088-418a91ee-866c-48b8-8195-dc608d3bb39e-c000.csv.crc\r\n",
      "data/temp/sparkify_model.csv/.part-00120-418a91ee-866c-48b8-8195-dc608d3bb39e-c000.csv.crc\r\n",
      "data/temp/sparkify_model.csv/.part-00168-418a91ee-866c-48b8-8195-dc608d3bb39e-c000.csv.crc\r\n",
      "data/temp/sparkify_model.csv/.part-00071-418a91ee-866c-48b8-8195-dc608d3bb39e-c000.csv.crc\r\n",
      "data/temp/sparkify_model.csv/.part-00180-418a91ee-866c-48b8-8195-dc608d3bb39e-c000.csv.crc\r\n",
      "data/temp/sparkify_model.csv/.part-00162-418a91ee-866c-48b8-8195-dc608d3bb39e-c000.csv.crc\r\n",
      "data/temp/sparkify_model.csv/.part-00049-418a91ee-866c-48b8-8195-dc608d3bb39e-c000.csv.crc\r\n",
      "data/temp/sparkify_model.csv/.part-00169-418a91ee-866c-48b8-8195-dc608d3bb39e-c000.csv.crc\r\n",
      "data/temp/sparkify_model.csv/.part-00000-418a91ee-866c-48b8-8195-dc608d3bb39e-c000.csv.crc\r\n",
      "data/temp/sparkify_model.csv/.part-00156-418a91ee-866c-48b8-8195-dc608d3bb39e-c000.csv.crc\r\n",
      "data/temp/sparkify_model.csv/.part-00095-418a91ee-866c-48b8-8195-dc608d3bb39e-c000.csv.crc\r\n",
      "data/temp/sparkify_model.csv/.part-00137-418a91ee-866c-48b8-8195-dc608d3bb39e-c000.csv.crc\r\n",
      "data/temp/sparkify_model.csv/.part-00053-418a91ee-866c-48b8-8195-dc608d3bb39e-c000.csv.crc\r\n",
      "data/temp/sparkify_model.csv/.part-00189-418a91ee-866c-48b8-8195-dc608d3bb39e-c000.csv.crc\r\n",
      "data/temp/sparkify_model.csv/.part-00146-418a91ee-866c-48b8-8195-dc608d3bb39e-c000.csv.crc\r\n",
      "data/temp/sparkify_model.csv/.part-00129-418a91ee-866c-48b8-8195-dc608d3bb39e-c000.csv.crc\r\n",
      "data/temp/sparkify_model.csv/.part-00011-418a91ee-866c-48b8-8195-dc608d3bb39e-c000.csv.crc\r\n",
      "data/temp/sparkify_model.csv/.part-00067-418a91ee-866c-48b8-8195-dc608d3bb39e-c000.csv.crc\r\n",
      "data/temp/sparkify_model.csv/.part-00021-418a91ee-866c-48b8-8195-dc608d3bb39e-c000.csv.crc\r\n",
      "data/temp/sparkify_model.csv/.part-00152-418a91ee-866c-48b8-8195-dc608d3bb39e-c000.csv.crc\r\n",
      "data/temp/sparkify_model.csv/.part-00111-418a91ee-866c-48b8-8195-dc608d3bb39e-c000.csv.crc\r\n",
      "data/temp/sparkify_model.csv/.part-00104-418a91ee-866c-48b8-8195-dc608d3bb39e-c000.csv.crc\r\n",
      "data/temp/sparkify_model.csv/.part-00033-418a91ee-866c-48b8-8195-dc608d3bb39e-c000.csv.crc\r\n",
      "data/temp/sparkify_model.csv/.part-00068-418a91ee-866c-48b8-8195-dc608d3bb39e-c000.csv.crc\r\n",
      "data/temp/sparkify_model.csv/.part-00115-418a91ee-866c-48b8-8195-dc608d3bb39e-c000.csv.crc\r\n",
      "data/temp/sparkify_model.csv/.part-00122-418a91ee-866c-48b8-8195-dc608d3bb39e-c000.csv.crc\r\n",
      "data/temp/sparkify_model.csv/.part-00105-418a91ee-866c-48b8-8195-dc608d3bb39e-c000.csv.crc\r\n",
      "data/temp/sparkify_model.csv/.part-00077-418a91ee-866c-48b8-8195-dc608d3bb39e-c000.csv.crc\r\n",
      "data/temp/sparkify_model.csv/.part-00031-418a91ee-866c-48b8-8195-dc608d3bb39e-c000.csv.crc\r\n",
      "data/temp/sparkify_model.csv/.part-00087-418a91ee-866c-48b8-8195-dc608d3bb39e-c000.csv.crc\r\n",
      "data/temp/sparkify_model.csv/.part-00113-418a91ee-866c-48b8-8195-dc608d3bb39e-c000.csv.crc\r\n",
      "data/temp/sparkify_model.csv/.part-00032-418a91ee-866c-48b8-8195-dc608d3bb39e-c000.csv.crc\r\n",
      "data/temp/sparkify_model.csv/.part-00084-418a91ee-866c-48b8-8195-dc608d3bb39e-c000.csv.crc\r\n",
      "data/temp/sparkify_model.csv/.part-00042-418a91ee-866c-48b8-8195-dc608d3bb39e-c000.csv.crc\r\n",
      "data/temp/sparkify_model.csv/.part-00040-418a91ee-866c-48b8-8195-dc608d3bb39e-c000.csv.crc\r\n",
      "data/temp/sparkify_model.csv/.part-00155-418a91ee-866c-48b8-8195-dc608d3bb39e-c000.csv.crc\r\n",
      "data/temp/sparkify_model.csv/.part-00097-418a91ee-866c-48b8-8195-dc608d3bb39e-c000.csv.crc\r\n",
      "data/temp/sparkify_model.csv/.part-00037-418a91ee-866c-48b8-8195-dc608d3bb39e-c000.csv.crc\r\n",
      "data/temp/sparkify_model.csv/.part-00094-418a91ee-866c-48b8-8195-dc608d3bb39e-c000.csv.crc\r\n",
      "data/temp/sparkify_model.csv/.part-00177-418a91ee-866c-48b8-8195-dc608d3bb39e-c000.csv.crc\r\n",
      "data/temp/sparkify_model.csv/.part-00107-418a91ee-866c-48b8-8195-dc608d3bb39e-c000.csv.crc\r\n",
      "data/temp/sparkify_model.csv/.part-00055-418a91ee-866c-48b8-8195-dc608d3bb39e-c000.csv.crc\r\n",
      "data/temp/sparkify_model.csv/.part-00013-418a91ee-866c-48b8-8195-dc608d3bb39e-c000.csv.crc\r\n",
      "data/temp/sparkify_model.csv/.part-00163-418a91ee-866c-48b8-8195-dc608d3bb39e-c000.csv.crc\r\n",
      "data/temp/sparkify_model.csv/.part-00019-418a91ee-866c-48b8-8195-dc608d3bb39e-c000.csv.crc\r\n",
      "data/temp/sparkify_model.csv/.part-00018-418a91ee-866c-48b8-8195-dc608d3bb39e-c000.csv.crc\r\n",
      "data/temp/sparkify_model.csv/.part-00059-418a91ee-866c-48b8-8195-dc608d3bb39e-c000.csv.crc\r\n",
      "data/temp/sparkify_model.csv/.part-00179-418a91ee-866c-48b8-8195-dc608d3bb39e-c000.csv.crc\r\n",
      "data/temp/sparkify_model.csv/.part-00198-418a91ee-866c-48b8-8195-dc608d3bb39e-c000.csv.crc\r\n",
      "data/temp/sparkify_model.csv/.part-00076-418a91ee-866c-48b8-8195-dc608d3bb39e-c000.csv.crc\r\n",
      "data/temp/sparkify_model.csv/.part-00138-418a91ee-866c-48b8-8195-dc608d3bb39e-c000.csv.crc\r\n",
      "data/temp/sparkify_model.csv/.part-00142-418a91ee-866c-48b8-8195-dc608d3bb39e-c000.csv.crc\r\n",
      "data/temp/sparkify_model.csv/.part-00085-418a91ee-866c-48b8-8195-dc608d3bb39e-c000.csv.crc\r\n",
      "data/temp/sparkify_model.csv/.part-00020-418a91ee-866c-48b8-8195-dc608d3bb39e-c000.csv.crc\r\n",
      "data/temp/sparkify_model.csv/.part-00196-418a91ee-866c-48b8-8195-dc608d3bb39e-c000.csv.crc\r\n",
      "data/temp/sparkify_model.csv/.part-00089-418a91ee-866c-48b8-8195-dc608d3bb39e-c000.csv.crc\r\n",
      "data/temp/sparkify_model.csv/.part-00197-418a91ee-866c-48b8-8195-dc608d3bb39e-c000.csv.crc\r\n",
      "data/temp/sparkify_model.csv/.part-00123-418a91ee-866c-48b8-8195-dc608d3bb39e-c000.csv.crc\r\n",
      "data/temp/sparkify_model.csv/.part-00058-418a91ee-866c-48b8-8195-dc608d3bb39e-c000.csv.crc\r\n",
      "data/temp/sparkify_model.csv/._SUCCESS.crc\r\n",
      "data/temp/sparkify_model.csv/.part-00073-418a91ee-866c-48b8-8195-dc608d3bb39e-c000.csv.crc\r\n",
      "data/temp/sparkify_model.csv/.part-00192-418a91ee-866c-48b8-8195-dc608d3bb39e-c000.csv.crc\r\n",
      "data/temp/sparkify_model.csv/.part-00173-418a91ee-866c-48b8-8195-dc608d3bb39e-c000.csv.crc\r\n",
      "data/temp/sparkify_model.csv/.part-00092-418a91ee-866c-48b8-8195-dc608d3bb39e-c000.csv.crc\r\n",
      "data/temp/sparkify_model.csv/.part-00160-418a91ee-866c-48b8-8195-dc608d3bb39e-c000.csv.crc\r\n",
      "data/temp/sparkify_model.csv/.part-00054-418a91ee-866c-48b8-8195-dc608d3bb39e-c000.csv.crc\r\n",
      "data/temp/sparkify_model.csv/.part-00174-418a91ee-866c-48b8-8195-dc608d3bb39e-c000.csv.crc\r\n",
      "data/temp/sparkify_model.csv/.part-00029-418a91ee-866c-48b8-8195-dc608d3bb39e-c000.csv.crc\r\n",
      "data/temp/sparkify_model.csv/.part-00157-418a91ee-866c-48b8-8195-dc608d3bb39e-c000.csv.crc\r\n",
      "data/temp/sparkify_model.csv/.part-00083-418a91ee-866c-48b8-8195-dc608d3bb39e-c000.csv.crc\r\n",
      "data/temp/sparkify_model.csv/.part-00132-418a91ee-866c-48b8-8195-dc608d3bb39e-c000.csv.crc\r\n",
      "data/temp/sparkify_model.csv/.part-00161-418a91ee-866c-48b8-8195-dc608d3bb39e-c000.csv.crc\r\n",
      "data/temp/sparkify_model.csv/.ipynb_checkpoints/\r\n",
      "data/temp/sparkify_model.csv/.part-00116-418a91ee-866c-48b8-8195-dc608d3bb39e-c000.csv.crc\r\n",
      "data/temp/sparkify_model.csv/.part-00178-418a91ee-866c-48b8-8195-dc608d3bb39e-c000.csv.crc\r\n",
      "data/temp/sparkify_model.csv/.part-00082-418a91ee-866c-48b8-8195-dc608d3bb39e-c000.csv.crc\r\n",
      "data/temp/sparkify_model.csv/.part-00114-418a91ee-866c-48b8-8195-dc608d3bb39e-c000.csv.crc\r\n",
      "data/temp/sparkify_model.csv/.part-00045-418a91ee-866c-48b8-8195-dc608d3bb39e-c000.csv.crc\r\n",
      "data/temp/sparkify_model.csv/.part-00199-418a91ee-866c-48b8-8195-dc608d3bb39e-c000.csv.crc\r\n",
      "data/temp/sparkify_model.csv/.part-00048-418a91ee-866c-48b8-8195-dc608d3bb39e-c000.csv.crc\r\n",
      "data/temp/sparkify_model.csv/.part-00144-418a91ee-866c-48b8-8195-dc608d3bb39e-c000.csv.crc\r\n",
      "data/temp/sparkify_model.csv/.part-00171-418a91ee-866c-48b8-8195-dc608d3bb39e-c000.csv.crc\r\n",
      "data/temp/sparkify_model.csv/.part-00046-418a91ee-866c-48b8-8195-dc608d3bb39e-c000.csv.crc\r\n",
      "data/temp/sparkify_model.csv/.part-00015-418a91ee-866c-48b8-8195-dc608d3bb39e-c000.csv.crc\r\n",
      "data/temp/sparkify_model.csv/.part-00008-418a91ee-866c-48b8-8195-dc608d3bb39e-c000.csv.crc\r\n",
      "data/temp/sparkify_model.csv/.part-00167-418a91ee-866c-48b8-8195-dc608d3bb39e-c000.csv.crc\r\n",
      "data/temp/sparkify_model.csv/.part-00064-418a91ee-866c-48b8-8195-dc608d3bb39e-c000.csv.crc\r\n",
      "data/temp/sparkify_model.csv/.part-00078-418a91ee-866c-48b8-8195-dc608d3bb39e-c000.csv.crc\r\n",
      "data/temp/sparkify_model.csv/.part-00158-418a91ee-866c-48b8-8195-dc608d3bb39e-c000.csv.crc\r\n",
      "data/temp/sparkify_model.csv/.part-00091-418a91ee-866c-48b8-8195-dc608d3bb39e-c000.csv.crc\r\n",
      "data/temp/sparkify_model.csv/.part-00017-418a91ee-866c-48b8-8195-dc608d3bb39e-c000.csv.crc\r\n",
      "data/temp/sparkify_model.csv/.part-00016-418a91ee-866c-48b8-8195-dc608d3bb39e-c000.csv.crc\r\n",
      "data/temp/sparkify_model.csv/.part-00166-418a91ee-866c-48b8-8195-dc608d3bb39e-c000.csv.crc\r\n",
      "data/temp/sparkify_model.csv/.part-00148-418a91ee-866c-48b8-8195-dc608d3bb39e-c000.csv.crc\r\n",
      "data/temp/sparkify_model.csv/.part-00039-418a91ee-866c-48b8-8195-dc608d3bb39e-c000.csv.crc\r\n",
      "data/temp/sparkify_model.csv/.part-00126-418a91ee-866c-48b8-8195-dc608d3bb39e-c000.csv.crc\r\n",
      "data/temp/sparkify_model.csv/.part-00170-418a91ee-866c-48b8-8195-dc608d3bb39e-c000.csv.crc\r\n",
      "data/temp/sparkify_model.csv/.part-00117-418a91ee-866c-48b8-8195-dc608d3bb39e-c000.csv.crc\r\n",
      "data/temp/sparkify_model.csv/.part-00075-418a91ee-866c-48b8-8195-dc608d3bb39e-c000.csv.crc\r\n",
      "data/temp/sparkify_model.csv/.part-00195-418a91ee-866c-48b8-8195-dc608d3bb39e-c000.csv.crc\r\n",
      "data/temp/sparkify_model.csv/.part-00149-418a91ee-866c-48b8-8195-dc608d3bb39e-c000.csv.crc\r\n",
      "data/temp/sparkify_model.csv/.part-00182-418a91ee-866c-48b8-8195-dc608d3bb39e-c000.csv.crc\r\n",
      "data/temp/sparkify_model.csv/.part-00065-418a91ee-866c-48b8-8195-dc608d3bb39e-c000.csv.crc\r\n",
      "data/temp/sparkify_model.csv/.part-00003-418a91ee-866c-48b8-8195-dc608d3bb39e-c000.csv.crc\r\n",
      "data/temp/sparkify_model.csv/.part-00187-418a91ee-866c-48b8-8195-dc608d3bb39e-c000.csv.crc\r\n",
      "data/temp/sparkify_model.csv/.part-00188-418a91ee-866c-48b8-8195-dc608d3bb39e-c000.csv.crc\r\n",
      "data/temp/sparkify_model.csv/.part-00153-418a91ee-866c-48b8-8195-dc608d3bb39e-c000.csv.crc\r\n",
      "data/temp/sparkify_model.csv/.part-00074-418a91ee-866c-48b8-8195-dc608d3bb39e-c000.csv.crc\r\n",
      "data/temp/sparkify_model.csv/.part-00001-418a91ee-866c-48b8-8195-dc608d3bb39e-c000.csv.crc\r\n",
      "data/temp/sparkify_model.csv/.part-00007-418a91ee-866c-48b8-8195-dc608d3bb39e-c000.csv.crc\r\n",
      "data/temp/sparkify_model.csv/.part-00109-418a91ee-866c-48b8-8195-dc608d3bb39e-c000.csv.crc\r\n",
      "data/temp/sparkify_model.csv/.part-00141-418a91ee-866c-48b8-8195-dc608d3bb39e-c000.csv.crc\r\n",
      "data/temp/sparkify_model.csv/.part-00034-418a91ee-866c-48b8-8195-dc608d3bb39e-c000.csv.crc\r\n",
      "data/temp/sparkify_model.csv/.part-00030-418a91ee-866c-48b8-8195-dc608d3bb39e-c000.csv.crc\r\n",
      "data/temp/sparkify_model.csv/.part-00119-418a91ee-866c-48b8-8195-dc608d3bb39e-c000.csv.crc\r\n",
      "data/temp/sparkify_model.csv/.part-00036-418a91ee-866c-48b8-8195-dc608d3bb39e-c000.csv.crc\r\n",
      "data/temp/sparkify_model.csv/.part-00101-418a91ee-866c-48b8-8195-dc608d3bb39e-c000.csv.crc\r\n",
      "data/temp/sparkify_model.csv/.part-00038-418a91ee-866c-48b8-8195-dc608d3bb39e-c000.csv.crc\r\n",
      "data/temp/sparkify_model.csv/.part-00164-418a91ee-866c-48b8-8195-dc608d3bb39e-c000.csv.crc\r\n",
      "data/temp/sparkify_model.csv/.part-00175-418a91ee-866c-48b8-8195-dc608d3bb39e-c000.csv.crc\r\n",
      "data/temp/sparkify_model.csv/.part-00147-418a91ee-866c-48b8-8195-dc608d3bb39e-c000.csv.crc\r\n",
      "data/temp/sparkify_model.csv/.part-00051-418a91ee-866c-48b8-8195-dc608d3bb39e-c000.csv.crc\r\n",
      "data/temp/sparkify_model.csv/.part-00026-418a91ee-866c-48b8-8195-dc608d3bb39e-c000.csv.crc\r\n",
      "data/temp/sparkify_model.csv/.part-00070-418a91ee-866c-48b8-8195-dc608d3bb39e-c000.csv.crc\r\n",
      "data/temp/sparkify_model.csv/.part-00154-418a91ee-866c-48b8-8195-dc608d3bb39e-c000.csv.crc\r\n",
      "data/temp/sparkify_model.csv/.part-00143-418a91ee-866c-48b8-8195-dc608d3bb39e-c000.csv.crc\r\n",
      "data/temp/sparkify_model.csv/.part-00139-418a91ee-866c-48b8-8195-dc608d3bb39e-c000.csv.crc\r\n",
      "data/temp/sparkify_model.csv/.part-00131-418a91ee-866c-48b8-8195-dc608d3bb39e-c000.csv.crc\r\n",
      "data/temp/sparkify_model.csv/.part-00099-418a91ee-866c-48b8-8195-dc608d3bb39e-c000.csv.crc\r\n",
      "data/temp/sparkify_model.csv/.part-00127-418a91ee-866c-48b8-8195-dc608d3bb39e-c000.csv.crc\r\n",
      "data/temp/sparkify_model.csv/.part-00135-418a91ee-866c-48b8-8195-dc608d3bb39e-c000.csv.crc\r\n",
      "data/temp/sparkify_model_latest.csv/\r\n",
      "data/temp/sparkify_model_latest.csv/.part-00058-504fd426-aabf-4f98-aeeb-fcda3dfa2e96-c000.csv.crc\r\n",
      "data/temp/sparkify_model_latest.csv/.part-00173-504fd426-aabf-4f98-aeeb-fcda3dfa2e96-c000.csv.crc\r\n",
      "data/temp/sparkify_model_latest.csv/.part-00019-504fd426-aabf-4f98-aeeb-fcda3dfa2e96-c000.csv.crc\r\n",
      "data/temp/sparkify_model_latest.csv/.part-00016-504fd426-aabf-4f98-aeeb-fcda3dfa2e96-c000.csv.crc\r\n",
      "data/temp/sparkify_model_latest.csv/.part-00123-504fd426-aabf-4f98-aeeb-fcda3dfa2e96-c000.csv.crc\r\n",
      "data/temp/sparkify_model_latest.csv/.part-00036-504fd426-aabf-4f98-aeeb-fcda3dfa2e96-c000.csv.crc\r\n",
      "data/temp/sparkify_model_latest.csv/.part-00091-504fd426-aabf-4f98-aeeb-fcda3dfa2e96-c000.csv.crc\r\n",
      "data/temp/sparkify_model_latest.csv/.part-00030-504fd426-aabf-4f98-aeeb-fcda3dfa2e96-c000.csv.crc\r\n",
      "data/temp/sparkify_model_latest.csv/.part-00034-504fd426-aabf-4f98-aeeb-fcda3dfa2e96-c000.csv.crc\r\n",
      "data/temp/sparkify_model_latest.csv/.part-00113-504fd426-aabf-4f98-aeeb-fcda3dfa2e96-c000.csv.crc\r\n",
      "data/temp/sparkify_model_latest.csv/.part-00183-504fd426-aabf-4f98-aeeb-fcda3dfa2e96-c000.csv.crc\r\n",
      "data/temp/sparkify_model_latest.csv/.part-00148-504fd426-aabf-4f98-aeeb-fcda3dfa2e96-c000.csv.crc\r\n",
      "data/temp/sparkify_model_latest.csv/.part-00147-504fd426-aabf-4f98-aeeb-fcda3dfa2e96-c000.csv.crc\r\n",
      "data/temp/sparkify_model_latest.csv/.part-00074-504fd426-aabf-4f98-aeeb-fcda3dfa2e96-c000.csv.crc\r\n",
      "data/temp/sparkify_model_latest.csv/.part-00175-504fd426-aabf-4f98-aeeb-fcda3dfa2e96-c000.csv.crc\r\n",
      "data/temp/sparkify_model_latest.csv/.part-00065-504fd426-aabf-4f98-aeeb-fcda3dfa2e96-c000.csv.crc\r\n",
      "data/temp/sparkify_model_latest.csv/.part-00119-504fd426-aabf-4f98-aeeb-fcda3dfa2e96-c000.csv.crc\r\n",
      "data/temp/sparkify_model_latest.csv/.part-00138-504fd426-aabf-4f98-aeeb-fcda3dfa2e96-c000.csv.crc\r\n",
      "data/temp/sparkify_model_latest.csv/.part-00166-504fd426-aabf-4f98-aeeb-fcda3dfa2e96-c000.csv.crc\r\n",
      "data/temp/sparkify_model_latest.csv/.part-00021-504fd426-aabf-4f98-aeeb-fcda3dfa2e96-c000.csv.crc\r\n",
      "data/temp/sparkify_model_latest.csv/.part-00180-504fd426-aabf-4f98-aeeb-fcda3dfa2e96-c000.csv.crc\r\n",
      "data/temp/sparkify_model_latest.csv/.part-00177-504fd426-aabf-4f98-aeeb-fcda3dfa2e96-c000.csv.crc\r\n",
      "data/temp/sparkify_model_latest.csv/.part-00135-504fd426-aabf-4f98-aeeb-fcda3dfa2e96-c000.csv.crc\r\n",
      "data/temp/sparkify_model_latest.csv/.part-00171-504fd426-aabf-4f98-aeeb-fcda3dfa2e96-c000.csv.crc\r\n",
      "data/temp/sparkify_model_latest.csv/.part-00037-504fd426-aabf-4f98-aeeb-fcda3dfa2e96-c000.csv.crc\r\n",
      "data/temp/sparkify_model_latest.csv/.part-00059-504fd426-aabf-4f98-aeeb-fcda3dfa2e96-c000.csv.crc\r\n",
      "data/temp/sparkify_model_latest.csv/.part-00198-504fd426-aabf-4f98-aeeb-fcda3dfa2e96-c000.csv.crc\r\n",
      "data/temp/sparkify_model_latest.csv/.part-00077-504fd426-aabf-4f98-aeeb-fcda3dfa2e96-c000.csv.crc\r\n",
      "data/temp/sparkify_model_latest.csv/.part-00031-504fd426-aabf-4f98-aeeb-fcda3dfa2e96-c000.csv.crc\r\n",
      "data/temp/sparkify_model_latest.csv/.part-00120-504fd426-aabf-4f98-aeeb-fcda3dfa2e96-c000.csv.crc\r\n",
      "data/temp/sparkify_model_latest.csv/.part-00188-504fd426-aabf-4f98-aeeb-fcda3dfa2e96-c000.csv.crc\r\n",
      "data/temp/sparkify_model_latest.csv/.part-00008-504fd426-aabf-4f98-aeeb-fcda3dfa2e96-c000.csv.crc\r\n",
      "data/temp/sparkify_model_latest.csv/.part-00045-504fd426-aabf-4f98-aeeb-fcda3dfa2e96-c000.csv.crc\r\n",
      "data/temp/sparkify_model_latest.csv/.part-00160-504fd426-aabf-4f98-aeeb-fcda3dfa2e96-c000.csv.crc\r\n",
      "data/temp/sparkify_model_latest.csv/.part-00032-504fd426-aabf-4f98-aeeb-fcda3dfa2e96-c000.csv.crc\r\n",
      "data/temp/sparkify_model_latest.csv/.part-00024-504fd426-aabf-4f98-aeeb-fcda3dfa2e96-c000.csv.crc\r\n",
      "data/temp/sparkify_model_latest.csv/.part-00129-504fd426-aabf-4f98-aeeb-fcda3dfa2e96-c000.csv.crc\r\n",
      "data/temp/sparkify_model_latest.csv/.part-00023-504fd426-aabf-4f98-aeeb-fcda3dfa2e96-c000.csv.crc\r\n",
      "data/temp/sparkify_model_latest.csv/.part-00157-504fd426-aabf-4f98-aeeb-fcda3dfa2e96-c000.csv.crc\r\n",
      "data/temp/sparkify_model_latest.csv/.part-00001-504fd426-aabf-4f98-aeeb-fcda3dfa2e96-c000.csv.crc\r\n",
      "data/temp/sparkify_model_latest.csv/.part-00038-504fd426-aabf-4f98-aeeb-fcda3dfa2e96-c000.csv.crc\r\n",
      "data/temp/sparkify_model_latest.csv/.part-00174-504fd426-aabf-4f98-aeeb-fcda3dfa2e96-c000.csv.crc\r\n",
      "data/temp/sparkify_model_latest.csv/.part-00048-504fd426-aabf-4f98-aeeb-fcda3dfa2e96-c000.csv.crc\r\n",
      "data/temp/sparkify_model_latest.csv/.part-00116-504fd426-aabf-4f98-aeeb-fcda3dfa2e96-c000.csv.crc\r\n",
      "data/temp/sparkify_model_latest.csv/.part-00017-504fd426-aabf-4f98-aeeb-fcda3dfa2e96-c000.csv.crc\r\n",
      "data/temp/sparkify_model_latest.csv/.part-00164-504fd426-aabf-4f98-aeeb-fcda3dfa2e96-c000.csv.crc\r\n",
      "data/temp/sparkify_model_latest.csv/.part-00089-504fd426-aabf-4f98-aeeb-fcda3dfa2e96-c000.csv.crc\r\n",
      "data/temp/sparkify_model_latest.csv/.part-00000-504fd426-aabf-4f98-aeeb-fcda3dfa2e96-c000.csv.crc\r\n",
      "data/temp/sparkify_model_latest.csv/.part-00139-504fd426-aabf-4f98-aeeb-fcda3dfa2e96-c000.csv.crc\r\n",
      "data/temp/sparkify_model_latest.csv/.part-00109-504fd426-aabf-4f98-aeeb-fcda3dfa2e96-c000.csv.crc\r\n",
      "data/temp/sparkify_model_latest.csv/.part-00144-504fd426-aabf-4f98-aeeb-fcda3dfa2e96-c000.csv.crc\r\n",
      "data/temp/sparkify_model_latest.csv/.part-00083-504fd426-aabf-4f98-aeeb-fcda3dfa2e96-c000.csv.crc\r\n",
      "data/temp/sparkify_model_latest.csv/.part-00114-504fd426-aabf-4f98-aeeb-fcda3dfa2e96-c000.csv.crc\r\n",
      "data/temp/sparkify_model_latest.csv/.part-00020-504fd426-aabf-4f98-aeeb-fcda3dfa2e96-c000.csv.crc\r\n",
      "data/temp/sparkify_model_latest.csv/.part-00068-504fd426-aabf-4f98-aeeb-fcda3dfa2e96-c000.csv.crc\r\n",
      "data/temp/sparkify_model_latest.csv/.part-00029-504fd426-aabf-4f98-aeeb-fcda3dfa2e96-c000.csv.crc\r\n",
      "data/temp/sparkify_model_latest.csv/.part-00049-504fd426-aabf-4f98-aeeb-fcda3dfa2e96-c000.csv.crc\r\n",
      "data/temp/sparkify_model_latest.csv/.part-00104-504fd426-aabf-4f98-aeeb-fcda3dfa2e96-c000.csv.crc\r\n",
      "data/temp/sparkify_model_latest.csv/.part-00055-504fd426-aabf-4f98-aeeb-fcda3dfa2e96-c000.csv.crc\r\n",
      "data/temp/sparkify_model_latest.csv/.part-00042-504fd426-aabf-4f98-aeeb-fcda3dfa2e96-c000.csv.crc\r\n",
      "data/temp/sparkify_model_latest.csv/.part-00158-504fd426-aabf-4f98-aeeb-fcda3dfa2e96-c000.csv.crc\r\n",
      "data/temp/sparkify_model_latest.csv/.part-00192-504fd426-aabf-4f98-aeeb-fcda3dfa2e96-c000.csv.crc\r\n",
      "data/temp/sparkify_model_latest.csv/.part-00167-504fd426-aabf-4f98-aeeb-fcda3dfa2e96-c000.csv.crc\r\n",
      "data/temp/sparkify_model_latest.csv/.part-00126-504fd426-aabf-4f98-aeeb-fcda3dfa2e96-c000.csv.crc\r\n",
      "data/temp/sparkify_model_latest.csv/.part-00046-504fd426-aabf-4f98-aeeb-fcda3dfa2e96-c000.csv.crc\r\n",
      "data/temp/sparkify_model_latest.csv/.part-00003-504fd426-aabf-4f98-aeeb-fcda3dfa2e96-c000.csv.crc\r\n",
      "data/temp/sparkify_model_latest.csv/.part-00137-504fd426-aabf-4f98-aeeb-fcda3dfa2e96-c000.csv.crc\r\n",
      "data/temp/sparkify_model_latest.csv/.part-00040-504fd426-aabf-4f98-aeeb-fcda3dfa2e96-c000.csv.crc\r\n",
      "data/temp/sparkify_model_latest.csv/._SUCCESS.crc\r\n",
      "data/temp/sparkify_model_latest.csv/.part-00143-504fd426-aabf-4f98-aeeb-fcda3dfa2e96-c000.csv.crc\r\n",
      "data/temp/sparkify_model_latest.csv/.part-00084-504fd426-aabf-4f98-aeeb-fcda3dfa2e96-c000.csv.crc\r\n",
      "data/temp/sparkify_model_latest.csv/.part-00162-504fd426-aabf-4f98-aeeb-fcda3dfa2e96-c000.csv.crc\r\n",
      "data/temp/sparkify_model_latest.csv/.part-00141-504fd426-aabf-4f98-aeeb-fcda3dfa2e96-c000.csv.crc\r\n",
      "data/temp/sparkify_model_latest.csv/.part-00075-504fd426-aabf-4f98-aeeb-fcda3dfa2e96-c000.csv.crc\r\n",
      "data/temp/sparkify_model_latest.csv/.part-00146-504fd426-aabf-4f98-aeeb-fcda3dfa2e96-c000.csv.crc\r\n",
      "data/temp/sparkify_model_latest.csv/.part-00101-504fd426-aabf-4f98-aeeb-fcda3dfa2e96-c000.csv.crc\r\n",
      "data/temp/sparkify_model_latest.csv/.part-00168-504fd426-aabf-4f98-aeeb-fcda3dfa2e96-c000.csv.crc\r\n",
      "data/temp/sparkify_model_latest.csv/.ipynb_checkpoints/\r\n",
      "data/temp/sparkify_model_latest.csv/.part-00095-504fd426-aabf-4f98-aeeb-fcda3dfa2e96-c000.csv.crc\r\n",
      "data/temp/sparkify_model_latest.csv/.part-00033-504fd426-aabf-4f98-aeeb-fcda3dfa2e96-c000.csv.crc\r\n",
      "data/temp/sparkify_model_latest.csv/.part-00078-504fd426-aabf-4f98-aeeb-fcda3dfa2e96-c000.csv.crc\r\n",
      "data/temp/sparkify_model_latest.csv/.part-00064-504fd426-aabf-4f98-aeeb-fcda3dfa2e96-c000.csv.crc\r\n",
      "data/temp/sparkify_model_latest.csv/.part-00127-504fd426-aabf-4f98-aeeb-fcda3dfa2e96-c000.csv.crc\r\n",
      "data/temp/sparkify_model_latest.csv/.part-00088-504fd426-aabf-4f98-aeeb-fcda3dfa2e96-c000.csv.crc\r\n",
      "data/temp/sparkify_model_latest.csv/.part-00107-504fd426-aabf-4f98-aeeb-fcda3dfa2e96-c000.csv.crc\r\n",
      "data/temp/sparkify_model_latest.csv/.part-00169-504fd426-aabf-4f98-aeeb-fcda3dfa2e96-c000.csv.crc\r\n",
      "data/temp/sparkify_model_latest.csv/.part-00011-504fd426-aabf-4f98-aeeb-fcda3dfa2e96-c000.csv.crc\r\n",
      "data/temp/sparkify_model_latest.csv/.part-00153-504fd426-aabf-4f98-aeeb-fcda3dfa2e96-c000.csv.crc\r\n",
      "data/temp/sparkify_model_latest.csv/.part-00073-504fd426-aabf-4f98-aeeb-fcda3dfa2e96-c000.csv.crc\r\n",
      "data/temp/sparkify_model_latest.csv/.part-00014-504fd426-aabf-4f98-aeeb-fcda3dfa2e96-c000.csv.crc\r\n",
      "data/temp/sparkify_model_latest.csv/.part-00199-504fd426-aabf-4f98-aeeb-fcda3dfa2e96-c000.csv.crc\r\n",
      "data/temp/sparkify_model_latest.csv/.part-00122-504fd426-aabf-4f98-aeeb-fcda3dfa2e96-c000.csv.crc\r\n",
      "data/temp/sparkify_model_latest.csv/.part-00085-504fd426-aabf-4f98-aeeb-fcda3dfa2e96-c000.csv.crc\r\n",
      "data/temp/sparkify_model_latest.csv/.part-00154-504fd426-aabf-4f98-aeeb-fcda3dfa2e96-c000.csv.crc\r\n",
      "data/temp/sparkify_model_latest.csv/.part-00026-504fd426-aabf-4f98-aeeb-fcda3dfa2e96-c000.csv.crc\r\n",
      "data/temp/sparkify_model_latest.csv/.part-00099-504fd426-aabf-4f98-aeeb-fcda3dfa2e96-c000.csv.crc\r\n",
      "data/temp/sparkify_model_latest.csv/.part-00182-504fd426-aabf-4f98-aeeb-fcda3dfa2e96-c000.csv.crc\r\n",
      "data/temp/sparkify_model_latest.csv/.part-00134-504fd426-aabf-4f98-aeeb-fcda3dfa2e96-c000.csv.crc\r\n",
      "data/temp/sparkify_model_latest.csv/.part-00062-504fd426-aabf-4f98-aeeb-fcda3dfa2e96-c000.csv.crc\r\n",
      "data/temp/sparkify_model_latest.csv/.part-00009-504fd426-aabf-4f98-aeeb-fcda3dfa2e96-c000.csv.crc\r\n",
      "data/temp/sparkify_model_latest.csv/.part-00117-504fd426-aabf-4f98-aeeb-fcda3dfa2e96-c000.csv.crc\r\n",
      "data/temp/sparkify_model_latest.csv/.part-00179-504fd426-aabf-4f98-aeeb-fcda3dfa2e96-c000.csv.crc\r\n",
      "data/temp/sparkify_model_latest.csv/.part-00070-504fd426-aabf-4f98-aeeb-fcda3dfa2e96-c000.csv.crc\r\n",
      "data/temp/sparkify_model_latest.csv/.part-00189-504fd426-aabf-4f98-aeeb-fcda3dfa2e96-c000.csv.crc\r\n",
      "data/temp/sparkify_model_latest.csv/.part-00145-504fd426-aabf-4f98-aeeb-fcda3dfa2e96-c000.csv.crc\r\n",
      "data/temp/sparkify_model_latest.csv/.part-00149-504fd426-aabf-4f98-aeeb-fcda3dfa2e96-c000.csv.crc\r\n",
      "data/temp/sparkify_model_latest.csv/.part-00155-504fd426-aabf-4f98-aeeb-fcda3dfa2e96-c000.csv.crc\r\n",
      "data/temp/sparkify_model_latest.csv/.part-00187-504fd426-aabf-4f98-aeeb-fcda3dfa2e96-c000.csv.crc\r\n",
      "data/temp/sparkify_model_latest.csv/.part-00142-504fd426-aabf-4f98-aeeb-fcda3dfa2e96-c000.csv.crc\r\n",
      "data/temp/sparkify_model_latest.csv/.part-00197-504fd426-aabf-4f98-aeeb-fcda3dfa2e96-c000.csv.crc\r\n",
      "data/temp/sparkify_model_latest.csv/.part-00067-504fd426-aabf-4f98-aeeb-fcda3dfa2e96-c000.csv.crc\r\n",
      "data/temp/sparkify_model_latest.csv/.part-00039-504fd426-aabf-4f98-aeeb-fcda3dfa2e96-c000.csv.crc\r\n",
      "data/temp/sparkify_model_latest.csv/.part-00132-504fd426-aabf-4f98-aeeb-fcda3dfa2e96-c000.csv.crc\r\n",
      "data/temp/sparkify_model_latest.csv/.part-00082-504fd426-aabf-4f98-aeeb-fcda3dfa2e96-c000.csv.crc\r\n",
      "data/temp/sparkify_model_latest.csv/.part-00063-504fd426-aabf-4f98-aeeb-fcda3dfa2e96-c000.csv.crc\r\n",
      "data/temp/sparkify_model_latest.csv/.part-00094-504fd426-aabf-4f98-aeeb-fcda3dfa2e96-c000.csv.crc\r\n",
      "data/temp/sparkify_model_latest.csv/.part-00111-504fd426-aabf-4f98-aeeb-fcda3dfa2e96-c000.csv.crc\r\n",
      "data/temp/sparkify_model_latest.csv/.part-00115-504fd426-aabf-4f98-aeeb-fcda3dfa2e96-c000.csv.crc\r\n",
      "data/temp/sparkify_model_latest.csv/.part-00105-504fd426-aabf-4f98-aeeb-fcda3dfa2e96-c000.csv.crc\r\n",
      "data/temp/sparkify_model_latest.csv/.part-00196-504fd426-aabf-4f98-aeeb-fcda3dfa2e96-c000.csv.crc\r\n",
      "data/temp/sparkify_model_latest.csv/.part-00163-504fd426-aabf-4f98-aeeb-fcda3dfa2e96-c000.csv.crc\r\n",
      "data/temp/sparkify_model_latest.csv/.part-00053-504fd426-aabf-4f98-aeeb-fcda3dfa2e96-c000.csv.crc\r\n",
      "data/temp/sparkify_model_latest.csv/.part-00156-504fd426-aabf-4f98-aeeb-fcda3dfa2e96-c000.csv.crc\r\n",
      "data/temp/sparkify_model_latest.csv/.part-00087-504fd426-aabf-4f98-aeeb-fcda3dfa2e96-c000.csv.crc\r\n",
      "data/temp/sparkify_model_latest.csv/.part-00071-504fd426-aabf-4f98-aeeb-fcda3dfa2e96-c000.csv.crc\r\n",
      "data/temp/sparkify_model_latest.csv/.part-00097-504fd426-aabf-4f98-aeeb-fcda3dfa2e96-c000.csv.crc\r\n",
      "data/temp/sparkify_model_latest.csv/.part-00092-504fd426-aabf-4f98-aeeb-fcda3dfa2e96-c000.csv.crc\r\n",
      "data/temp/sparkify_model_latest.csv/.part-00051-504fd426-aabf-4f98-aeeb-fcda3dfa2e96-c000.csv.crc\r\n",
      "data/temp/sparkify_model_latest.csv/.part-00178-504fd426-aabf-4f98-aeeb-fcda3dfa2e96-c000.csv.crc\r\n",
      "data/temp/sparkify_model_latest.csv/.part-00018-504fd426-aabf-4f98-aeeb-fcda3dfa2e96-c000.csv.crc\r\n",
      "data/temp/sparkify_model_latest.csv/.part-00170-504fd426-aabf-4f98-aeeb-fcda3dfa2e96-c000.csv.crc\r\n",
      "data/temp/sparkify_model_latest.csv/.part-00007-504fd426-aabf-4f98-aeeb-fcda3dfa2e96-c000.csv.crc\r\n",
      "data/temp/sparkify_model_latest.csv/.part-00161-504fd426-aabf-4f98-aeeb-fcda3dfa2e96-c000.csv.crc\r\n",
      "data/temp/sparkify_model_latest.csv/.part-00054-504fd426-aabf-4f98-aeeb-fcda3dfa2e96-c000.csv.crc\r\n",
      "data/temp/sparkify_model_latest.csv/.part-00195-504fd426-aabf-4f98-aeeb-fcda3dfa2e96-c000.csv.crc\r\n",
      "data/temp/sparkify_model_latest.csv/.part-00013-504fd426-aabf-4f98-aeeb-fcda3dfa2e96-c000.csv.crc\r\n",
      "data/temp/sparkify_model_latest.csv/.part-00152-504fd426-aabf-4f98-aeeb-fcda3dfa2e96-c000.csv.crc\r\n",
      "data/temp/sparkify_model_latest.csv/.part-00015-504fd426-aabf-4f98-aeeb-fcda3dfa2e96-c000.csv.crc\r\n",
      "data/temp/sparkify_model_latest.csv/.part-00131-504fd426-aabf-4f98-aeeb-fcda3dfa2e96-c000.csv.crc\r\n",
      "data/temp/sparkify_model_latest.csv/.part-00076-504fd426-aabf-4f98-aeeb-fcda3dfa2e96-c000.csv.crc\r\n",
      "data/temp/sparkify_model_merge.csv/\r\n",
      "data/temp/sparkify_model_merge.csv/.part-00073-bd25dea0-cca8-4659-9e72-a4e59da45d01-c000.csv.crc\r\n",
      "data/temp/sparkify_model_merge.csv/.part-00003-bd25dea0-cca8-4659-9e72-a4e59da45d01-c000.csv.crc\r\n",
      "data/temp/sparkify_model_merge.csv/part-00018-bd25dea0-cca8-4659-9e72-a4e59da45d01-c000.csv\r\n",
      "data/temp/sparkify_model_merge.csv/.part-00051-bd25dea0-cca8-4659-9e72-a4e59da45d01-c000.csv.crc\r\n",
      "data/temp/sparkify_model_merge.csv/.part-00031-bd25dea0-cca8-4659-9e72-a4e59da45d01-c000.csv.crc\r\n",
      "data/temp/sparkify_model_merge.csv/part-00152-bd25dea0-cca8-4659-9e72-a4e59da45d01-c000.csv\r\n",
      "data/temp/sparkify_model_merge.csv/.part-00015-bd25dea0-cca8-4659-9e72-a4e59da45d01-c000.csv.crc\r\n",
      "data/temp/sparkify_model_merge.csv/part-00000-bd25dea0-cca8-4659-9e72-a4e59da45d01-c000.csv\r\n",
      "data/temp/sparkify_model_merge.csv/.part-00199-bd25dea0-cca8-4659-9e72-a4e59da45d01-c000.csv.crc\r\n",
      "data/temp/sparkify_model_merge.csv/.part-00014-bd25dea0-cca8-4659-9e72-a4e59da45d01-c000.csv.crc\r\n",
      "data/temp/sparkify_model_merge.csv/part-00011-bd25dea0-cca8-4659-9e72-a4e59da45d01-c000.csv\r\n",
      "data/temp/sparkify_model_merge.csv/.part-00129-bd25dea0-cca8-4659-9e72-a4e59da45d01-c000.csv.crc\r\n",
      "data/temp/sparkify_model_merge.csv/part-00199-bd25dea0-cca8-4659-9e72-a4e59da45d01-c000.csv\r\n",
      "data/temp/sparkify_model_merge.csv/part-00095-bd25dea0-cca8-4659-9e72-a4e59da45d01-c000.csv\r\n",
      "data/temp/sparkify_model_merge.csv/part-00067-bd25dea0-cca8-4659-9e72-a4e59da45d01-c000.csv\r\n",
      "data/temp/sparkify_model_merge.csv/part-00111-bd25dea0-cca8-4659-9e72-a4e59da45d01-c000.csv\r\n",
      "data/temp/sparkify_model_merge.csv/.part-00116-bd25dea0-cca8-4659-9e72-a4e59da45d01-c000.csv.crc\r\n",
      "data/temp/sparkify_model_merge.csv/.part-00037-bd25dea0-cca8-4659-9e72-a4e59da45d01-c000.csv.crc\r\n",
      "data/temp/sparkify_model_merge.csv/.part-00135-bd25dea0-cca8-4659-9e72-a4e59da45d01-c000.csv.crc\r\n",
      "data/temp/sparkify_model_merge.csv/.part-00156-bd25dea0-cca8-4659-9e72-a4e59da45d01-c000.csv.crc\r\n",
      "data/temp/sparkify_model_merge.csv/.part-00020-bd25dea0-cca8-4659-9e72-a4e59da45d01-c000.csv.crc\r\n",
      "data/temp/sparkify_model_merge.csv/.part-00067-bd25dea0-cca8-4659-9e72-a4e59da45d01-c000.csv.crc\r\n",
      "data/temp/sparkify_model_merge.csv/part-00178-bd25dea0-cca8-4659-9e72-a4e59da45d01-c000.csv\r\n",
      "data/temp/sparkify_model_merge.csv/part-00071-bd25dea0-cca8-4659-9e72-a4e59da45d01-c000.csv\r\n",
      "data/temp/sparkify_model_merge.csv/part-00099-bd25dea0-cca8-4659-9e72-a4e59da45d01-c000.csv\r\n",
      "data/temp/sparkify_model_merge.csv/.part-00187-bd25dea0-cca8-4659-9e72-a4e59da45d01-c000.csv.crc\r\n",
      "data/temp/sparkify_model_merge.csv/part-00129-bd25dea0-cca8-4659-9e72-a4e59da45d01-c000.csv\r\n",
      "data/temp/sparkify_model_merge.csv/.part-00084-bd25dea0-cca8-4659-9e72-a4e59da45d01-c000.csv.crc\r\n",
      "data/temp/sparkify_model_merge.csv/part-00135-bd25dea0-cca8-4659-9e72-a4e59da45d01-c000.csv\r\n",
      "data/temp/sparkify_model_merge.csv/part-00131-bd25dea0-cca8-4659-9e72-a4e59da45d01-c000.csv\r\n",
      "data/temp/sparkify_model_merge.csv/part-00137-bd25dea0-cca8-4659-9e72-a4e59da45d01-c000.csv\r\n",
      "data/temp/sparkify_model_merge.csv/part-00040-bd25dea0-cca8-4659-9e72-a4e59da45d01-c000.csv\r\n",
      "data/temp/sparkify_model_merge.csv/part-00092-bd25dea0-cca8-4659-9e72-a4e59da45d01-c000.csv\r\n",
      "data/temp/sparkify_model_merge.csv/part-00063-bd25dea0-cca8-4659-9e72-a4e59da45d01-c000.csv\r\n",
      "data/temp/sparkify_model_merge.csv/.part-00163-bd25dea0-cca8-4659-9e72-a4e59da45d01-c000.csv.crc\r\n",
      "data/temp/sparkify_model_merge.csv/.part-00195-bd25dea0-cca8-4659-9e72-a4e59da45d01-c000.csv.crc\r\n",
      "data/temp/sparkify_model_merge.csv/part-00158-bd25dea0-cca8-4659-9e72-a4e59da45d01-c000.csv\r\n",
      "data/temp/sparkify_model_merge.csv/.part-00088-bd25dea0-cca8-4659-9e72-a4e59da45d01-c000.csv.crc\r\n",
      "data/temp/sparkify_model_merge.csv/.part-00026-bd25dea0-cca8-4659-9e72-a4e59da45d01-c000.csv.crc\r\n",
      "data/temp/sparkify_model_merge.csv/.part-00171-bd25dea0-cca8-4659-9e72-a4e59da45d01-c000.csv.crc\r\n",
      "data/temp/sparkify_model_merge.csv/.part-00062-bd25dea0-cca8-4659-9e72-a4e59da45d01-c000.csv.crc\r\n",
      "data/temp/sparkify_model_merge.csv/.part-00018-bd25dea0-cca8-4659-9e72-a4e59da45d01-c000.csv.crc\r\n",
      "data/temp/sparkify_model_merge.csv/part-00087-bd25dea0-cca8-4659-9e72-a4e59da45d01-c000.csv\r\n",
      "data/temp/sparkify_model_merge.csv/.part-00094-bd25dea0-cca8-4659-9e72-a4e59da45d01-c000.csv.crc\r\n",
      "data/temp/sparkify_model_merge.csv/part-00141-bd25dea0-cca8-4659-9e72-a4e59da45d01-c000.csv\r\n",
      "data/temp/sparkify_model_merge.csv/.part-00162-bd25dea0-cca8-4659-9e72-a4e59da45d01-c000.csv.crc\r\n",
      "data/temp/sparkify_model_merge.csv/part-00034-bd25dea0-cca8-4659-9e72-a4e59da45d01-c000.csv\r\n",
      "data/temp/sparkify_model_merge.csv/part-00074-bd25dea0-cca8-4659-9e72-a4e59da45d01-c000.csv\r\n",
      "data/temp/sparkify_model_merge.csv/.part-00007-bd25dea0-cca8-4659-9e72-a4e59da45d01-c000.csv.crc\r\n",
      "data/temp/sparkify_model_merge.csv/part-00038-bd25dea0-cca8-4659-9e72-a4e59da45d01-c000.csv\r\n",
      "data/temp/sparkify_model_merge.csv/.part-00113-bd25dea0-cca8-4659-9e72-a4e59da45d01-c000.csv.crc\r\n",
      "data/temp/sparkify_model_merge.csv/part-00161-bd25dea0-cca8-4659-9e72-a4e59da45d01-c000.csv\r\n",
      "data/temp/sparkify_model_merge.csv/part-00119-bd25dea0-cca8-4659-9e72-a4e59da45d01-c000.csv\r\n",
      "data/temp/sparkify_model_merge.csv/part-00064-bd25dea0-cca8-4659-9e72-a4e59da45d01-c000.csv\r\n",
      "data/temp/sparkify_model_merge.csv/.part-00122-bd25dea0-cca8-4659-9e72-a4e59da45d01-c000.csv.crc\r\n",
      "data/temp/sparkify_model_merge.csv/.part-00153-bd25dea0-cca8-4659-9e72-a4e59da45d01-c000.csv.crc\r\n",
      "data/temp/sparkify_model_merge.csv/.part-00042-bd25dea0-cca8-4659-9e72-a4e59da45d01-c000.csv.crc\r\n",
      "data/temp/sparkify_model_merge.csv/part-00139-bd25dea0-cca8-4659-9e72-a4e59da45d01-c000.csv\r\n",
      "data/temp/sparkify_model_merge.csv/.part-00099-bd25dea0-cca8-4659-9e72-a4e59da45d01-c000.csv.crc\r\n",
      "data/temp/sparkify_model_merge.csv/part-00142-bd25dea0-cca8-4659-9e72-a4e59da45d01-c000.csv\r\n",
      "data/temp/sparkify_model_merge.csv/part-00104-bd25dea0-cca8-4659-9e72-a4e59da45d01-c000.csv\r\n",
      "data/temp/sparkify_model_merge.csv/.part-00127-bd25dea0-cca8-4659-9e72-a4e59da45d01-c000.csv.crc\r\n",
      "data/temp/sparkify_model_merge.csv/part-00174-bd25dea0-cca8-4659-9e72-a4e59da45d01-c000.csv\r\n",
      "data/temp/sparkify_model_merge.csv/part-00015-bd25dea0-cca8-4659-9e72-a4e59da45d01-c000.csv\r\n",
      "data/temp/sparkify_model_merge.csv/.part-00039-bd25dea0-cca8-4659-9e72-a4e59da45d01-c000.csv.crc\r\n",
      "data/temp/sparkify_model_merge.csv/.part-00033-bd25dea0-cca8-4659-9e72-a4e59da45d01-c000.csv.crc\r\n",
      "data/temp/sparkify_model_merge.csv/part-00167-bd25dea0-cca8-4659-9e72-a4e59da45d01-c000.csv\r\n",
      "data/temp/sparkify_model_merge.csv/part-00007-bd25dea0-cca8-4659-9e72-a4e59da45d01-c000.csv\r\n",
      "data/temp/sparkify_model_merge.csv/.part-00045-bd25dea0-cca8-4659-9e72-a4e59da45d01-c000.csv.crc\r\n",
      "data/temp/sparkify_model_merge.csv/.part-00180-bd25dea0-cca8-4659-9e72-a4e59da45d01-c000.csv.crc\r\n",
      "data/temp/sparkify_model_merge.csv/.part-00097-bd25dea0-cca8-4659-9e72-a4e59da45d01-c000.csv.crc\r\n",
      "data/temp/sparkify_model_merge.csv/.part-00040-bd25dea0-cca8-4659-9e72-a4e59da45d01-c000.csv.crc\r\n",
      "data/temp/sparkify_model_merge.csv/part-00070-bd25dea0-cca8-4659-9e72-a4e59da45d01-c000.csv\r\n",
      "data/temp/sparkify_model_merge.csv/.part-00036-bd25dea0-cca8-4659-9e72-a4e59da45d01-c000.csv.crc\r\n",
      "data/temp/sparkify_model_merge.csv/part-00013-bd25dea0-cca8-4659-9e72-a4e59da45d01-c000.csv\r\n",
      "data/temp/sparkify_model_merge.csv/.part-00032-bd25dea0-cca8-4659-9e72-a4e59da45d01-c000.csv.crc\r\n",
      "data/temp/sparkify_model_merge.csv/.part-00070-bd25dea0-cca8-4659-9e72-a4e59da45d01-c000.csv.crc\r\n",
      "data/temp/sparkify_model_merge.csv/part-00180-bd25dea0-cca8-4659-9e72-a4e59da45d01-c000.csv\r\n",
      "data/temp/sparkify_model_merge.csv/part-00084-bd25dea0-cca8-4659-9e72-a4e59da45d01-c000.csv\r\n",
      "data/temp/sparkify_model_merge.csv/.part-00075-bd25dea0-cca8-4659-9e72-a4e59da45d01-c000.csv.crc\r\n",
      "data/temp/sparkify_model_merge.csv/.part-00092-bd25dea0-cca8-4659-9e72-a4e59da45d01-c000.csv.crc\r\n",
      "data/temp/sparkify_model_merge.csv/.part-00001-bd25dea0-cca8-4659-9e72-a4e59da45d01-c000.csv.crc\r\n",
      "data/temp/sparkify_model_merge.csv/part-00030-bd25dea0-cca8-4659-9e72-a4e59da45d01-c000.csv\r\n",
      "data/temp/sparkify_model_merge.csv/part-00048-bd25dea0-cca8-4659-9e72-a4e59da45d01-c000.csv\r\n",
      "data/temp/sparkify_model_merge.csv/.part-00169-bd25dea0-cca8-4659-9e72-a4e59da45d01-c000.csv.crc\r\n",
      "data/temp/sparkify_model_merge.csv/part-00168-bd25dea0-cca8-4659-9e72-a4e59da45d01-c000.csv\r\n",
      "data/temp/sparkify_model_merge.csv/part-00173-bd25dea0-cca8-4659-9e72-a4e59da45d01-c000.csv\r\n",
      "data/temp/sparkify_model_merge.csv/part-00164-bd25dea0-cca8-4659-9e72-a4e59da45d01-c000.csv\r\n",
      "data/temp/sparkify_model_merge.csv/.part-00198-bd25dea0-cca8-4659-9e72-a4e59da45d01-c000.csv.crc\r\n",
      "data/temp/sparkify_model_merge.csv/.part-00082-bd25dea0-cca8-4659-9e72-a4e59da45d01-c000.csv.crc\r\n",
      "data/temp/sparkify_model_merge.csv/.part-00143-bd25dea0-cca8-4659-9e72-a4e59da45d01-c000.csv.crc\r\n",
      "data/temp/sparkify_model_merge.csv/.part-00115-bd25dea0-cca8-4659-9e72-a4e59da45d01-c000.csv.crc\r\n",
      "data/temp/sparkify_model_merge.csv/part-00126-bd25dea0-cca8-4659-9e72-a4e59da45d01-c000.csv\r\n",
      "data/temp/sparkify_model_merge.csv/.part-00192-bd25dea0-cca8-4659-9e72-a4e59da45d01-c000.csv.crc\r\n",
      "data/temp/sparkify_model_merge.csv/.part-00134-bd25dea0-cca8-4659-9e72-a4e59da45d01-c000.csv.crc\r\n",
      "data/temp/sparkify_model_merge.csv/.part-00095-bd25dea0-cca8-4659-9e72-a4e59da45d01-c000.csv.crc\r\n",
      "data/temp/sparkify_model_merge.csv/part-00089-bd25dea0-cca8-4659-9e72-a4e59da45d01-c000.csv\r\n",
      "data/temp/sparkify_model_merge.csv/part-00162-bd25dea0-cca8-4659-9e72-a4e59da45d01-c000.csv\r\n",
      "data/temp/sparkify_model_merge.csv/part-00143-bd25dea0-cca8-4659-9e72-a4e59da45d01-c000.csv\r\n",
      "data/temp/sparkify_model_merge.csv/part-00068-bd25dea0-cca8-4659-9e72-a4e59da45d01-c000.csv\r\n",
      "data/temp/sparkify_model_merge.csv/part-00198-bd25dea0-cca8-4659-9e72-a4e59da45d01-c000.csv\r\n",
      "data/temp/sparkify_model_merge.csv/part-00054-bd25dea0-cca8-4659-9e72-a4e59da45d01-c000.csv\r\n",
      "data/temp/sparkify_model_merge.csv/part-00134-bd25dea0-cca8-4659-9e72-a4e59da45d01-c000.csv\r\n",
      "data/temp/sparkify_model_merge.csv/.part-00148-bd25dea0-cca8-4659-9e72-a4e59da45d01-c000.csv.crc\r\n",
      "data/temp/sparkify_model_merge.csv/part-00115-bd25dea0-cca8-4659-9e72-a4e59da45d01-c000.csv\r\n",
      "data/temp/sparkify_model_merge.csv/part-00075-bd25dea0-cca8-4659-9e72-a4e59da45d01-c000.csv\r\n",
      "data/temp/sparkify_model_merge.csv/.part-00076-bd25dea0-cca8-4659-9e72-a4e59da45d01-c000.csv.crc\r\n",
      "data/temp/sparkify_model_merge.csv/part-00195-bd25dea0-cca8-4659-9e72-a4e59da45d01-c000.csv\r\n",
      "data/temp/sparkify_model_merge.csv/part-00083-bd25dea0-cca8-4659-9e72-a4e59da45d01-c000.csv\r\n",
      "data/temp/sparkify_model_merge.csv/part-00020-bd25dea0-cca8-4659-9e72-a4e59da45d01-c000.csv\r\n",
      "data/temp/sparkify_model_merge.csv/part-00154-bd25dea0-cca8-4659-9e72-a4e59da45d01-c000.csv\r\n",
      "data/temp/sparkify_model_merge.csv/.part-00131-bd25dea0-cca8-4659-9e72-a4e59da45d01-c000.csv.crc\r\n",
      "data/temp/sparkify_model_merge.csv/.part-00188-bd25dea0-cca8-4659-9e72-a4e59da45d01-c000.csv.crc\r\n",
      "data/temp/sparkify_model_merge.csv/part-00132-bd25dea0-cca8-4659-9e72-a4e59da45d01-c000.csv\r\n",
      "data/temp/sparkify_model_merge.csv/.part-00126-bd25dea0-cca8-4659-9e72-a4e59da45d01-c000.csv.crc\r\n",
      "data/temp/sparkify_model_merge.csv/part-00037-bd25dea0-cca8-4659-9e72-a4e59da45d01-c000.csv\r\n",
      "data/temp/sparkify_model_merge.csv/.part-00078-bd25dea0-cca8-4659-9e72-a4e59da45d01-c000.csv.crc\r\n",
      "data/temp/sparkify_model_merge.csv/.part-00189-bd25dea0-cca8-4659-9e72-a4e59da45d01-c000.csv.crc\r\n",
      "data/temp/sparkify_model_merge.csv/_SUCCESS\r\n",
      "data/temp/sparkify_model_merge.csv/part-00175-bd25dea0-cca8-4659-9e72-a4e59da45d01-c000.csv\r\n",
      "data/temp/sparkify_model_merge.csv/.part-00011-bd25dea0-cca8-4659-9e72-a4e59da45d01-c000.csv.crc\r\n",
      "data/temp/sparkify_model_merge.csv/.part-00114-bd25dea0-cca8-4659-9e72-a4e59da45d01-c000.csv.crc\r\n",
      "data/temp/sparkify_model_merge.csv/part-00187-bd25dea0-cca8-4659-9e72-a4e59da45d01-c000.csv\r\n",
      "data/temp/sparkify_model_merge.csv/.part-00055-bd25dea0-cca8-4659-9e72-a4e59da45d01-c000.csv.crc\r\n",
      "data/temp/sparkify_model_merge.csv/part-00107-bd25dea0-cca8-4659-9e72-a4e59da45d01-c000.csv\r\n",
      "data/temp/sparkify_model_merge.csv/.part-00087-bd25dea0-cca8-4659-9e72-a4e59da45d01-c000.csv.crc\r\n",
      "data/temp/sparkify_model_merge.csv/.part-00119-bd25dea0-cca8-4659-9e72-a4e59da45d01-c000.csv.crc\r\n",
      "data/temp/sparkify_model_merge.csv/part-00053-bd25dea0-cca8-4659-9e72-a4e59da45d01-c000.csv\r\n",
      "data/temp/sparkify_model_merge.csv/.part-00170-bd25dea0-cca8-4659-9e72-a4e59da45d01-c000.csv.crc\r\n",
      "data/temp/sparkify_model_merge.csv/.part-00123-bd25dea0-cca8-4659-9e72-a4e59da45d01-c000.csv.crc\r\n",
      "data/temp/sparkify_model_merge.csv/part-00179-bd25dea0-cca8-4659-9e72-a4e59da45d01-c000.csv\r\n",
      "data/temp/sparkify_model_merge.csv/part-00088-bd25dea0-cca8-4659-9e72-a4e59da45d01-c000.csv\r\n",
      "data/temp/sparkify_model_merge.csv/part-00036-bd25dea0-cca8-4659-9e72-a4e59da45d01-c000.csv\r\n",
      "data/temp/sparkify_model_merge.csv/.part-00154-bd25dea0-cca8-4659-9e72-a4e59da45d01-c000.csv.crc\r\n",
      "data/temp/sparkify_model_merge.csv/.part-00058-bd25dea0-cca8-4659-9e72-a4e59da45d01-c000.csv.crc\r\n",
      "data/temp/sparkify_model_merge.csv/.part-00152-bd25dea0-cca8-4659-9e72-a4e59da45d01-c000.csv.crc\r\n",
      "data/temp/sparkify_model_merge.csv/.part-00111-bd25dea0-cca8-4659-9e72-a4e59da45d01-c000.csv.crc\r\n",
      "data/temp/sparkify_model_merge.csv/part-00082-bd25dea0-cca8-4659-9e72-a4e59da45d01-c000.csv\r\n",
      "data/temp/sparkify_model_merge.csv/.part-00030-bd25dea0-cca8-4659-9e72-a4e59da45d01-c000.csv.crc\r\n",
      "data/temp/sparkify_model_merge.csv/.part-00101-bd25dea0-cca8-4659-9e72-a4e59da45d01-c000.csv.crc\r\n",
      "data/temp/sparkify_model_merge.csv/.part-00146-bd25dea0-cca8-4659-9e72-a4e59da45d01-c000.csv.crc\r\n",
      "data/temp/sparkify_model_merge.csv/part-00049-bd25dea0-cca8-4659-9e72-a4e59da45d01-c000.csv\r\n",
      "data/temp/sparkify_model_merge.csv/.part-00164-bd25dea0-cca8-4659-9e72-a4e59da45d01-c000.csv.crc\r\n",
      "data/temp/sparkify_model_merge.csv/part-00014-bd25dea0-cca8-4659-9e72-a4e59da45d01-c000.csv\r\n",
      "data/temp/sparkify_model_merge.csv/._SUCCESS.crc\r\n",
      "data/temp/sparkify_model_merge.csv/.part-00085-bd25dea0-cca8-4659-9e72-a4e59da45d01-c000.csv.crc\r\n",
      "data/temp/sparkify_model_merge.csv/.part-00048-bd25dea0-cca8-4659-9e72-a4e59da45d01-c000.csv.crc\r\n",
      "data/temp/sparkify_model_merge.csv/part-00097-bd25dea0-cca8-4659-9e72-a4e59da45d01-c000.csv\r\n",
      "data/temp/sparkify_model_merge.csv/part-00120-bd25dea0-cca8-4659-9e72-a4e59da45d01-c000.csv\r\n",
      "data/temp/sparkify_model_merge.csv/.part-00182-bd25dea0-cca8-4659-9e72-a4e59da45d01-c000.csv.crc\r\n",
      "data/temp/sparkify_model_merge.csv/part-00062-bd25dea0-cca8-4659-9e72-a4e59da45d01-c000.csv\r\n",
      "data/temp/sparkify_model_merge.csv/.part-00009-bd25dea0-cca8-4659-9e72-a4e59da45d01-c000.csv.crc\r\n",
      "data/temp/sparkify_model_merge.csv/.part-00054-bd25dea0-cca8-4659-9e72-a4e59da45d01-c000.csv.crc\r\n",
      "data/temp/sparkify_model_merge.csv/.part-00137-bd25dea0-cca8-4659-9e72-a4e59da45d01-c000.csv.crc\r\n",
      "data/temp/sparkify_model_merge.csv/.part-00179-bd25dea0-cca8-4659-9e72-a4e59da45d01-c000.csv.crc\r\n",
      "data/temp/sparkify_model_merge.csv/.part-00077-bd25dea0-cca8-4659-9e72-a4e59da45d01-c000.csv.crc\r\n",
      "data/temp/sparkify_model_merge.csv/part-00160-bd25dea0-cca8-4659-9e72-a4e59da45d01-c000.csv\r\n",
      "data/temp/sparkify_model_merge.csv/part-00169-bd25dea0-cca8-4659-9e72-a4e59da45d01-c000.csv\r\n",
      "data/temp/sparkify_model_merge.csv/part-00138-bd25dea0-cca8-4659-9e72-a4e59da45d01-c000.csv\r\n",
      "data/temp/sparkify_model_merge.csv/.part-00141-bd25dea0-cca8-4659-9e72-a4e59da45d01-c000.csv.crc\r\n",
      "data/temp/sparkify_model_merge.csv/part-00127-bd25dea0-cca8-4659-9e72-a4e59da45d01-c000.csv\r\n",
      "data/temp/sparkify_model_merge.csv/part-00055-bd25dea0-cca8-4659-9e72-a4e59da45d01-c000.csv\r\n",
      "data/temp/sparkify_model_merge.csv/.part-00144-bd25dea0-cca8-4659-9e72-a4e59da45d01-c000.csv.crc\r\n",
      "data/temp/sparkify_model_merge.csv/.part-00157-bd25dea0-cca8-4659-9e72-a4e59da45d01-c000.csv.crc\r\n",
      "data/temp/sparkify_model_merge.csv/.part-00074-bd25dea0-cca8-4659-9e72-a4e59da45d01-c000.csv.crc\r\n",
      "data/temp/sparkify_model_merge.csv/part-00001-bd25dea0-cca8-4659-9e72-a4e59da45d01-c000.csv\r\n",
      "data/temp/sparkify_model_merge.csv/part-00058-bd25dea0-cca8-4659-9e72-a4e59da45d01-c000.csv\r\n",
      "data/temp/sparkify_model_merge.csv/.part-00034-bd25dea0-cca8-4659-9e72-a4e59da45d01-c000.csv.crc\r\n",
      "data/temp/sparkify_model_merge.csv/part-00021-bd25dea0-cca8-4659-9e72-a4e59da45d01-c000.csv\r\n",
      "data/temp/sparkify_model_merge.csv/part-00008-bd25dea0-cca8-4659-9e72-a4e59da45d01-c000.csv\r\n",
      "data/temp/sparkify_model_merge.csv/part-00166-bd25dea0-cca8-4659-9e72-a4e59da45d01-c000.csv\r\n",
      "data/temp/sparkify_model_merge.csv/part-00149-bd25dea0-cca8-4659-9e72-a4e59da45d01-c000.csv\r\n",
      "data/temp/sparkify_model_merge.csv/part-00183-bd25dea0-cca8-4659-9e72-a4e59da45d01-c000.csv\r\n",
      "data/temp/sparkify_model_merge.csv/part-00123-bd25dea0-cca8-4659-9e72-a4e59da45d01-c000.csv\r\n",
      "data/temp/sparkify_model_merge.csv/part-00117-bd25dea0-cca8-4659-9e72-a4e59da45d01-c000.csv\r\n",
      "data/temp/sparkify_model_merge.csv/part-00163-bd25dea0-cca8-4659-9e72-a4e59da45d01-c000.csv\r\n",
      "data/temp/sparkify_model_merge.csv/.part-00117-bd25dea0-cca8-4659-9e72-a4e59da45d01-c000.csv.crc\r\n",
      "data/temp/sparkify_model_merge.csv/part-00155-bd25dea0-cca8-4659-9e72-a4e59da45d01-c000.csv\r\n",
      "data/temp/sparkify_model_merge.csv/part-00033-bd25dea0-cca8-4659-9e72-a4e59da45d01-c000.csv\r\n",
      "data/temp/sparkify_model_merge.csv/part-00189-bd25dea0-cca8-4659-9e72-a4e59da45d01-c000.csv\r\n",
      "data/temp/sparkify_model_merge.csv/.part-00063-bd25dea0-cca8-4659-9e72-a4e59da45d01-c000.csv.crc\r\n",
      "data/temp/sparkify_model_merge.csv/part-00026-bd25dea0-cca8-4659-9e72-a4e59da45d01-c000.csv\r\n",
      "data/temp/sparkify_model_merge.csv/part-00019-bd25dea0-cca8-4659-9e72-a4e59da45d01-c000.csv\r\n",
      "data/temp/sparkify_model_merge.csv/part-00039-bd25dea0-cca8-4659-9e72-a4e59da45d01-c000.csv\r\n",
      "data/temp/sparkify_model_merge.csv/part-00170-bd25dea0-cca8-4659-9e72-a4e59da45d01-c000.csv\r\n",
      "data/temp/sparkify_model_merge.csv/.part-00089-bd25dea0-cca8-4659-9e72-a4e59da45d01-c000.csv.crc\r\n",
      "data/temp/sparkify_model_merge.csv/part-00003-bd25dea0-cca8-4659-9e72-a4e59da45d01-c000.csv\r\n",
      "data/temp/sparkify_model_merge.csv/.part-00173-bd25dea0-cca8-4659-9e72-a4e59da45d01-c000.csv.crc\r\n",
      "data/temp/sparkify_model_merge.csv/part-00109-bd25dea0-cca8-4659-9e72-a4e59da45d01-c000.csv\r\n",
      "data/temp/sparkify_model_merge.csv/part-00197-bd25dea0-cca8-4659-9e72-a4e59da45d01-c000.csv\r\n",
      "data/temp/sparkify_model_merge.csv/part-00122-bd25dea0-cca8-4659-9e72-a4e59da45d01-c000.csv\r\n",
      "data/temp/sparkify_model_merge.csv/.part-00132-bd25dea0-cca8-4659-9e72-a4e59da45d01-c000.csv.crc\r\n",
      "data/temp/sparkify_model_merge.csv/part-00188-bd25dea0-cca8-4659-9e72-a4e59da45d01-c000.csv\r\n",
      "data/temp/sparkify_model_merge.csv/.part-00197-bd25dea0-cca8-4659-9e72-a4e59da45d01-c000.csv.crc\r\n",
      "data/temp/sparkify_model_merge.csv/.part-00147-bd25dea0-cca8-4659-9e72-a4e59da45d01-c000.csv.crc\r\n",
      "data/temp/sparkify_model_merge.csv/.part-00196-bd25dea0-cca8-4659-9e72-a4e59da45d01-c000.csv.crc\r\n",
      "data/temp/sparkify_model_merge.csv/part-00145-bd25dea0-cca8-4659-9e72-a4e59da45d01-c000.csv\r\n",
      "data/temp/sparkify_model_merge.csv/part-00156-bd25dea0-cca8-4659-9e72-a4e59da45d01-c000.csv\r\n",
      "data/temp/sparkify_model_merge.csv/.part-00175-bd25dea0-cca8-4659-9e72-a4e59da45d01-c000.csv.crc\r\n",
      "data/temp/sparkify_model_merge.csv/part-00146-bd25dea0-cca8-4659-9e72-a4e59da45d01-c000.csv\r\n",
      "data/temp/sparkify_model_merge.csv/.part-00083-bd25dea0-cca8-4659-9e72-a4e59da45d01-c000.csv.crc\r\n",
      "data/temp/sparkify_model_merge.csv/.part-00107-bd25dea0-cca8-4659-9e72-a4e59da45d01-c000.csv.crc\r\n",
      "data/temp/sparkify_model_merge.csv/part-00023-bd25dea0-cca8-4659-9e72-a4e59da45d01-c000.csv\r\n",
      "data/temp/sparkify_model_merge.csv/.part-00068-bd25dea0-cca8-4659-9e72-a4e59da45d01-c000.csv.crc\r\n",
      "data/temp/sparkify_model_merge.csv/.part-00142-bd25dea0-cca8-4659-9e72-a4e59da45d01-c000.csv.crc\r\n",
      "data/temp/sparkify_model_merge.csv/.part-00139-bd25dea0-cca8-4659-9e72-a4e59da45d01-c000.csv.crc\r\n",
      "data/temp/sparkify_model_merge.csv/part-00065-bd25dea0-cca8-4659-9e72-a4e59da45d01-c000.csv\r\n",
      "data/temp/sparkify_model_merge.csv/part-00091-bd25dea0-cca8-4659-9e72-a4e59da45d01-c000.csv\r\n",
      "data/temp/sparkify_model_merge.csv/part-00051-bd25dea0-cca8-4659-9e72-a4e59da45d01-c000.csv\r\n",
      "data/temp/sparkify_model_merge.csv/part-00032-bd25dea0-cca8-4659-9e72-a4e59da45d01-c000.csv\r\n",
      "data/temp/sparkify_model_merge.csv/part-00192-bd25dea0-cca8-4659-9e72-a4e59da45d01-c000.csv\r\n",
      "data/temp/sparkify_model_merge.csv/part-00024-bd25dea0-cca8-4659-9e72-a4e59da45d01-c000.csv\r\n",
      "data/temp/sparkify_model_merge.csv/part-00153-bd25dea0-cca8-4659-9e72-a4e59da45d01-c000.csv\r\n",
      "data/temp/sparkify_model_merge.csv/.part-00166-bd25dea0-cca8-4659-9e72-a4e59da45d01-c000.csv.crc\r\n",
      "data/temp/sparkify_model_merge.csv/.part-00021-bd25dea0-cca8-4659-9e72-a4e59da45d01-c000.csv.crc\r\n",
      "data/temp/sparkify_model_merge.csv/part-00016-bd25dea0-cca8-4659-9e72-a4e59da45d01-c000.csv\r\n",
      "data/temp/sparkify_model_merge.csv/.part-00000-bd25dea0-cca8-4659-9e72-a4e59da45d01-c000.csv.crc\r\n",
      "data/temp/sparkify_model_merge.csv/.part-00024-bd25dea0-cca8-4659-9e72-a4e59da45d01-c000.csv.crc\r\n",
      "data/temp/sparkify_model_merge.csv/part-00177-bd25dea0-cca8-4659-9e72-a4e59da45d01-c000.csv\r\n",
      "data/temp/sparkify_model_merge.csv/part-00171-bd25dea0-cca8-4659-9e72-a4e59da45d01-c000.csv\r\n",
      "data/temp/sparkify_model_merge.csv/.part-00149-bd25dea0-cca8-4659-9e72-a4e59da45d01-c000.csv.crc\r\n",
      "data/temp/sparkify_model_merge.csv/.part-00023-bd25dea0-cca8-4659-9e72-a4e59da45d01-c000.csv.crc\r\n",
      "data/temp/sparkify_model_merge.csv/.part-00120-bd25dea0-cca8-4659-9e72-a4e59da45d01-c000.csv.crc\r\n",
      "data/temp/sparkify_model_merge.csv/part-00116-bd25dea0-cca8-4659-9e72-a4e59da45d01-c000.csv\r\n",
      "data/temp/sparkify_model_merge.csv/.part-00091-bd25dea0-cca8-4659-9e72-a4e59da45d01-c000.csv.crc\r\n",
      "data/temp/sparkify_model_merge.csv/.part-00158-bd25dea0-cca8-4659-9e72-a4e59da45d01-c000.csv.crc\r\n",
      "data/temp/sparkify_model_merge.csv/part-00029-bd25dea0-cca8-4659-9e72-a4e59da45d01-c000.csv\r\n",
      "data/temp/sparkify_model_merge.csv/part-00113-bd25dea0-cca8-4659-9e72-a4e59da45d01-c000.csv\r\n",
      "data/temp/sparkify_model_merge.csv/part-00147-bd25dea0-cca8-4659-9e72-a4e59da45d01-c000.csv\r\n",
      "data/temp/sparkify_model_merge.csv/.part-00138-bd25dea0-cca8-4659-9e72-a4e59da45d01-c000.csv.crc\r\n",
      "data/temp/sparkify_model_merge.csv/.part-00104-bd25dea0-cca8-4659-9e72-a4e59da45d01-c000.csv.crc\r\n",
      "data/temp/sparkify_model_merge.csv/.part-00145-bd25dea0-cca8-4659-9e72-a4e59da45d01-c000.csv.crc\r\n",
      "data/temp/sparkify_model_merge.csv/part-00157-bd25dea0-cca8-4659-9e72-a4e59da45d01-c000.csv\r\n",
      "data/temp/sparkify_model_merge.csv/part-00076-bd25dea0-cca8-4659-9e72-a4e59da45d01-c000.csv\r\n",
      "data/temp/sparkify_model_merge.csv/part-00094-bd25dea0-cca8-4659-9e72-a4e59da45d01-c000.csv\r\n",
      "data/temp/sparkify_model_merge.csv/part-00077-bd25dea0-cca8-4659-9e72-a4e59da45d01-c000.csv\r\n",
      "data/temp/sparkify_model_merge.csv/part-00073-bd25dea0-cca8-4659-9e72-a4e59da45d01-c000.csv\r\n",
      "data/temp/sparkify_model_merge.csv/.part-00155-bd25dea0-cca8-4659-9e72-a4e59da45d01-c000.csv.crc\r\n",
      "data/temp/sparkify_model_merge.csv/.part-00053-bd25dea0-cca8-4659-9e72-a4e59da45d01-c000.csv.crc\r\n",
      "data/temp/sparkify_model_merge.csv/.part-00013-bd25dea0-cca8-4659-9e72-a4e59da45d01-c000.csv.crc\r\n",
      "data/temp/sparkify_model_merge.csv/.part-00178-bd25dea0-cca8-4659-9e72-a4e59da45d01-c000.csv.crc\r\n",
      "data/temp/sparkify_model_merge.csv/.part-00038-bd25dea0-cca8-4659-9e72-a4e59da45d01-c000.csv.crc\r\n",
      "data/temp/sparkify_model_merge.csv/part-00144-bd25dea0-cca8-4659-9e72-a4e59da45d01-c000.csv\r\n",
      "data/temp/sparkify_model_merge.csv/.part-00046-bd25dea0-cca8-4659-9e72-a4e59da45d01-c000.csv.crc\r\n",
      "data/temp/sparkify_model_merge.csv/part-00105-bd25dea0-cca8-4659-9e72-a4e59da45d01-c000.csv\r\n",
      "data/temp/sparkify_model_merge.csv/part-00017-bd25dea0-cca8-4659-9e72-a4e59da45d01-c000.csv\r\n",
      "data/temp/sparkify_model_merge.csv/.part-00029-bd25dea0-cca8-4659-9e72-a4e59da45d01-c000.csv.crc\r\n",
      "data/temp/sparkify_model_merge.csv/.part-00064-bd25dea0-cca8-4659-9e72-a4e59da45d01-c000.csv.crc\r\n",
      "data/temp/sparkify_model_merge.csv/.part-00019-bd25dea0-cca8-4659-9e72-a4e59da45d01-c000.csv.crc\r\n",
      "data/temp/sparkify_model_merge.csv/part-00114-bd25dea0-cca8-4659-9e72-a4e59da45d01-c000.csv\r\n",
      "data/temp/sparkify_model_merge.csv/.part-00183-bd25dea0-cca8-4659-9e72-a4e59da45d01-c000.csv.crc\r\n",
      "data/temp/sparkify_model_merge.csv/.part-00071-bd25dea0-cca8-4659-9e72-a4e59da45d01-c000.csv.crc\r\n",
      "data/temp/sparkify_model_merge.csv/part-00182-bd25dea0-cca8-4659-9e72-a4e59da45d01-c000.csv\r\n",
      "data/temp/sparkify_model_merge.csv/.part-00177-bd25dea0-cca8-4659-9e72-a4e59da45d01-c000.csv.crc\r\n",
      "data/temp/sparkify_model_merge.csv/part-00042-bd25dea0-cca8-4659-9e72-a4e59da45d01-c000.csv\r\n",
      "data/temp/sparkify_model_merge.csv/.part-00160-bd25dea0-cca8-4659-9e72-a4e59da45d01-c000.csv.crc\r\n",
      "data/temp/sparkify_model_merge.csv/.part-00016-bd25dea0-cca8-4659-9e72-a4e59da45d01-c000.csv.crc\r\n",
      "data/temp/sparkify_model_merge.csv/part-00101-bd25dea0-cca8-4659-9e72-a4e59da45d01-c000.csv\r\n",
      "data/temp/sparkify_model_merge.csv/.part-00008-bd25dea0-cca8-4659-9e72-a4e59da45d01-c000.csv.crc\r\n",
      "data/temp/sparkify_model_merge.csv/part-00009-bd25dea0-cca8-4659-9e72-a4e59da45d01-c000.csv\r\n",
      "data/temp/sparkify_model_merge.csv/part-00148-bd25dea0-cca8-4659-9e72-a4e59da45d01-c000.csv\r\n",
      "data/temp/sparkify_model_merge.csv/.part-00059-bd25dea0-cca8-4659-9e72-a4e59da45d01-c000.csv.crc\r\n",
      "data/temp/sparkify_model_merge.csv/part-00031-bd25dea0-cca8-4659-9e72-a4e59da45d01-c000.csv\r\n",
      "data/temp/sparkify_model_merge.csv/part-00085-bd25dea0-cca8-4659-9e72-a4e59da45d01-c000.csv\r\n",
      "data/temp/sparkify_model_merge.csv/part-00196-bd25dea0-cca8-4659-9e72-a4e59da45d01-c000.csv\r\n",
      "data/temp/sparkify_model_merge.csv/.part-00049-bd25dea0-cca8-4659-9e72-a4e59da45d01-c000.csv.crc\r\n",
      "data/temp/sparkify_model_merge.csv/.part-00161-bd25dea0-cca8-4659-9e72-a4e59da45d01-c000.csv.crc\r\n",
      "data/temp/sparkify_model_merge.csv/.part-00167-bd25dea0-cca8-4659-9e72-a4e59da45d01-c000.csv.crc\r\n",
      "data/temp/sparkify_model_merge.csv/.part-00017-bd25dea0-cca8-4659-9e72-a4e59da45d01-c000.csv.crc\r\n",
      "data/temp/sparkify_model_merge.csv/part-00046-bd25dea0-cca8-4659-9e72-a4e59da45d01-c000.csv\r\n",
      "data/temp/sparkify_model_merge.csv/part-00078-bd25dea0-cca8-4659-9e72-a4e59da45d01-c000.csv\r\n",
      "data/temp/sparkify_model_merge.csv/.part-00065-bd25dea0-cca8-4659-9e72-a4e59da45d01-c000.csv.crc\r\n",
      "data/temp/sparkify_model_merge.csv/.part-00105-bd25dea0-cca8-4659-9e72-a4e59da45d01-c000.csv.crc\r\n",
      "data/temp/sparkify_model_merge.csv/.part-00168-bd25dea0-cca8-4659-9e72-a4e59da45d01-c000.csv.crc\r\n",
      "data/temp/sparkify_model_merge.csv/part-00045-bd25dea0-cca8-4659-9e72-a4e59da45d01-c000.csv\r\n",
      "data/temp/sparkify_model_merge.csv/.part-00109-bd25dea0-cca8-4659-9e72-a4e59da45d01-c000.csv.crc\r\n",
      "data/temp/sparkify_model_merge.csv/.part-00174-bd25dea0-cca8-4659-9e72-a4e59da45d01-c000.csv.crc\r\n",
      "data/temp/sparkify_model_merge.csv/part-00059-bd25dea0-cca8-4659-9e72-a4e59da45d01-c000.csv\r\n",
      "data/temp/sparkify_model_new.csv/\r\n",
      "data/temp/sparkify_model_new.csv/.part-00000-98123e4e-c48d-45c3-b34b-b3f03c4045e0-c000.csv.crc\r\n",
      "data/temp/sparkify_model_new.csv/.part-00023-98123e4e-c48d-45c3-b34b-b3f03c4045e0-c000.csv.crc\r\n",
      "data/temp/sparkify_model_new.csv/.part-00018-98123e4e-c48d-45c3-b34b-b3f03c4045e0-c000.csv.crc\r\n",
      "data/temp/sparkify_model_new.csv/.part-00107-98123e4e-c48d-45c3-b34b-b3f03c4045e0-c000.csv.crc\r\n",
      "data/temp/sparkify_model_new.csv/.part-00007-98123e4e-c48d-45c3-b34b-b3f03c4045e0-c000.csv.crc\r\n",
      "data/temp/sparkify_model_new.csv/.part-00032-98123e4e-c48d-45c3-b34b-b3f03c4045e0-c000.csv.crc\r\n",
      "data/temp/sparkify_model_new.csv/.part-00085-98123e4e-c48d-45c3-b34b-b3f03c4045e0-c000.csv.crc\r\n",
      "data/temp/sparkify_model_new.csv/.part-00051-98123e4e-c48d-45c3-b34b-b3f03c4045e0-c000.csv.crc\r\n",
      "data/temp/sparkify_model_new.csv/.part-00026-98123e4e-c48d-45c3-b34b-b3f03c4045e0-c000.csv.crc\r\n",
      "data/temp/sparkify_model_new.csv/.part-00055-98123e4e-c48d-45c3-b34b-b3f03c4045e0-c000.csv.crc\r\n",
      "data/temp/sparkify_model_new.csv/.part-00020-98123e4e-c48d-45c3-b34b-b3f03c4045e0-c000.csv.crc\r\n",
      "data/temp/sparkify_model_new.csv/.part-00084-98123e4e-c48d-45c3-b34b-b3f03c4045e0-c000.csv.crc\r\n",
      "data/temp/sparkify_model_new.csv/.part-00122-98123e4e-c48d-45c3-b34b-b3f03c4045e0-c000.csv.crc\r\n",
      "data/temp/sparkify_model_new.csv/.part-00153-98123e4e-c48d-45c3-b34b-b3f03c4045e0-c000.csv.crc\r\n",
      "data/temp/sparkify_model_new.csv/.part-00003-98123e4e-c48d-45c3-b34b-b3f03c4045e0-c000.csv.crc\r\n",
      "data/temp/sparkify_model_new.csv/.part-00037-98123e4e-c48d-45c3-b34b-b3f03c4045e0-c000.csv.crc\r\n",
      "data/temp/sparkify_model_new.csv/.part-00174-98123e4e-c48d-45c3-b34b-b3f03c4045e0-c000.csv.crc\r\n",
      "data/temp/sparkify_model_new.csv/.part-00021-98123e4e-c48d-45c3-b34b-b3f03c4045e0-c000.csv.crc\r\n",
      "data/temp/sparkify_model_new.csv/.part-00120-98123e4e-c48d-45c3-b34b-b3f03c4045e0-c000.csv.crc\r\n",
      "data/temp/sparkify_model_new.csv/.part-00116-98123e4e-c48d-45c3-b34b-b3f03c4045e0-c000.csv.crc\r\n",
      "data/temp/sparkify_model_new.csv/.part-00030-98123e4e-c48d-45c3-b34b-b3f03c4045e0-c000.csv.crc\r\n",
      "data/temp/sparkify_model_new.csv/.part-00095-98123e4e-c48d-45c3-b34b-b3f03c4045e0-c000.csv.crc\r\n",
      "data/temp/sparkify_model_new.csv/.part-00180-98123e4e-c48d-45c3-b34b-b3f03c4045e0-c000.csv.crc\r\n",
      "data/temp/sparkify_model_new.csv/.part-00036-98123e4e-c48d-45c3-b34b-b3f03c4045e0-c000.csv.crc\r\n",
      "data/temp/sparkify_model_new.csv/.part-00091-98123e4e-c48d-45c3-b34b-b3f03c4045e0-c000.csv.crc\r\n",
      "data/temp/sparkify_model_new.csv/.part-00101-98123e4e-c48d-45c3-b34b-b3f03c4045e0-c000.csv.crc\r\n",
      "data/temp/sparkify_model_new.csv/.part-00145-98123e4e-c48d-45c3-b34b-b3f03c4045e0-c000.csv.crc\r\n",
      "data/temp/sparkify_model_new.csv/.part-00059-98123e4e-c48d-45c3-b34b-b3f03c4045e0-c000.csv.crc\r\n",
      "data/temp/sparkify_model_new.csv/.part-00143-98123e4e-c48d-45c3-b34b-b3f03c4045e0-c000.csv.crc\r\n",
      "data/temp/sparkify_model_new.csv/.part-00154-98123e4e-c48d-45c3-b34b-b3f03c4045e0-c000.csv.crc\r\n",
      "data/temp/sparkify_model_new.csv/.part-00142-98123e4e-c48d-45c3-b34b-b3f03c4045e0-c000.csv.crc\r\n",
      "data/temp/sparkify_model_new.csv/.part-00117-98123e4e-c48d-45c3-b34b-b3f03c4045e0-c000.csv.crc\r\n",
      "data/temp/sparkify_model_new.csv/.part-00014-98123e4e-c48d-45c3-b34b-b3f03c4045e0-c000.csv.crc\r\n",
      "data/temp/sparkify_model_new.csv/.part-00011-98123e4e-c48d-45c3-b34b-b3f03c4045e0-c000.csv.crc\r\n",
      "data/temp/sparkify_model_new.csv/.part-00178-98123e4e-c48d-45c3-b34b-b3f03c4045e0-c000.csv.crc\r\n",
      "data/temp/sparkify_model_new.csv/.part-00137-98123e4e-c48d-45c3-b34b-b3f03c4045e0-c000.csv.crc\r\n",
      "data/temp/sparkify_model_new.csv/.part-00171-98123e4e-c48d-45c3-b34b-b3f03c4045e0-c000.csv.crc\r\n",
      "data/temp/sparkify_model_new.csv/.part-00175-98123e4e-c48d-45c3-b34b-b3f03c4045e0-c000.csv.crc\r\n",
      "data/temp/sparkify_model_new.csv/.part-00042-98123e4e-c48d-45c3-b34b-b3f03c4045e0-c000.csv.crc\r\n",
      "data/temp/sparkify_model_new.csv/.part-00068-98123e4e-c48d-45c3-b34b-b3f03c4045e0-c000.csv.crc\r\n",
      "data/temp/sparkify_model_new.csv/.part-00147-98123e4e-c48d-45c3-b34b-b3f03c4045e0-c000.csv.crc\r\n",
      "data/temp/sparkify_model_new.csv/.part-00183-98123e4e-c48d-45c3-b34b-b3f03c4045e0-c000.csv.crc\r\n",
      "data/temp/sparkify_model_new.csv/.part-00008-98123e4e-c48d-45c3-b34b-b3f03c4045e0-c000.csv.crc\r\n",
      "data/temp/sparkify_model_new.csv/.part-00131-98123e4e-c48d-45c3-b34b-b3f03c4045e0-c000.csv.crc\r\n",
      "data/temp/sparkify_model_new.csv/.part-00082-98123e4e-c48d-45c3-b34b-b3f03c4045e0-c000.csv.crc\r\n",
      "data/temp/sparkify_model_new.csv/.part-00089-98123e4e-c48d-45c3-b34b-b3f03c4045e0-c000.csv.crc\r\n",
      "data/temp/sparkify_model_new.csv/.part-00064-98123e4e-c48d-45c3-b34b-b3f03c4045e0-c000.csv.crc\r\n",
      "data/temp/sparkify_model_new.csv/.part-00045-98123e4e-c48d-45c3-b34b-b3f03c4045e0-c000.csv.crc\r\n",
      "data/temp/sparkify_model_new.csv/.part-00070-98123e4e-c48d-45c3-b34b-b3f03c4045e0-c000.csv.crc\r\n",
      "data/temp/sparkify_model_new.csv/.part-00189-98123e4e-c48d-45c3-b34b-b3f03c4045e0-c000.csv.crc\r\n",
      "data/temp/sparkify_model_new.csv/.part-00076-98123e4e-c48d-45c3-b34b-b3f03c4045e0-c000.csv.crc\r\n",
      "data/temp/sparkify_model_new.csv/.part-00163-98123e4e-c48d-45c3-b34b-b3f03c4045e0-c000.csv.crc\r\n",
      "data/temp/sparkify_model_new.csv/.part-00015-98123e4e-c48d-45c3-b34b-b3f03c4045e0-c000.csv.crc\r\n",
      "data/temp/sparkify_model_new.csv/.part-00054-98123e4e-c48d-45c3-b34b-b3f03c4045e0-c000.csv.crc\r\n",
      "data/temp/sparkify_model_new.csv/.part-00138-98123e4e-c48d-45c3-b34b-b3f03c4045e0-c000.csv.crc\r\n",
      "data/temp/sparkify_model_new.csv/.part-00177-98123e4e-c48d-45c3-b34b-b3f03c4045e0-c000.csv.crc\r\n",
      "data/temp/sparkify_model_new.csv/.part-00063-98123e4e-c48d-45c3-b34b-b3f03c4045e0-c000.csv.crc\r\n",
      "data/temp/sparkify_model_new.csv/.part-00111-98123e4e-c48d-45c3-b34b-b3f03c4045e0-c000.csv.crc\r\n",
      "data/temp/sparkify_model_new.csv/.part-00039-98123e4e-c48d-45c3-b34b-b3f03c4045e0-c000.csv.crc\r\n",
      "data/temp/sparkify_model_new.csv/.part-00046-98123e4e-c48d-45c3-b34b-b3f03c4045e0-c000.csv.crc\r\n",
      "data/temp/sparkify_model_new.csv/.part-00123-98123e4e-c48d-45c3-b34b-b3f03c4045e0-c000.csv.crc\r\n",
      "data/temp/sparkify_model_new.csv/.part-00073-98123e4e-c48d-45c3-b34b-b3f03c4045e0-c000.csv.crc\r\n",
      "data/temp/sparkify_model_new.csv/.part-00001-98123e4e-c48d-45c3-b34b-b3f03c4045e0-c000.csv.crc\r\n",
      "data/temp/sparkify_model_new.csv/.part-00097-98123e4e-c48d-45c3-b34b-b3f03c4045e0-c000.csv.crc\r\n",
      "data/temp/sparkify_model_new.csv/.part-00071-98123e4e-c48d-45c3-b34b-b3f03c4045e0-c000.csv.crc\r\n",
      "data/temp/sparkify_model_new.csv/.part-00135-98123e4e-c48d-45c3-b34b-b3f03c4045e0-c000.csv.crc\r\n",
      "data/temp/sparkify_model_new.csv/.part-00017-98123e4e-c48d-45c3-b34b-b3f03c4045e0-c000.csv.crc\r\n",
      "data/temp/sparkify_model_new.csv/.part-00109-98123e4e-c48d-45c3-b34b-b3f03c4045e0-c000.csv.crc\r\n",
      "data/temp/sparkify_model_new.csv/._SUCCESS.crc\r\n",
      "data/temp/sparkify_model_new.csv/.part-00195-98123e4e-c48d-45c3-b34b-b3f03c4045e0-c000.csv.crc\r\n",
      "data/temp/sparkify_model_new.csv/.part-00031-98123e4e-c48d-45c3-b34b-b3f03c4045e0-c000.csv.crc\r\n",
      "data/temp/sparkify_model_new.csv/.part-00105-98123e4e-c48d-45c3-b34b-b3f03c4045e0-c000.csv.crc\r\n",
      "data/temp/sparkify_model_new.csv/.part-00049-98123e4e-c48d-45c3-b34b-b3f03c4045e0-c000.csv.crc\r\n",
      "data/temp/sparkify_model_new.csv/.part-00162-98123e4e-c48d-45c3-b34b-b3f03c4045e0-c000.csv.crc\r\n",
      "data/temp/sparkify_model_new.csv/.part-00092-98123e4e-c48d-45c3-b34b-b3f03c4045e0-c000.csv.crc\r\n",
      "data/temp/sparkify_model_new.csv/.ipynb_checkpoints/\r\n",
      "data/temp/sparkify_model_new.csv/.part-00094-98123e4e-c48d-45c3-b34b-b3f03c4045e0-c000.csv.crc\r\n",
      "data/temp/sparkify_model_new.csv/.part-00167-98123e4e-c48d-45c3-b34b-b3f03c4045e0-c000.csv.crc\r\n",
      "data/temp/sparkify_model_new.csv/.part-00034-98123e4e-c48d-45c3-b34b-b3f03c4045e0-c000.csv.crc\r\n",
      "data/temp/sparkify_model_new.csv/.part-00187-98123e4e-c48d-45c3-b34b-b3f03c4045e0-c000.csv.crc\r\n",
      "data/temp/sparkify_model_new.csv/.part-00169-98123e4e-c48d-45c3-b34b-b3f03c4045e0-c000.csv.crc\r\n",
      "data/temp/sparkify_model_new.csv/.part-00168-98123e4e-c48d-45c3-b34b-b3f03c4045e0-c000.csv.crc\r\n",
      "data/temp/sparkify_model_new.csv/.part-00198-98123e4e-c48d-45c3-b34b-b3f03c4045e0-c000.csv.crc\r\n",
      "data/temp/sparkify_model_new.csv/.part-00192-98123e4e-c48d-45c3-b34b-b3f03c4045e0-c000.csv.crc\r\n",
      "data/temp/sparkify_model_new.csv/.part-00016-98123e4e-c48d-45c3-b34b-b3f03c4045e0-c000.csv.crc\r\n",
      "data/temp/sparkify_model_new.csv/.part-00065-98123e4e-c48d-45c3-b34b-b3f03c4045e0-c000.csv.crc\r\n",
      "data/temp/sparkify_model_new.csv/.part-00152-98123e4e-c48d-45c3-b34b-b3f03c4045e0-c000.csv.crc\r\n",
      "data/temp/sparkify_model_new.csv/.part-00119-98123e4e-c48d-45c3-b34b-b3f03c4045e0-c000.csv.crc\r\n",
      "data/temp/sparkify_model_new.csv/.part-00053-98123e4e-c48d-45c3-b34b-b3f03c4045e0-c000.csv.crc\r\n",
      "data/temp/sparkify_model_new.csv/.part-00179-98123e4e-c48d-45c3-b34b-b3f03c4045e0-c000.csv.crc\r\n",
      "data/temp/sparkify_model_new.csv/.part-00199-98123e4e-c48d-45c3-b34b-b3f03c4045e0-c000.csv.crc\r\n",
      "data/temp/sparkify_model_new.csv/.part-00058-98123e4e-c48d-45c3-b34b-b3f03c4045e0-c000.csv.crc\r\n",
      "data/temp/sparkify_model_new.csv/.part-00087-98123e4e-c48d-45c3-b34b-b3f03c4045e0-c000.csv.crc\r\n",
      "data/temp/sparkify_model_new.csv/.part-00078-98123e4e-c48d-45c3-b34b-b3f03c4045e0-c000.csv.crc\r\n",
      "data/temp/sparkify_model_new.csv/.part-00062-98123e4e-c48d-45c3-b34b-b3f03c4045e0-c000.csv.crc\r\n",
      "data/temp/sparkify_model_new.csv/.part-00166-98123e4e-c48d-45c3-b34b-b3f03c4045e0-c000.csv.crc\r\n",
      "data/temp/sparkify_model_new.csv/.part-00024-98123e4e-c48d-45c3-b34b-b3f03c4045e0-c000.csv.crc\r\n",
      "data/temp/sparkify_model_new.csv/.part-00182-98123e4e-c48d-45c3-b34b-b3f03c4045e0-c000.csv.crc\r\n",
      "data/temp/sparkify_model_new.csv/.part-00146-98123e4e-c48d-45c3-b34b-b3f03c4045e0-c000.csv.crc\r\n",
      "data/temp/sparkify_model_new.csv/.part-00048-98123e4e-c48d-45c3-b34b-b3f03c4045e0-c000.csv.crc\r\n",
      "data/temp/sparkify_model_new.csv/.part-00158-98123e4e-c48d-45c3-b34b-b3f03c4045e0-c000.csv.crc\r\n",
      "data/temp/sparkify_model_new.csv/.part-00134-98123e4e-c48d-45c3-b34b-b3f03c4045e0-c000.csv.crc\r\n",
      "data/temp/sparkify_model_new.csv/.part-00157-98123e4e-c48d-45c3-b34b-b3f03c4045e0-c000.csv.crc\r\n",
      "data/temp/sparkify_model_new.csv/.part-00075-98123e4e-c48d-45c3-b34b-b3f03c4045e0-c000.csv.crc\r\n",
      "data/temp/sparkify_model_new.csv/.part-00196-98123e4e-c48d-45c3-b34b-b3f03c4045e0-c000.csv.crc\r\n",
      "data/temp/sparkify_model_new.csv/.part-00113-98123e4e-c48d-45c3-b34b-b3f03c4045e0-c000.csv.crc\r\n",
      "data/temp/sparkify_model_new.csv/.part-00104-98123e4e-c48d-45c3-b34b-b3f03c4045e0-c000.csv.crc\r\n",
      "data/temp/sparkify_model_new.csv/.part-00115-98123e4e-c48d-45c3-b34b-b3f03c4045e0-c000.csv.crc\r\n",
      "data/temp/sparkify_model_new.csv/.part-00067-98123e4e-c48d-45c3-b34b-b3f03c4045e0-c000.csv.crc\r\n",
      "data/temp/sparkify_model_new.csv/.part-00074-98123e4e-c48d-45c3-b34b-b3f03c4045e0-c000.csv.crc\r\n",
      "data/temp/sparkify_model_new.csv/.part-00149-98123e4e-c48d-45c3-b34b-b3f03c4045e0-c000.csv.crc\r\n",
      "data/temp/sparkify_model_new.csv/.part-00148-98123e4e-c48d-45c3-b34b-b3f03c4045e0-c000.csv.crc\r\n",
      "data/temp/sparkify_model_new.csv/.part-00033-98123e4e-c48d-45c3-b34b-b3f03c4045e0-c000.csv.crc\r\n",
      "data/temp/sparkify_model_new.csv/.part-00129-98123e4e-c48d-45c3-b34b-b3f03c4045e0-c000.csv.crc\r\n",
      "data/temp/sparkify_model_new.csv/.part-00197-98123e4e-c48d-45c3-b34b-b3f03c4045e0-c000.csv.crc\r\n",
      "data/temp/sparkify_model_new.csv/.part-00132-98123e4e-c48d-45c3-b34b-b3f03c4045e0-c000.csv.crc\r\n",
      "data/temp/sparkify_model_new.csv/.part-00161-98123e4e-c48d-45c3-b34b-b3f03c4045e0-c000.csv.crc\r\n",
      "data/temp/sparkify_model_new.csv/.part-00164-98123e4e-c48d-45c3-b34b-b3f03c4045e0-c000.csv.crc\r\n",
      "data/temp/sparkify_model_new.csv/.part-00173-98123e4e-c48d-45c3-b34b-b3f03c4045e0-c000.csv.crc\r\n",
      "data/temp/sparkify_model_new.csv/.part-00188-98123e4e-c48d-45c3-b34b-b3f03c4045e0-c000.csv.crc\r\n",
      "data/temp/sparkify_model_new.csv/.part-00127-98123e4e-c48d-45c3-b34b-b3f03c4045e0-c000.csv.crc\r\n",
      "data/temp/sparkify_model_new.csv/.part-00144-98123e4e-c48d-45c3-b34b-b3f03c4045e0-c000.csv.crc\r\n",
      "data/temp/sparkify_model_new.csv/.part-00156-98123e4e-c48d-45c3-b34b-b3f03c4045e0-c000.csv.crc\r\n",
      "data/temp/sparkify_model_new.csv/.part-00019-98123e4e-c48d-45c3-b34b-b3f03c4045e0-c000.csv.crc\r\n",
      "data/temp/sparkify_model_new.csv/.part-00114-98123e4e-c48d-45c3-b34b-b3f03c4045e0-c000.csv.crc\r\n",
      "data/temp/sparkify_model_new.csv/.part-00088-98123e4e-c48d-45c3-b34b-b3f03c4045e0-c000.csv.crc\r\n",
      "data/temp/sparkify_model_new.csv/.part-00040-98123e4e-c48d-45c3-b34b-b3f03c4045e0-c000.csv.crc\r\n",
      "data/temp/sparkify_model_new.csv/.part-00170-98123e4e-c48d-45c3-b34b-b3f03c4045e0-c000.csv.crc\r\n",
      "data/temp/sparkify_model_new.csv/.part-00029-98123e4e-c48d-45c3-b34b-b3f03c4045e0-c000.csv.crc\r\n",
      "data/temp/sparkify_model_new.csv/.part-00009-98123e4e-c48d-45c3-b34b-b3f03c4045e0-c000.csv.crc\r\n",
      "data/temp/sparkify_model_new.csv/.part-00083-98123e4e-c48d-45c3-b34b-b3f03c4045e0-c000.csv.crc\r\n",
      "data/temp/sparkify_model_new.csv/.part-00160-98123e4e-c48d-45c3-b34b-b3f03c4045e0-c000.csv.crc\r\n",
      "data/temp/sparkify_model_new.csv/.part-00139-98123e4e-c48d-45c3-b34b-b3f03c4045e0-c000.csv.crc\r\n",
      "data/temp/sparkify_model_new.csv/.part-00077-98123e4e-c48d-45c3-b34b-b3f03c4045e0-c000.csv.crc\r\n",
      "data/temp/sparkify_model_new.csv/.part-00013-98123e4e-c48d-45c3-b34b-b3f03c4045e0-c000.csv.crc\r\n",
      "data/temp/sparkify_model_new.csv/.part-00038-98123e4e-c48d-45c3-b34b-b3f03c4045e0-c000.csv.crc\r\n",
      "data/temp/sparkify_model_new.csv/.part-00141-98123e4e-c48d-45c3-b34b-b3f03c4045e0-c000.csv.crc\r\n",
      "data/temp/sparkify_model_new.csv/.part-00155-98123e4e-c48d-45c3-b34b-b3f03c4045e0-c000.csv.crc\r\n",
      "data/temp/sparkify_model_new.csv/.part-00126-98123e4e-c48d-45c3-b34b-b3f03c4045e0-c000.csv.crc\r\n",
      "data/temp/sparkify_model_new.csv/.part-00099-98123e4e-c48d-45c3-b34b-b3f03c4045e0-c000.csv.crc\r\n",
      "data/temp/sparkify_model_vf.csv/\r\n",
      "data/temp/sparkify_model_vf.csv/.part-00068-7ab84cba-e412-4603-bb78-aef33e43daa1-c000.csv.crc\r\n",
      "data/temp/sparkify_model_vf.csv/.part-00174-7ab84cba-e412-4603-bb78-aef33e43daa1-c000.csv.crc\r\n",
      "data/temp/sparkify_model_vf.csv/part-00189-7ab84cba-e412-4603-bb78-aef33e43daa1-c000.csv\r\n",
      "data/temp/sparkify_model_vf.csv/.part-00143-7ab84cba-e412-4603-bb78-aef33e43daa1-c000.csv.crc\r\n",
      "data/temp/sparkify_model_vf.csv/part-00082-7ab84cba-e412-4603-bb78-aef33e43daa1-c000.csv\r\n",
      "data/temp/sparkify_model_vf.csv/part-00045-7ab84cba-e412-4603-bb78-aef33e43daa1-c000.csv\r\n",
      "data/temp/sparkify_model_vf.csv/part-00097-7ab84cba-e412-4603-bb78-aef33e43daa1-c000.csv\r\n",
      "data/temp/sparkify_model_vf.csv/.part-00091-7ab84cba-e412-4603-bb78-aef33e43daa1-c000.csv.crc\r\n",
      "data/temp/sparkify_model_vf.csv/.part-00070-7ab84cba-e412-4603-bb78-aef33e43daa1-c000.csv.crc\r\n",
      "data/temp/sparkify_model_vf.csv/.part-00192-7ab84cba-e412-4603-bb78-aef33e43daa1-c000.csv.crc\r\n",
      "data/temp/sparkify_model_vf.csv/part-00008-7ab84cba-e412-4603-bb78-aef33e43daa1-c000.csv\r\n",
      "data/temp/sparkify_model_vf.csv/part-00198-7ab84cba-e412-4603-bb78-aef33e43daa1-c000.csv\r\n",
      "data/temp/sparkify_model_vf.csv/part-00183-7ab84cba-e412-4603-bb78-aef33e43daa1-c000.csv\r\n",
      "data/temp/sparkify_model_vf.csv/part-00026-7ab84cba-e412-4603-bb78-aef33e43daa1-c000.csv\r\n",
      "data/temp/sparkify_model_vf.csv/.part-00173-7ab84cba-e412-4603-bb78-aef33e43daa1-c000.csv.crc\r\n",
      "data/temp/sparkify_model_vf.csv/.part-00059-7ab84cba-e412-4603-bb78-aef33e43daa1-c000.csv.crc\r\n",
      "data/temp/sparkify_model_vf.csv/.part-00139-7ab84cba-e412-4603-bb78-aef33e43daa1-c000.csv.crc\r\n",
      "data/temp/sparkify_model_vf.csv/.part-00017-7ab84cba-e412-4603-bb78-aef33e43daa1-c000.csv.crc\r\n",
      "data/temp/sparkify_model_vf.csv/.part-00008-7ab84cba-e412-4603-bb78-aef33e43daa1-c000.csv.crc\r\n",
      "data/temp/sparkify_model_vf.csv/.part-00049-7ab84cba-e412-4603-bb78-aef33e43daa1-c000.csv.crc\r\n",
      "data/temp/sparkify_model_vf.csv/.part-00129-7ab84cba-e412-4603-bb78-aef33e43daa1-c000.csv.crc\r\n",
      "data/temp/sparkify_model_vf.csv/part-00160-7ab84cba-e412-4603-bb78-aef33e43daa1-c000.csv\r\n",
      "data/temp/sparkify_model_vf.csv/part-00146-7ab84cba-e412-4603-bb78-aef33e43daa1-c000.csv\r\n",
      "data/temp/sparkify_model_vf.csv/part-00177-7ab84cba-e412-4603-bb78-aef33e43daa1-c000.csv\r\n",
      "data/temp/sparkify_model_vf.csv/.part-00101-7ab84cba-e412-4603-bb78-aef33e43daa1-c000.csv.crc\r\n",
      "data/temp/sparkify_model_vf.csv/.part-00013-7ab84cba-e412-4603-bb78-aef33e43daa1-c000.csv.crc\r\n",
      "data/temp/sparkify_model_vf.csv/part-00114-7ab84cba-e412-4603-bb78-aef33e43daa1-c000.csv\r\n",
      "data/temp/sparkify_model_vf.csv/part-00070-7ab84cba-e412-4603-bb78-aef33e43daa1-c000.csv\r\n",
      "data/temp/sparkify_model_vf.csv/part-00038-7ab84cba-e412-4603-bb78-aef33e43daa1-c000.csv\r\n",
      "data/temp/sparkify_model_vf.csv/part-00111-7ab84cba-e412-4603-bb78-aef33e43daa1-c000.csv\r\n",
      "data/temp/sparkify_model_vf.csv/.part-00146-7ab84cba-e412-4603-bb78-aef33e43daa1-c000.csv.crc\r\n",
      "data/temp/sparkify_model_vf.csv/part-00163-7ab84cba-e412-4603-bb78-aef33e43daa1-c000.csv\r\n",
      "data/temp/sparkify_model_vf.csv/part-00122-7ab84cba-e412-4603-bb78-aef33e43daa1-c000.csv\r\n",
      "data/temp/sparkify_model_vf.csv/.part-00071-7ab84cba-e412-4603-bb78-aef33e43daa1-c000.csv.crc\r\n",
      "data/temp/sparkify_model_vf.csv/part-00157-7ab84cba-e412-4603-bb78-aef33e43daa1-c000.csv\r\n",
      "data/temp/sparkify_model_vf.csv/.part-00145-7ab84cba-e412-4603-bb78-aef33e43daa1-c000.csv.crc\r\n",
      "data/temp/sparkify_model_vf.csv/part-00018-7ab84cba-e412-4603-bb78-aef33e43daa1-c000.csv\r\n",
      "data/temp/sparkify_model_vf.csv/.part-00092-7ab84cba-e412-4603-bb78-aef33e43daa1-c000.csv.crc\r\n",
      "data/temp/sparkify_model_vf.csv/part-00037-7ab84cba-e412-4603-bb78-aef33e43daa1-c000.csv\r\n",
      "data/temp/sparkify_model_vf.csv/part-00180-7ab84cba-e412-4603-bb78-aef33e43daa1-c000.csv\r\n",
      "data/temp/sparkify_model_vf.csv/.part-00105-7ab84cba-e412-4603-bb78-aef33e43daa1-c000.csv.crc\r\n",
      "data/temp/sparkify_model_vf.csv/part-00085-7ab84cba-e412-4603-bb78-aef33e43daa1-c000.csv\r\n",
      "data/temp/sparkify_model_vf.csv/part-00126-7ab84cba-e412-4603-bb78-aef33e43daa1-c000.csv\r\n",
      "data/temp/sparkify_model_vf.csv/.part-00045-7ab84cba-e412-4603-bb78-aef33e43daa1-c000.csv.crc\r\n",
      "data/temp/sparkify_model_vf.csv/.part-00083-7ab84cba-e412-4603-bb78-aef33e43daa1-c000.csv.crc\r\n",
      "data/temp/sparkify_model_vf.csv/part-00076-7ab84cba-e412-4603-bb78-aef33e43daa1-c000.csv\r\n",
      "data/temp/sparkify_model_vf.csv/part-00020-7ab84cba-e412-4603-bb78-aef33e43daa1-c000.csv\r\n",
      "data/temp/sparkify_model_vf.csv/part-00169-7ab84cba-e412-4603-bb78-aef33e43daa1-c000.csv\r\n",
      "data/temp/sparkify_model_vf.csv/part-00161-7ab84cba-e412-4603-bb78-aef33e43daa1-c000.csv\r\n",
      "data/temp/sparkify_model_vf.csv/part-00115-7ab84cba-e412-4603-bb78-aef33e43daa1-c000.csv\r\n",
      "data/temp/sparkify_model_vf.csv/.part-00154-7ab84cba-e412-4603-bb78-aef33e43daa1-c000.csv.crc\r\n",
      "data/temp/sparkify_model_vf.csv/.part-00144-7ab84cba-e412-4603-bb78-aef33e43daa1-c000.csv.crc\r\n",
      "data/temp/sparkify_model_vf.csv/part-00099-7ab84cba-e412-4603-bb78-aef33e43daa1-c000.csv\r\n",
      "data/temp/sparkify_model_vf.csv/part-00134-7ab84cba-e412-4603-bb78-aef33e43daa1-c000.csv\r\n",
      "data/temp/sparkify_model_vf.csv/part-00040-7ab84cba-e412-4603-bb78-aef33e43daa1-c000.csv\r\n",
      "data/temp/sparkify_model_vf.csv/.part-00148-7ab84cba-e412-4603-bb78-aef33e43daa1-c000.csv.crc\r\n",
      "data/temp/sparkify_model_vf.csv/part-00152-7ab84cba-e412-4603-bb78-aef33e43daa1-c000.csv\r\n",
      "data/temp/sparkify_model_vf.csv/.part-00157-7ab84cba-e412-4603-bb78-aef33e43daa1-c000.csv.crc\r\n",
      "data/temp/sparkify_model_vf.csv/.part-00029-7ab84cba-e412-4603-bb78-aef33e43daa1-c000.csv.crc\r\n",
      "data/temp/sparkify_model_vf.csv/.part-00131-7ab84cba-e412-4603-bb78-aef33e43daa1-c000.csv.crc\r\n",
      "data/temp/sparkify_model_vf.csv/part-00143-7ab84cba-e412-4603-bb78-aef33e43daa1-c000.csv\r\n",
      "data/temp/sparkify_model_vf.csv/.part-00009-7ab84cba-e412-4603-bb78-aef33e43daa1-c000.csv.crc\r\n",
      "data/temp/sparkify_model_vf.csv/.part-00171-7ab84cba-e412-4603-bb78-aef33e43daa1-c000.csv.crc\r\n",
      "data/temp/sparkify_model_vf.csv/.part-00053-7ab84cba-e412-4603-bb78-aef33e43daa1-c000.csv.crc\r\n",
      "data/temp/sparkify_model_vf.csv/part-00178-7ab84cba-e412-4603-bb78-aef33e43daa1-c000.csv\r\n",
      "data/temp/sparkify_model_vf.csv/.part-00024-7ab84cba-e412-4603-bb78-aef33e43daa1-c000.csv.crc\r\n",
      "data/temp/sparkify_model_vf.csv/part-00073-7ab84cba-e412-4603-bb78-aef33e43daa1-c000.csv\r\n",
      "data/temp/sparkify_model_vf.csv/.part-00142-7ab84cba-e412-4603-bb78-aef33e43daa1-c000.csv.crc\r\n",
      "data/temp/sparkify_model_vf.csv/.part-00020-7ab84cba-e412-4603-bb78-aef33e43daa1-c000.csv.crc\r\n",
      "data/temp/sparkify_model_vf.csv/.part-00199-7ab84cba-e412-4603-bb78-aef33e43daa1-c000.csv.crc\r\n",
      "data/temp/sparkify_model_vf.csv/.part-00153-7ab84cba-e412-4603-bb78-aef33e43daa1-c000.csv.crc\r\n",
      "data/temp/sparkify_model_vf.csv/part-00075-7ab84cba-e412-4603-bb78-aef33e43daa1-c000.csv\r\n",
      "data/temp/sparkify_model_vf.csv/part-00058-7ab84cba-e412-4603-bb78-aef33e43daa1-c000.csv\r\n",
      "data/temp/sparkify_model_vf.csv/.part-00135-7ab84cba-e412-4603-bb78-aef33e43daa1-c000.csv.crc\r\n",
      "data/temp/sparkify_model_vf.csv/.part-00187-7ab84cba-e412-4603-bb78-aef33e43daa1-c000.csv.crc\r\n",
      "data/temp/sparkify_model_vf.csv/part-00034-7ab84cba-e412-4603-bb78-aef33e43daa1-c000.csv\r\n",
      "data/temp/sparkify_model_vf.csv/.part-00067-7ab84cba-e412-4603-bb78-aef33e43daa1-c000.csv.crc\r\n",
      "data/temp/sparkify_model_vf.csv/.part-00007-7ab84cba-e412-4603-bb78-aef33e43daa1-c000.csv.crc\r\n",
      "data/temp/sparkify_model_vf.csv/part-00138-7ab84cba-e412-4603-bb78-aef33e43daa1-c000.csv\r\n",
      "data/temp/sparkify_model_vf.csv/.part-00051-7ab84cba-e412-4603-bb78-aef33e43daa1-c000.csv.crc\r\n",
      "data/temp/sparkify_model_vf.csv/part-00162-7ab84cba-e412-4603-bb78-aef33e43daa1-c000.csv\r\n",
      "data/temp/sparkify_model_vf.csv/.part-00003-7ab84cba-e412-4603-bb78-aef33e43daa1-c000.csv.crc\r\n",
      "data/temp/sparkify_model_vf.csv/part-00003-7ab84cba-e412-4603-bb78-aef33e43daa1-c000.csv\r\n",
      "data/temp/sparkify_model_vf.csv/.part-00137-7ab84cba-e412-4603-bb78-aef33e43daa1-c000.csv.crc\r\n",
      "data/temp/sparkify_model_vf.csv/.part-00078-7ab84cba-e412-4603-bb78-aef33e43daa1-c000.csv.crc\r\n",
      "data/temp/sparkify_model_vf.csv/part-00087-7ab84cba-e412-4603-bb78-aef33e43daa1-c000.csv\r\n",
      "data/temp/sparkify_model_vf.csv/part-00063-7ab84cba-e412-4603-bb78-aef33e43daa1-c000.csv\r\n",
      "data/temp/sparkify_model_vf.csv/part-00074-7ab84cba-e412-4603-bb78-aef33e43daa1-c000.csv\r\n",
      "data/temp/sparkify_model_vf.csv/part-00089-7ab84cba-e412-4603-bb78-aef33e43daa1-c000.csv\r\n",
      "data/temp/sparkify_model_vf.csv/part-00009-7ab84cba-e412-4603-bb78-aef33e43daa1-c000.csv\r\n",
      "data/temp/sparkify_model_vf.csv/part-00062-7ab84cba-e412-4603-bb78-aef33e43daa1-c000.csv\r\n",
      "data/temp/sparkify_model_vf.csv/.part-00120-7ab84cba-e412-4603-bb78-aef33e43daa1-c000.csv.crc\r\n",
      "data/temp/sparkify_model_vf.csv/.part-00015-7ab84cba-e412-4603-bb78-aef33e43daa1-c000.csv.crc\r\n",
      "data/temp/sparkify_model_vf.csv/part-00173-7ab84cba-e412-4603-bb78-aef33e43daa1-c000.csv\r\n",
      "data/temp/sparkify_model_vf.csv/.part-00039-7ab84cba-e412-4603-bb78-aef33e43daa1-c000.csv.crc\r\n",
      "data/temp/sparkify_model_vf.csv/part-00077-7ab84cba-e412-4603-bb78-aef33e43daa1-c000.csv\r\n",
      "data/temp/sparkify_model_vf.csv/.part-00162-7ab84cba-e412-4603-bb78-aef33e43daa1-c000.csv.crc\r\n",
      "data/temp/sparkify_model_vf.csv/part-00187-7ab84cba-e412-4603-bb78-aef33e43daa1-c000.csv\r\n",
      "data/temp/sparkify_model_vf.csv/_SUCCESS\r\n",
      "data/temp/sparkify_model_vf.csv/part-00170-7ab84cba-e412-4603-bb78-aef33e43daa1-c000.csv\r\n",
      "data/temp/sparkify_model_vf.csv/.part-00046-7ab84cba-e412-4603-bb78-aef33e43daa1-c000.csv.crc\r\n",
      "data/temp/sparkify_model_vf.csv/.part-00087-7ab84cba-e412-4603-bb78-aef33e43daa1-c000.csv.crc\r\n",
      "data/temp/sparkify_model_vf.csv/.part-00054-7ab84cba-e412-4603-bb78-aef33e43daa1-c000.csv.crc\r\n",
      "data/temp/sparkify_model_vf.csv/part-00158-7ab84cba-e412-4603-bb78-aef33e43daa1-c000.csv\r\n",
      "data/temp/sparkify_model_vf.csv/.part-00111-7ab84cba-e412-4603-bb78-aef33e43daa1-c000.csv.crc\r\n",
      "data/temp/sparkify_model_vf.csv/.part-00178-7ab84cba-e412-4603-bb78-aef33e43daa1-c000.csv.crc\r\n",
      "data/temp/sparkify_model_vf.csv/part-00068-7ab84cba-e412-4603-bb78-aef33e43daa1-c000.csv\r\n",
      "data/temp/sparkify_model_vf.csv/part-00179-7ab84cba-e412-4603-bb78-aef33e43daa1-c000.csv\r\n",
      "data/temp/sparkify_model_vf.csv/part-00001-7ab84cba-e412-4603-bb78-aef33e43daa1-c000.csv\r\n",
      "data/temp/sparkify_model_vf.csv/.part-00019-7ab84cba-e412-4603-bb78-aef33e43daa1-c000.csv.crc\r\n",
      "data/temp/sparkify_model_vf.csv/.part-00048-7ab84cba-e412-4603-bb78-aef33e43daa1-c000.csv.crc\r\n",
      "data/temp/sparkify_model_vf.csv/.part-00084-7ab84cba-e412-4603-bb78-aef33e43daa1-c000.csv.crc\r\n",
      "data/temp/sparkify_model_vf.csv/.part-00180-7ab84cba-e412-4603-bb78-aef33e43daa1-c000.csv.crc\r\n",
      "data/temp/sparkify_model_vf.csv/.part-00058-7ab84cba-e412-4603-bb78-aef33e43daa1-c000.csv.crc\r\n",
      "data/temp/sparkify_model_vf.csv/.part-00040-7ab84cba-e412-4603-bb78-aef33e43daa1-c000.csv.crc\r\n",
      "data/temp/sparkify_model_vf.csv/part-00091-7ab84cba-e412-4603-bb78-aef33e43daa1-c000.csv\r\n",
      "data/temp/sparkify_model_vf.csv/.part-00023-7ab84cba-e412-4603-bb78-aef33e43daa1-c000.csv.crc\r\n",
      "data/temp/sparkify_model_vf.csv/part-00107-7ab84cba-e412-4603-bb78-aef33e43daa1-c000.csv\r\n",
      "data/temp/sparkify_model_vf.csv/part-00131-7ab84cba-e412-4603-bb78-aef33e43daa1-c000.csv\r\n",
      "data/temp/sparkify_model_vf.csv/.part-00097-7ab84cba-e412-4603-bb78-aef33e43daa1-c000.csv.crc\r\n",
      "data/temp/sparkify_model_vf.csv/part-00139-7ab84cba-e412-4603-bb78-aef33e43daa1-c000.csv\r\n",
      "data/temp/sparkify_model_vf.csv/part-00147-7ab84cba-e412-4603-bb78-aef33e43daa1-c000.csv\r\n",
      "data/temp/sparkify_model_vf.csv/part-00149-7ab84cba-e412-4603-bb78-aef33e43daa1-c000.csv\r\n",
      "data/temp/sparkify_model_vf.csv/part-00024-7ab84cba-e412-4603-bb78-aef33e43daa1-c000.csv\r\n",
      "data/temp/sparkify_model_vf.csv/.part-00188-7ab84cba-e412-4603-bb78-aef33e43daa1-c000.csv.crc\r\n",
      "data/temp/sparkify_model_vf.csv/.part-00114-7ab84cba-e412-4603-bb78-aef33e43daa1-c000.csv.crc\r\n",
      "data/temp/sparkify_model_vf.csv/._SUCCESS.crc\r\n",
      "data/temp/sparkify_model_vf.csv/part-00120-7ab84cba-e412-4603-bb78-aef33e43daa1-c000.csv\r\n",
      "data/temp/sparkify_model_vf.csv/.part-00160-7ab84cba-e412-4603-bb78-aef33e43daa1-c000.csv.crc\r\n",
      "data/temp/sparkify_model_vf.csv/.part-00001-7ab84cba-e412-4603-bb78-aef33e43daa1-c000.csv.crc\r\n",
      "data/temp/sparkify_model_vf.csv/.part-00073-7ab84cba-e412-4603-bb78-aef33e43daa1-c000.csv.crc\r\n",
      "data/temp/sparkify_model_vf.csv/.part-00116-7ab84cba-e412-4603-bb78-aef33e43daa1-c000.csv.crc\r\n",
      "data/temp/sparkify_model_vf.csv/.part-00196-7ab84cba-e412-4603-bb78-aef33e43daa1-c000.csv.crc\r\n",
      "data/temp/sparkify_model_vf.csv/part-00105-7ab84cba-e412-4603-bb78-aef33e43daa1-c000.csv\r\n",
      "data/temp/sparkify_model_vf.csv/part-00132-7ab84cba-e412-4603-bb78-aef33e43daa1-c000.csv\r\n",
      "data/temp/sparkify_model_vf.csv/.part-00141-7ab84cba-e412-4603-bb78-aef33e43daa1-c000.csv.crc\r\n",
      "data/temp/sparkify_model_vf.csv/part-00021-7ab84cba-e412-4603-bb78-aef33e43daa1-c000.csv\r\n",
      "data/temp/sparkify_model_vf.csv/part-00142-7ab84cba-e412-4603-bb78-aef33e43daa1-c000.csv\r\n",
      "data/temp/sparkify_model_vf.csv/.part-00163-7ab84cba-e412-4603-bb78-aef33e43daa1-c000.csv.crc\r\n",
      "data/temp/sparkify_model_vf.csv/.part-00082-7ab84cba-e412-4603-bb78-aef33e43daa1-c000.csv.crc\r\n",
      "data/temp/sparkify_model_vf.csv/part-00109-7ab84cba-e412-4603-bb78-aef33e43daa1-c000.csv\r\n",
      "data/temp/sparkify_model_vf.csv/part-00048-7ab84cba-e412-4603-bb78-aef33e43daa1-c000.csv\r\n",
      "data/temp/sparkify_model_vf.csv/part-00155-7ab84cba-e412-4603-bb78-aef33e43daa1-c000.csv\r\n",
      "data/temp/sparkify_model_vf.csv/.part-00147-7ab84cba-e412-4603-bb78-aef33e43daa1-c000.csv.crc\r\n",
      "data/temp/sparkify_model_vf.csv/part-00013-7ab84cba-e412-4603-bb78-aef33e43daa1-c000.csv\r\n",
      "data/temp/sparkify_model_vf.csv/.part-00085-7ab84cba-e412-4603-bb78-aef33e43daa1-c000.csv.crc\r\n",
      "data/temp/sparkify_model_vf.csv/.part-00132-7ab84cba-e412-4603-bb78-aef33e43daa1-c000.csv.crc\r\n",
      "data/temp/sparkify_model_vf.csv/.part-00033-7ab84cba-e412-4603-bb78-aef33e43daa1-c000.csv.crc\r\n",
      "data/temp/sparkify_model_vf.csv/.part-00038-7ab84cba-e412-4603-bb78-aef33e43daa1-c000.csv.crc\r\n",
      "data/temp/sparkify_model_vf.csv/part-00016-7ab84cba-e412-4603-bb78-aef33e43daa1-c000.csv\r\n",
      "data/temp/sparkify_model_vf.csv/.part-00000-7ab84cba-e412-4603-bb78-aef33e43daa1-c000.csv.crc\r\n",
      "data/temp/sparkify_model_vf.csv/.part-00198-7ab84cba-e412-4603-bb78-aef33e43daa1-c000.csv.crc\r\n",
      "data/temp/sparkify_model_vf.csv/part-00188-7ab84cba-e412-4603-bb78-aef33e43daa1-c000.csv\r\n",
      "data/temp/sparkify_model_vf.csv/part-00030-7ab84cba-e412-4603-bb78-aef33e43daa1-c000.csv\r\n",
      "data/temp/sparkify_model_vf.csv/.part-00026-7ab84cba-e412-4603-bb78-aef33e43daa1-c000.csv.crc\r\n",
      "data/temp/sparkify_model_vf.csv/.part-00095-7ab84cba-e412-4603-bb78-aef33e43daa1-c000.csv.crc\r\n",
      "data/temp/sparkify_model_vf.csv/part-00094-7ab84cba-e412-4603-bb78-aef33e43daa1-c000.csv\r\n",
      "data/temp/sparkify_model_vf.csv/.part-00055-7ab84cba-e412-4603-bb78-aef33e43daa1-c000.csv.crc\r\n",
      "data/temp/sparkify_model_vf.csv/part-00154-7ab84cba-e412-4603-bb78-aef33e43daa1-c000.csv\r\n",
      "data/temp/sparkify_model_vf.csv/.part-00117-7ab84cba-e412-4603-bb78-aef33e43daa1-c000.csv.crc\r\n",
      "data/temp/sparkify_model_vf.csv/.part-00195-7ab84cba-e412-4603-bb78-aef33e43daa1-c000.csv.crc\r\n",
      "data/temp/sparkify_model_vf.csv/part-00117-7ab84cba-e412-4603-bb78-aef33e43daa1-c000.csv\r\n",
      "data/temp/sparkify_model_vf.csv/.part-00018-7ab84cba-e412-4603-bb78-aef33e43daa1-c000.csv.crc\r\n",
      "data/temp/sparkify_model_vf.csv/.part-00149-7ab84cba-e412-4603-bb78-aef33e43daa1-c000.csv.crc\r\n",
      "data/temp/sparkify_model_vf.csv/.part-00123-7ab84cba-e412-4603-bb78-aef33e43daa1-c000.csv.crc\r\n",
      "data/temp/sparkify_model_vf.csv/.part-00113-7ab84cba-e412-4603-bb78-aef33e43daa1-c000.csv.crc\r\n",
      "data/temp/sparkify_model_vf.csv/.part-00021-7ab84cba-e412-4603-bb78-aef33e43daa1-c000.csv.crc\r\n",
      "data/temp/sparkify_model_vf.csv/part-00017-7ab84cba-e412-4603-bb78-aef33e43daa1-c000.csv\r\n",
      "data/temp/sparkify_model_vf.csv/.part-00064-7ab84cba-e412-4603-bb78-aef33e43daa1-c000.csv.crc\r\n",
      "data/temp/sparkify_model_vf.csv/part-00054-7ab84cba-e412-4603-bb78-aef33e43daa1-c000.csv\r\n",
      "data/temp/sparkify_model_vf.csv/part-00113-7ab84cba-e412-4603-bb78-aef33e43daa1-c000.csv\r\n",
      "data/temp/sparkify_model_vf.csv/.part-00109-7ab84cba-e412-4603-bb78-aef33e43daa1-c000.csv.crc\r\n",
      "data/temp/sparkify_model_vf.csv/.part-00179-7ab84cba-e412-4603-bb78-aef33e43daa1-c000.csv.crc\r\n",
      "data/temp/sparkify_model_vf.csv/part-00065-7ab84cba-e412-4603-bb78-aef33e43daa1-c000.csv\r\n",
      "data/temp/sparkify_model_vf.csv/.part-00166-7ab84cba-e412-4603-bb78-aef33e43daa1-c000.csv.crc\r\n",
      "data/temp/sparkify_model_vf.csv/part-00129-7ab84cba-e412-4603-bb78-aef33e43daa1-c000.csv\r\n",
      "data/temp/sparkify_model_vf.csv/part-00135-7ab84cba-e412-4603-bb78-aef33e43daa1-c000.csv\r\n",
      "data/temp/sparkify_model_vf.csv/.part-00197-7ab84cba-e412-4603-bb78-aef33e43daa1-c000.csv.crc\r\n",
      "data/temp/sparkify_model_vf.csv/.part-00155-7ab84cba-e412-4603-bb78-aef33e43daa1-c000.csv.crc\r\n",
      "data/temp/sparkify_model_vf.csv/.part-00175-7ab84cba-e412-4603-bb78-aef33e43daa1-c000.csv.crc\r\n",
      "data/temp/sparkify_model_vf.csv/.part-00034-7ab84cba-e412-4603-bb78-aef33e43daa1-c000.csv.crc\r\n",
      "data/temp/sparkify_model_vf.csv/.part-00030-7ab84cba-e412-4603-bb78-aef33e43daa1-c000.csv.crc\r\n",
      "data/temp/sparkify_model_vf.csv/.part-00037-7ab84cba-e412-4603-bb78-aef33e43daa1-c000.csv.crc\r\n",
      "data/temp/sparkify_model_vf.csv/.part-00065-7ab84cba-e412-4603-bb78-aef33e43daa1-c000.csv.crc\r\n",
      "data/temp/sparkify_model_vf.csv/part-00127-7ab84cba-e412-4603-bb78-aef33e43daa1-c000.csv\r\n",
      "data/temp/sparkify_model_vf.csv/part-00116-7ab84cba-e412-4603-bb78-aef33e43daa1-c000.csv\r\n",
      "data/temp/sparkify_model_vf.csv/part-00064-7ab84cba-e412-4603-bb78-aef33e43daa1-c000.csv\r\n",
      "data/temp/sparkify_model_vf.csv/part-00167-7ab84cba-e412-4603-bb78-aef33e43daa1-c000.csv\r\n",
      "data/temp/sparkify_model_vf.csv/.part-00161-7ab84cba-e412-4603-bb78-aef33e43daa1-c000.csv.crc\r\n",
      "data/temp/sparkify_model_vf.csv/.part-00167-7ab84cba-e412-4603-bb78-aef33e43daa1-c000.csv.crc\r\n",
      "data/temp/sparkify_model_vf.csv/.part-00031-7ab84cba-e412-4603-bb78-aef33e43daa1-c000.csv.crc\r\n",
      "data/temp/sparkify_model_vf.csv/part-00032-7ab84cba-e412-4603-bb78-aef33e43daa1-c000.csv\r\n",
      "data/temp/sparkify_model_vf.csv/part-00141-7ab84cba-e412-4603-bb78-aef33e43daa1-c000.csv\r\n",
      "data/temp/sparkify_model_vf.csv/part-00042-7ab84cba-e412-4603-bb78-aef33e43daa1-c000.csv\r\n",
      "data/temp/sparkify_model_vf.csv/.part-00099-7ab84cba-e412-4603-bb78-aef33e43daa1-c000.csv.crc\r\n",
      "data/temp/sparkify_model_vf.csv/part-00196-7ab84cba-e412-4603-bb78-aef33e43daa1-c000.csv\r\n",
      "data/temp/sparkify_model_vf.csv/.part-00074-7ab84cba-e412-4603-bb78-aef33e43daa1-c000.csv.crc\r\n",
      "data/temp/sparkify_model_vf.csv/part-00023-7ab84cba-e412-4603-bb78-aef33e43daa1-c000.csv\r\n",
      "data/temp/sparkify_model_vf.csv/.part-00115-7ab84cba-e412-4603-bb78-aef33e43daa1-c000.csv.crc\r\n",
      "data/temp/sparkify_model_vf.csv/part-00019-7ab84cba-e412-4603-bb78-aef33e43daa1-c000.csv\r\n",
      "data/temp/sparkify_model_vf.csv/part-00029-7ab84cba-e412-4603-bb78-aef33e43daa1-c000.csv\r\n",
      "data/temp/sparkify_model_vf.csv/.part-00036-7ab84cba-e412-4603-bb78-aef33e43daa1-c000.csv.crc\r\n",
      "data/temp/sparkify_model_vf.csv/part-00164-7ab84cba-e412-4603-bb78-aef33e43daa1-c000.csv\r\n",
      "data/temp/sparkify_model_vf.csv/part-00051-7ab84cba-e412-4603-bb78-aef33e43daa1-c000.csv\r\n",
      "data/temp/sparkify_model_vf.csv/part-00145-7ab84cba-e412-4603-bb78-aef33e43daa1-c000.csv\r\n",
      "data/temp/sparkify_model_vf.csv/.part-00126-7ab84cba-e412-4603-bb78-aef33e43daa1-c000.csv.crc\r\n",
      "data/temp/sparkify_model_vf.csv/part-00071-7ab84cba-e412-4603-bb78-aef33e43daa1-c000.csv\r\n",
      "data/temp/sparkify_model_vf.csv/.part-00168-7ab84cba-e412-4603-bb78-aef33e43daa1-c000.csv.crc\r\n",
      "data/temp/sparkify_model_vf.csv/.part-00089-7ab84cba-e412-4603-bb78-aef33e43daa1-c000.csv.crc\r\n",
      "data/temp/sparkify_model_vf.csv/.part-00014-7ab84cba-e412-4603-bb78-aef33e43daa1-c000.csv.crc\r\n",
      "data/temp/sparkify_model_vf.csv/.part-00183-7ab84cba-e412-4603-bb78-aef33e43daa1-c000.csv.crc\r\n",
      "data/temp/sparkify_model_vf.csv/.part-00177-7ab84cba-e412-4603-bb78-aef33e43daa1-c000.csv.crc\r\n",
      "data/temp/sparkify_model_vf.csv/part-00156-7ab84cba-e412-4603-bb78-aef33e43daa1-c000.csv\r\n",
      "data/temp/sparkify_model_vf.csv/.part-00094-7ab84cba-e412-4603-bb78-aef33e43daa1-c000.csv.crc\r\n",
      "data/temp/sparkify_model_vf.csv/.part-00016-7ab84cba-e412-4603-bb78-aef33e43daa1-c000.csv.crc\r\n",
      "data/temp/sparkify_model_vf.csv/part-00049-7ab84cba-e412-4603-bb78-aef33e43daa1-c000.csv\r\n",
      "data/temp/sparkify_model_vf.csv/.part-00011-7ab84cba-e412-4603-bb78-aef33e43daa1-c000.csv.crc\r\n",
      "data/temp/sparkify_model_vf.csv/part-00199-7ab84cba-e412-4603-bb78-aef33e43daa1-c000.csv\r\n",
      "data/temp/sparkify_model_vf.csv/part-00166-7ab84cba-e412-4603-bb78-aef33e43daa1-c000.csv\r\n",
      "data/temp/sparkify_model_vf.csv/.part-00127-7ab84cba-e412-4603-bb78-aef33e43daa1-c000.csv.crc\r\n",
      "data/temp/sparkify_model_vf.csv/part-00101-7ab84cba-e412-4603-bb78-aef33e43daa1-c000.csv\r\n",
      "data/temp/sparkify_model_vf.csv/.part-00156-7ab84cba-e412-4603-bb78-aef33e43daa1-c000.csv.crc\r\n",
      "data/temp/sparkify_model_vf.csv/part-00083-7ab84cba-e412-4603-bb78-aef33e43daa1-c000.csv\r\n",
      "data/temp/sparkify_model_vf.csv/.part-00077-7ab84cba-e412-4603-bb78-aef33e43daa1-c000.csv.crc\r\n",
      "data/temp/sparkify_model_vf.csv/part-00182-7ab84cba-e412-4603-bb78-aef33e43daa1-c000.csv\r\n",
      "data/temp/sparkify_model_vf.csv/.part-00062-7ab84cba-e412-4603-bb78-aef33e43daa1-c000.csv.crc\r\n",
      "data/temp/sparkify_model_vf.csv/.part-00107-7ab84cba-e412-4603-bb78-aef33e43daa1-c000.csv.crc\r\n",
      "data/temp/sparkify_model_vf.csv/part-00144-7ab84cba-e412-4603-bb78-aef33e43daa1-c000.csv\r\n",
      "data/temp/sparkify_model_vf.csv/part-00195-7ab84cba-e412-4603-bb78-aef33e43daa1-c000.csv\r\n",
      "data/temp/sparkify_model_vf.csv/.part-00182-7ab84cba-e412-4603-bb78-aef33e43daa1-c000.csv.crc\r\n",
      "data/temp/sparkify_model_vf.csv/.part-00134-7ab84cba-e412-4603-bb78-aef33e43daa1-c000.csv.crc\r\n",
      "data/temp/sparkify_model_vf.csv/part-00053-7ab84cba-e412-4603-bb78-aef33e43daa1-c000.csv\r\n",
      "data/temp/sparkify_model_vf.csv/part-00192-7ab84cba-e412-4603-bb78-aef33e43daa1-c000.csv\r\n",
      "data/temp/sparkify_model_vf.csv/.part-00169-7ab84cba-e412-4603-bb78-aef33e43daa1-c000.csv.crc\r\n",
      "data/temp/sparkify_model_vf.csv/part-00031-7ab84cba-e412-4603-bb78-aef33e43daa1-c000.csv\r\n",
      "data/temp/sparkify_model_vf.csv/part-00055-7ab84cba-e412-4603-bb78-aef33e43daa1-c000.csv\r\n",
      "data/temp/sparkify_model_vf.csv/part-00171-7ab84cba-e412-4603-bb78-aef33e43daa1-c000.csv\r\n",
      "data/temp/sparkify_model_vf.csv/part-00078-7ab84cba-e412-4603-bb78-aef33e43daa1-c000.csv\r\n",
      "data/temp/sparkify_model_vf.csv/part-00168-7ab84cba-e412-4603-bb78-aef33e43daa1-c000.csv\r\n",
      "data/temp/sparkify_model_vf.csv/part-00174-7ab84cba-e412-4603-bb78-aef33e43daa1-c000.csv\r\n",
      "data/temp/sparkify_model_vf.csv/part-00137-7ab84cba-e412-4603-bb78-aef33e43daa1-c000.csv\r\n",
      "data/temp/sparkify_model_vf.csv/part-00007-7ab84cba-e412-4603-bb78-aef33e43daa1-c000.csv\r\n",
      "data/temp/sparkify_model_vf.csv/part-00011-7ab84cba-e412-4603-bb78-aef33e43daa1-c000.csv\r\n",
      "data/temp/sparkify_model_vf.csv/.part-00152-7ab84cba-e412-4603-bb78-aef33e43daa1-c000.csv.crc\r\n",
      "data/temp/sparkify_model_vf.csv/part-00084-7ab84cba-e412-4603-bb78-aef33e43daa1-c000.csv\r\n",
      "data/temp/sparkify_model_vf.csv/.part-00122-7ab84cba-e412-4603-bb78-aef33e43daa1-c000.csv.crc\r\n",
      "data/temp/sparkify_model_vf.csv/part-00123-7ab84cba-e412-4603-bb78-aef33e43daa1-c000.csv\r\n",
      "data/temp/sparkify_model_vf.csv/.part-00032-7ab84cba-e412-4603-bb78-aef33e43daa1-c000.csv.crc\r\n",
      "data/temp/sparkify_model_vf.csv/part-00153-7ab84cba-e412-4603-bb78-aef33e43daa1-c000.csv\r\n",
      "data/temp/sparkify_model_vf.csv/part-00000-7ab84cba-e412-4603-bb78-aef33e43daa1-c000.csv\r\n",
      "data/temp/sparkify_model_vf.csv/.part-00119-7ab84cba-e412-4603-bb78-aef33e43daa1-c000.csv.crc\r\n",
      "data/temp/sparkify_model_vf.csv/part-00033-7ab84cba-e412-4603-bb78-aef33e43daa1-c000.csv\r\n",
      "data/temp/sparkify_model_vf.csv/part-00046-7ab84cba-e412-4603-bb78-aef33e43daa1-c000.csv\r\n",
      "data/temp/sparkify_model_vf.csv/.part-00063-7ab84cba-e412-4603-bb78-aef33e43daa1-c000.csv.crc\r\n",
      "data/temp/sparkify_model_vf.csv/part-00059-7ab84cba-e412-4603-bb78-aef33e43daa1-c000.csv\r\n",
      "data/temp/sparkify_model_vf.csv/part-00175-7ab84cba-e412-4603-bb78-aef33e43daa1-c000.csv\r\n",
      "data/temp/sparkify_model_vf.csv/part-00148-7ab84cba-e412-4603-bb78-aef33e43daa1-c000.csv\r\n",
      "data/temp/sparkify_model_vf.csv/part-00067-7ab84cba-e412-4603-bb78-aef33e43daa1-c000.csv\r\n",
      "data/temp/sparkify_model_vf.csv/part-00119-7ab84cba-e412-4603-bb78-aef33e43daa1-c000.csv\r\n",
      "data/temp/sparkify_model_vf.csv/part-00092-7ab84cba-e412-4603-bb78-aef33e43daa1-c000.csv\r\n",
      "data/temp/sparkify_model_vf.csv/.part-00042-7ab84cba-e412-4603-bb78-aef33e43daa1-c000.csv.crc\r\n",
      "data/temp/sparkify_model_vf.csv/part-00039-7ab84cba-e412-4603-bb78-aef33e43daa1-c000.csv\r\n",
      "data/temp/sparkify_model_vf.csv/part-00095-7ab84cba-e412-4603-bb78-aef33e43daa1-c000.csv\r\n",
      "data/temp/sparkify_model_vf.csv/.part-00104-7ab84cba-e412-4603-bb78-aef33e43daa1-c000.csv.crc\r\n",
      "data/temp/sparkify_model_vf.csv/.part-00088-7ab84cba-e412-4603-bb78-aef33e43daa1-c000.csv.crc\r\n",
      "data/temp/sparkify_model_vf.csv/part-00036-7ab84cba-e412-4603-bb78-aef33e43daa1-c000.csv\r\n",
      "data/temp/sparkify_model_vf.csv/.part-00158-7ab84cba-e412-4603-bb78-aef33e43daa1-c000.csv.crc\r\n",
      "data/temp/sparkify_model_vf.csv/.part-00138-7ab84cba-e412-4603-bb78-aef33e43daa1-c000.csv.crc\r\n",
      "data/temp/sparkify_model_vf.csv/.part-00076-7ab84cba-e412-4603-bb78-aef33e43daa1-c000.csv.crc\r\n",
      "data/temp/sparkify_model_vf.csv/part-00014-7ab84cba-e412-4603-bb78-aef33e43daa1-c000.csv\r\n",
      "data/temp/sparkify_model_vf.csv/.part-00170-7ab84cba-e412-4603-bb78-aef33e43daa1-c000.csv.crc\r\n",
      "data/temp/sparkify_model_vf.csv/part-00104-7ab84cba-e412-4603-bb78-aef33e43daa1-c000.csv\r\n",
      "data/temp/sparkify_model_vf.csv/.part-00164-7ab84cba-e412-4603-bb78-aef33e43daa1-c000.csv.crc\r\n",
      "data/temp/sparkify_model_vf.csv/.part-00075-7ab84cba-e412-4603-bb78-aef33e43daa1-c000.csv.crc\r\n",
      "data/temp/sparkify_model_vf.csv/part-00088-7ab84cba-e412-4603-bb78-aef33e43daa1-c000.csv\r\n",
      "data/temp/sparkify_model_vf.csv/part-00015-7ab84cba-e412-4603-bb78-aef33e43daa1-c000.csv\r\n",
      "data/temp/sparkify_model_vf.csv/part-00197-7ab84cba-e412-4603-bb78-aef33e43daa1-c000.csv\r\n",
      "data/temp/sparkify_model_vf.csv/.part-00189-7ab84cba-e412-4603-bb78-aef33e43daa1-c000.csv.crc\r\n",
      "data/sparkify_model_merge.csv/\r\n",
      "data/sparkify_model_merge.csv/.part-00054-e1d2c7a1-b1cb-49e0-bd13-26e2cd9ca73f-c000.csv.crc\r\n",
      "data/sparkify_model_merge.csv/part-00180-e1d2c7a1-b1cb-49e0-bd13-26e2cd9ca73f-c000.csv\r\n",
      "data/sparkify_model_merge.csv/part-00123-e1d2c7a1-b1cb-49e0-bd13-26e2cd9ca73f-c000.csv\r\n",
      "data/sparkify_model_merge.csv/.part-00156-e1d2c7a1-b1cb-49e0-bd13-26e2cd9ca73f-c000.csv.crc\r\n",
      "data/sparkify_model_merge.csv/.part-00062-e1d2c7a1-b1cb-49e0-bd13-26e2cd9ca73f-c000.csv.crc\r\n",
      "data/sparkify_model_merge.csv/part-00030-e1d2c7a1-b1cb-49e0-bd13-26e2cd9ca73f-c000.csv\r\n",
      "data/sparkify_model_merge.csv/part-00107-e1d2c7a1-b1cb-49e0-bd13-26e2cd9ca73f-c000.csv\r\n",
      "data/sparkify_model_merge.csv/part-00099-e1d2c7a1-b1cb-49e0-bd13-26e2cd9ca73f-c000.csv\r\n",
      "data/sparkify_model_merge.csv/.part-00042-e1d2c7a1-b1cb-49e0-bd13-26e2cd9ca73f-c000.csv.crc\r\n",
      "data/sparkify_model_merge.csv/.part-00122-e1d2c7a1-b1cb-49e0-bd13-26e2cd9ca73f-c000.csv.crc\r\n",
      "data/sparkify_model_merge.csv/.part-00105-e1d2c7a1-b1cb-49e0-bd13-26e2cd9ca73f-c000.csv.crc\r\n",
      "data/sparkify_model_merge.csv/part-00141-e1d2c7a1-b1cb-49e0-bd13-26e2cd9ca73f-c000.csv\r\n",
      "data/sparkify_model_merge.csv/part-00042-e1d2c7a1-b1cb-49e0-bd13-26e2cd9ca73f-c000.csv\r\n",
      "data/sparkify_model_merge.csv/part-00055-e1d2c7a1-b1cb-49e0-bd13-26e2cd9ca73f-c000.csv\r\n",
      "data/sparkify_model_merge.csv/.part-00143-e1d2c7a1-b1cb-49e0-bd13-26e2cd9ca73f-c000.csv.crc\r\n",
      "data/sparkify_model_merge.csv/.part-00082-e1d2c7a1-b1cb-49e0-bd13-26e2cd9ca73f-c000.csv.crc\r\n",
      "data/sparkify_model_merge.csv/part-00038-e1d2c7a1-b1cb-49e0-bd13-26e2cd9ca73f-c000.csv\r\n",
      "data/sparkify_model_merge.csv/.part-00077-e1d2c7a1-b1cb-49e0-bd13-26e2cd9ca73f-c000.csv.crc\r\n",
      "data/sparkify_model_merge.csv/.part-00095-e1d2c7a1-b1cb-49e0-bd13-26e2cd9ca73f-c000.csv.crc\r\n",
      "data/sparkify_model_merge.csv/.part-00020-e1d2c7a1-b1cb-49e0-bd13-26e2cd9ca73f-c000.csv.crc\r\n",
      "data/sparkify_model_merge.csv/.part-00091-e1d2c7a1-b1cb-49e0-bd13-26e2cd9ca73f-c000.csv.crc\r\n",
      "data/sparkify_model_merge.csv/.part-00099-e1d2c7a1-b1cb-49e0-bd13-26e2cd9ca73f-c000.csv.crc\r\n",
      "data/sparkify_model_merge.csv/part-00085-e1d2c7a1-b1cb-49e0-bd13-26e2cd9ca73f-c000.csv\r\n",
      "data/sparkify_model_merge.csv/.part-00067-e1d2c7a1-b1cb-49e0-bd13-26e2cd9ca73f-c000.csv.crc\r\n",
      "data/sparkify_model_merge.csv/.part-00070-e1d2c7a1-b1cb-49e0-bd13-26e2cd9ca73f-c000.csv.crc\r\n",
      "data/sparkify_model_merge.csv/.part-00148-e1d2c7a1-b1cb-49e0-bd13-26e2cd9ca73f-c000.csv.crc\r\n",
      "data/sparkify_model_merge.csv/.part-00117-e1d2c7a1-b1cb-49e0-bd13-26e2cd9ca73f-c000.csv.crc\r\n",
      "data/sparkify_model_merge.csv/.part-00019-e1d2c7a1-b1cb-49e0-bd13-26e2cd9ca73f-c000.csv.crc\r\n",
      "data/sparkify_model_merge.csv/.part-00033-e1d2c7a1-b1cb-49e0-bd13-26e2cd9ca73f-c000.csv.crc\r\n",
      "data/sparkify_model_merge.csv/.part-00119-e1d2c7a1-b1cb-49e0-bd13-26e2cd9ca73f-c000.csv.crc\r\n",
      "data/sparkify_model_merge.csv/.part-00123-e1d2c7a1-b1cb-49e0-bd13-26e2cd9ca73f-c000.csv.crc\r\n",
      "data/sparkify_model_merge.csv/.part-00058-e1d2c7a1-b1cb-49e0-bd13-26e2cd9ca73f-c000.csv.crc\r\n",
      "data/sparkify_model_merge.csv/.part-00134-e1d2c7a1-b1cb-49e0-bd13-26e2cd9ca73f-c000.csv.crc\r\n",
      "data/sparkify_model_merge.csv/.part-00144-e1d2c7a1-b1cb-49e0-bd13-26e2cd9ca73f-c000.csv.crc\r\n",
      "data/sparkify_model_merge.csv/part-00026-e1d2c7a1-b1cb-49e0-bd13-26e2cd9ca73f-c000.csv\r\n",
      "data/sparkify_model_merge.csv/part-00024-e1d2c7a1-b1cb-49e0-bd13-26e2cd9ca73f-c000.csv\r\n",
      "data/sparkify_model_merge.csv/.part-00000-e1d2c7a1-b1cb-49e0-bd13-26e2cd9ca73f-c000.csv.crc\r\n",
      "data/sparkify_model_merge.csv/.part-00177-e1d2c7a1-b1cb-49e0-bd13-26e2cd9ca73f-c000.csv.crc\r\n",
      "data/sparkify_model_merge.csv/.part-00198-e1d2c7a1-b1cb-49e0-bd13-26e2cd9ca73f-c000.csv.crc\r\n",
      "data/sparkify_model_merge.csv/part-00088-e1d2c7a1-b1cb-49e0-bd13-26e2cd9ca73f-c000.csv\r\n",
      "data/sparkify_model_merge.csv/part-00078-e1d2c7a1-b1cb-49e0-bd13-26e2cd9ca73f-c000.csv\r\n",
      "data/sparkify_model_merge.csv/part-00119-e1d2c7a1-b1cb-49e0-bd13-26e2cd9ca73f-c000.csv\r\n",
      "data/sparkify_model_merge.csv/part-00175-e1d2c7a1-b1cb-49e0-bd13-26e2cd9ca73f-c000.csv\r\n",
      "data/sparkify_model_merge.csv/.part-00013-e1d2c7a1-b1cb-49e0-bd13-26e2cd9ca73f-c000.csv.crc\r\n",
      "data/sparkify_model_merge.csv/part-00143-e1d2c7a1-b1cb-49e0-bd13-26e2cd9ca73f-c000.csv\r\n",
      "data/sparkify_model_merge.csv/.part-00195-e1d2c7a1-b1cb-49e0-bd13-26e2cd9ca73f-c000.csv.crc\r\n",
      "data/sparkify_model_merge.csv/part-00127-e1d2c7a1-b1cb-49e0-bd13-26e2cd9ca73f-c000.csv\r\n",
      "data/sparkify_model_merge.csv/.part-00145-e1d2c7a1-b1cb-49e0-bd13-26e2cd9ca73f-c000.csv.crc\r\n",
      "data/sparkify_model_merge.csv/part-00031-e1d2c7a1-b1cb-49e0-bd13-26e2cd9ca73f-c000.csv\r\n",
      "data/sparkify_model_merge.csv/part-00070-e1d2c7a1-b1cb-49e0-bd13-26e2cd9ca73f-c000.csv\r\n",
      "data/sparkify_model_merge.csv/.part-00182-e1d2c7a1-b1cb-49e0-bd13-26e2cd9ca73f-c000.csv.crc\r\n",
      "data/sparkify_model_merge.csv/.part-00199-e1d2c7a1-b1cb-49e0-bd13-26e2cd9ca73f-c000.csv.crc\r\n",
      "data/sparkify_model_merge.csv/part-00115-e1d2c7a1-b1cb-49e0-bd13-26e2cd9ca73f-c000.csv\r\n",
      "data/sparkify_model_merge.csv/part-00183-e1d2c7a1-b1cb-49e0-bd13-26e2cd9ca73f-c000.csv\r\n",
      "data/sparkify_model_merge.csv/part-00198-e1d2c7a1-b1cb-49e0-bd13-26e2cd9ca73f-c000.csv\r\n",
      "data/sparkify_model_merge.csv/part-00187-e1d2c7a1-b1cb-49e0-bd13-26e2cd9ca73f-c000.csv\r\n",
      "data/sparkify_model_merge.csv/part-00089-e1d2c7a1-b1cb-49e0-bd13-26e2cd9ca73f-c000.csv\r\n",
      "data/sparkify_model_merge.csv/part-00091-e1d2c7a1-b1cb-49e0-bd13-26e2cd9ca73f-c000.csv\r\n",
      "data/sparkify_model_merge.csv/part-00037-e1d2c7a1-b1cb-49e0-bd13-26e2cd9ca73f-c000.csv\r\n",
      "data/sparkify_model_merge.csv/.part-00085-e1d2c7a1-b1cb-49e0-bd13-26e2cd9ca73f-c000.csv.crc\r\n",
      "data/sparkify_model_merge.csv/part-00029-e1d2c7a1-b1cb-49e0-bd13-26e2cd9ca73f-c000.csv\r\n",
      "data/sparkify_model_merge.csv/.part-00003-e1d2c7a1-b1cb-49e0-bd13-26e2cd9ca73f-c000.csv.crc\r\n",
      "data/sparkify_model_merge.csv/.part-00131-e1d2c7a1-b1cb-49e0-bd13-26e2cd9ca73f-c000.csv.crc\r\n",
      "data/sparkify_model_merge.csv/part-00075-e1d2c7a1-b1cb-49e0-bd13-26e2cd9ca73f-c000.csv\r\n",
      "data/sparkify_model_merge.csv/.part-00183-e1d2c7a1-b1cb-49e0-bd13-26e2cd9ca73f-c000.csv.crc\r\n",
      "data/sparkify_model_merge.csv/.part-00030-e1d2c7a1-b1cb-49e0-bd13-26e2cd9ca73f-c000.csv.crc\r\n",
      "data/sparkify_model_merge.csv/.part-00007-e1d2c7a1-b1cb-49e0-bd13-26e2cd9ca73f-c000.csv.crc\r\n",
      "data/sparkify_model_merge.csv/.part-00174-e1d2c7a1-b1cb-49e0-bd13-26e2cd9ca73f-c000.csv.crc\r\n",
      "data/sparkify_model_merge.csv/part-00197-e1d2c7a1-b1cb-49e0-bd13-26e2cd9ca73f-c000.csv\r\n",
      "data/sparkify_model_merge.csv/part-00169-e1d2c7a1-b1cb-49e0-bd13-26e2cd9ca73f-c000.csv\r\n",
      "data/sparkify_model_merge.csv/.part-00114-e1d2c7a1-b1cb-49e0-bd13-26e2cd9ca73f-c000.csv.crc\r\n",
      "data/sparkify_model_merge.csv/part-00009-e1d2c7a1-b1cb-49e0-bd13-26e2cd9ca73f-c000.csv\r\n",
      "data/sparkify_model_merge.csv/part-00095-e1d2c7a1-b1cb-49e0-bd13-26e2cd9ca73f-c000.csv\r\n",
      "data/sparkify_model_merge.csv/part-00168-e1d2c7a1-b1cb-49e0-bd13-26e2cd9ca73f-c000.csv\r\n",
      "data/sparkify_model_merge.csv/.part-00109-e1d2c7a1-b1cb-49e0-bd13-26e2cd9ca73f-c000.csv.crc\r\n",
      "data/sparkify_model_merge.csv/.part-00015-e1d2c7a1-b1cb-49e0-bd13-26e2cd9ca73f-c000.csv.crc\r\n",
      "data/sparkify_model_merge.csv/.part-00170-e1d2c7a1-b1cb-49e0-bd13-26e2cd9ca73f-c000.csv.crc\r\n",
      "data/sparkify_model_merge.csv/part-00000-e1d2c7a1-b1cb-49e0-bd13-26e2cd9ca73f-c000.csv\r\n",
      "data/sparkify_model_merge.csv/part-00109-e1d2c7a1-b1cb-49e0-bd13-26e2cd9ca73f-c000.csv\r\n",
      "data/sparkify_model_merge.csv/.part-00187-e1d2c7a1-b1cb-49e0-bd13-26e2cd9ca73f-c000.csv.crc\r\n",
      "data/sparkify_model_merge.csv/.part-00076-e1d2c7a1-b1cb-49e0-bd13-26e2cd9ca73f-c000.csv.crc\r\n",
      "data/sparkify_model_merge.csv/part-00156-e1d2c7a1-b1cb-49e0-bd13-26e2cd9ca73f-c000.csv\r\n",
      "data/sparkify_model_merge.csv/.part-00127-e1d2c7a1-b1cb-49e0-bd13-26e2cd9ca73f-c000.csv.crc\r\n",
      "data/sparkify_model_merge.csv/part-00087-e1d2c7a1-b1cb-49e0-bd13-26e2cd9ca73f-c000.csv\r\n",
      "data/sparkify_model_merge.csv/part-00155-e1d2c7a1-b1cb-49e0-bd13-26e2cd9ca73f-c000.csv\r\n",
      "data/sparkify_model_merge.csv/part-00063-e1d2c7a1-b1cb-49e0-bd13-26e2cd9ca73f-c000.csv\r\n",
      "data/sparkify_model_merge.csv/.part-00189-e1d2c7a1-b1cb-49e0-bd13-26e2cd9ca73f-c000.csv.crc\r\n",
      "data/sparkify_model_merge.csv/part-00166-e1d2c7a1-b1cb-49e0-bd13-26e2cd9ca73f-c000.csv\r\n",
      "data/sparkify_model_merge.csv/.part-00179-e1d2c7a1-b1cb-49e0-bd13-26e2cd9ca73f-c000.csv.crc\r\n",
      "data/sparkify_model_merge.csv/.part-00167-e1d2c7a1-b1cb-49e0-bd13-26e2cd9ca73f-c000.csv.crc\r\n",
      "data/sparkify_model_merge.csv/part-00082-e1d2c7a1-b1cb-49e0-bd13-26e2cd9ca73f-c000.csv\r\n",
      "data/sparkify_model_merge.csv/.part-00083-e1d2c7a1-b1cb-49e0-bd13-26e2cd9ca73f-c000.csv.crc\r\n",
      "data/sparkify_model_merge.csv/part-00045-e1d2c7a1-b1cb-49e0-bd13-26e2cd9ca73f-c000.csv\r\n",
      "data/sparkify_model_merge.csv/_SUCCESS\r\n",
      "data/sparkify_model_merge.csv/.part-00171-e1d2c7a1-b1cb-49e0-bd13-26e2cd9ca73f-c000.csv.crc\r\n",
      "data/sparkify_model_merge.csv/part-00062-e1d2c7a1-b1cb-49e0-bd13-26e2cd9ca73f-c000.csv\r\n",
      "data/sparkify_model_merge.csv/.part-00051-e1d2c7a1-b1cb-49e0-bd13-26e2cd9ca73f-c000.csv.crc\r\n",
      "data/sparkify_model_merge.csv/.part-00141-e1d2c7a1-b1cb-49e0-bd13-26e2cd9ca73f-c000.csv.crc\r\n",
      "data/sparkify_model_merge.csv/.part-00024-e1d2c7a1-b1cb-49e0-bd13-26e2cd9ca73f-c000.csv.crc\r\n",
      "data/sparkify_model_merge.csv/.part-00094-e1d2c7a1-b1cb-49e0-bd13-26e2cd9ca73f-c000.csv.crc\r\n",
      "data/sparkify_model_merge.csv/part-00073-e1d2c7a1-b1cb-49e0-bd13-26e2cd9ca73f-c000.csv\r\n",
      "data/sparkify_model_merge.csv/part-00199-e1d2c7a1-b1cb-49e0-bd13-26e2cd9ca73f-c000.csv\r\n",
      "data/sparkify_model_merge.csv/.part-00055-e1d2c7a1-b1cb-49e0-bd13-26e2cd9ca73f-c000.csv.crc\r\n",
      "data/sparkify_model_merge.csv/.part-00160-e1d2c7a1-b1cb-49e0-bd13-26e2cd9ca73f-c000.csv.crc\r\n",
      "data/sparkify_model_merge.csv/part-00171-e1d2c7a1-b1cb-49e0-bd13-26e2cd9ca73f-c000.csv\r\n",
      "data/sparkify_model_merge.csv/part-00117-e1d2c7a1-b1cb-49e0-bd13-26e2cd9ca73f-c000.csv\r\n",
      "data/sparkify_model_merge.csv/.part-00092-e1d2c7a1-b1cb-49e0-bd13-26e2cd9ca73f-c000.csv.crc\r\n",
      "data/sparkify_model_merge.csv/part-00157-e1d2c7a1-b1cb-49e0-bd13-26e2cd9ca73f-c000.csv\r\n",
      "data/sparkify_model_merge.csv/.part-00065-e1d2c7a1-b1cb-49e0-bd13-26e2cd9ca73f-c000.csv.crc\r\n",
      "data/sparkify_model_merge.csv/part-00188-e1d2c7a1-b1cb-49e0-bd13-26e2cd9ca73f-c000.csv\r\n",
      "data/sparkify_model_merge.csv/.part-00126-e1d2c7a1-b1cb-49e0-bd13-26e2cd9ca73f-c000.csv.crc\r\n",
      "data/sparkify_model_merge.csv/.part-00132-e1d2c7a1-b1cb-49e0-bd13-26e2cd9ca73f-c000.csv.crc\r\n",
      "data/sparkify_model_merge.csv/.part-00188-e1d2c7a1-b1cb-49e0-bd13-26e2cd9ca73f-c000.csv.crc\r\n",
      "data/sparkify_model_merge.csv/part-00163-e1d2c7a1-b1cb-49e0-bd13-26e2cd9ca73f-c000.csv\r\n",
      "data/sparkify_model_merge.csv/.part-00049-e1d2c7a1-b1cb-49e0-bd13-26e2cd9ca73f-c000.csv.crc\r\n",
      "data/sparkify_model_merge.csv/part-00179-e1d2c7a1-b1cb-49e0-bd13-26e2cd9ca73f-c000.csv\r\n",
      "data/sparkify_model_merge.csv/part-00173-e1d2c7a1-b1cb-49e0-bd13-26e2cd9ca73f-c000.csv\r\n",
      "data/sparkify_model_merge.csv/part-00046-e1d2c7a1-b1cb-49e0-bd13-26e2cd9ca73f-c000.csv\r\n",
      "data/sparkify_model_merge.csv/.part-00087-e1d2c7a1-b1cb-49e0-bd13-26e2cd9ca73f-c000.csv.crc\r\n",
      "data/sparkify_model_merge.csv/.part-00084-e1d2c7a1-b1cb-49e0-bd13-26e2cd9ca73f-c000.csv.crc\r\n",
      "data/sparkify_model_merge.csv/part-00147-e1d2c7a1-b1cb-49e0-bd13-26e2cd9ca73f-c000.csv\r\n",
      "data/sparkify_model_merge.csv/part-00092-e1d2c7a1-b1cb-49e0-bd13-26e2cd9ca73f-c000.csv\r\n",
      "data/sparkify_model_merge.csv/.part-00149-e1d2c7a1-b1cb-49e0-bd13-26e2cd9ca73f-c000.csv.crc\r\n",
      "data/sparkify_model_merge.csv/part-00039-e1d2c7a1-b1cb-49e0-bd13-26e2cd9ca73f-c000.csv\r\n",
      "data/sparkify_model_merge.csv/.part-00104-e1d2c7a1-b1cb-49e0-bd13-26e2cd9ca73f-c000.csv.crc\r\n",
      "data/sparkify_model_merge.csv/part-00182-e1d2c7a1-b1cb-49e0-bd13-26e2cd9ca73f-c000.csv\r\n",
      "data/sparkify_model_merge.csv/.part-00073-e1d2c7a1-b1cb-49e0-bd13-26e2cd9ca73f-c000.csv.crc\r\n",
      "data/sparkify_model_merge.csv/._SUCCESS.crc\r\n",
      "data/sparkify_model_merge.csv/.part-00029-e1d2c7a1-b1cb-49e0-bd13-26e2cd9ca73f-c000.csv.crc\r\n",
      "data/sparkify_model_merge.csv/part-00160-e1d2c7a1-b1cb-49e0-bd13-26e2cd9ca73f-c000.csv\r\n",
      "data/sparkify_model_merge.csv/part-00116-e1d2c7a1-b1cb-49e0-bd13-26e2cd9ca73f-c000.csv\r\n",
      "data/sparkify_model_merge.csv/part-00162-e1d2c7a1-b1cb-49e0-bd13-26e2cd9ca73f-c000.csv\r\n",
      "data/sparkify_model_merge.csv/.part-00137-e1d2c7a1-b1cb-49e0-bd13-26e2cd9ca73f-c000.csv.crc\r\n",
      "data/sparkify_model_merge.csv/part-00049-e1d2c7a1-b1cb-49e0-bd13-26e2cd9ca73f-c000.csv\r\n",
      "data/sparkify_model_merge.csv/part-00178-e1d2c7a1-b1cb-49e0-bd13-26e2cd9ca73f-c000.csv\r\n",
      "data/sparkify_model_merge.csv/part-00158-e1d2c7a1-b1cb-49e0-bd13-26e2cd9ca73f-c000.csv\r\n",
      "data/sparkify_model_merge.csv/part-00111-e1d2c7a1-b1cb-49e0-bd13-26e2cd9ca73f-c000.csv\r\n",
      "data/sparkify_model_merge.csv/.part-00075-e1d2c7a1-b1cb-49e0-bd13-26e2cd9ca73f-c000.csv.crc\r\n",
      "data/sparkify_model_merge.csv/.part-00014-e1d2c7a1-b1cb-49e0-bd13-26e2cd9ca73f-c000.csv.crc\r\n",
      "data/sparkify_model_merge.csv/.part-00009-e1d2c7a1-b1cb-49e0-bd13-26e2cd9ca73f-c000.csv.crc\r\n",
      "data/sparkify_model_merge.csv/part-00144-e1d2c7a1-b1cb-49e0-bd13-26e2cd9ca73f-c000.csv\r\n",
      "data/sparkify_model_merge.csv/.part-00018-e1d2c7a1-b1cb-49e0-bd13-26e2cd9ca73f-c000.csv.crc\r\n",
      "data/sparkify_model_merge.csv/part-00189-e1d2c7a1-b1cb-49e0-bd13-26e2cd9ca73f-c000.csv\r\n",
      "data/sparkify_model_merge.csv/part-00120-e1d2c7a1-b1cb-49e0-bd13-26e2cd9ca73f-c000.csv\r\n",
      "data/sparkify_model_merge.csv/.part-00011-e1d2c7a1-b1cb-49e0-bd13-26e2cd9ca73f-c000.csv.crc\r\n",
      "data/sparkify_model_merge.csv/part-00149-e1d2c7a1-b1cb-49e0-bd13-26e2cd9ca73f-c000.csv\r\n",
      "data/sparkify_model_merge.csv/part-00084-e1d2c7a1-b1cb-49e0-bd13-26e2cd9ca73f-c000.csv\r\n",
      "data/sparkify_model_merge.csv/part-00011-e1d2c7a1-b1cb-49e0-bd13-26e2cd9ca73f-c000.csv\r\n",
      "data/sparkify_model_merge.csv/part-00167-e1d2c7a1-b1cb-49e0-bd13-26e2cd9ca73f-c000.csv\r\n",
      "data/sparkify_model_merge.csv/part-00013-e1d2c7a1-b1cb-49e0-bd13-26e2cd9ca73f-c000.csv\r\n",
      "data/sparkify_model_merge.csv/.part-00107-e1d2c7a1-b1cb-49e0-bd13-26e2cd9ca73f-c000.csv.crc\r\n",
      "data/sparkify_model_merge.csv/part-00059-e1d2c7a1-b1cb-49e0-bd13-26e2cd9ca73f-c000.csv\r\n",
      "data/sparkify_model_merge.csv/.part-00088-e1d2c7a1-b1cb-49e0-bd13-26e2cd9ca73f-c000.csv.crc\r\n",
      "data/sparkify_model_merge.csv/part-00032-e1d2c7a1-b1cb-49e0-bd13-26e2cd9ca73f-c000.csv\r\n",
      "data/sparkify_model_merge.csv/part-00170-e1d2c7a1-b1cb-49e0-bd13-26e2cd9ca73f-c000.csv\r\n",
      "data/sparkify_model_merge.csv/part-00139-e1d2c7a1-b1cb-49e0-bd13-26e2cd9ca73f-c000.csv\r\n",
      "data/sparkify_model_merge.csv/.part-00031-e1d2c7a1-b1cb-49e0-bd13-26e2cd9ca73f-c000.csv.crc\r\n",
      "data/sparkify_model_merge.csv/.part-00032-e1d2c7a1-b1cb-49e0-bd13-26e2cd9ca73f-c000.csv.crc\r\n",
      "data/sparkify_model_merge.csv/part-00058-e1d2c7a1-b1cb-49e0-bd13-26e2cd9ca73f-c000.csv\r\n",
      "data/sparkify_model_merge.csv/part-00064-e1d2c7a1-b1cb-49e0-bd13-26e2cd9ca73f-c000.csv\r\n",
      "data/sparkify_model_merge.csv/.part-00164-e1d2c7a1-b1cb-49e0-bd13-26e2cd9ca73f-c000.csv.crc\r\n",
      "data/sparkify_model_merge.csv/part-00113-e1d2c7a1-b1cb-49e0-bd13-26e2cd9ca73f-c000.csv\r\n",
      "data/sparkify_model_merge.csv/part-00152-e1d2c7a1-b1cb-49e0-bd13-26e2cd9ca73f-c000.csv\r\n",
      "data/sparkify_model_merge.csv/part-00148-e1d2c7a1-b1cb-49e0-bd13-26e2cd9ca73f-c000.csv\r\n",
      "data/sparkify_model_merge.csv/part-00174-e1d2c7a1-b1cb-49e0-bd13-26e2cd9ca73f-c000.csv\r\n",
      "data/sparkify_model_merge.csv/.part-00059-e1d2c7a1-b1cb-49e0-bd13-26e2cd9ca73f-c000.csv.crc\r\n",
      "data/sparkify_model_merge.csv/part-00094-e1d2c7a1-b1cb-49e0-bd13-26e2cd9ca73f-c000.csv\r\n",
      "data/sparkify_model_merge.csv/part-00053-e1d2c7a1-b1cb-49e0-bd13-26e2cd9ca73f-c000.csv\r\n",
      "data/sparkify_model_merge.csv/.part-00173-e1d2c7a1-b1cb-49e0-bd13-26e2cd9ca73f-c000.csv.crc\r\n",
      "data/sparkify_model_merge.csv/part-00054-e1d2c7a1-b1cb-49e0-bd13-26e2cd9ca73f-c000.csv\r\n",
      "data/sparkify_model_merge.csv/part-00104-e1d2c7a1-b1cb-49e0-bd13-26e2cd9ca73f-c000.csv\r\n",
      "data/sparkify_model_merge.csv/.part-00111-e1d2c7a1-b1cb-49e0-bd13-26e2cd9ca73f-c000.csv.crc\r\n",
      "data/sparkify_model_merge.csv/part-00065-e1d2c7a1-b1cb-49e0-bd13-26e2cd9ca73f-c000.csv\r\n",
      "data/sparkify_model_merge.csv/part-00137-e1d2c7a1-b1cb-49e0-bd13-26e2cd9ca73f-c000.csv\r\n",
      "data/sparkify_model_merge.csv/.part-00113-e1d2c7a1-b1cb-49e0-bd13-26e2cd9ca73f-c000.csv.crc\r\n",
      "data/sparkify_model_merge.csv/.part-00163-e1d2c7a1-b1cb-49e0-bd13-26e2cd9ca73f-c000.csv.crc\r\n",
      "data/sparkify_model_merge.csv/.part-00037-e1d2c7a1-b1cb-49e0-bd13-26e2cd9ca73f-c000.csv.crc\r\n",
      "data/sparkify_model_merge.csv/part-00021-e1d2c7a1-b1cb-49e0-bd13-26e2cd9ca73f-c000.csv\r\n",
      "data/sparkify_model_merge.csv/part-00020-e1d2c7a1-b1cb-49e0-bd13-26e2cd9ca73f-c000.csv\r\n",
      "data/sparkify_model_merge.csv/part-00071-e1d2c7a1-b1cb-49e0-bd13-26e2cd9ca73f-c000.csv\r\n",
      "data/sparkify_model_merge.csv/.part-00180-e1d2c7a1-b1cb-49e0-bd13-26e2cd9ca73f-c000.csv.crc\r\n",
      "data/sparkify_model_merge.csv/part-00145-e1d2c7a1-b1cb-49e0-bd13-26e2cd9ca73f-c000.csv\r\n",
      "data/sparkify_model_merge.csv/.part-00078-e1d2c7a1-b1cb-49e0-bd13-26e2cd9ca73f-c000.csv.crc\r\n",
      "data/sparkify_model_merge.csv/part-00083-e1d2c7a1-b1cb-49e0-bd13-26e2cd9ca73f-c000.csv\r\n",
      "data/sparkify_model_merge.csv/part-00101-e1d2c7a1-b1cb-49e0-bd13-26e2cd9ca73f-c000.csv\r\n",
      "data/sparkify_model_merge.csv/.part-00161-e1d2c7a1-b1cb-49e0-bd13-26e2cd9ca73f-c000.csv.crc\r\n",
      "data/sparkify_model_merge.csv/.part-00196-e1d2c7a1-b1cb-49e0-bd13-26e2cd9ca73f-c000.csv.crc\r\n",
      "data/sparkify_model_merge.csv/.part-00046-e1d2c7a1-b1cb-49e0-bd13-26e2cd9ca73f-c000.csv.crc\r\n",
      "data/sparkify_model_merge.csv/part-00164-e1d2c7a1-b1cb-49e0-bd13-26e2cd9ca73f-c000.csv\r\n",
      "data/sparkify_model_merge.csv/.part-00071-e1d2c7a1-b1cb-49e0-bd13-26e2cd9ca73f-c000.csv.crc\r\n",
      "data/sparkify_model_merge.csv/.part-00097-e1d2c7a1-b1cb-49e0-bd13-26e2cd9ca73f-c000.csv.crc\r\n",
      "data/sparkify_model_merge.csv/.part-00038-e1d2c7a1-b1cb-49e0-bd13-26e2cd9ca73f-c000.csv.crc\r\n",
      "data/sparkify_model_merge.csv/part-00161-e1d2c7a1-b1cb-49e0-bd13-26e2cd9ca73f-c000.csv\r\n",
      "data/sparkify_model_merge.csv/.part-00068-e1d2c7a1-b1cb-49e0-bd13-26e2cd9ca73f-c000.csv.crc\r\n",
      "data/sparkify_model_merge.csv/part-00051-e1d2c7a1-b1cb-49e0-bd13-26e2cd9ca73f-c000.csv\r\n",
      "data/sparkify_model_merge.csv/part-00134-e1d2c7a1-b1cb-49e0-bd13-26e2cd9ca73f-c000.csv\r\n",
      "data/sparkify_model_merge.csv/part-00007-e1d2c7a1-b1cb-49e0-bd13-26e2cd9ca73f-c000.csv\r\n",
      "data/sparkify_model_merge.csv/.part-00023-e1d2c7a1-b1cb-49e0-bd13-26e2cd9ca73f-c000.csv.crc\r\n",
      "data/sparkify_model_merge.csv/.part-00048-e1d2c7a1-b1cb-49e0-bd13-26e2cd9ca73f-c000.csv.crc\r\n",
      "data/sparkify_model_merge.csv/part-00033-e1d2c7a1-b1cb-49e0-bd13-26e2cd9ca73f-c000.csv\r\n",
      "data/sparkify_model_merge.csv/.part-00197-e1d2c7a1-b1cb-49e0-bd13-26e2cd9ca73f-c000.csv.crc\r\n",
      "data/sparkify_model_merge.csv/part-00105-e1d2c7a1-b1cb-49e0-bd13-26e2cd9ca73f-c000.csv\r\n",
      "data/sparkify_model_merge.csv/part-00129-e1d2c7a1-b1cb-49e0-bd13-26e2cd9ca73f-c000.csv\r\n",
      "data/sparkify_model_merge.csv/part-00154-e1d2c7a1-b1cb-49e0-bd13-26e2cd9ca73f-c000.csv\r\n",
      "data/sparkify_model_merge.csv/part-00196-e1d2c7a1-b1cb-49e0-bd13-26e2cd9ca73f-c000.csv\r\n",
      "data/sparkify_model_merge.csv/part-00067-e1d2c7a1-b1cb-49e0-bd13-26e2cd9ca73f-c000.csv\r\n",
      "data/sparkify_model_merge.csv/part-00048-e1d2c7a1-b1cb-49e0-bd13-26e2cd9ca73f-c000.csv\r\n",
      "data/sparkify_model_merge.csv/.part-00064-e1d2c7a1-b1cb-49e0-bd13-26e2cd9ca73f-c000.csv.crc\r\n",
      "data/sparkify_model_merge.csv/.part-00074-e1d2c7a1-b1cb-49e0-bd13-26e2cd9ca73f-c000.csv.crc\r\n",
      "data/sparkify_model_merge.csv/.part-00139-e1d2c7a1-b1cb-49e0-bd13-26e2cd9ca73f-c000.csv.crc\r\n",
      "data/sparkify_model_merge.csv/part-00126-e1d2c7a1-b1cb-49e0-bd13-26e2cd9ca73f-c000.csv\r\n",
      "data/sparkify_model_merge.csv/part-00146-e1d2c7a1-b1cb-49e0-bd13-26e2cd9ca73f-c000.csv\r\n",
      "data/sparkify_model_merge.csv/part-00023-e1d2c7a1-b1cb-49e0-bd13-26e2cd9ca73f-c000.csv\r\n",
      "data/sparkify_model_merge.csv/.part-00021-e1d2c7a1-b1cb-49e0-bd13-26e2cd9ca73f-c000.csv.crc\r\n",
      "data/sparkify_model_merge.csv/.part-00053-e1d2c7a1-b1cb-49e0-bd13-26e2cd9ca73f-c000.csv.crc\r\n",
      "data/sparkify_model_merge.csv/part-00014-e1d2c7a1-b1cb-49e0-bd13-26e2cd9ca73f-c000.csv\r\n",
      "data/sparkify_model_merge.csv/.part-00116-e1d2c7a1-b1cb-49e0-bd13-26e2cd9ca73f-c000.csv.crc\r\n",
      "data/sparkify_model_merge.csv/.part-00175-e1d2c7a1-b1cb-49e0-bd13-26e2cd9ca73f-c000.csv.crc\r\n",
      "data/sparkify_model_merge.csv/.part-00168-e1d2c7a1-b1cb-49e0-bd13-26e2cd9ca73f-c000.csv.crc\r\n",
      "data/sparkify_model_merge.csv/part-00077-e1d2c7a1-b1cb-49e0-bd13-26e2cd9ca73f-c000.csv\r\n",
      "data/sparkify_model_merge.csv/.part-00169-e1d2c7a1-b1cb-49e0-bd13-26e2cd9ca73f-c000.csv.crc\r\n",
      "data/sparkify_model_merge.csv/part-00040-e1d2c7a1-b1cb-49e0-bd13-26e2cd9ca73f-c000.csv\r\n",
      "data/sparkify_model_merge.csv/part-00074-e1d2c7a1-b1cb-49e0-bd13-26e2cd9ca73f-c000.csv\r\n",
      "data/sparkify_model_merge.csv/.part-00001-e1d2c7a1-b1cb-49e0-bd13-26e2cd9ca73f-c000.csv.crc\r\n",
      "data/sparkify_model_merge.csv/part-00015-e1d2c7a1-b1cb-49e0-bd13-26e2cd9ca73f-c000.csv\r\n",
      "data/sparkify_model_merge.csv/.part-00045-e1d2c7a1-b1cb-49e0-bd13-26e2cd9ca73f-c000.csv.crc\r\n",
      "data/sparkify_model_merge.csv/.part-00129-e1d2c7a1-b1cb-49e0-bd13-26e2cd9ca73f-c000.csv.crc\r\n",
      "data/sparkify_model_merge.csv/.part-00158-e1d2c7a1-b1cb-49e0-bd13-26e2cd9ca73f-c000.csv.crc\r\n",
      "data/sparkify_model_merge.csv/.part-00135-e1d2c7a1-b1cb-49e0-bd13-26e2cd9ca73f-c000.csv.crc\r\n",
      "data/sparkify_model_merge.csv/part-00016-e1d2c7a1-b1cb-49e0-bd13-26e2cd9ca73f-c000.csv\r\n",
      "data/sparkify_model_merge.csv/part-00177-e1d2c7a1-b1cb-49e0-bd13-26e2cd9ca73f-c000.csv\r\n",
      "data/sparkify_model_merge.csv/part-00192-e1d2c7a1-b1cb-49e0-bd13-26e2cd9ca73f-c000.csv\r\n",
      "data/sparkify_model_merge.csv/part-00138-e1d2c7a1-b1cb-49e0-bd13-26e2cd9ca73f-c000.csv\r\n",
      "data/sparkify_model_merge.csv/.part-00120-e1d2c7a1-b1cb-49e0-bd13-26e2cd9ca73f-c000.csv.crc\r\n",
      "data/sparkify_model_merge.csv/.part-00166-e1d2c7a1-b1cb-49e0-bd13-26e2cd9ca73f-c000.csv.crc\r\n",
      "data/sparkify_model_merge.csv/part-00036-e1d2c7a1-b1cb-49e0-bd13-26e2cd9ca73f-c000.csv\r\n",
      "data/sparkify_model_merge.csv/.part-00089-e1d2c7a1-b1cb-49e0-bd13-26e2cd9ca73f-c000.csv.crc\r\n",
      "data/sparkify_model_merge.csv/part-00142-e1d2c7a1-b1cb-49e0-bd13-26e2cd9ca73f-c000.csv\r\n",
      "data/sparkify_model_merge.csv/.part-00192-e1d2c7a1-b1cb-49e0-bd13-26e2cd9ca73f-c000.csv.crc\r\n",
      "data/sparkify_model_merge.csv/part-00068-e1d2c7a1-b1cb-49e0-bd13-26e2cd9ca73f-c000.csv\r\n",
      "data/sparkify_model_merge.csv/.part-00142-e1d2c7a1-b1cb-49e0-bd13-26e2cd9ca73f-c000.csv.crc\r\n",
      "data/sparkify_model_merge.csv/.part-00017-e1d2c7a1-b1cb-49e0-bd13-26e2cd9ca73f-c000.csv.crc\r\n",
      "data/sparkify_model_merge.csv/.part-00040-e1d2c7a1-b1cb-49e0-bd13-26e2cd9ca73f-c000.csv.crc\r\n",
      "data/sparkify_model_merge.csv/part-00135-e1d2c7a1-b1cb-49e0-bd13-26e2cd9ca73f-c000.csv\r\n",
      "data/sparkify_model_merge.csv/.part-00026-e1d2c7a1-b1cb-49e0-bd13-26e2cd9ca73f-c000.csv.crc\r\n",
      "data/sparkify_model_merge.csv/part-00003-e1d2c7a1-b1cb-49e0-bd13-26e2cd9ca73f-c000.csv\r\n",
      "data/sparkify_model_merge.csv/part-00114-e1d2c7a1-b1cb-49e0-bd13-26e2cd9ca73f-c000.csv\r\n",
      "data/sparkify_model_merge.csv/part-00097-e1d2c7a1-b1cb-49e0-bd13-26e2cd9ca73f-c000.csv\r\n",
      "data/sparkify_model_merge.csv/part-00153-e1d2c7a1-b1cb-49e0-bd13-26e2cd9ca73f-c000.csv\r\n",
      "data/sparkify_model_merge.csv/.part-00063-e1d2c7a1-b1cb-49e0-bd13-26e2cd9ca73f-c000.csv.crc\r\n",
      "data/sparkify_model_merge.csv/part-00018-e1d2c7a1-b1cb-49e0-bd13-26e2cd9ca73f-c000.csv\r\n",
      "data/sparkify_model_merge.csv/.part-00036-e1d2c7a1-b1cb-49e0-bd13-26e2cd9ca73f-c000.csv.crc\r\n",
      "data/sparkify_model_merge.csv/.part-00115-e1d2c7a1-b1cb-49e0-bd13-26e2cd9ca73f-c000.csv.crc\r\n",
      "data/sparkify_model_merge.csv/.part-00016-e1d2c7a1-b1cb-49e0-bd13-26e2cd9ca73f-c000.csv.crc\r\n",
      "data/sparkify_model_merge.csv/part-00017-e1d2c7a1-b1cb-49e0-bd13-26e2cd9ca73f-c000.csv\r\n",
      "data/sparkify_model_merge.csv/.part-00153-e1d2c7a1-b1cb-49e0-bd13-26e2cd9ca73f-c000.csv.crc\r\n",
      "data/sparkify_model_merge.csv/.part-00146-e1d2c7a1-b1cb-49e0-bd13-26e2cd9ca73f-c000.csv.crc\r\n",
      "data/sparkify_model_merge.csv/.part-00155-e1d2c7a1-b1cb-49e0-bd13-26e2cd9ca73f-c000.csv.crc\r\n",
      "data/sparkify_model_merge.csv/part-00019-e1d2c7a1-b1cb-49e0-bd13-26e2cd9ca73f-c000.csv\r\n",
      "data/sparkify_model_merge.csv/part-00195-e1d2c7a1-b1cb-49e0-bd13-26e2cd9ca73f-c000.csv\r\n",
      "data/sparkify_model_merge.csv/.part-00101-e1d2c7a1-b1cb-49e0-bd13-26e2cd9ca73f-c000.csv.crc\r\n",
      "data/sparkify_model_merge.csv/part-00132-e1d2c7a1-b1cb-49e0-bd13-26e2cd9ca73f-c000.csv\r\n",
      "data/sparkify_model_merge.csv/part-00008-e1d2c7a1-b1cb-49e0-bd13-26e2cd9ca73f-c000.csv\r\n",
      "data/sparkify_model_merge.csv/.part-00154-e1d2c7a1-b1cb-49e0-bd13-26e2cd9ca73f-c000.csv.crc\r\n",
      "data/sparkify_model_merge.csv/part-00076-e1d2c7a1-b1cb-49e0-bd13-26e2cd9ca73f-c000.csv\r\n",
      "data/sparkify_model_merge.csv/.part-00034-e1d2c7a1-b1cb-49e0-bd13-26e2cd9ca73f-c000.csv.crc\r\n",
      "data/sparkify_model_merge.csv/part-00034-e1d2c7a1-b1cb-49e0-bd13-26e2cd9ca73f-c000.csv\r\n",
      "data/sparkify_model_merge.csv/.part-00152-e1d2c7a1-b1cb-49e0-bd13-26e2cd9ca73f-c000.csv.crc\r\n",
      "data/sparkify_model_merge.csv/.part-00147-e1d2c7a1-b1cb-49e0-bd13-26e2cd9ca73f-c000.csv.crc\r\n",
      "data/sparkify_model_merge.csv/.part-00138-e1d2c7a1-b1cb-49e0-bd13-26e2cd9ca73f-c000.csv.crc\r\n",
      "data/sparkify_model_merge.csv/part-00001-e1d2c7a1-b1cb-49e0-bd13-26e2cd9ca73f-c000.csv\r\n",
      "data/sparkify_model_merge.csv/.part-00162-e1d2c7a1-b1cb-49e0-bd13-26e2cd9ca73f-c000.csv.crc\r\n",
      "data/sparkify_model_merge.csv/.part-00157-e1d2c7a1-b1cb-49e0-bd13-26e2cd9ca73f-c000.csv.crc\r\n",
      "data/sparkify_model_merge.csv/part-00131-e1d2c7a1-b1cb-49e0-bd13-26e2cd9ca73f-c000.csv\r\n",
      "data/sparkify_model_merge.csv/.part-00178-e1d2c7a1-b1cb-49e0-bd13-26e2cd9ca73f-c000.csv.crc\r\n",
      "data/sparkify_model_merge.csv/part-00122-e1d2c7a1-b1cb-49e0-bd13-26e2cd9ca73f-c000.csv\r\n",
      "data/sparkify_model_merge.csv/.part-00008-e1d2c7a1-b1cb-49e0-bd13-26e2cd9ca73f-c000.csv.crc\r\n",
      "data/sparkify_model_merge.csv/.part-00039-e1d2c7a1-b1cb-49e0-bd13-26e2cd9ca73f-c000.csv.crc\r\n",
      "data/.ipynb_checkpoints/\r\n",
      "data/sparkify_model_vf.csv/\r\n",
      "data/sparkify_model_vf.csv/.part-00160-e6bc52a1-514c-435e-aa3c-aa5e042bc686-c000.csv.crc\r\n",
      "data/sparkify_model_vf.csv/.part-00054-e6bc52a1-514c-435e-aa3c-aa5e042bc686-c000.csv.crc\r\n",
      "data/sparkify_model_vf.csv/.part-00013-e6bc52a1-514c-435e-aa3c-aa5e042bc686-c000.csv.crc\r\n",
      "data/sparkify_model_vf.csv/.part-00141-e6bc52a1-514c-435e-aa3c-aa5e042bc686-c000.csv.crc\r\n",
      "data/sparkify_model_vf.csv/part-00160-e6bc52a1-514c-435e-aa3c-aa5e042bc686-c000.csv\r\n",
      "data/sparkify_model_vf.csv/.part-00171-e6bc52a1-514c-435e-aa3c-aa5e042bc686-c000.csv.crc\r\n",
      "data/sparkify_model_vf.csv/.part-00007-e6bc52a1-514c-435e-aa3c-aa5e042bc686-c000.csv.crc\r\n",
      "data/sparkify_model_vf.csv/.part-00087-e6bc52a1-514c-435e-aa3c-aa5e042bc686-c000.csv.crc\r\n",
      "data/sparkify_model_vf.csv/.part-00059-e6bc52a1-514c-435e-aa3c-aa5e042bc686-c000.csv.crc\r\n",
      "data/sparkify_model_vf.csv/part-00169-e6bc52a1-514c-435e-aa3c-aa5e042bc686-c000.csv\r\n",
      "data/sparkify_model_vf.csv/.part-00134-e6bc52a1-514c-435e-aa3c-aa5e042bc686-c000.csv.crc\r\n",
      "data/sparkify_model_vf.csv/.part-00169-e6bc52a1-514c-435e-aa3c-aa5e042bc686-c000.csv.crc\r\n",
      "data/sparkify_model_vf.csv/part-00119-e6bc52a1-514c-435e-aa3c-aa5e042bc686-c000.csv\r\n",
      "data/sparkify_model_vf.csv/part-00144-e6bc52a1-514c-435e-aa3c-aa5e042bc686-c000.csv\r\n",
      "data/sparkify_model_vf.csv/.part-00132-e6bc52a1-514c-435e-aa3c-aa5e042bc686-c000.csv.crc\r\n",
      "data/sparkify_model_vf.csv/part-00064-e6bc52a1-514c-435e-aa3c-aa5e042bc686-c000.csv\r\n",
      "data/sparkify_model_vf.csv/part-00196-e6bc52a1-514c-435e-aa3c-aa5e042bc686-c000.csv\r\n",
      "data/sparkify_model_vf.csv/part-00084-e6bc52a1-514c-435e-aa3c-aa5e042bc686-c000.csv\r\n",
      "data/sparkify_model_vf.csv/.part-00046-e6bc52a1-514c-435e-aa3c-aa5e042bc686-c000.csv.crc\r\n",
      "data/sparkify_model_vf.csv/part-00036-e6bc52a1-514c-435e-aa3c-aa5e042bc686-c000.csv\r\n",
      "data/sparkify_model_vf.csv/.part-00009-e6bc52a1-514c-435e-aa3c-aa5e042bc686-c000.csv.crc\r\n",
      "data/sparkify_model_vf.csv/.part-00058-e6bc52a1-514c-435e-aa3c-aa5e042bc686-c000.csv.crc\r\n",
      "data/sparkify_model_vf.csv/.part-00198-e6bc52a1-514c-435e-aa3c-aa5e042bc686-c000.csv.crc\r\n",
      "data/sparkify_model_vf.csv/part-00129-e6bc52a1-514c-435e-aa3c-aa5e042bc686-c000.csv\r\n",
      "data/sparkify_model_vf.csv/.part-00065-e6bc52a1-514c-435e-aa3c-aa5e042bc686-c000.csv.crc\r\n",
      "data/sparkify_model_vf.csv/.part-00017-e6bc52a1-514c-435e-aa3c-aa5e042bc686-c000.csv.crc\r\n",
      "data/sparkify_model_vf.csv/part-00024-e6bc52a1-514c-435e-aa3c-aa5e042bc686-c000.csv\r\n",
      "data/sparkify_model_vf.csv/part-00175-e6bc52a1-514c-435e-aa3c-aa5e042bc686-c000.csv\r\n",
      "data/sparkify_model_vf.csv/part-00091-e6bc52a1-514c-435e-aa3c-aa5e042bc686-c000.csv\r\n",
      "data/sparkify_model_vf.csv/.part-00177-e6bc52a1-514c-435e-aa3c-aa5e042bc686-c000.csv.crc\r\n",
      "data/sparkify_model_vf.csv/.part-00113-e6bc52a1-514c-435e-aa3c-aa5e042bc686-c000.csv.crc\r\n",
      "data/sparkify_model_vf.csv/.part-00095-e6bc52a1-514c-435e-aa3c-aa5e042bc686-c000.csv.crc\r\n",
      "data/sparkify_model_vf.csv/.part-00045-e6bc52a1-514c-435e-aa3c-aa5e042bc686-c000.csv.crc\r\n",
      "data/sparkify_model_vf.csv/.part-00008-e6bc52a1-514c-435e-aa3c-aa5e042bc686-c000.csv.crc\r\n",
      "data/sparkify_model_vf.csv/part-00031-e6bc52a1-514c-435e-aa3c-aa5e042bc686-c000.csv\r\n",
      "data/sparkify_model_vf.csv/part-00073-e6bc52a1-514c-435e-aa3c-aa5e042bc686-c000.csv\r\n",
      "data/sparkify_model_vf.csv/part-00117-e6bc52a1-514c-435e-aa3c-aa5e042bc686-c000.csv\r\n",
      "data/sparkify_model_vf.csv/part-00032-e6bc52a1-514c-435e-aa3c-aa5e042bc686-c000.csv\r\n",
      "data/sparkify_model_vf.csv/.part-00036-e6bc52a1-514c-435e-aa3c-aa5e042bc686-c000.csv.crc\r\n",
      "data/sparkify_model_vf.csv/part-00154-e6bc52a1-514c-435e-aa3c-aa5e042bc686-c000.csv\r\n",
      "data/sparkify_model_vf.csv/.part-00131-e6bc52a1-514c-435e-aa3c-aa5e042bc686-c000.csv.crc\r\n",
      "data/sparkify_model_vf.csv/part-00000-e6bc52a1-514c-435e-aa3c-aa5e042bc686-c000.csv\r\n",
      "data/sparkify_model_vf.csv/part-00195-e6bc52a1-514c-435e-aa3c-aa5e042bc686-c000.csv\r\n",
      "data/sparkify_model_vf.csv/part-00142-e6bc52a1-514c-435e-aa3c-aa5e042bc686-c000.csv\r\n",
      "data/sparkify_model_vf.csv/.part-00048-e6bc52a1-514c-435e-aa3c-aa5e042bc686-c000.csv.crc\r\n",
      "data/sparkify_model_vf.csv/.part-00049-e6bc52a1-514c-435e-aa3c-aa5e042bc686-c000.csv.crc\r\n",
      "data/sparkify_model_vf.csv/part-00017-e6bc52a1-514c-435e-aa3c-aa5e042bc686-c000.csv\r\n",
      "data/sparkify_model_vf.csv/.part-00123-e6bc52a1-514c-435e-aa3c-aa5e042bc686-c000.csv.crc\r\n",
      "data/sparkify_model_vf.csv/.part-00070-e6bc52a1-514c-435e-aa3c-aa5e042bc686-c000.csv.crc\r\n",
      "data/sparkify_model_vf.csv/part-00149-e6bc52a1-514c-435e-aa3c-aa5e042bc686-c000.csv\r\n",
      "data/sparkify_model_vf.csv/.part-00039-e6bc52a1-514c-435e-aa3c-aa5e042bc686-c000.csv.crc\r\n",
      "data/sparkify_model_vf.csv/part-00137-e6bc52a1-514c-435e-aa3c-aa5e042bc686-c000.csv\r\n",
      "data/sparkify_model_vf.csv/.part-00183-e6bc52a1-514c-435e-aa3c-aa5e042bc686-c000.csv.crc\r\n",
      "data/sparkify_model_vf.csv/part-00114-e6bc52a1-514c-435e-aa3c-aa5e042bc686-c000.csv\r\n",
      "data/sparkify_model_vf.csv/part-00138-e6bc52a1-514c-435e-aa3c-aa5e042bc686-c000.csv\r\n",
      "data/sparkify_model_vf.csv/part-00053-e6bc52a1-514c-435e-aa3c-aa5e042bc686-c000.csv\r\n",
      "data/sparkify_model_vf.csv/part-00134-e6bc52a1-514c-435e-aa3c-aa5e042bc686-c000.csv\r\n",
      "data/sparkify_model_vf.csv/.part-00040-e6bc52a1-514c-435e-aa3c-aa5e042bc686-c000.csv.crc\r\n",
      "data/sparkify_model_vf.csv/.part-00033-e6bc52a1-514c-435e-aa3c-aa5e042bc686-c000.csv.crc\r\n",
      "data/sparkify_model_vf.csv/.part-00032-e6bc52a1-514c-435e-aa3c-aa5e042bc686-c000.csv.crc\r\n",
      "data/sparkify_model_vf.csv/part-00183-e6bc52a1-514c-435e-aa3c-aa5e042bc686-c000.csv\r\n",
      "data/sparkify_model_vf.csv/part-00076-e6bc52a1-514c-435e-aa3c-aa5e042bc686-c000.csv\r\n",
      "data/sparkify_model_vf.csv/.part-00187-e6bc52a1-514c-435e-aa3c-aa5e042bc686-c000.csv.crc\r\n",
      "data/sparkify_model_vf.csv/.part-00127-e6bc52a1-514c-435e-aa3c-aa5e042bc686-c000.csv.crc\r\n",
      "data/sparkify_model_vf.csv/.part-00154-e6bc52a1-514c-435e-aa3c-aa5e042bc686-c000.csv.crc\r\n",
      "data/sparkify_model_vf.csv/part-00077-e6bc52a1-514c-435e-aa3c-aa5e042bc686-c000.csv\r\n",
      "data/sparkify_model_vf.csv/.part-00016-e6bc52a1-514c-435e-aa3c-aa5e042bc686-c000.csv.crc\r\n",
      "data/sparkify_model_vf.csv/.part-00088-e6bc52a1-514c-435e-aa3c-aa5e042bc686-c000.csv.crc\r\n",
      "data/sparkify_model_vf.csv/part-00179-e6bc52a1-514c-435e-aa3c-aa5e042bc686-c000.csv\r\n",
      "data/sparkify_model_vf.csv/part-00092-e6bc52a1-514c-435e-aa3c-aa5e042bc686-c000.csv\r\n",
      "data/sparkify_model_vf.csv/part-00158-e6bc52a1-514c-435e-aa3c-aa5e042bc686-c000.csv\r\n",
      "data/sparkify_model_vf.csv/.part-00178-e6bc52a1-514c-435e-aa3c-aa5e042bc686-c000.csv.crc\r\n",
      "data/sparkify_model_vf.csv/.part-00170-e6bc52a1-514c-435e-aa3c-aa5e042bc686-c000.csv.crc\r\n",
      "data/sparkify_model_vf.csv/part-00037-e6bc52a1-514c-435e-aa3c-aa5e042bc686-c000.csv\r\n",
      "data/sparkify_model_vf.csv/part-00039-e6bc52a1-514c-435e-aa3c-aa5e042bc686-c000.csv\r\n",
      "data/sparkify_model_vf.csv/part-00019-e6bc52a1-514c-435e-aa3c-aa5e042bc686-c000.csv\r\n",
      "data/sparkify_model_vf.csv/.part-00119-e6bc52a1-514c-435e-aa3c-aa5e042bc686-c000.csv.crc\r\n",
      "data/sparkify_model_vf.csv/part-00030-e6bc52a1-514c-435e-aa3c-aa5e042bc686-c000.csv\r\n",
      "data/sparkify_model_vf.csv/.part-00116-e6bc52a1-514c-435e-aa3c-aa5e042bc686-c000.csv.crc\r\n",
      "data/sparkify_model_vf.csv/.part-00015-e6bc52a1-514c-435e-aa3c-aa5e042bc686-c000.csv.crc\r\n",
      "data/sparkify_model_vf.csv/.part-00003-e6bc52a1-514c-435e-aa3c-aa5e042bc686-c000.csv.crc\r\n",
      "data/sparkify_model_vf.csv/part-00058-e6bc52a1-514c-435e-aa3c-aa5e042bc686-c000.csv\r\n",
      "data/sparkify_model_vf.csv/.part-00144-e6bc52a1-514c-435e-aa3c-aa5e042bc686-c000.csv.crc\r\n",
      "data/sparkify_model_vf.csv/part-00127-e6bc52a1-514c-435e-aa3c-aa5e042bc686-c000.csv\r\n",
      "data/sparkify_model_vf.csv/.part-00166-e6bc52a1-514c-435e-aa3c-aa5e042bc686-c000.csv.crc\r\n",
      "data/sparkify_model_vf.csv/part-00180-e6bc52a1-514c-435e-aa3c-aa5e042bc686-c000.csv\r\n",
      "data/sparkify_model_vf.csv/part-00122-e6bc52a1-514c-435e-aa3c-aa5e042bc686-c000.csv\r\n",
      "data/sparkify_model_vf.csv/part-00009-e6bc52a1-514c-435e-aa3c-aa5e042bc686-c000.csv\r\n",
      "data/sparkify_model_vf.csv/.part-00031-e6bc52a1-514c-435e-aa3c-aa5e042bc686-c000.csv.crc\r\n",
      "data/sparkify_model_vf.csv/.part-00157-e6bc52a1-514c-435e-aa3c-aa5e042bc686-c000.csv.crc\r\n",
      "data/sparkify_model_vf.csv/part-00170-e6bc52a1-514c-435e-aa3c-aa5e042bc686-c000.csv\r\n",
      "data/sparkify_model_vf.csv/part-00164-e6bc52a1-514c-435e-aa3c-aa5e042bc686-c000.csv\r\n",
      "data/sparkify_model_vf.csv/.part-00091-e6bc52a1-514c-435e-aa3c-aa5e042bc686-c000.csv.crc\r\n",
      "data/sparkify_model_vf.csv/.part-00085-e6bc52a1-514c-435e-aa3c-aa5e042bc686-c000.csv.crc\r\n",
      "data/sparkify_model_vf.csv/.part-00147-e6bc52a1-514c-435e-aa3c-aa5e042bc686-c000.csv.crc\r\n",
      "data/sparkify_model_vf.csv/.part-00030-e6bc52a1-514c-435e-aa3c-aa5e042bc686-c000.csv.crc\r\n",
      "data/sparkify_model_vf.csv/.part-00075-e6bc52a1-514c-435e-aa3c-aa5e042bc686-c000.csv.crc\r\n",
      "data/sparkify_model_vf.csv/part-00011-e6bc52a1-514c-435e-aa3c-aa5e042bc686-c000.csv\r\n",
      "data/sparkify_model_vf.csv/.part-00146-e6bc52a1-514c-435e-aa3c-aa5e042bc686-c000.csv.crc\r\n",
      "data/sparkify_model_vf.csv/.part-00195-e6bc52a1-514c-435e-aa3c-aa5e042bc686-c000.csv.crc\r\n",
      "data/sparkify_model_vf.csv/.part-00026-e6bc52a1-514c-435e-aa3c-aa5e042bc686-c000.csv.crc\r\n",
      "data/sparkify_model_vf.csv/part-00101-e6bc52a1-514c-435e-aa3c-aa5e042bc686-c000.csv\r\n",
      "data/sparkify_model_vf.csv/_SUCCESS\r\n",
      "data/sparkify_model_vf.csv/part-00161-e6bc52a1-514c-435e-aa3c-aa5e042bc686-c000.csv\r\n",
      "data/sparkify_model_vf.csv/part-00162-e6bc52a1-514c-435e-aa3c-aa5e042bc686-c000.csv\r\n",
      "data/sparkify_model_vf.csv/.part-00034-e6bc52a1-514c-435e-aa3c-aa5e042bc686-c000.csv.crc\r\n",
      "data/sparkify_model_vf.csv/part-00178-e6bc52a1-514c-435e-aa3c-aa5e042bc686-c000.csv\r\n",
      "data/sparkify_model_vf.csv/part-00147-e6bc52a1-514c-435e-aa3c-aa5e042bc686-c000.csv\r\n",
      "data/sparkify_model_vf.csv/part-00054-e6bc52a1-514c-435e-aa3c-aa5e042bc686-c000.csv\r\n",
      "data/sparkify_model_vf.csv/part-00163-e6bc52a1-514c-435e-aa3c-aa5e042bc686-c000.csv\r\n",
      "data/sparkify_model_vf.csv/.part-00192-e6bc52a1-514c-435e-aa3c-aa5e042bc686-c000.csv.crc\r\n",
      "data/sparkify_model_vf.csv/part-00046-e6bc52a1-514c-435e-aa3c-aa5e042bc686-c000.csv\r\n",
      "data/sparkify_model_vf.csv/.part-00161-e6bc52a1-514c-435e-aa3c-aa5e042bc686-c000.csv.crc\r\n",
      "data/sparkify_model_vf.csv/.part-00029-e6bc52a1-514c-435e-aa3c-aa5e042bc686-c000.csv.crc\r\n",
      "data/sparkify_model_vf.csv/part-00198-e6bc52a1-514c-435e-aa3c-aa5e042bc686-c000.csv\r\n",
      "data/sparkify_model_vf.csv/.part-00196-e6bc52a1-514c-435e-aa3c-aa5e042bc686-c000.csv.crc\r\n",
      "data/sparkify_model_vf.csv/.part-00023-e6bc52a1-514c-435e-aa3c-aa5e042bc686-c000.csv.crc\r\n",
      "data/sparkify_model_vf.csv/.part-00000-e6bc52a1-514c-435e-aa3c-aa5e042bc686-c000.csv.crc\r\n",
      "data/sparkify_model_vf.csv/part-00075-e6bc52a1-514c-435e-aa3c-aa5e042bc686-c000.csv\r\n",
      "data/sparkify_model_vf.csv/.part-00053-e6bc52a1-514c-435e-aa3c-aa5e042bc686-c000.csv.crc\r\n",
      "data/sparkify_model_vf.csv/.part-00074-e6bc52a1-514c-435e-aa3c-aa5e042bc686-c000.csv.crc\r\n",
      "data/sparkify_model_vf.csv/.part-00168-e6bc52a1-514c-435e-aa3c-aa5e042bc686-c000.csv.crc\r\n",
      "data/sparkify_model_vf.csv/.part-00109-e6bc52a1-514c-435e-aa3c-aa5e042bc686-c000.csv.crc\r\n",
      "data/sparkify_model_vf.csv/.part-00021-e6bc52a1-514c-435e-aa3c-aa5e042bc686-c000.csv.crc\r\n",
      "data/sparkify_model_vf.csv/part-00048-e6bc52a1-514c-435e-aa3c-aa5e042bc686-c000.csv\r\n",
      "data/sparkify_model_vf.csv/.part-00001-e6bc52a1-514c-435e-aa3c-aa5e042bc686-c000.csv.crc\r\n",
      "data/sparkify_model_vf.csv/part-00153-e6bc52a1-514c-435e-aa3c-aa5e042bc686-c000.csv\r\n",
      "data/sparkify_model_vf.csv/.part-00067-e6bc52a1-514c-435e-aa3c-aa5e042bc686-c000.csv.crc\r\n",
      "data/sparkify_model_vf.csv/.part-00042-e6bc52a1-514c-435e-aa3c-aa5e042bc686-c000.csv.crc\r\n",
      "data/sparkify_model_vf.csv/.part-00078-e6bc52a1-514c-435e-aa3c-aa5e042bc686-c000.csv.crc\r\n",
      "data/sparkify_model_vf.csv/part-00070-e6bc52a1-514c-435e-aa3c-aa5e042bc686-c000.csv\r\n",
      "data/sparkify_model_vf.csv/part-00067-e6bc52a1-514c-435e-aa3c-aa5e042bc686-c000.csv\r\n",
      "data/sparkify_model_vf.csv/part-00068-e6bc52a1-514c-435e-aa3c-aa5e042bc686-c000.csv\r\n",
      "data/sparkify_model_vf.csv/part-00049-e6bc52a1-514c-435e-aa3c-aa5e042bc686-c000.csv\r\n",
      "data/sparkify_model_vf.csv/part-00023-e6bc52a1-514c-435e-aa3c-aa5e042bc686-c000.csv\r\n",
      "data/sparkify_model_vf.csv/.part-00164-e6bc52a1-514c-435e-aa3c-aa5e042bc686-c000.csv.crc\r\n",
      "data/sparkify_model_vf.csv/.part-00145-e6bc52a1-514c-435e-aa3c-aa5e042bc686-c000.csv.crc\r\n",
      "data/sparkify_model_vf.csv/.part-00175-e6bc52a1-514c-435e-aa3c-aa5e042bc686-c000.csv.crc\r\n",
      "data/sparkify_model_vf.csv/part-00042-e6bc52a1-514c-435e-aa3c-aa5e042bc686-c000.csv\r\n",
      "data/sparkify_model_vf.csv/part-00189-e6bc52a1-514c-435e-aa3c-aa5e042bc686-c000.csv\r\n",
      "data/sparkify_model_vf.csv/._SUCCESS.crc\r\n",
      "data/sparkify_model_vf.csv/.part-00104-e6bc52a1-514c-435e-aa3c-aa5e042bc686-c000.csv.crc\r\n",
      "data/sparkify_model_vf.csv/part-00173-e6bc52a1-514c-435e-aa3c-aa5e042bc686-c000.csv\r\n",
      "data/sparkify_model_vf.csv/part-00062-e6bc52a1-514c-435e-aa3c-aa5e042bc686-c000.csv\r\n",
      "data/sparkify_model_vf.csv/.part-00063-e6bc52a1-514c-435e-aa3c-aa5e042bc686-c000.csv.crc\r\n",
      "data/sparkify_model_vf.csv/part-00015-e6bc52a1-514c-435e-aa3c-aa5e042bc686-c000.csv\r\n",
      "data/sparkify_model_vf.csv/.part-00148-e6bc52a1-514c-435e-aa3c-aa5e042bc686-c000.csv.crc\r\n",
      "data/sparkify_model_vf.csv/part-00192-e6bc52a1-514c-435e-aa3c-aa5e042bc686-c000.csv\r\n",
      "data/sparkify_model_vf.csv/part-00104-e6bc52a1-514c-435e-aa3c-aa5e042bc686-c000.csv\r\n",
      "data/sparkify_model_vf.csv/.part-00137-e6bc52a1-514c-435e-aa3c-aa5e042bc686-c000.csv.crc\r\n",
      "data/sparkify_model_vf.csv/.part-00051-e6bc52a1-514c-435e-aa3c-aa5e042bc686-c000.csv.crc\r\n",
      "data/sparkify_model_vf.csv/.part-00158-e6bc52a1-514c-435e-aa3c-aa5e042bc686-c000.csv.crc\r\n",
      "data/sparkify_model_vf.csv/.part-00180-e6bc52a1-514c-435e-aa3c-aa5e042bc686-c000.csv.crc\r\n",
      "data/sparkify_model_vf.csv/part-00182-e6bc52a1-514c-435e-aa3c-aa5e042bc686-c000.csv\r\n",
      "data/sparkify_model_vf.csv/part-00003-e6bc52a1-514c-435e-aa3c-aa5e042bc686-c000.csv\r\n",
      "data/sparkify_model_vf.csv/.part-00155-e6bc52a1-514c-435e-aa3c-aa5e042bc686-c000.csv.crc\r\n",
      "data/sparkify_model_vf.csv/.part-00114-e6bc52a1-514c-435e-aa3c-aa5e042bc686-c000.csv.crc\r\n",
      "data/sparkify_model_vf.csv/part-00126-e6bc52a1-514c-435e-aa3c-aa5e042bc686-c000.csv\r\n",
      "data/sparkify_model_vf.csv/.part-00099-e6bc52a1-514c-435e-aa3c-aa5e042bc686-c000.csv.crc\r\n",
      "data/sparkify_model_vf.csv/.part-00068-e6bc52a1-514c-435e-aa3c-aa5e042bc686-c000.csv.crc\r\n",
      "data/sparkify_model_vf.csv/part-00026-e6bc52a1-514c-435e-aa3c-aa5e042bc686-c000.csv\r\n",
      "data/sparkify_model_vf.csv/.part-00064-e6bc52a1-514c-435e-aa3c-aa5e042bc686-c000.csv.crc\r\n",
      "data/sparkify_model_vf.csv/part-00177-e6bc52a1-514c-435e-aa3c-aa5e042bc686-c000.csv\r\n",
      "data/sparkify_model_vf.csv/part-00111-e6bc52a1-514c-435e-aa3c-aa5e042bc686-c000.csv\r\n",
      "data/sparkify_model_vf.csv/part-00008-e6bc52a1-514c-435e-aa3c-aa5e042bc686-c000.csv\r\n",
      "data/sparkify_model_vf.csv/.part-00142-e6bc52a1-514c-435e-aa3c-aa5e042bc686-c000.csv.crc\r\n",
      "data/sparkify_model_vf.csv/.part-00076-e6bc52a1-514c-435e-aa3c-aa5e042bc686-c000.csv.crc\r\n",
      "data/sparkify_model_vf.csv/.part-00089-e6bc52a1-514c-435e-aa3c-aa5e042bc686-c000.csv.crc\r\n",
      "data/sparkify_model_vf.csv/part-00097-e6bc52a1-514c-435e-aa3c-aa5e042bc686-c000.csv\r\n",
      "data/sparkify_model_vf.csv/.part-00117-e6bc52a1-514c-435e-aa3c-aa5e042bc686-c000.csv.crc\r\n",
      "data/sparkify_model_vf.csv/part-00016-e6bc52a1-514c-435e-aa3c-aa5e042bc686-c000.csv\r\n",
      "data/sparkify_model_vf.csv/.part-00163-e6bc52a1-514c-435e-aa3c-aa5e042bc686-c000.csv.crc\r\n",
      "data/sparkify_model_vf.csv/part-00146-e6bc52a1-514c-435e-aa3c-aa5e042bc686-c000.csv\r\n",
      "data/sparkify_model_vf.csv/.part-00024-e6bc52a1-514c-435e-aa3c-aa5e042bc686-c000.csv.crc\r\n",
      "data/sparkify_model_vf.csv/part-00155-e6bc52a1-514c-435e-aa3c-aa5e042bc686-c000.csv\r\n",
      "data/sparkify_model_vf.csv/.part-00197-e6bc52a1-514c-435e-aa3c-aa5e042bc686-c000.csv.crc\r\n",
      "data/sparkify_model_vf.csv/part-00099-e6bc52a1-514c-435e-aa3c-aa5e042bc686-c000.csv\r\n",
      "data/sparkify_model_vf.csv/.part-00055-e6bc52a1-514c-435e-aa3c-aa5e042bc686-c000.csv.crc\r\n",
      "data/sparkify_model_vf.csv/part-00188-e6bc52a1-514c-435e-aa3c-aa5e042bc686-c000.csv\r\n",
      "data/sparkify_model_vf.csv/part-00113-e6bc52a1-514c-435e-aa3c-aa5e042bc686-c000.csv\r\n",
      "data/sparkify_model_vf.csv/.part-00105-e6bc52a1-514c-435e-aa3c-aa5e042bc686-c000.csv.crc\r\n",
      "data/sparkify_model_vf.csv/part-00148-e6bc52a1-514c-435e-aa3c-aa5e042bc686-c000.csv\r\n",
      "data/sparkify_model_vf.csv/part-00157-e6bc52a1-514c-435e-aa3c-aa5e042bc686-c000.csv\r\n",
      "data/sparkify_model_vf.csv/.part-00139-e6bc52a1-514c-435e-aa3c-aa5e042bc686-c000.csv.crc\r\n",
      "data/sparkify_model_vf.csv/.part-00138-e6bc52a1-514c-435e-aa3c-aa5e042bc686-c000.csv.crc\r\n",
      "data/sparkify_model_vf.csv/.part-00018-e6bc52a1-514c-435e-aa3c-aa5e042bc686-c000.csv.crc\r\n",
      "data/sparkify_model_vf.csv/part-00055-e6bc52a1-514c-435e-aa3c-aa5e042bc686-c000.csv\r\n",
      "data/sparkify_model_vf.csv/.part-00182-e6bc52a1-514c-435e-aa3c-aa5e042bc686-c000.csv.crc\r\n",
      "data/sparkify_model_vf.csv/.part-00129-e6bc52a1-514c-435e-aa3c-aa5e042bc686-c000.csv.crc\r\n",
      "data/sparkify_model_vf.csv/.part-00062-e6bc52a1-514c-435e-aa3c-aa5e042bc686-c000.csv.crc\r\n",
      "data/sparkify_model_vf.csv/part-00021-e6bc52a1-514c-435e-aa3c-aa5e042bc686-c000.csv\r\n",
      "data/sparkify_model_vf.csv/.part-00019-e6bc52a1-514c-435e-aa3c-aa5e042bc686-c000.csv.crc\r\n",
      "data/sparkify_model_vf.csv/.part-00149-e6bc52a1-514c-435e-aa3c-aa5e042bc686-c000.csv.crc\r\n",
      "data/sparkify_model_vf.csv/.part-00111-e6bc52a1-514c-435e-aa3c-aa5e042bc686-c000.csv.crc\r\n",
      "data/sparkify_model_vf.csv/part-00089-e6bc52a1-514c-435e-aa3c-aa5e042bc686-c000.csv\r\n",
      "data/sparkify_model_vf.csv/part-00045-e6bc52a1-514c-435e-aa3c-aa5e042bc686-c000.csv\r\n",
      "data/sparkify_model_vf.csv/.part-00162-e6bc52a1-514c-435e-aa3c-aa5e042bc686-c000.csv.crc\r\n",
      "data/sparkify_model_vf.csv/.part-00092-e6bc52a1-514c-435e-aa3c-aa5e042bc686-c000.csv.crc\r\n",
      "data/sparkify_model_vf.csv/.part-00120-e6bc52a1-514c-435e-aa3c-aa5e042bc686-c000.csv.crc\r\n",
      "data/sparkify_model_vf.csv/.part-00011-e6bc52a1-514c-435e-aa3c-aa5e042bc686-c000.csv.crc\r\n",
      "data/sparkify_model_vf.csv/.part-00189-e6bc52a1-514c-435e-aa3c-aa5e042bc686-c000.csv.crc\r\n",
      "data/sparkify_model_vf.csv/part-00063-e6bc52a1-514c-435e-aa3c-aa5e042bc686-c000.csv\r\n",
      "data/sparkify_model_vf.csv/part-00187-e6bc52a1-514c-435e-aa3c-aa5e042bc686-c000.csv\r\n",
      "data/sparkify_model_vf.csv/part-00131-e6bc52a1-514c-435e-aa3c-aa5e042bc686-c000.csv\r\n",
      "data/sparkify_model_vf.csv/part-00014-e6bc52a1-514c-435e-aa3c-aa5e042bc686-c000.csv\r\n",
      "data/sparkify_model_vf.csv/.part-00082-e6bc52a1-514c-435e-aa3c-aa5e042bc686-c000.csv.crc\r\n",
      "data/sparkify_model_vf.csv/.part-00071-e6bc52a1-514c-435e-aa3c-aa5e042bc686-c000.csv.crc\r\n",
      "data/sparkify_model_vf.csv/part-00007-e6bc52a1-514c-435e-aa3c-aa5e042bc686-c000.csv\r\n",
      "data/sparkify_model_vf.csv/part-00171-e6bc52a1-514c-435e-aa3c-aa5e042bc686-c000.csv\r\n",
      "data/sparkify_model_vf.csv/part-00001-e6bc52a1-514c-435e-aa3c-aa5e042bc686-c000.csv\r\n",
      "data/sparkify_model_vf.csv/part-00174-e6bc52a1-514c-435e-aa3c-aa5e042bc686-c000.csv\r\n",
      "data/sparkify_model_vf.csv/.part-00143-e6bc52a1-514c-435e-aa3c-aa5e042bc686-c000.csv.crc\r\n",
      "data/sparkify_model_vf.csv/part-00156-e6bc52a1-514c-435e-aa3c-aa5e042bc686-c000.csv\r\n",
      "data/sparkify_model_vf.csv/part-00145-e6bc52a1-514c-435e-aa3c-aa5e042bc686-c000.csv\r\n",
      "data/sparkify_model_vf.csv/.part-00122-e6bc52a1-514c-435e-aa3c-aa5e042bc686-c000.csv.crc\r\n",
      "data/sparkify_model_vf.csv/.part-00083-e6bc52a1-514c-435e-aa3c-aa5e042bc686-c000.csv.crc\r\n",
      "data/sparkify_model_vf.csv/part-00082-e6bc52a1-514c-435e-aa3c-aa5e042bc686-c000.csv\r\n",
      "data/sparkify_model_vf.csv/part-00085-e6bc52a1-514c-435e-aa3c-aa5e042bc686-c000.csv\r\n",
      "data/sparkify_model_vf.csv/.part-00107-e6bc52a1-514c-435e-aa3c-aa5e042bc686-c000.csv.crc\r\n",
      "data/sparkify_model_vf.csv/.part-00073-e6bc52a1-514c-435e-aa3c-aa5e042bc686-c000.csv.crc\r\n",
      "data/sparkify_model_vf.csv/part-00135-e6bc52a1-514c-435e-aa3c-aa5e042bc686-c000.csv\r\n",
      "data/sparkify_model_vf.csv/.part-00156-e6bc52a1-514c-435e-aa3c-aa5e042bc686-c000.csv.crc\r\n",
      "data/sparkify_model_vf.csv/part-00020-e6bc52a1-514c-435e-aa3c-aa5e042bc686-c000.csv\r\n",
      "data/sparkify_model_vf.csv/part-00139-e6bc52a1-514c-435e-aa3c-aa5e042bc686-c000.csv\r\n",
      "data/sparkify_model_vf.csv/.part-00152-e6bc52a1-514c-435e-aa3c-aa5e042bc686-c000.csv.crc\r\n",
      "data/sparkify_model_vf.csv/.part-00014-e6bc52a1-514c-435e-aa3c-aa5e042bc686-c000.csv.crc\r\n",
      "data/sparkify_model_vf.csv/part-00105-e6bc52a1-514c-435e-aa3c-aa5e042bc686-c000.csv\r\n",
      "data/sparkify_model_vf.csv/.part-00101-e6bc52a1-514c-435e-aa3c-aa5e042bc686-c000.csv.crc\r\n",
      "data/sparkify_model_vf.csv/.part-00199-e6bc52a1-514c-435e-aa3c-aa5e042bc686-c000.csv.crc\r\n",
      "data/sparkify_model_vf.csv/.part-00174-e6bc52a1-514c-435e-aa3c-aa5e042bc686-c000.csv.crc\r\n",
      "data/sparkify_model_vf.csv/part-00083-e6bc52a1-514c-435e-aa3c-aa5e042bc686-c000.csv\r\n",
      "data/sparkify_model_vf.csv/part-00094-e6bc52a1-514c-435e-aa3c-aa5e042bc686-c000.csv\r\n",
      "data/sparkify_model_vf.csv/part-00040-e6bc52a1-514c-435e-aa3c-aa5e042bc686-c000.csv\r\n",
      "data/sparkify_model_vf.csv/.part-00097-e6bc52a1-514c-435e-aa3c-aa5e042bc686-c000.csv.crc\r\n",
      "data/sparkify_model_vf.csv/.part-00188-e6bc52a1-514c-435e-aa3c-aa5e042bc686-c000.csv.crc\r\n",
      "data/sparkify_model_vf.csv/part-00059-e6bc52a1-514c-435e-aa3c-aa5e042bc686-c000.csv\r\n",
      "data/sparkify_model_vf.csv/part-00038-e6bc52a1-514c-435e-aa3c-aa5e042bc686-c000.csv\r\n",
      "data/sparkify_model_vf.csv/part-00088-e6bc52a1-514c-435e-aa3c-aa5e042bc686-c000.csv\r\n",
      "data/sparkify_model_vf.csv/part-00199-e6bc52a1-514c-435e-aa3c-aa5e042bc686-c000.csv\r\n",
      "data/sparkify_model_vf.csv/.part-00126-e6bc52a1-514c-435e-aa3c-aa5e042bc686-c000.csv.crc\r\n",
      "data/sparkify_model_vf.csv/part-00013-e6bc52a1-514c-435e-aa3c-aa5e042bc686-c000.csv\r\n",
      "data/sparkify_model_vf.csv/.part-00153-e6bc52a1-514c-435e-aa3c-aa5e042bc686-c000.csv.crc\r\n",
      "data/sparkify_model_vf.csv/.part-00135-e6bc52a1-514c-435e-aa3c-aa5e042bc686-c000.csv.crc\r\n",
      "data/sparkify_model_vf.csv/.part-00038-e6bc52a1-514c-435e-aa3c-aa5e042bc686-c000.csv.crc\r\n",
      "data/sparkify_model_vf.csv/part-00087-e6bc52a1-514c-435e-aa3c-aa5e042bc686-c000.csv\r\n",
      "data/sparkify_model_vf.csv/part-00168-e6bc52a1-514c-435e-aa3c-aa5e042bc686-c000.csv\r\n",
      "data/sparkify_model_vf.csv/part-00065-e6bc52a1-514c-435e-aa3c-aa5e042bc686-c000.csv\r\n",
      "data/sparkify_model_vf.csv/part-00071-e6bc52a1-514c-435e-aa3c-aa5e042bc686-c000.csv\r\n",
      "data/sparkify_model_vf.csv/part-00123-e6bc52a1-514c-435e-aa3c-aa5e042bc686-c000.csv\r\n",
      "data/sparkify_model_vf.csv/.part-00084-e6bc52a1-514c-435e-aa3c-aa5e042bc686-c000.csv.crc\r\n",
      "data/sparkify_model_vf.csv/part-00143-e6bc52a1-514c-435e-aa3c-aa5e042bc686-c000.csv\r\n",
      "data/sparkify_model_vf.csv/part-00166-e6bc52a1-514c-435e-aa3c-aa5e042bc686-c000.csv\r\n",
      "data/sparkify_model_vf.csv/.part-00179-e6bc52a1-514c-435e-aa3c-aa5e042bc686-c000.csv.crc\r\n",
      "data/sparkify_model_vf.csv/part-00167-e6bc52a1-514c-435e-aa3c-aa5e042bc686-c000.csv\r\n",
      "data/sparkify_model_vf.csv/.part-00167-e6bc52a1-514c-435e-aa3c-aa5e042bc686-c000.csv.crc\r\n",
      "data/sparkify_model_vf.csv/part-00107-e6bc52a1-514c-435e-aa3c-aa5e042bc686-c000.csv\r\n",
      "data/sparkify_model_vf.csv/.part-00020-e6bc52a1-514c-435e-aa3c-aa5e042bc686-c000.csv.crc\r\n",
      "data/sparkify_model_vf.csv/.part-00094-e6bc52a1-514c-435e-aa3c-aa5e042bc686-c000.csv.crc\r\n",
      "data/sparkify_model_vf.csv/part-00029-e6bc52a1-514c-435e-aa3c-aa5e042bc686-c000.csv\r\n",
      "data/sparkify_model_vf.csv/.part-00077-e6bc52a1-514c-435e-aa3c-aa5e042bc686-c000.csv.crc\r\n",
      "data/sparkify_model_vf.csv/.part-00037-e6bc52a1-514c-435e-aa3c-aa5e042bc686-c000.csv.crc\r\n",
      "data/sparkify_model_vf.csv/part-00120-e6bc52a1-514c-435e-aa3c-aa5e042bc686-c000.csv\r\n",
      "data/sparkify_model_vf.csv/part-00074-e6bc52a1-514c-435e-aa3c-aa5e042bc686-c000.csv\r\n",
      "data/sparkify_model_vf.csv/part-00051-e6bc52a1-514c-435e-aa3c-aa5e042bc686-c000.csv\r\n",
      "data/sparkify_model_vf.csv/part-00197-e6bc52a1-514c-435e-aa3c-aa5e042bc686-c000.csv\r\n",
      "data/sparkify_model_vf.csv/part-00078-e6bc52a1-514c-435e-aa3c-aa5e042bc686-c000.csv\r\n",
      "data/sparkify_model_vf.csv/part-00109-e6bc52a1-514c-435e-aa3c-aa5e042bc686-c000.csv\r\n",
      "data/sparkify_model_vf.csv/part-00115-e6bc52a1-514c-435e-aa3c-aa5e042bc686-c000.csv\r\n",
      "data/sparkify_model_vf.csv/part-00034-e6bc52a1-514c-435e-aa3c-aa5e042bc686-c000.csv\r\n",
      "data/sparkify_model_vf.csv/part-00018-e6bc52a1-514c-435e-aa3c-aa5e042bc686-c000.csv\r\n",
      "data/sparkify_model_vf.csv/.part-00173-e6bc52a1-514c-435e-aa3c-aa5e042bc686-c000.csv.crc\r\n",
      "data/sparkify_model_vf.csv/part-00033-e6bc52a1-514c-435e-aa3c-aa5e042bc686-c000.csv\r\n",
      "data/sparkify_model_vf.csv/part-00095-e6bc52a1-514c-435e-aa3c-aa5e042bc686-c000.csv\r\n",
      "data/sparkify_model_vf.csv/part-00132-e6bc52a1-514c-435e-aa3c-aa5e042bc686-c000.csv\r\n",
      "data/sparkify_model_vf.csv/.part-00115-e6bc52a1-514c-435e-aa3c-aa5e042bc686-c000.csv.crc\r\n",
      "data/sparkify_model_vf.csv/part-00141-e6bc52a1-514c-435e-aa3c-aa5e042bc686-c000.csv\r\n",
      "data/sparkify_model_vf.csv/part-00152-e6bc52a1-514c-435e-aa3c-aa5e042bc686-c000.csv\r\n",
      "data/sparkify_model_vf.csv/part-00116-e6bc52a1-514c-435e-aa3c-aa5e042bc686-c000.csv\r\n",
      "mini_sparkify_event_data.json\r\n",
      "notebook.tar.gz\n",
      "tar: notebook.tar.gz: file changed as we read it\n",
      "spark-warehouse/\n"
     ]
    }
   ],
   "source": [
    "# Extract data\n",
    "!tar chvfz notebook.tar.gz *"
   ]
  },
  {
   "cell_type": "code",
   "execution_count": 5,
   "metadata": {},
   "outputs": [
    {
     "name": "stdout",
     "output_type": "stream",
     "text": [
      "root\n",
      " |-- artist: string (nullable = true)\n",
      " |-- auth: string (nullable = true)\n",
      " |-- firstName: string (nullable = true)\n",
      " |-- gender: string (nullable = true)\n",
      " |-- itemInSession: long (nullable = true)\n",
      " |-- lastName: string (nullable = true)\n",
      " |-- length: double (nullable = true)\n",
      " |-- level: string (nullable = true)\n",
      " |-- location: string (nullable = true)\n",
      " |-- method: string (nullable = true)\n",
      " |-- page: string (nullable = true)\n",
      " |-- registration: long (nullable = true)\n",
      " |-- sessionId: long (nullable = true)\n",
      " |-- song: string (nullable = true)\n",
      " |-- status: long (nullable = true)\n",
      " |-- ts: long (nullable = true)\n",
      " |-- userAgent: string (nullable = true)\n",
      " |-- userId: string (nullable = true)\n",
      "\n"
     ]
    }
   ],
   "source": [
    "data_path = 'mini_sparkify_event_data.json'\n",
    "df = spark.read.json(data_path)\n",
    "# See the frame schema\n",
    "df.printSchema()"
   ]
  },
  {
   "cell_type": "code",
   "execution_count": 6,
   "metadata": {},
   "outputs": [
    {
     "data": {
      "text/plain": [
       "[Row(artist='Martha Tilston', auth='Logged In', firstName='Colin', gender='M', itemInSession=50, lastName='Freeman', length=277.89016, level='paid', location='Bakersfield, CA', method='PUT', page='NextSong', registration=1538173362000, sessionId=29, song='Rockpools', status=200, ts=1538352117000, userAgent='Mozilla/5.0 (Windows NT 6.1; WOW64; rv:31.0) Gecko/20100101 Firefox/31.0', userId='30'),\n",
       " Row(artist='Five Iron Frenzy', auth='Logged In', firstName='Micah', gender='M', itemInSession=79, lastName='Long', length=236.09424, level='free', location='Boston-Cambridge-Newton, MA-NH', method='PUT', page='NextSong', registration=1538331630000, sessionId=8, song='Canada', status=200, ts=1538352180000, userAgent='\"Mozilla/5.0 (Windows NT 6.1; WOW64) AppleWebKit/537.36 (KHTML, like Gecko) Chrome/37.0.2062.103 Safari/537.36\"', userId='9'),\n",
       " Row(artist='Adam Lambert', auth='Logged In', firstName='Colin', gender='M', itemInSession=51, lastName='Freeman', length=282.8273, level='paid', location='Bakersfield, CA', method='PUT', page='NextSong', registration=1538173362000, sessionId=29, song='Time For Miracles', status=200, ts=1538352394000, userAgent='Mozilla/5.0 (Windows NT 6.1; WOW64; rv:31.0) Gecko/20100101 Firefox/31.0', userId='30'),\n",
       " Row(artist='Enigma', auth='Logged In', firstName='Micah', gender='M', itemInSession=80, lastName='Long', length=262.71302, level='free', location='Boston-Cambridge-Newton, MA-NH', method='PUT', page='NextSong', registration=1538331630000, sessionId=8, song='Knocking On Forbidden Doors', status=200, ts=1538352416000, userAgent='\"Mozilla/5.0 (Windows NT 6.1; WOW64) AppleWebKit/537.36 (KHTML, like Gecko) Chrome/37.0.2062.103 Safari/537.36\"', userId='9'),\n",
       " Row(artist='Daft Punk', auth='Logged In', firstName='Colin', gender='M', itemInSession=52, lastName='Freeman', length=223.60771, level='paid', location='Bakersfield, CA', method='PUT', page='NextSong', registration=1538173362000, sessionId=29, song='Harder Better Faster Stronger', status=200, ts=1538352676000, userAgent='Mozilla/5.0 (Windows NT 6.1; WOW64; rv:31.0) Gecko/20100101 Firefox/31.0', userId='30')]"
      ]
     },
     "execution_count": 6,
     "metadata": {},
     "output_type": "execute_result"
    }
   ],
   "source": [
    "# reading the first few rows\n",
    "df.take(5)"
   ]
  },
  {
   "cell_type": "code",
   "execution_count": 7,
   "metadata": {},
   "outputs": [
    {
     "data": {
      "text/plain": [
       "DataFrame[summary: string, artist: string, auth: string, firstName: string, gender: string, itemInSession: string, lastName: string, length: string, level: string, location: string, method: string, page: string, registration: string, sessionId: string, song: string, status: string, ts: string, userAgent: string, userId: string]"
      ]
     },
     "execution_count": 7,
     "metadata": {},
     "output_type": "execute_result"
    }
   ],
   "source": [
    "# checking the column types\n",
    "df.describe()"
   ]
  },
  {
   "cell_type": "code",
   "execution_count": 8,
   "metadata": {},
   "outputs": [
    {
     "name": "stdout",
     "output_type": "stream",
     "text": [
      "+-------+------------------+----------+---------+------+------------------+--------+-----------------+------+-----------------+------+-------+--------------------+-----------------+--------------------+------------------+--------------------+--------------------+-----------------+\n",
      "|summary|            artist|      auth|firstName|gender|     itemInSession|lastName|           length| level|         location|method|   page|        registration|        sessionId|                song|            status|                  ts|           userAgent|           userId|\n",
      "+-------+------------------+----------+---------+------+------------------+--------+-----------------+------+-----------------+------+-------+--------------------+-----------------+--------------------+------------------+--------------------+--------------------+-----------------+\n",
      "|  count|            228108|    286500|   278154|278154|            286500|  278154|           228108|286500|           278154|286500| 286500|              278154|           286500|              228108|            286500|              286500|              278154|           286500|\n",
      "|   mean| 551.0852017937219|      null|     null|  null|114.41421291448516|    null|249.1171819778458|  null|             null|  null|   null|1.535358834084427...|1041.526554973822|            Infinity|210.05459685863875|1.540956889810483...|                null|59682.02278593872|\n",
      "| stddev|1217.7693079161374|      null|     null|  null|129.76726201140994|    null|99.23517921058361|  null|             null|  null|   null| 3.291321616327586E9|726.7762634630741|                 NaN| 31.50507848842214|1.5075439608226302E9|                null|109091.9499991047|\n",
      "|    min|               !!!| Cancelled| Adelaida|     F|                 0|   Adams|          0.78322|  free|       Albany, OR|   GET|  About|       1521380675000|                1|\u001c",
      "ÃÂg ÃÂtti Gr...|               200|       1538352117000|\"Mozilla/5.0 (Mac...|                 |\n",
      "|    max| ÃÂlafur Arnalds|Logged Out|   Zyonna|     M|              1321|  Wright|       3024.66567|  paid|Winston-Salem, NC|   PUT|Upgrade|       1543247354000|             2474|ÃÂau hafa slopp...|               404|       1543799476000|Mozilla/5.0 (comp...|               99|\n",
      "+-------+------------------+----------+---------+------+------------------+--------+-----------------+------+-----------------+------+-------+--------------------+-----------------+--------------------+------------------+--------------------+--------------------+-----------------+\n",
      "\n"
     ]
    }
   ],
   "source": [
    "df.describe().show()"
   ]
  },
  {
   "cell_type": "code",
   "execution_count": 9,
   "metadata": {},
   "outputs": [
    {
     "name": "stdout",
     "output_type": "stream",
     "text": [
      "+-------+------------------+\n",
      "|summary|            artist|\n",
      "+-------+------------------+\n",
      "|  count|            228108|\n",
      "|   mean| 551.0852017937219|\n",
      "| stddev|1217.7693079161374|\n",
      "|    min|               !!!|\n",
      "|    max| ÃÂlafur Arnalds|\n",
      "+-------+------------------+\n",
      "\n"
     ]
    }
   ],
   "source": [
    "# Total count of artists\n",
    "df.describe(\"artist\").show()"
   ]
  },
  {
   "cell_type": "code",
   "execution_count": 10,
   "metadata": {},
   "outputs": [
    {
     "name": "stdout",
     "output_type": "stream",
     "text": [
      "+-------+-----------------+\n",
      "|summary|        sessionId|\n",
      "+-------+-----------------+\n",
      "|  count|           286500|\n",
      "|   mean|1041.526554973822|\n",
      "| stddev|726.7762634630741|\n",
      "|    min|                1|\n",
      "|    max|             2474|\n",
      "+-------+-----------------+\n",
      "\n"
     ]
    }
   ],
   "source": [
    "#total count of sessionIds\n",
    "df.describe(\"sessionId\").show()"
   ]
  },
  {
   "cell_type": "code",
   "execution_count": 11,
   "metadata": {},
   "outputs": [
    {
     "data": {
      "text/plain": [
       "286500"
      ]
     },
     "execution_count": 11,
     "metadata": {},
     "output_type": "execute_result"
    }
   ],
   "source": [
    "#Overall count\n",
    "df.count()"
   ]
  },
  {
   "cell_type": "code",
   "execution_count": 12,
   "metadata": {},
   "outputs": [
    {
     "name": "stdout",
     "output_type": "stream",
     "text": [
      "+--------------------+\n",
      "|                page|\n",
      "+--------------------+\n",
      "|               About|\n",
      "|          Add Friend|\n",
      "|     Add to Playlist|\n",
      "|              Cancel|\n",
      "|Cancellation Conf...|\n",
      "|           Downgrade|\n",
      "|               Error|\n",
      "|                Help|\n",
      "|                Home|\n",
      "|               Login|\n",
      "|              Logout|\n",
      "|            NextSong|\n",
      "|            Register|\n",
      "|         Roll Advert|\n",
      "|       Save Settings|\n",
      "|            Settings|\n",
      "|    Submit Downgrade|\n",
      "| Submit Registration|\n",
      "|      Submit Upgrade|\n",
      "|         Thumbs Down|\n",
      "+--------------------+\n",
      "only showing top 20 rows\n",
      "\n"
     ]
    }
   ],
   "source": [
    "#Dropping duplicates\n",
    "df.select(\"page\").dropDuplicates().sort(\"page\").show()"
   ]
  },
  {
   "cell_type": "markdown",
   "metadata": {},
   "source": [
    "### Drop Rows with Missing Values"
   ]
  },
  {
   "cell_type": "code",
   "execution_count": 13,
   "metadata": {},
   "outputs": [],
   "source": [
    "#retaining only valid rows\n",
    "df_valid = df.dropna(how = \"any\", subset = [\"userId\", \"sessionId\"])"
   ]
  },
  {
   "cell_type": "code",
   "execution_count": 14,
   "metadata": {},
   "outputs": [
    {
     "data": {
      "text/plain": [
       "286500"
      ]
     },
     "execution_count": 14,
     "metadata": {},
     "output_type": "execute_result"
    }
   ],
   "source": [
    "# counting the number of rows dropped\n",
    "df_valid.count()"
   ]
  },
  {
   "cell_type": "code",
   "execution_count": 15,
   "metadata": {},
   "outputs": [
    {
     "data": {
      "text/plain": [
       "286500"
      ]
     },
     "execution_count": 15,
     "metadata": {},
     "output_type": "execute_result"
    }
   ],
   "source": [
    "df.count()"
   ]
  },
  {
   "cell_type": "code",
   "execution_count": 16,
   "metadata": {},
   "outputs": [],
   "source": [
    "# Hence, there are no missing values in the 'UserId' column"
   ]
  },
  {
   "cell_type": "code",
   "execution_count": 17,
   "metadata": {},
   "outputs": [
    {
     "name": "stdout",
     "output_type": "stream",
     "text": [
      "+------+\n",
      "|userId|\n",
      "+------+\n",
      "|      |\n",
      "|    10|\n",
      "|   100|\n",
      "|100001|\n",
      "|100002|\n",
      "|100003|\n",
      "|100004|\n",
      "|100005|\n",
      "|100006|\n",
      "|100007|\n",
      "|100008|\n",
      "|100009|\n",
      "|100010|\n",
      "|100011|\n",
      "|100012|\n",
      "|100013|\n",
      "|100014|\n",
      "|100015|\n",
      "|100016|\n",
      "|100017|\n",
      "+------+\n",
      "only showing top 20 rows\n",
      "\n"
     ]
    }
   ],
   "source": [
    "df_valid.select(\"userId\").dropDuplicates().sort(\"userId\").show()"
   ]
  },
  {
   "cell_type": "code",
   "execution_count": 18,
   "metadata": {},
   "outputs": [],
   "source": [
    "#Looks like there are rows with null strings and we will need to eliminate these"
   ]
  },
  {
   "cell_type": "code",
   "execution_count": 19,
   "metadata": {},
   "outputs": [],
   "source": [
    "df_valid = df_valid.filter(df_valid[\"userId\"] != \"\")"
   ]
  },
  {
   "cell_type": "code",
   "execution_count": 20,
   "metadata": {},
   "outputs": [
    {
     "data": {
      "text/plain": [
       "278154"
      ]
     },
     "execution_count": 20,
     "metadata": {},
     "output_type": "execute_result"
    }
   ],
   "source": [
    "# counting the total number of rows\n",
    "df_valid.count()"
   ]
  },
  {
   "cell_type": "code",
   "execution_count": 21,
   "metadata": {},
   "outputs": [
    {
     "data": {
      "text/plain": [
       "8346"
      ]
     },
     "execution_count": 21,
     "metadata": {},
     "output_type": "execute_result"
    }
   ],
   "source": [
    "#Hence, we dropped \n",
    "df.count() - df_valid.count()"
   ]
  },
  {
   "cell_type": "markdown",
   "metadata": {},
   "source": [
    "# Exploratory Data Analysis\n",
    "When you're working with the full dataset, perform EDA by loading a small subset of the data and doing basic manipulations within Spark. In this workspace, you are already provided a small subset of data you can explore.\n",
    "\n",
    "### Define Churn\n",
    "\n",
    "Once you've done some preliminary analysis, create a column `Churn` to use as the label for your model. I suggest using the `Cancellation Confirmation` events to define your churn, which happen for both paid and free users. As a bonus task, you can also look into the `Downgrade` events.\n",
    "\n",
    "### Explore Data\n",
    "Once you've defined churn, perform some exploratory data analysis to observe the behavior for users who stayed vs users who churned. You can start by exploring aggregates on these two groups of users, observing how much of a specific action they experienced per a certain time unit or number of songs played."
   ]
  },
  {
   "cell_type": "markdown",
   "metadata": {},
   "source": [
    "### Churn Definition\n",
    "A user is defined as churned when there's an event called Cancellation Confirmation appeared in activity log. This event happens for both paid and free users."
   ]
  },
  {
   "cell_type": "code",
   "execution_count": 22,
   "metadata": {},
   "outputs": [],
   "source": [
    "#Creating a flag for churn\n",
    "churn_users = df_valid.filter(df.page==\"Cancellation Confirmation\").select(\"userId\").dropDuplicates()\n",
    "churn_users_list = [(row['userId']) for row in churn_users.collect()]\n",
    "df_valid = df_valid.withColumn(\"churn\", df_valid.userId.isin(churn_users_list))"
   ]
  },
  {
   "cell_type": "code",
   "execution_count": 23,
   "metadata": {},
   "outputs": [
    {
     "data": {
      "image/png": "[encoded data removed]",
      "text/plain": [
       "<matplotlib.figure.Figure at 0x7f9f1c0adac8>"
      ]
     },
     "metadata": {
      "needs_background": "light"
     },
     "output_type": "display_data"
    }
   ],
   "source": [
    "# Seeing who churned more: Males or Females?\n",
    "\n",
    "gender_churn_pd = df_valid.dropDuplicates([\"userId\", \"gender\"]).groupby([\"churn\", \"gender\"]).count().sort(\"churn\").toPandas()\n",
    "\n",
    "ax = sns.barplot(x='churn', y='count', hue='gender', data=gender_churn_pd)\n",
    "plt.xlabel('Customer churn: True or Flase')\n",
    "plt.ylabel('# customers')\n",
    "plt.legend(title='Gender', loc='best')\n",
    "plt.title('Churn across genders')\n",
    "sns.despine(ax=ax);"
   ]
  },
  {
   "cell_type": "code",
   "execution_count": 32,
   "metadata": {},
   "outputs": [
    {
     "data": {
      "text/html": [
       "<div>\n",
       "<style scoped>\n",
       "    .dataframe tbody tr th:only-of-type {\n",
       "        vertical-align: middle;\n",
       "    }\n",
       "\n",
       "    .dataframe tbody tr th {\n",
       "        vertical-align: top;\n",
       "    }\n",
       "\n",
       "    .dataframe thead th {\n",
       "        text-align: right;\n",
       "    }\n",
       "</style>\n",
       "<table border=\"1\" class=\"dataframe\">\n",
       "  <thead>\n",
       "    <tr style=\"text-align: right;\">\n",
       "      <th></th>\n",
       "      <th>churn</th>\n",
       "      <th>gender</th>\n",
       "      <th>count</th>\n",
       "    </tr>\n",
       "  </thead>\n",
       "  <tbody>\n",
       "    <tr>\n",
       "      <th>0</th>\n",
       "      <td>False</td>\n",
       "      <td>M</td>\n",
       "      <td>89</td>\n",
       "    </tr>\n",
       "    <tr>\n",
       "      <th>1</th>\n",
       "      <td>False</td>\n",
       "      <td>F</td>\n",
       "      <td>84</td>\n",
       "    </tr>\n",
       "    <tr>\n",
       "      <th>2</th>\n",
       "      <td>True</td>\n",
       "      <td>F</td>\n",
       "      <td>20</td>\n",
       "    </tr>\n",
       "    <tr>\n",
       "      <th>3</th>\n",
       "      <td>True</td>\n",
       "      <td>M</td>\n",
       "      <td>32</td>\n",
       "    </tr>\n",
       "  </tbody>\n",
       "</table>\n",
       "</div>"
      ],
      "text/plain": [
       "   churn gender  count\n",
       "0  False      M     89\n",
       "1  False      F     84\n",
       "2   True      F     20\n",
       "3   True      M     32"
      ]
     },
     "execution_count": 32,
     "metadata": {},
     "output_type": "execute_result"
    }
   ],
   "source": [
    "#total number of customers and total churn\n",
    "gender_churn_pd\n"
   ]
  },
  {
   "cell_type": "markdown",
   "metadata": {},
   "source": [
    "#### Observation:\n",
    "_Male customers are likely to churn more than Female customers_"
   ]
  },
  {
   "cell_type": "code",
   "execution_count": 24,
   "metadata": {},
   "outputs": [],
   "source": [
    "# add a time column to df\n",
    "convert_ts = udf(lambda x: datetime.datetime.fromtimestamp(x / 1000.0).strftime(\"%Y-%m-%d %H:%M:%S\"))\n",
    "df_valid = df_valid.withColumn('event_time', convert_ts('ts'))\n",
    "df_valid = df_valid.withColumn('registration_time', convert_ts('registration'))"
   ]
  },
  {
   "cell_type": "markdown",
   "metadata": {},
   "source": [
    "#### Looking at Male and Female customers across their lifetime"
   ]
  },
  {
   "cell_type": "code",
   "execution_count": 25,
   "metadata": {},
   "outputs": [],
   "source": [
    "# total number of songs listened over a customer's lifetime\n",
    "lifetime_pd = df_valid.where('page == \"NextSong\" OR page == \"Thumbs Up\"').groupby(['userId', 'churn', 'gender', 'page']).count().toPandas()\n",
    "lifetime_pd = lifetime_pd.pivot_table(index=['userId','churn','gender'], values='count', columns='page').reset_index()"
   ]
  },
  {
   "cell_type": "code",
   "execution_count": 26,
   "metadata": {},
   "outputs": [
    {
     "data": {
      "image/png": "[encoded data removed]",
      "text/plain": [
       "<matplotlib.figure.Figure at 0x7fa19dcc2d30>"
      ]
     },
     "metadata": {
      "needs_background": "light"
     },
     "output_type": "display_data"
    }
   ],
   "source": [
    "#bar plot for a better representation of #songs over lifetime across both genders\n",
    "ax = sns.barplot(data=lifetime_pd, x='churn', y='NextSong', hue='gender')\n",
    "plt.xlabel('Customer churn: True or Flase')\n",
    "plt.ylabel('Lifetime songs listened')\n",
    "plt.legend(title='Gender', loc='best')\n",
    "plt.title('Customer lifetime songs')\n",
    "sns.despine(ax=ax);"
   ]
  },
  {
   "cell_type": "markdown",
   "metadata": {},
   "source": [
    "#### Observation:\n",
    "_Female customers seem to use the service many more times than male customers_"
   ]
  },
  {
   "cell_type": "code",
   "execution_count": 27,
   "metadata": {},
   "outputs": [
    {
     "data": {
      "image/png": "[encoded data removed]",
      "text/plain": [
       "<matplotlib.figure.Figure at 0x7fa19db9a518>"
      ]
     },
     "metadata": {
      "needs_background": "light"
     },
     "output_type": "display_data"
    }
   ],
   "source": [
    "#bar plot for a better representation of #songs liked over lifetime across both genders\n",
    "ax = sns.barplot(data=lifetime_pd, x='churn', y='Thumbs Up', hue='gender')\n",
    "plt.xlabel('Customer churn: True or Flase')\n",
    "plt.ylabel('Lifetime songs with Thumbs Up')\n",
    "plt.legend(title='Gender', loc='best')\n",
    "plt.title('# Songs \"liked\" by customers')\n",
    "sns.despine(ax=ax);"
   ]
  },
  {
   "cell_type": "markdown",
   "metadata": {},
   "source": [
    "#### Observation:\n",
    "_Female customers review the songs more than male customers_"
   ]
  },
  {
   "cell_type": "code",
   "execution_count": 28,
   "metadata": {},
   "outputs": [
    {
     "data": {
      "image/png": "[encoded data removed]",
      "text/plain": [
       "<matplotlib.figure.Figure at 0x7fa19dac7ac8>"
      ]
     },
     "metadata": {
      "needs_background": "light"
     },
     "output_type": "display_data"
    }
   ],
   "source": [
    "#bar plot for a number of songs played per session over lifetime across both genders\n",
    "songs_gender_pd = df_valid.where('page == \"NextSong\"').groupby(['churn', 'userId', 'sessionId','gender']).count()\\\n",
    "    .groupby(['churn', 'userId', 'gender']).agg({'count':'avg'})\\\n",
    "    .withColumnRenamed('avg(count)', 'avg_songs_played')\\\n",
    "    .toPandas()\n",
    "\n",
    "ax = sns.barplot('churn', y='avg_songs_played', hue='gender', data=songs_gender_pd)\n",
    "plt.xlabel('Customer churn: True or Flase')\n",
    "plt.ylabel('Average songs played per session')\n",
    "plt.legend(title='Gender', loc='best', ncol=2)\n",
    "plt.title('# songs played per session over lifetime ')\n",
    "sns.despine(ax=ax);"
   ]
  },
  {
   "cell_type": "markdown",
   "metadata": {},
   "source": [
    "#### Observation:\n",
    "_Female customers use the service more before churning, whereas, Male customers who continue seem to play marginally more songs_"
   ]
  },
  {
   "cell_type": "markdown",
   "metadata": {},
   "source": [
    "#### Additional EDA:"
   ]
  },
  {
   "cell_type": "markdown",
   "metadata": {},
   "source": [
    "#### After how long does a customer churn"
   ]
  },
  {
   "cell_type": "code",
   "execution_count": 29,
   "metadata": {},
   "outputs": [],
   "source": [
    "# After how long does a customer churn?\n",
    "lt_pd = df_valid \\\n",
    "    .select('userId','registration','ts','churn') \\\n",
    "    .withColumn('lifetime',((df_valid.ts-df_valid.registration)/1000/3600/24))\\\n",
    "    .groupBy('userId','churn') \\\n",
    "    .agg({'lifetime':'max'}) \\\n",
    "    .withColumnRenamed('max(lifetime)','lifetime') \\\n",
    "    .select('userId', 'churn', 'lifetime')\\\n",
    "    .toPandas()"
   ]
  },
  {
   "cell_type": "code",
   "execution_count": 30,
   "metadata": {},
   "outputs": [
    {
     "data": {
      "image/png": "[encoded data removed]",
      "text/plain": [
       "<matplotlib.figure.Figure at 0x7fa1d7099f28>"
      ]
     },
     "metadata": {
      "needs_background": "light"
     },
     "output_type": "display_data"
    }
   ],
   "source": [
    "ax = sns.boxplot(data=lt_pd, y='churn', x='lifetime', orient='h')\n",
    "plt.xlabel('Days since registration when churn')\n",
    "plt.ylabel('Customer churn: True or Flase')\n",
    "plt.title('Service used before churning')\n",
    "sns.despine(ax=ax);"
   ]
  },
  {
   "cell_type": "markdown",
   "metadata": {},
   "source": [
    "#### Observation:\n",
    "_Churned customer use the service for a shorter period of time. Hypothesis: Customers quickly realize that the service is not to their liking and de-register quickly_"
   ]
  },
  {
   "cell_type": "markdown",
   "metadata": {},
   "source": [
    "#### Calculating Statistics by Hour"
   ]
  },
  {
   "cell_type": "code",
   "execution_count": 31,
   "metadata": {},
   "outputs": [],
   "source": [
    "#count at an hourly level\n",
    "get_hour = udf(lambda x: datetime.datetime.fromtimestamp(x / 1000.0). hour)"
   ]
  },
  {
   "cell_type": "code",
   "execution_count": 32,
   "metadata": {},
   "outputs": [],
   "source": [
    "df = df.withColumn(\"hour\", get_hour(df.ts))"
   ]
  },
  {
   "cell_type": "code",
   "execution_count": 33,
   "metadata": {},
   "outputs": [
    {
     "data": {
      "text/plain": [
       "Row(artist='Martha Tilston', auth='Logged In', firstName='Colin', gender='M', itemInSession=50, lastName='Freeman', length=277.89016, level='paid', location='Bakersfield, CA', method='PUT', page='NextSong', registration=1538173362000, sessionId=29, song='Rockpools', status=200, ts=1538352117000, userAgent='Mozilla/5.0 (Windows NT 6.1; WOW64; rv:31.0) Gecko/20100101 Firefox/31.0', userId='30', hour='0')"
      ]
     },
     "execution_count": 33,
     "metadata": {},
     "output_type": "execute_result"
    }
   ],
   "source": [
    "df.head()"
   ]
  },
  {
   "cell_type": "code",
   "execution_count": 34,
   "metadata": {},
   "outputs": [],
   "source": [
    "#total number of songs requested by the hour\n",
    "songs_in_hour = df.filter(df.page == \"NextSong\").groupby(df.hour).count().orderBy(df.hour.cast(\"float\"))"
   ]
  },
  {
   "cell_type": "code",
   "execution_count": 35,
   "metadata": {},
   "outputs": [
    {
     "name": "stdout",
     "output_type": "stream",
     "text": [
      "+----+-----+\n",
      "|hour|count|\n",
      "+----+-----+\n",
      "|   0| 9062|\n",
      "|   1| 8388|\n",
      "|   2| 8336|\n",
      "|   3| 8355|\n",
      "|   4| 8147|\n",
      "|   5| 8178|\n",
      "|   6| 8054|\n",
      "|   7| 8091|\n",
      "|   8| 8253|\n",
      "|   9| 8498|\n",
      "|  10| 8882|\n",
      "|  11| 8830|\n",
      "|  12| 9326|\n",
      "|  13| 9644|\n",
      "|  14|10494|\n",
      "|  15|11354|\n",
      "|  16|11636|\n",
      "|  17|11460|\n",
      "|  18|11124|\n",
      "|  19|10930|\n",
      "+----+-----+\n",
      "only showing top 20 rows\n",
      "\n"
     ]
    }
   ],
   "source": [
    "songs_in_hour.show()"
   ]
  },
  {
   "cell_type": "code",
   "execution_count": 36,
   "metadata": {},
   "outputs": [],
   "source": [
    "# converting to a pandas df for plotting graphs\n",
    "songs_in_hour_pd = songs_in_hour.toPandas()\n",
    "songs_in_hour_pd.hour = pd.to_numeric(songs_in_hour_pd.hour)"
   ]
  },
  {
   "cell_type": "code",
   "execution_count": 37,
   "metadata": {
    "scrolled": true
   },
   "outputs": [
    {
     "data": {
      "image/png": "[encoded data removed]",
      "text/plain": [
       "<matplotlib.figure.Figure at 0x7fa19da30a58>"
      ]
     },
     "metadata": {
      "needs_background": "light"
     },
     "output_type": "display_data"
    }
   ],
   "source": [
    "#scatterplot to check when is the next song requested\n",
    "plt.scatter(songs_in_hour_pd[\"hour\"], songs_in_hour_pd[\"count\"])\n",
    "plt.xlim(-1, 24);\n",
    "plt.xlabel(\"Hour\")\n",
    "plt.ylabel(\"Songs played\");"
   ]
  },
  {
   "cell_type": "markdown",
   "metadata": {},
   "source": [
    "#### Observation:\n",
    "_Customers tend to play more songs post lunch (after 2 PM) and it slowly tapers down to 10 PM_"
   ]
  },
  {
   "cell_type": "markdown",
   "metadata": {},
   "source": [
    "#### Users Downgrade Their Accounts\n",
    "Find when users downgrade their accounts and then flag those log entries."
   ]
  },
  {
   "cell_type": "code",
   "execution_count": 38,
   "metadata": {},
   "outputs": [
    {
     "name": "stdout",
     "output_type": "stream",
     "text": [
      "+------+---------+---------+------+-------------+---------+------+-----+--------------------+------+----------------+-------------+---------+----+------+-------------+--------------------+------+-----+-------------------+-------------------+\n",
      "|artist|     auth|firstName|gender|itemInSession| lastName|length|level|            location|method|            page| registration|sessionId|song|status|           ts|           userAgent|userId|churn|         event_time|  registration_time|\n",
      "+------+---------+---------+------+-------------+---------+------+-----+--------------------+------+----------------+-------------+---------+----+------+-------------+--------------------+------+-----+-------------------+-------------------+\n",
      "|  null|Logged In|     Kael|     M|           47|    Baker|  null| paid|Kingsport-Bristol...|   PUT|Submit Downgrade|1533102330000|      249|null|   307|1538393619000|\"Mozilla/5.0 (Mac...|   131|false|2018-10-01 11:33:39|2018-08-01 05:45:30|\n",
      "|  null|Logged In|   Calvin|     M|           17| Marshall|  null| paid|      Pittsburgh, PA|   PUT|Submit Downgrade|1537120757000|      313|null|   307|1538516445000|\"Mozilla/5.0 (Mac...|    38|false|2018-10-02 21:40:45|2018-09-16 17:59:17|\n",
      "|  null|Logged In|  Kaylenn|     F|          354|  Jenkins|  null| paid|           Price, UT|   PUT|Submit Downgrade|1535903878000|      479|null|   307|1538835479000|\"Mozilla/5.0 (Mac...|   141|false|2018-10-06 14:17:59|2018-09-02 15:57:58|\n",
      "|  null|Logged In|    Colin|     M|          214|  Freeman|  null| paid|     Bakersfield, CA|   PUT|Submit Downgrade|1538173362000|      532|null|   307|1538995454000|Mozilla/5.0 (Wind...|    30|false|2018-10-08 10:44:14|2018-09-28 22:22:42|\n",
      "|  null|Logged In|  Destiny|     F|            2|  Herring|  null| paid|Miami-Fort Lauder...|   PUT|Submit Downgrade|1536844410000|      378|null|   307|1538997356000|\"Mozilla/5.0 (Win...|    20|false|2018-10-08 11:15:56|2018-09-13 13:13:30|\n",
      "|  null|Logged In|   Sophia|     F|           42|    Perry|  null| paid|Los Angeles-Long ...|   PUT|Submit Downgrade|1533885783000|      632|null|   307|1539144047000|Mozilla/5.0 (Wind...|    12| true|2018-10-10 04:00:47|2018-08-10 07:23:03|\n",
      "|  null|Logged In|      Zoe|     F|           23|    Patel|  null| paid|Providence-Warwic...|   PUT|Submit Downgrade|1532554781000|      487|null|   307|1539239742000|Mozilla/5.0 (Wind...|    11|false|2018-10-11 06:35:42|2018-07-25 21:39:41|\n",
      "|  null|Logged In|   Parker|     M|          636| Williams|  null| paid|San Francisco-Oak...|   PUT|Submit Downgrade|1537188538000|      529|null|   307|1539244188000|\"Mozilla/5.0 (iPh...|    61|false|2018-10-11 07:49:48|2018-09-17 12:48:58|\n",
      "|  null|Logged In|   Oliver|     M|           89|  Gilbert|  null| paid|Philadelphia-Camd...|   PUT|Submit Downgrade|1535093367000|      725|null|   307|1539264337000|\"Mozilla/5.0 (Mac...|    81|false|2018-10-11 13:25:37|2018-08-24 06:49:27|\n",
      "|  null|Logged In|  Brayden|     M|          113|   Thomas|  null| paid|Los Angeles-Long ...|   PUT|Submit Downgrade|1534133898000|      734|null|   307|1539335599000|\"Mozilla/5.0 (Mac...|    85|false|2018-10-12 09:13:19|2018-08-13 04:18:18|\n",
      "|  null|Logged In|   Lucero|     F|           19|     Reed|  null| paid|Louisville/Jeffer...|   PUT|Submit Downgrade|1536642109000|      753|null|   307|1539337383000|\"Mozilla/5.0 (Win...|   140|false|2018-10-12 09:43:03|2018-09-11 05:01:49|\n",
      "|  null|Logged In|     Lily|     F|           69|  Barnett|  null| paid|Washington-Arling...|   PUT|Submit Downgrade|1537053412000|      812|null|   307|1539467798000|\"Mozilla/5.0 (Mac...|    35|false|2018-10-13 21:56:38|2018-09-15 23:16:52|\n",
      "|  null|Logged In|    Alexi|     F|           41|   Warren|  null| paid|Spokane-Spokane V...|   PUT|Submit Downgrade|1532482662000|      859|null|   307|1539608060000|Mozilla/5.0 (Wind...|    54| true|2018-10-15 12:54:20|2018-07-25 01:37:42|\n",
      "|  null|Logged In|   Autumn|     F|           53|   Martin|  null| paid|     Gainesville, FL|   PUT|Submit Downgrade|1537749786000|      688|null|   307|1539608338000|\"Mozilla/5.0 (Win...|    77|false|2018-10-15 12:58:58|2018-09-24 00:43:06|\n",
      "|  null|Logged In|   Jaleel|     M|          180|Maldonado|  null| paid|         Boulder, CO|   PUT|Submit Downgrade|1537890437000|      510|null|   307|1539633167000|Mozilla/5.0 (Wind...|    59|false|2018-10-15 19:52:47|2018-09-25 15:47:17|\n",
      "|  null|Logged In|    Piper|     F|          210|  Nielsen|  null| paid|New York-Newark-J...|   PUT|Submit Downgrade|1537699856000|      865|null|   307|1539647785000|\"Mozilla/5.0 (Mac...|   103| true|2018-10-15 23:56:25|2018-09-23 10:50:56|\n",
      "|  null|Logged In|    Faigy|     F|          101|     Howe|  null| paid|Phoenix-Mesa-Scot...|   PUT|Submit Downgrade|1538211832000|      826|null|   307|1539675894000|Mozilla/5.0 (Maci...|    95|false|2018-10-16 07:44:54|2018-09-29 09:03:52|\n",
      "|  null|Logged In|  Ashlynn|     F|          303| Williams|  null| paid|     Tallahassee, FL|   PUT|Submit Downgrade|1537365219000|     1101|null|   307|1540235073000|\"Mozilla/5.0 (Mac...|    74|false|2018-10-22 19:04:33|2018-09-19 13:53:39|\n",
      "|  null|Logged In|  Brayden|     M|          105|   Thomas|  null| paid|Los Angeles-Long ...|   PUT|Submit Downgrade|1534133898000|     1183|null|   307|1540383285000|\"Mozilla/5.0 (Mac...|    85|false|2018-10-24 12:14:45|2018-08-13 04:18:18|\n",
      "|  null|Logged In|    Micah|     M|           11|     Long|  null| paid|Boston-Cambridge-...|   PUT|Submit Downgrade|1538331630000|     1276|null|   307|1540706007000|\"Mozilla/5.0 (Win...|     9|false|2018-10-28 05:53:27|2018-09-30 18:20:30|\n",
      "+------+---------+---------+------+-------------+---------+------+-----+--------------------+------+----------------+-------------+---------+----+------+-------------+--------------------+------+-----+-------------------+-------------------+\n",
      "only showing top 20 rows\n",
      "\n"
     ]
    }
   ],
   "source": [
    "df_valid.filter(\"page = 'Submit Downgrade'\").show()"
   ]
  },
  {
   "cell_type": "code",
   "execution_count": 39,
   "metadata": {},
   "outputs": [],
   "source": [
    "#creating a flag\n",
    "flag_downgrade_event = udf(lambda x: 1 if x == \"Submit Downgrade\" else 0, IntegerType())"
   ]
  },
  {
   "cell_type": "code",
   "execution_count": 40,
   "metadata": {},
   "outputs": [],
   "source": [
    "df_valid = df_valid.withColumn(\"downgraded\", flag_downgrade_event(\"page\"))"
   ]
  },
  {
   "cell_type": "code",
   "execution_count": 41,
   "metadata": {},
   "outputs": [
    {
     "data": {
      "text/plain": [
       "Row(artist='Martha Tilston', auth='Logged In', firstName='Colin', gender='M', itemInSession=50, lastName='Freeman', length=277.89016, level='paid', location='Bakersfield, CA', method='PUT', page='NextSong', registration=1538173362000, sessionId=29, song='Rockpools', status=200, ts=1538352117000, userAgent='Mozilla/5.0 (Windows NT 6.1; WOW64; rv:31.0) Gecko/20100101 Firefox/31.0', userId='30', churn=False, event_time='2018-10-01 00:01:57', registration_time='2018-09-28 22:22:42', downgraded=0)"
      ]
     },
     "execution_count": 41,
     "metadata": {},
     "output_type": "execute_result"
    }
   ],
   "source": [
    "df_valid.head()"
   ]
  },
  {
   "cell_type": "code",
   "execution_count": 42,
   "metadata": {},
   "outputs": [],
   "source": [
    "#using windows function for calculating cumulative scores in reverse chronological order for Phase column\n",
    "windowval = Window.partitionBy(\"userId\").orderBy(desc(\"ts\")).rangeBetween(Window.unboundedPreceding, 0)"
   ]
  },
  {
   "cell_type": "code",
   "execution_count": 43,
   "metadata": {},
   "outputs": [],
   "source": [
    "df_valid = df_valid.withColumn(\"phase\", Fsum(\"downgraded\").over(windowval))"
   ]
  },
  {
   "cell_type": "code",
   "execution_count": 44,
   "metadata": {},
   "outputs": [
    {
     "data": {
      "text/plain": [
       "[Row(userId='30', firstname='Colin', ts=1538352117000, page='NextSong', level='paid', phase=1),\n",
       " Row(userId='9', firstname='Micah', ts=1538352180000, page='NextSong', level='free', phase=1),\n",
       " Row(userId='30', firstname='Colin', ts=1538352394000, page='NextSong', level='paid', phase=1),\n",
       " Row(userId='9', firstname='Micah', ts=1538352416000, page='NextSong', level='free', phase=1),\n",
       " Row(userId='30', firstname='Colin', ts=1538352676000, page='NextSong', level='paid', phase=1),\n",
       " Row(userId='9', firstname='Micah', ts=1538352678000, page='NextSong', level='free', phase=1),\n",
       " Row(userId='9', firstname='Micah', ts=1538352886000, page='NextSong', level='free', phase=1),\n",
       " Row(userId='30', firstname='Colin', ts=1538352899000, page='NextSong', level='paid', phase=1),\n",
       " Row(userId='30', firstname='Colin', ts=1538352905000, page='Add to Playlist', level='paid', phase=1),\n",
       " Row(userId='30', firstname='Colin', ts=1538353084000, page='NextSong', level='paid', phase=1),\n",
       " Row(userId='9', firstname='Micah', ts=1538353146000, page='NextSong', level='free', phase=1),\n",
       " Row(userId='9', firstname='Micah', ts=1538353150000, page='Roll Advert', level='free', phase=1),\n",
       " Row(userId='30', firstname='Colin', ts=1538353218000, page='NextSong', level='paid', phase=1),\n",
       " Row(userId='9', firstname='Micah', ts=1538353375000, page='NextSong', level='free', phase=1),\n",
       " Row(userId='9', firstname='Micah', ts=1538353376000, page='Thumbs Up', level='free', phase=1),\n",
       " Row(userId='30', firstname='Colin', ts=1538353441000, page='NextSong', level='paid', phase=1),\n",
       " Row(userId='9', firstname='Micah', ts=1538353576000, page='NextSong', level='free', phase=1),\n",
       " Row(userId='74', firstname='Ashlynn', ts=1538353668000, page='NextSong', level='free', phase=1),\n",
       " Row(userId='30', firstname='Colin', ts=1538353687000, page='NextSong', level='paid', phase=1),\n",
       " Row(userId='9', firstname='Micah', ts=1538353744000, page='NextSong', level='free', phase=1),\n",
       " Row(userId='74', firstname='Ashlynn', ts=1538353834000, page='NextSong', level='free', phase=1),\n",
       " Row(userId='30', firstname='Colin', ts=1538353909000, page='NextSong', level='paid', phase=1),\n",
       " Row(userId='54', firstname='Alexi', ts=1538353930000, page='NextSong', level='paid', phase=1),\n",
       " Row(userId='9', firstname='Micah', ts=1538353973000, page='NextSong', level='free', phase=1),\n",
       " Row(userId='74', firstname='Ashlynn', ts=1538354117000, page='NextSong', level='free', phase=1),\n",
       " Row(userId='30', firstname='Colin', ts=1538354132000, page='NextSong', level='paid', phase=1),\n",
       " Row(userId='54', firstname='Alexi', ts=1538354180000, page='NextSong', level='paid', phase=1),\n",
       " Row(userId='9', firstname='Micah', ts=1538354204000, page='NextSong', level='free', phase=1),\n",
       " Row(userId='74', firstname='Ashlynn', ts=1538354291000, page='NextSong', level='free', phase=1),\n",
       " Row(userId='30', firstname='Colin', ts=1538354365000, page='NextSong', level='paid', phase=1),\n",
       " Row(userId='54', firstname='Alexi', ts=1538354396000, page='NextSong', level='paid', phase=1),\n",
       " Row(userId='9', firstname='Micah', ts=1538354445000, page='NextSong', level='free', phase=1),\n",
       " Row(userId='30', firstname='Colin', ts=1538354584000, page='NextSong', level='paid', phase=1),\n",
       " Row(userId='74', firstname='Ashlynn', ts=1538354598000, page='NextSong', level='free', phase=1),\n",
       " Row(userId='54', firstname='Alexi', ts=1538354739000, page='NextSong', level='paid', phase=1),\n",
       " Row(userId='54', firstname='Alexi', ts=1538354749000, page='Downgrade', level='paid', phase=1),\n",
       " Row(userId='30', firstname='Colin', ts=1538354806000, page='NextSong', level='paid', phase=1),\n",
       " Row(userId='9', firstname='Micah', ts=1538354818000, page='NextSong', level='free', phase=1),\n",
       " Row(userId='30', firstname='Colin', ts=1538354945000, page='NextSong', level='paid', phase=1),\n",
       " Row(userId='54', firstname='Alexi', ts=1538354985000, page='NextSong', level='paid', phase=1),\n",
       " Row(userId='74', firstname='Ashlynn', ts=1538355027000, page='NextSong', level='free', phase=1),\n",
       " Row(userId='9', firstname='Micah', ts=1538355127000, page='NextSong', level='free', phase=1),\n",
       " Row(userId='74', firstname='Ashlynn', ts=1538355252000, page='NextSong', level='free', phase=1),\n",
       " Row(userId='54', firstname='Alexi', ts=1538355254000, page='NextSong', level='paid', phase=1),\n",
       " Row(userId='54', firstname='Alexi', ts=1538355255000, page='Thumbs Up', level='paid', phase=1),\n",
       " Row(userId='30', firstname='Colin', ts=1538355256000, page='NextSong', level='paid', phase=1),\n",
       " Row(userId='9', firstname='Micah', ts=1538355305000, page='NextSong', level='free', phase=1),\n",
       " Row(userId='9', firstname='Micah', ts=1538355306000, page='Thumbs Down', level='free', phase=1),\n",
       " Row(userId='74', firstname='Ashlynn', ts=1538355459000, page='NextSong', level='free', phase=1),\n",
       " Row(userId='30', firstname='Colin', ts=1538355473000, page='NextSong', level='paid', phase=1),\n",
       " Row(userId='9', firstname='Micah', ts=1538355501000, page='NextSong', level='free', phase=1),\n",
       " Row(userId='9', firstname='Micah', ts=1538355504000, page='Home', level='free', phase=1),\n",
       " Row(userId='9', firstname='Micah', ts=1538355686000, page='NextSong', level='free', phase=1),\n",
       " Row(userId='9', firstname='Micah', ts=1538355687000, page='Logout', level='free', phase=1),\n",
       " Row(userId='74', firstname='Ashlynn', ts=1538355710000, page='NextSong', level='free', phase=1),\n",
       " Row(userId='30', firstname='Colin', ts=1538355711000, page='NextSong', level='paid', phase=1),\n",
       " Row(userId='74', firstname='Ashlynn', ts=1538355711000, page='Thumbs Up', level='free', phase=1),\n",
       " Row(userId='9', firstname='Micah', ts=1538355855000, page='Home', level='free', phase=1),\n",
       " Row(userId='9', firstname='Micah', ts=1538355875000, page='NextSong', level='free', phase=1),\n",
       " Row(userId='30', firstname='Colin', ts=1538355915000, page='NextSong', level='paid', phase=1),\n",
       " Row(userId='74', firstname='Ashlynn', ts=1538356000000, page='NextSong', level='free', phase=1),\n",
       " Row(userId='9', firstname='Micah', ts=1538356108000, page='NextSong', level='free', phase=1),\n",
       " Row(userId='74', firstname='Ashlynn', ts=1538356218000, page='NextSong', level='free', phase=1),\n",
       " Row(userId='9', firstname='Micah', ts=1538356259000, page='NextSong', level='free', phase=1),\n",
       " Row(userId='30', firstname='Colin', ts=1538356263000, page='NextSong', level='paid', phase=1),\n",
       " Row(userId='74', firstname='Ashlynn', ts=1538356359000, page='NextSong', level='free', phase=1),\n",
       " Row(userId='30', firstname='Colin', ts=1538356523000, page='NextSong', level='paid', phase=1),\n",
       " Row(userId='30', firstname='Colin', ts=1538356524000, page='Thumbs Down', level='paid', phase=1),\n",
       " Row(userId='74', firstname='Ashlynn', ts=1538356598000, page='NextSong', level='free', phase=1),\n",
       " Row(userId='9', firstname='Micah', ts=1538356616000, page='NextSong', level='free', phase=1),\n",
       " Row(userId='4', firstname='Warren', ts=1538356650000, page='NextSong', level='free', phase=0),\n",
       " Row(userId='4', firstname='Warren', ts=1538356651000, page='Logout', level='free', phase=0),\n",
       " Row(userId='4', firstname='Warren', ts=1538356686000, page='Home', level='free', phase=0),\n",
       " Row(userId='30', firstname='Colin', ts=1538356707000, page='NextSong', level='paid', phase=1),\n",
       " Row(userId='74', firstname='Ashlynn', ts=1538356782000, page='NextSong', level='free', phase=1),\n",
       " Row(userId='74', firstname='Ashlynn', ts=1538356816000, page='Add to Playlist', level='free', phase=1),\n",
       " Row(userId='74', firstname='Ashlynn', ts=1538356824000, page='NextSong', level='free', phase=1),\n",
       " Row(userId='4', firstname='Warren', ts=1538356889000, page='NextSong', level='free', phase=0),\n",
       " Row(userId='30', firstname='Colin', ts=1538356903000, page='NextSong', level='paid', phase=1),\n",
       " Row(userId='9', firstname='Micah', ts=1538356918000, page='NextSong', level='free', phase=1),\n",
       " Row(userId='4', firstname='Warren', ts=1538356954000, page='Home', level='free', phase=0),\n",
       " Row(userId='74', firstname='Ashlynn', ts=1538357103000, page='NextSong', level='free', phase=1),\n",
       " Row(userId='74', firstname='Ashlynn', ts=1538357104000, page='Thumbs Up', level='free', phase=1),\n",
       " Row(userId='4', firstname='Warren', ts=1538357110000, page='NextSong', level='free', phase=0),\n",
       " Row(userId='9', firstname='Micah', ts=1538357159000, page='NextSong', level='free', phase=1),\n",
       " Row(userId='9', firstname='Micah', ts=1538357160000, page='Thumbs Up', level='free', phase=1),\n",
       " Row(userId='30', firstname='Colin', ts=1538357223000, page='NextSong', level='paid', phase=1),\n",
       " Row(userId='4', firstname='Warren', ts=1538357328000, page='NextSong', level='free', phase=0),\n",
       " Row(userId='74', firstname='Ashlynn', ts=1538357377000, page='NextSong', level='free', phase=1),\n",
       " Row(userId='9', firstname='Micah', ts=1538357401000, page='NextSong', level='free', phase=1),\n",
       " Row(userId='30', firstname='Colin', ts=1538357452000, page='NextSong', level='paid', phase=1),\n",
       " Row(userId='4', firstname='Warren', ts=1538357543000, page='NextSong', level='free', phase=0),\n",
       " Row(userId='74', firstname='Ashlynn', ts=1538357578000, page='NextSong', level='free', phase=1),\n",
       " Row(userId='9', firstname='Micah', ts=1538357593000, page='NextSong', level='free', phase=1),\n",
       " Row(userId='30', firstname='Colin', ts=1538357648000, page='NextSong', level='paid', phase=1),\n",
       " Row(userId='30', firstname='Colin', ts=1538357649000, page='Thumbs Up', level='paid', phase=1),\n",
       " Row(userId='4', firstname='Warren', ts=1538357746000, page='NextSong', level='free', phase=0),\n",
       " Row(userId='9', firstname='Micah', ts=1538357839000, page='NextSong', level='free', phase=1),\n",
       " Row(userId='74', firstname='Ashlynn', ts=1538357915000, page='NextSong', level='free', phase=1),\n",
       " Row(userId='74', firstname='Ashlynn', ts=1538357916000, page='Thumbs Up', level='free', phase=1),\n",
       " Row(userId='30', firstname='Colin', ts=1538357990000, page='NextSong', level='paid', phase=1),\n",
       " Row(userId='30', firstname='Colin', ts=1538357991000, page='Thumbs Up', level='paid', phase=1),\n",
       " Row(userId='4', firstname='Warren', ts=1538357996000, page='NextSong', level='free', phase=0),\n",
       " Row(userId='9', firstname='Micah', ts=1538358074000, page='NextSong', level='free', phase=1),\n",
       " Row(userId='74', firstname='Ashlynn', ts=1538358191000, page='NextSong', level='free', phase=1),\n",
       " Row(userId='74', firstname='Ashlynn', ts=1538358192000, page='Thumbs Down', level='free', phase=1),\n",
       " Row(userId='4', firstname='Warren', ts=1538358264000, page='NextSong', level='free', phase=0),\n",
       " Row(userId='9', firstname='Micah', ts=1538358304000, page='NextSong', level='free', phase=1),\n",
       " Row(userId='30', firstname='Colin', ts=1538358314000, page='NextSong', level='paid', phase=1),\n",
       " Row(userId='4', firstname='Warren', ts=1538358503000, page='NextSong', level='free', phase=0),\n",
       " Row(userId='30', firstname='Colin', ts=1538358532000, page='NextSong', level='paid', phase=1),\n",
       " Row(userId='101', firstname='Alex', ts=1538358605000, page='Home', level='free', phase=0),\n",
       " Row(userId='9', firstname='Micah', ts=1538358688000, page='NextSong', level='free', phase=1),\n",
       " Row(userId='9', firstname='Micah', ts=1538358757000, page='NextSong', level='free', phase=1),\n",
       " Row(userId='30', firstname='Colin', ts=1538358761000, page='NextSong', level='paid', phase=1),\n",
       " Row(userId='9', firstname='Micah', ts=1538358779000, page='Roll Advert', level='free', phase=1),\n",
       " Row(userId='101', firstname='Alex', ts=1538358818000, page='NextSong', level='free', phase=0),\n",
       " Row(userId='9', firstname='Micah', ts=1538359002000, page='NextSong', level='free', phase=1),\n",
       " Row(userId='101', firstname='Alex', ts=1538359016000, page='NextSong', level='free', phase=0),\n",
       " Row(userId='30', firstname='Colin', ts=1538359054000, page='NextSong', level='paid', phase=1),\n",
       " Row(userId='78', firstname='Ainsley', ts=1538359181000, page='Home', level='free', phase=0),\n",
       " Row(userId='78', firstname='Ainsley', ts=1538359204000, page='NextSong', level='free', phase=0),\n",
       " Row(userId='9', firstname='Micah', ts=1538359236000, page='NextSong', level='free', phase=1),\n",
       " Row(userId='9', firstname='Micah', ts=1538359261000, page='Add to Playlist', level='free', phase=1),\n",
       " Row(userId='101', firstname='Alex', ts=1538359289000, page='NextSong', level='free', phase=0),\n",
       " Row(userId='30', firstname='Colin', ts=1538359320000, page='NextSong', level='paid', phase=1),\n",
       " Row(userId='78', firstname='Ainsley', ts=1538359398000, page='NextSong', level='free', phase=0),\n",
       " Row(userId='101', firstname='Alex', ts=1538359435000, page='NextSong', level='free', phase=0),\n",
       " Row(userId='78', firstname='Ainsley', ts=1538359596000, page='NextSong', level='free', phase=0),\n",
       " Row(userId='101', firstname='Alex', ts=1538359652000, page='NextSong', level='free', phase=0),\n",
       " Row(userId='4', firstname='Warren', ts=1538359745000, page='NextSong', level='free', phase=0),\n",
       " Row(userId='78', firstname='Ainsley', ts=1538359749000, page='NextSong', level='free', phase=0),\n",
       " Row(userId='101', firstname='Alex', ts=1538359923000, page='Help', level='free', phase=0),\n",
       " Row(userId='4', firstname='Warren', ts=1538359961000, page='NextSong', level='free', phase=0),\n",
       " Row(userId='78', firstname='Ainsley', ts=1538359971000, page='NextSong', level='free', phase=0),\n",
       " Row(userId='101', firstname='Alex', ts=1538359998000, page='NextSong', level='free', phase=0),\n",
       " Row(userId='9', firstname='Micah', ts=1538360024000, page='NextSong', level='free', phase=1),\n",
       " Row(userId='9', firstname='Micah', ts=1538360042000, page='Upgrade', level='free', phase=1),\n",
       " Row(userId='9', firstname='Micah', ts=1538360044000, page='Upgrade', level='free', phase=1),\n",
       " Row(userId='88', firstname='Zyonna', ts=1538360138000, page='Home', level='free', phase=0),\n",
       " Row(userId='88', firstname='Zyonna', ts=1538360163000, page='NextSong', level='free', phase=0),\n",
       " Row(userId='4', firstname='Warren', ts=1538360174000, page='NextSong', level='free', phase=0),\n",
       " Row(userId='101', firstname='Alex', ts=1538360211000, page='NextSong', level='free', phase=0),\n",
       " Row(userId='9', firstname='Micah', ts=1538360224000, page='NextSong', level='free', phase=1),\n",
       " Row(userId='9', firstname='Micah', ts=1538360228000, page='Roll Advert', level='free', phase=1),\n",
       " Row(userId='78', firstname='Ainsley', ts=1538360229000, page='NextSong', level='free', phase=0),\n",
       " Row(userId='4', firstname='Warren', ts=1538360391000, page='NextSong', level='free', phase=0),\n",
       " Row(userId='101', firstname='Alex', ts=1538360432000, page='NextSong', level='free', phase=0),\n",
       " Row(userId='88', firstname='Zyonna', ts=1538360458000, page='NextSong', level='free', phase=0),\n",
       " Row(userId='78', firstname='Ainsley', ts=1538360490000, page='NextSong', level='free', phase=0),\n",
       " Row(userId='78', firstname='Ainsley', ts=1538360520000, page='Help', level='free', phase=0),\n",
       " Row(userId='4', firstname='Warren', ts=1538360577000, page='NextSong', level='free', phase=0),\n",
       " Row(userId='101', firstname='Alex', ts=1538360696000, page='NextSong', level='free', phase=0),\n",
       " Row(userId='30', firstname='Colin', ts=1538360720000, page='NextSong', level='paid', phase=1),\n",
       " Row(userId='78', firstname='Ainsley', ts=1538360729000, page='NextSong', level='free', phase=0),\n",
       " Row(userId='30', firstname='Colin', ts=1538360737000, page='Roll Advert', level='paid', phase=1),\n",
       " Row(userId='88', firstname='Zyonna', ts=1538360739000, page='Roll Advert', level='free', phase=0),\n",
       " Row(userId='4', firstname='Warren', ts=1538360783000, page='NextSong', level='free', phase=0),\n",
       " Row(userId='30', firstname='Colin', ts=1538360905000, page='NextSong', level='paid', phase=1),\n",
       " Row(userId='88', firstname='Zyonna', ts=1538360912000, page='Roll Advert', level='free', phase=0),\n",
       " Row(userId='88', firstname='Zyonna', ts=1538360930000, page='NextSong', level='free', phase=0),\n",
       " Row(userId='101', firstname='Alex', ts=1538360973000, page='NextSong', level='free', phase=0),\n",
       " Row(userId='78', firstname='Ainsley', ts=1538360987000, page='NextSong', level='free', phase=0),\n",
       " Row(userId='4', firstname='Warren', ts=1538361026000, page='NextSong', level='free', phase=0),\n",
       " Row(userId='30', firstname='Colin', ts=1538361107000, page='NextSong', level='paid', phase=1),\n",
       " Row(userId='88', firstname='Zyonna', ts=1538361125000, page='NextSong', level='free', phase=0),\n",
       " Row(userId='88', firstname='Zyonna', ts=1538361154000, page='Roll Advert', level='free', phase=0),\n",
       " Row(userId='101', firstname='Alex', ts=1538361193000, page='NextSong', level='free', phase=0),\n",
       " Row(userId='101', firstname='Alex', ts=1538361194000, page='Add Friend', level='free', phase=0),\n",
       " Row(userId='78', firstname='Ainsley', ts=1538361264000, page='NextSong', level='free', phase=0),\n",
       " Row(userId='4', firstname='Warren', ts=1538361312000, page='NextSong', level='free', phase=0),\n",
       " Row(userId='30', firstname='Colin', ts=1538361372000, page='NextSong', level='paid', phase=1),\n",
       " Row(userId='101', firstname='Alex', ts=1538361487000, page='Home', level='free', phase=0),\n",
       " Row(userId='78', firstname='Ainsley', ts=1538361520000, page='NextSong', level='free', phase=0),\n",
       " Row(userId='78', firstname='Ainsley', ts=1538361521000, page='Logout', level='free', phase=0),\n",
       " Row(userId='30', firstname='Colin', ts=1538361540000, page='NextSong', level='paid', phase=1),\n",
       " Row(userId='101', firstname='Alex', ts=1538361541000, page='NextSong', level='free', phase=0),\n",
       " Row(userId='78', firstname='Ainsley', ts=1538361561000, page='Home', level='free', phase=0),\n",
       " Row(userId='30', firstname='Colin', ts=1538361575000, page='Add to Playlist', level='paid', phase=1),\n",
       " Row(userId='4', firstname='Warren', ts=1538361601000, page='NextSong', level='free', phase=0),\n",
       " Row(userId='101', firstname='Alex', ts=1538361792000, page='NextSong', level='free', phase=0),\n",
       " Row(userId='78', firstname='Ainsley', ts=1538361802000, page='NextSong', level='free', phase=0),\n",
       " Row(userId='78', firstname='Ainsley', ts=1538361803000, page='Thumbs Up', level='free', phase=0),\n",
       " Row(userId='4', firstname='Warren', ts=1538361908000, page='NextSong', level='free', phase=0),\n",
       " Row(userId='78', firstname='Ainsley', ts=1538362005000, page='NextSong', level='free', phase=0),\n",
       " Row(userId='78', firstname='Ainsley', ts=1538362006000, page='Logout', level='free', phase=0),\n",
       " Row(userId='78', firstname='Ainsley', ts=1538362104000, page='Home', level='free', phase=0),\n",
       " Row(userId='78', firstname='Ainsley', ts=1538362218000, page='NextSong', level='free', phase=0),\n",
       " Row(userId='78', firstname='Ainsley', ts=1538362440000, page='NextSong', level='free', phase=0),\n",
       " Row(userId='101', firstname='Alex', ts=1538362584000, page='Roll Advert', level='free', phase=0),\n",
       " Row(userId='101', firstname='Alex', ts=1538362608000, page='NextSong', level='free', phase=0),\n",
       " Row(userId='78', firstname='Ainsley', ts=1538362684000, page='NextSong', level='free', phase=0),\n",
       " Row(userId='78', firstname='Ainsley', ts=1538362848000, page='NextSong', level='free', phase=0),\n",
       " Row(userId='101', firstname='Alex', ts=1538362980000, page='NextSong', level='free', phase=0),\n",
       " Row(userId='78', firstname='Ainsley', ts=1538363074000, page='NextSong', level='free', phase=0),\n",
       " Row(userId='78', firstname='Ainsley', ts=1538363091000, page='Home', level='free', phase=0),\n",
       " Row(userId='101', firstname='Alex', ts=1538363229000, page='NextSong', level='free', phase=0),\n",
       " Row(userId='78', firstname='Ainsley', ts=1538363308000, page='NextSong', level='free', phase=0),\n",
       " Row(userId='78', firstname='Ainsley', ts=1538363335000, page='Roll Advert', level='free', phase=0),\n",
       " Row(userId='78', firstname='Ainsley', ts=1538363525000, page='NextSong', level='free', phase=0),\n",
       " Row(userId='101', firstname='Alex', ts=1538363536000, page='Roll Advert', level='free', phase=0),\n",
       " Row(userId='78', firstname='Ainsley', ts=1538363783000, page='NextSong', level='free', phase=0),\n",
       " Row(userId='101', firstname='Alex', ts=1538363884000, page='NextSong', level='free', phase=0),\n",
       " Row(userId='101', firstname='Alex', ts=1538363885000, page='Thumbs Up', level='free', phase=0),\n",
       " Row(userId='78', firstname='Ainsley', ts=1538363980000, page='NextSong', level='free', phase=0),\n",
       " Row(userId='101', firstname='Alex', ts=1538364102000, page='NextSong', level='free', phase=0),\n",
       " Row(userId='78', firstname='Ainsley', ts=1538364239000, page='NextSong', level='free', phase=0),\n",
       " Row(userId='78', firstname='Ainsley', ts=1538364240000, page='Logout', level='free', phase=0),\n",
       " Row(userId='78', firstname='Ainsley', ts=1538364282000, page='Home', level='free', phase=0),\n",
       " Row(userId='78', firstname='Ainsley', ts=1538364406000, page='NextSong', level='free', phase=0),\n",
       " Row(userId='101', firstname='Alex', ts=1538364596000, page='Roll Advert', level='free', phase=0),\n",
       " Row(userId='78', firstname='Ainsley', ts=1538364701000, page='NextSong', level='free', phase=0),\n",
       " Row(userId='78', firstname='Ainsley', ts=1538364996000, page='NextSong', level='free', phase=0),\n",
       " Row(userId='78', firstname='Ainsley', ts=1538365284000, page='NextSong', level='free', phase=0),\n",
       " Row(userId='101', firstname='Alex', ts=1538365388000, page='NextSong', level='free', phase=0),\n",
       " Row(userId='78', firstname='Ainsley', ts=1538365492000, page='NextSong', level='free', phase=0),\n",
       " Row(userId='78', firstname='Ainsley', ts=1538365665000, page='NextSong', level='free', phase=0),\n",
       " Row(userId='78', firstname='Ainsley', ts=1538365864000, page='NextSong', level='free', phase=0),\n",
       " Row(userId='101', firstname='Alex', ts=1538365959000, page='Roll Advert', level='free', phase=0),\n",
       " Row(userId='78', firstname='Ainsley', ts=1538366102000, page='NextSong', level='free', phase=0),\n",
       " Row(userId='101', firstname='Alex', ts=1538366196000, page='NextSong', level='free', phase=0),\n",
       " Row(userId='101', firstname='Alex', ts=1538366411000, page='NextSong', level='free', phase=0),\n",
       " Row(userId='78', firstname='Ainsley', ts=1538366414000, page='NextSong', level='free', phase=0),\n",
       " Row(userId='78', firstname='Ainsley', ts=1538366595000, page='NextSong', level='free', phase=0),\n",
       " Row(userId='101', firstname='Alex', ts=1538366717000, page='NextSong', level='free', phase=0),\n",
       " Row(userId='78', firstname='Ainsley', ts=1538366877000, page='NextSong', level='free', phase=0),\n",
       " Row(userId='101', firstname='Alex', ts=1538366973000, page='NextSong', level='free', phase=0),\n",
       " Row(userId='78', firstname='Ainsley', ts=1538367088000, page='NextSong', level='free', phase=0),\n",
       " Row(userId='78', firstname='Ainsley', ts=1538367356000, page='NextSong', level='free', phase=0),\n",
       " Row(userId='101', firstname='Alex', ts=1538367379000, page='NextSong', level='free', phase=0),\n",
       " Row(userId='101', firstname='Alex', ts=1538367496000, page='NextSong', level='free', phase=0),\n",
       " Row(userId='78', firstname='Ainsley', ts=1538367608000, page='NextSong', level='free', phase=0),\n",
       " Row(userId='95', firstname='Faigy', ts=1538367702000, page='NextSong', level='paid', phase=1),\n",
       " Row(userId='101', firstname='Alex', ts=1538367739000, page='NextSong', level='free', phase=0),\n",
       " Row(userId='101', firstname='Alex', ts=1538367740000, page='Thumbs Up', level='free', phase=0),\n",
       " Row(userId='78', firstname='Ainsley', ts=1538367871000, page='NextSong', level='free', phase=0),\n",
       " Row(userId='95', firstname='Faigy', ts=1538367885000, page='NextSong', level='paid', phase=1),\n",
       " Row(userId='101', firstname='Alex', ts=1538367970000, page='NextSong', level='free', phase=0),\n",
       " Row(userId='95', firstname='Faigy', ts=1538368080000, page='NextSong', level='paid', phase=1),\n",
       " Row(userId='78', firstname='Ainsley', ts=1538368142000, page='NextSong', level='free', phase=0),\n",
       " Row(userId='101', firstname='Alex', ts=1538368222000, page='NextSong', level='free', phase=0),\n",
       " Row(userId='95', firstname='Faigy', ts=1538368245000, page='NextSong', level='paid', phase=1),\n",
       " Row(userId='78', firstname='Ainsley', ts=1538368390000, page='NextSong', level='free', phase=0),\n",
       " Row(userId='95', firstname='Faigy', ts=1538368446000, page='NextSong', level='paid', phase=1),\n",
       " Row(userId='78', firstname='Ainsley', ts=1538368600000, page='NextSong', level='free', phase=0),\n",
       " Row(userId='95', firstname='Faigy', ts=1538368654000, page='NextSong', level='paid', phase=1),\n",
       " Row(userId='101', firstname='Alex', ts=1538368737000, page='NextSong', level='free', phase=0),\n",
       " Row(userId='78', firstname='Ainsley', ts=1538368782000, page='NextSong', level='free', phase=0),\n",
       " Row(userId='95', firstname='Faigy', ts=1538368903000, page='NextSong', level='paid', phase=1),\n",
       " Row(userId='95', firstname='Faigy', ts=1538368904000, page='Thumbs Up', level='paid', phase=1),\n",
       " Row(userId='78', firstname='Ainsley', ts=1538368916000, page='NextSong', level='free', phase=0),\n",
       " Row(userId='78', firstname='Ainsley', ts=1538368921000, page='Roll Advert', level='free', phase=0),\n",
       " Row(userId='101', firstname='Alex', ts=1538368941000, page='NextSong', level='free', phase=0),\n",
       " Row(userId='78', firstname='Ainsley', ts=1538369088000, page='NextSong', level='free', phase=0),\n",
       " Row(userId='95', firstname='Faigy', ts=1538369153000, page='NextSong', level='paid', phase=1),\n",
       " Row(userId='101', firstname='Alex', ts=1538369196000, page='NextSong', level='free', phase=0),\n",
       " Row(userId='25', firstname='Madison', ts=1538369228000, page='NextSong', level='paid', phase=1),\n",
       " Row(userId='25', firstname='Madison', ts=1538369407000, page='NextSong', level='paid', phase=1),\n",
       " Row(userId='78', firstname='Ainsley', ts=1538369535000, page='NextSong', level='free', phase=0),\n",
       " Row(userId='25', firstname='Madison', ts=1538369571000, page='NextSong', level='paid', phase=1),\n",
       " Row(userId='78', firstname='Ainsley', ts=1538369581000, page='Add to Playlist', level='free', phase=0),\n",
       " Row(userId='101', firstname='Alex', ts=1538369602000, page='Roll Advert', level='free', phase=0),\n",
       " Row(userId='25', firstname='Madison', ts=1538369625000, page='Home', level='paid', phase=1),\n",
       " Row(userId='78', firstname='Ainsley', ts=1538369669000, page='NextSong', level='free', phase=0),\n",
       " Row(userId='101', firstname='Alex', ts=1538369782000, page='NextSong', level='free', phase=0),\n",
       " Row(userId='95', firstname='Faigy', ts=1538369808000, page='NextSong', level='paid', phase=1),\n",
       " Row(userId='25', firstname='Madison', ts=1538369836000, page='NextSong', level='paid', phase=1),\n",
       " Row(userId='25', firstname='Madison', ts=1538370013000, page='NextSong', level='paid', phase=1),\n",
       " Row(userId='25', firstname='Madison', ts=1538370014000, page='Add Friend', level='paid', phase=1),\n",
       " Row(userId='78', firstname='Ainsley', ts=1538370036000, page='NextSong', level='free', phase=0),\n",
       " Row(userId='95', firstname='Faigy', ts=1538370059000, page='NextSong', level='paid', phase=1),\n",
       " Row(userId='95', firstname='Faigy', ts=1538370071000, page='Add to Playlist', level='paid', phase=1),\n",
       " Row(userId='25', firstname='Madison', ts=1538370161000, page='NextSong', level='paid', phase=1),\n",
       " Row(userId='101', firstname='Alex', ts=1538370192000, page='Home', level='free', phase=0),\n",
       " Row(userId='95', firstname='Faigy', ts=1538370268000, page='NextSong', level='paid', phase=1),\n",
       " Row(userId='78', firstname='Ainsley', ts=1538370296000, page='NextSong', level='free', phase=0),\n",
       " Row(userId='78', firstname='Ainsley', ts=1538370301000, page='Upgrade', level='free', phase=0),\n",
       " Row(userId='25', firstname='Madison', ts=1538370400000, page='NextSong', level='paid', phase=1),\n",
       " Row(userId='95', firstname='Faigy', ts=1538370478000, page='NextSong', level='paid', phase=1),\n",
       " Row(userId='78', firstname='Ainsley', ts=1538370551000, page='NextSong', level='free', phase=0),\n",
       " Row(userId='101', firstname='Alex', ts=1538370562000, page='NextSong', level='free', phase=0),\n",
       " Row(userId='101', firstname='Alex', ts=1538370563000, page='Logout', level='free', phase=0),\n",
       " Row(userId='25', firstname='Madison', ts=1538370679000, page='NextSong', level='paid', phase=1),\n",
       " Row(userId='95', firstname='Faigy', ts=1538370767000, page='NextSong', level='paid', phase=1),\n",
       " Row(userId='78', firstname='Ainsley', ts=1538370795000, page='NextSong', level='free', phase=0),\n",
       " Row(userId='25', firstname='Madison', ts=1538370934000, page='NextSong', level='paid', phase=1),\n",
       " Row(userId='95', firstname='Faigy', ts=1538371062000, page='NextSong', level='paid', phase=1),\n",
       " Row(userId='95', firstname='Faigy', ts=1538371070000, page='Settings', level='paid', phase=1),\n",
       " Row(userId='95', firstname='Faigy', ts=1538371078000, page='Help', level='paid', phase=1),\n",
       " Row(userId='78', firstname='Ainsley', ts=1538371098000, page='NextSong', level='free', phase=0),\n",
       " Row(userId='25', firstname='Madison', ts=1538371116000, page='NextSong', level='paid', phase=1),\n",
       " Row(userId='95', firstname='Faigy', ts=1538371228000, page='NextSong', level='paid', phase=1),\n",
       " Row(userId='78', firstname='Ainsley', ts=1538371240000, page='NextSong', level='free', phase=0),\n",
       " Row(userId='95', firstname='Faigy', ts=1538371318000, page='NextSong', level='paid', phase=1),\n",
       " Row(userId='95', firstname='Faigy', ts=1538371319000, page='Thumbs Up', level='paid', phase=1),\n",
       " Row(userId='25', firstname='Madison', ts=1538371341000, page='NextSong', level='paid', phase=1),\n",
       " Row(userId='25', firstname='Madison', ts=1538371342000, page='Thumbs Up', level='paid', phase=1),\n",
       " Row(userId='78', firstname='Ainsley', ts=1538371432000, page='NextSong', level='free', phase=0),\n",
       " Row(userId='25', firstname='Madison', ts=1538371613000, page='NextSong', level='paid', phase=1),\n",
       " Row(userId='78', firstname='Ainsley', ts=1538371692000, page='NextSong', level='free', phase=0),\n",
       " Row(userId='95', firstname='Faigy', ts=1538371736000, page='NextSong', level='paid', phase=1),\n",
       " Row(userId='25', firstname='Madison', ts=1538371796000, page='NextSong', level='paid', phase=1),\n",
       " Row(userId='78', firstname='Ainsley', ts=1538371901000, page='NextSong', level='free', phase=0),\n",
       " Row(userId='78', firstname='Ainsley', ts=1538371928000, page='Roll Advert', level='free', phase=0),\n",
       " Row(userId='95', firstname='Faigy', ts=1538371963000, page='NextSong', level='paid', phase=1),\n",
       " Row(userId='25', firstname='Madison', ts=1538372116000, page='NextSong', level='paid', phase=1),\n",
       " Row(userId='142', firstname='Grant', ts=1538372121000, page='Home', level='free', phase=0),\n",
       " Row(userId='142', firstname='Grant', ts=1538372142000, page='NextSong', level='free', phase=0),\n",
       " Row(userId='78', firstname='Ainsley', ts=1538372173000, page='NextSong', level='free', phase=0),\n",
       " Row(userId='95', firstname='Faigy', ts=1538372215000, page='NextSong', level='paid', phase=1),\n",
       " Row(userId='13', firstname='Anika', ts=1538372289000, page='NextSong', level='free', phase=2),\n",
       " Row(userId='142', firstname='Grant', ts=1538372311000, page='NextSong', level='free', phase=0),\n",
       " Row(userId='78', firstname='Ainsley', ts=1538372391000, page='NextSong', level='free', phase=0),\n",
       " Row(userId='95', firstname='Faigy', ts=1538372404000, page='NextSong', level='paid', phase=1),\n",
       " Row(userId='25', firstname='Madison', ts=1538372466000, page='NextSong', level='paid', phase=1),\n",
       " Row(userId='142', firstname='Grant', ts=1538372567000, page='NextSong', level='free', phase=0),\n",
       " Row(userId='78', firstname='Ainsley', ts=1538372601000, page='NextSong', level='free', phase=0),\n",
       " Row(userId='95', firstname='Faigy', ts=1538372626000, page='NextSong', level='paid', phase=1),\n",
       " Row(userId='25', firstname='Madison', ts=1538372735000, page='NextSong', level='paid', phase=1),\n",
       " Row(userId='13', firstname='Anika', ts=1538372746000, page='NextSong', level='free', phase=2),\n",
       " Row(userId='142', firstname='Grant', ts=1538372762000, page='NextSong', level='free', phase=0),\n",
       " Row(userId='95', firstname='Faigy', ts=1538372911000, page='NextSong', level='paid', phase=1),\n",
       " Row(userId='95', firstname='Faigy', ts=1538372912000, page='Thumbs Up', level='paid', phase=1),\n",
       " Row(userId='13', firstname='Anika', ts=1538372919000, page='NextSong', level='free', phase=2),\n",
       " Row(userId='45', firstname='Isobella', ts=1538372920000, page='NextSong', level='free', phase=0),\n",
       " Row(userId='25', firstname='Madison', ts=1538372947000, page='NextSong', level='paid', phase=1),\n",
       " Row(userId='13', firstname='Anika', ts=1538373053000, page='NextSong', level='free', phase=2),\n",
       " Row(userId='13', firstname='Anika', ts=1538373080000, page='Add to Playlist', level='free', phase=2),\n",
       " Row(userId='142', firstname='Grant', ts=1538373123000, page='NextSong', level='free', phase=0),\n",
       " Row(userId='78', firstname='Ainsley', ts=1538373133000, page='NextSong', level='free', phase=0),\n",
       " Row(userId='78', firstname='Ainsley', ts=1538373134000, page='Thumbs Down', level='free', phase=0),\n",
       " Row(userId='25', firstname='Madison', ts=1538373141000, page='NextSong', level='paid', phase=1),\n",
       " Row(userId='142', firstname='Grant', ts=1538373147000, page='Roll Advert', level='free', phase=0),\n",
       " Row(userId='13', firstname='Anika', ts=1538373206000, page='NextSong', level='free', phase=2),\n",
       " Row(userId='45', firstname='Isobella', ts=1538373209000, page='NextSong', level='free', phase=0),\n",
       " Row(userId='78', firstname='Ainsley', ts=1538373253000, page='NextSong', level='free', phase=0),\n",
       " Row(userId='95', firstname='Faigy', ts=1538373255000, page='NextSong', level='paid', phase=1),\n",
       " Row(userId='95', firstname='Faigy', ts=1538373286000, page='Downgrade', level='paid', phase=1),\n",
       " Row(userId='25', firstname='Madison', ts=1538373296000, page='NextSong', level='paid', phase=1),\n",
       " Row(userId='142', firstname='Grant', ts=1538373312000, page='NextSong', level='free', phase=0),\n",
       " Row(userId='13', firstname='Anika', ts=1538373344000, page='NextSong', level='free', phase=2),\n",
       " Row(userId='13', firstname='Anika', ts=1538373345000, page='Logout', level='free', phase=2),\n",
       " Row(userId='13', firstname='Anika', ts=1538373384000, page='Home', level='free', phase=2),\n",
       " Row(userId='78', firstname='Ainsley', ts=1538373482000, page='NextSong', level='free', phase=0),\n",
       " Row(userId='95', firstname='Faigy', ts=1538373504000, page='NextSong', level='paid', phase=1),\n",
       " Row(userId='45', firstname='Isobella', ts=1538373506000, page='NextSong', level='free', phase=0),\n",
       " Row(userId='45', firstname='Isobella', ts=1538373507000, page='Logout', level='free', phase=0),\n",
       " Row(userId='142', firstname='Grant', ts=1538373590000, page='NextSong', level='free', phase=0),\n",
       " Row(userId='142', firstname='Grant', ts=1538373622000, page='Add to Playlist', level='free', phase=0),\n",
       " Row(userId='25', firstname='Madison', ts=1538373649000, page='NextSong', level='paid', phase=1),\n",
       " Row(userId='142', firstname='Grant', ts=1538373718000, page='Upgrade', level='free', phase=0),\n",
       " Row(userId='142', firstname='Grant', ts=1538373719000, page='Submit Upgrade', level='free', phase=0),\n",
       " Row(userId='78', firstname='Ainsley', ts=1538373781000, page='NextSong', level='free', phase=0),\n",
       " Row(userId='78', firstname='Ainsley', ts=1538373782000, page='Thumbs Up', level='free', phase=0),\n",
       " Row(userId='95', firstname='Faigy', ts=1538373873000, page='NextSong', level='paid', phase=1),\n",
       " Row(userId='95', firstname='Faigy', ts=1538373874000, page='Thumbs Down', level='paid', phase=1),\n",
       " Row(userId='25', firstname='Madison', ts=1538373888000, page='NextSong', level='paid', phase=1),\n",
       " Row(userId='142', firstname='Grant', ts=1538373924000, page='Home', level='paid', phase=0),\n",
       " Row(userId='142', firstname='Grant', ts=1538373980000, page='NextSong', level='paid', phase=0),\n",
       " Row(userId='78', firstname='Ainsley', ts=1538374065000, page='NextSong', level='free', phase=0),\n",
       " Row(userId='95', firstname='Faigy', ts=1538374190000, page='NextSong', level='paid', phase=1),\n",
       " Row(userId='142', firstname='Grant', ts=1538374242000, page='NextSong', level='paid', phase=0),\n",
       " Row(userId='78', firstname='Ainsley', ts=1538374287000, page='NextSong', level='free', phase=0),\n",
       " Row(userId='78', firstname='Ainsley', ts=1538374288000, page='Thumbs Up', level='free', phase=0),\n",
       " Row(userId='25', firstname='Madison', ts=1538374313000, page='NextSong', level='paid', phase=1),\n",
       " Row(userId='142', firstname='Grant', ts=1538374313000, page='NextSong', level='paid', phase=0),\n",
       " Row(userId='100009', firstname='Troy', ts=1538374371000, page='NextSong', level='free', phase=1),\n",
       " Row(userId='95', firstname='Faigy', ts=1538374381000, page='NextSong', level='paid', phase=1),\n",
       " Row(userId='142', firstname='Grant', ts=1538374466000, page='NextSong', level='paid', phase=0),\n",
       " Row(userId='25', firstname='Madison', ts=1538374504000, page='NextSong', level='paid', phase=1),\n",
       " Row(userId='100009', firstname='Troy', ts=1538374563000, page='NextSong', level='free', phase=1),\n",
       " Row(userId='100009', firstname='Troy', ts=1538374564000, page='Thumbs Up', level='free', phase=1),\n",
       " Row(userId='95', firstname='Faigy', ts=1538374606000, page='NextSong', level='paid', phase=1),\n",
       " Row(userId='142', firstname='Grant', ts=1538374785000, page='NextSong', level='paid', phase=0),\n",
       " Row(userId='100009', firstname='Troy', ts=1538374802000, page='NextSong', level='free', phase=1),\n",
       " Row(userId='25', firstname='Madison', ts=1538374852000, page='NextSong', level='paid', phase=1),\n",
       " Row(userId='95', firstname='Faigy', ts=1538374853000, page='NextSong', level='paid', phase=1),\n",
       " Row(userId='142', firstname='Grant', ts=1538374889000, page='NextSong', level='paid', phase=0),\n",
       " Row(userId='142', firstname='Grant', ts=1538374943000, page='NextSong', level='paid', phase=0),\n",
       " Row(userId='100009', firstname='Troy', ts=1538375013000, page='NextSong', level='free', phase=1),\n",
       " Row(userId='95', firstname='Faigy', ts=1538375078000, page='NextSong', level='paid', phase=1),\n",
       " Row(userId='25', firstname='Madison', ts=1538375123000, page='NextSong', level='paid', phase=1),\n",
       " Row(userId='142', firstname='Grant', ts=1538375189000, page='NextSong', level='paid', phase=0),\n",
       " Row(userId='100009', firstname='Troy', ts=1538375250000, page='NextSong', level='free', phase=1),\n",
       " Row(userId='95', firstname='Faigy', ts=1538375314000, page='NextSong', level='paid', phase=1),\n",
       " Row(userId='25', firstname='Madison', ts=1538375355000, page='NextSong', level='paid', phase=1),\n",
       " Row(userId='142', firstname='Grant', ts=1538375407000, page='NextSong', level='paid', phase=0),\n",
       " Row(userId='142', firstname='Grant', ts=1538375408000, page='Thumbs Up', level='paid', phase=0),\n",
       " Row(userId='25', firstname='Madison', ts=1538375553000, page='NextSong', level='paid', phase=1),\n",
       " Row(userId='100009', firstname='Troy', ts=1538375624000, page='NextSong', level='free', phase=1),\n",
       " Row(userId='95', firstname='Faigy', ts=1538375709000, page='NextSong', level='paid', phase=1),\n",
       " Row(userId='25', firstname='Madison', ts=1538375721000, page='NextSong', level='paid', phase=1),\n",
       " Row(userId='39', firstname='Payton', ts=1538375748000, page='Home', level='free', phase=3),\n",
       " Row(userId='39', firstname='Payton', ts=1538375752000, page='NextSong', level='free', phase=3),\n",
       " Row(userId='142', firstname='Grant', ts=1538375812000, page='NextSong', level='paid', phase=0),\n",
       " Row(userId='100009', firstname='Troy', ts=1538375896000, page='NextSong', level='free', phase=1),\n",
       " Row(userId='39', firstname='Payton', ts=1538375952000, page='NextSong', level='free', phase=3),\n",
       " Row(userId='95', firstname='Faigy', ts=1538375969000, page='NextSong', level='paid', phase=1),\n",
       " Row(userId='95', firstname='Faigy', ts=1538375970000, page='Thumbs Up', level='paid', phase=1),\n",
       " Row(userId='25', firstname='Madison', ts=1538375995000, page='NextSong', level='paid', phase=1),\n",
       " Row(userId='142', firstname='Grant', ts=1538376115000, page='NextSong', level='paid', phase=0),\n",
       " Row(userId='100022', firstname='Mahi', ts=1538376195000, page='Home', level='free', phase=0),\n",
       " Row(userId='100022', firstname='Mahi', ts=1538376207000, page='NextSong', level='free', phase=0),\n",
       " Row(userId='25', firstname='Madison', ts=1538376219000, page='NextSong', level='paid', phase=1),\n",
       " Row(userId='95', firstname='Faigy', ts=1538376232000, page='NextSong', level='paid', phase=1),\n",
       " Row(userId='100009', firstname='Troy', ts=1538376252000, page='NextSong', level='free', phase=1),\n",
       " Row(userId='39', firstname='Payton', ts=1538376332000, page='NextSong', level='free', phase=3),\n",
       " Row(userId='142', firstname='Grant', ts=1538376338000, page='NextSong', level='paid', phase=0),\n",
       " Row(userId='39', firstname='Payton', ts=1538376376000, page='Roll Advert', level='free', phase=3),\n",
       " Row(userId='87', firstname='Christian', ts=1538376435000, page='Home', level='free', phase=0),\n",
       " Row(userId='25', firstname='Madison', ts=1538376445000, page='NextSong', level='paid', phase=1),\n",
       " Row(userId='100009', firstname='Troy', ts=1538376448000, page='NextSong', level='free', phase=1),\n",
       " Row(userId='100022', firstname='Mahi', ts=1538376458000, page='NextSong', level='free', phase=0),\n",
       " Row(userId='100022', firstname='Mahi', ts=1538376459000, page='Thumbs Up', level='free', phase=0),\n",
       " Row(userId='100009', firstname='Troy', ts=1538376474000, page='Roll Advert', level='free', phase=1),\n",
       " Row(userId='100009', firstname='Troy', ts=1538376474000, page='Roll Advert', level='free', phase=1),\n",
       " Row(userId='95', firstname='Faigy', ts=1538376482000, page='NextSong', level='paid', phase=1),\n",
       " Row(userId='100001', firstname='Delaney', ts=1538376504000, page='Home', level='free', phase=0),\n",
       " Row(userId='100001', firstname='Delaney', ts=1538376509000, page='NextSong', level='free', phase=0),\n",
       " Row(userId='142', firstname='Grant', ts=1538376520000, page='NextSong', level='paid', phase=0),\n",
       " Row(userId='87', firstname='Christian', ts=1538376540000, page='NextSong', level='free', phase=0),\n",
       " Row(userId='100001', firstname='Delaney', ts=1538376542000, page='Roll Advert', level='free', phase=0),\n",
       " Row(userId='39', firstname='Payton', ts=1538376557000, page='NextSong', level='free', phase=3),\n",
       " Row(userId='25', firstname='Madison', ts=1538376667000, page='NextSong', level='paid', phase=1),\n",
       " Row(userId='100009', firstname='Troy', ts=1538376705000, page='NextSong', level='free', phase=1),\n",
       " Row(userId='142', firstname='Grant', ts=1538376722000, page='NextSong', level='paid', phase=0),\n",
       " Row(userId='100001', firstname='Delaney', ts=1538376747000, page='NextSong', level='free', phase=0),\n",
       " Row(userId='39', firstname='Payton', ts=1538376754000, page='NextSong', level='free', phase=3),\n",
       " Row(userId='100009', firstname='Troy', ts=1538376759000, page='Roll Advert', level='free', phase=1),\n",
       " Row(userId='100001', firstname='Delaney', ts=1538376783000, page='Roll Advert', level='free', phase=0),\n",
       " Row(userId='100022', firstname='Mahi', ts=1538376791000, page='NextSong', level='free', phase=0),\n",
       " Row(userId='95', firstname='Faigy', ts=1538376801000, page='NextSong', level='paid', phase=1),\n",
       " Row(userId='25', firstname='Madison', ts=1538376925000, page='NextSong', level='paid', phase=1),\n",
       " Row(userId='100009', firstname='Troy', ts=1538376930000, page='NextSong', level='free', phase=1),\n",
       " Row(userId='142', firstname='Grant', ts=1538376944000, page='NextSong', level='paid', phase=0),\n",
       " Row(userId='100022', firstname='Mahi', ts=1538376950000, page='NextSong', level='free', phase=0),\n",
       " Row(userId='39', firstname='Payton', ts=1538377032000, page='NextSong', level='free', phase=3),\n",
       " Row(userId='95', firstname='Faigy', ts=1538377049000, page='NextSong', level='paid', phase=1),\n",
       " Row(userId='39', firstname='Payton', ts=1538377079000, page='Roll Advert', level='free', phase=3),\n",
       " Row(userId='25', firstname='Madison', ts=1538377096000, page='NextSong', level='paid', phase=1),\n",
       " Row(userId='100022', firstname='Mahi', ts=1538377155000, page='NextSong', level='free', phase=0),\n",
       " Row(userId='100022', firstname='Mahi', ts=1538377163000, page='Settings', level='free', phase=0),\n",
       " Row(userId='100022', firstname='Mahi', ts=1538377164000, page='Save Settings', level='free', phase=0),\n",
       " Row(userId='100009', firstname='Troy', ts=1538377192000, page='NextSong', level='free', phase=1),\n",
       " Row(userId='100022', firstname='Mahi', ts=1538377206000, page='Home', level='free', phase=0),\n",
       " Row(userId='95', firstname='Faigy', ts=1538377295000, page='NextSong', level='paid', phase=1),\n",
       " Row(userId='95', firstname='Faigy', ts=1538377300000, page='Add to Playlist', level='paid', phase=1),\n",
       " Row(userId='25', firstname='Madison', ts=1538377301000, page='NextSong', level='paid', phase=1),\n",
       " Row(userId='25', firstname='Madison', ts=1538377302000, page='Thumbs Up', level='paid', phase=1),\n",
       " Row(userId='142', firstname='Grant', ts=1538377304000, page='NextSong', level='paid', phase=0),\n",
       " Row(userId='100001', firstname='Delaney', ts=1538377349000, page='NextSong', level='free', phase=0),\n",
       " Row(userId='100009', firstname='Troy', ts=1538377402000, page='NextSong', level='free', phase=1),\n",
       " Row(userId='87', firstname='Christian', ts=1538377411000, page='NextSong', level='free', phase=0),\n",
       " Row(userId='100022', firstname='Mahi', ts=1538377437000, page='NextSong', level='free', phase=0),\n",
       " Row(userId='39', firstname='Payton', ts=1538377451000, page='NextSong', level='free', phase=3),\n",
       " Row(userId='28', firstname='Teagan', ts=1538377521000, page='Home', level='free', phase=0),\n",
       " Row(userId='28', firstname='Teagan', ts=1538377521000, page='NextSong', level='free', phase=0),\n",
       " Row(userId='95', firstname='Faigy', ts=1538377532000, page='NextSong', level='paid', phase=1),\n",
       " Row(userId='25', firstname='Madison', ts=1538377534000, page='NextSong', level='paid', phase=1),\n",
       " Row(userId='142', firstname='Grant', ts=1538377592000, page='NextSong', level='paid', phase=0),\n",
       " Row(userId='100009', firstname='Troy', ts=1538377596000, page='NextSong', level='free', phase=1),\n",
       " Row(userId='39', firstname='Payton', ts=1538377604000, page='NextSong', level='free', phase=3),\n",
       " Row(userId='100022', firstname='Mahi', ts=1538377668000, page='NextSong', level='free', phase=0),\n",
       " Row(userId='28', firstname='Teagan', ts=1538377675000, page='NextSong', level='free', phase=0),\n",
       " Row(userId='87', firstname='Christian', ts=1538377678000, page='NextSong', level='free', phase=0),\n",
       " Row(userId='100001', firstname='Delaney', ts=1538377748000, page='NextSong', level='free', phase=0),\n",
       " Row(userId='100022', firstname='Mahi', ts=1538377769000, page='NextSong', level='free', phase=0),\n",
       " Row(userId='25', firstname='Madison', ts=1538377780000, page='NextSong', level='paid', phase=1),\n",
       " Row(userId='39', firstname='Payton', ts=1538377780000, page='Roll Advert', level='free', phase=3),\n",
       " Row(userId='100009', firstname='Troy', ts=1538377819000, page='NextSong', level='free', phase=1),\n",
       " Row(userId='39', firstname='Payton', ts=1538377824000, page='NextSong', level='free', phase=3),\n",
       " Row(userId='95', firstname='Faigy', ts=1538377829000, page='NextSong', level='paid', phase=1),\n",
       " Row(userId='87', firstname='Christian', ts=1538377866000, page='NextSong', level='free', phase=0),\n",
       " Row(userId='100001', firstname='Delaney', ts=1538377932000, page='NextSong', level='free', phase=0),\n",
       " Row(userId='142', firstname='Grant', ts=1538377941000, page='NextSong', level='paid', phase=0),\n",
       " Row(userId='100022', firstname='Mahi', ts=1538377996000, page='NextSong', level='free', phase=0),\n",
       " Row(userId='100009', firstname='Troy', ts=1538378023000, page='NextSong', level='free', phase=1),\n",
       " Row(userId='100022', firstname='Mahi', ts=1538378029000, page='Roll Advert', level='free', phase=0),\n",
       " Row(userId='95', firstname='Faigy', ts=1538378055000, page='NextSong', level='paid', phase=1),\n",
       " Row(userId='39', firstname='Payton', ts=1538378060000, page='NextSong', level='free', phase=3),\n",
       " Row(userId='28', firstname='Teagan', ts=1538378061000, page='NextSong', level='free', phase=0),\n",
       " Row(userId='87', firstname='Christian', ts=1538378123000, page='NextSong', level='free', phase=0),\n",
       " Row(userId='28', firstname='Teagan', ts=1538378184000, page='NextSong', level='free', phase=0),\n",
       " Row(userId='28', firstname='Teagan', ts=1538378185000, page='Logout', level='free', phase=0),\n",
       " Row(userId='25', firstname='Madison', ts=1538378230000, page='NextSong', level='paid', phase=1),\n",
       " Row(userId='100001', firstname='Delaney', ts=1538378245000, page='NextSong', level='free', phase=0),\n",
       " Row(userId='100022', firstname='Mahi', ts=1538378248000, page='NextSong', level='free', phase=0),\n",
       " Row(userId='95', firstname='Faigy', ts=1538378287000, page='NextSong', level='paid', phase=1),\n",
       " Row(userId='87', firstname='Christian', ts=1538378313000, page='NextSong', level='free', phase=0),\n",
       " Row(userId='142', firstname='Grant', ts=1538378313000, page='NextSong', level='paid', phase=0),\n",
       " Row(userId='87', firstname='Christian', ts=1538378324000, page='Roll Advert', level='free', phase=0),\n",
       " Row(userId='100009', firstname='Troy', ts=1538378326000, page='NextSong', level='free', phase=1),\n",
       " Row(userId='39', firstname='Payton', ts=1538378336000, page='NextSong', level='free', phase=3),\n",
       " Row(userId='39', firstname='Payton', ts=1538378353000, page='Roll Advert', level='free', phase=3),\n",
       " Row(userId='100009', firstname='Troy', ts=1538378360000, page='Upgrade', level='free', phase=1),\n",
       " Row(userId='25', firstname='Madison', ts=1538378460000, page='NextSong', level='paid', phase=1),\n",
       " Row(userId='95', firstname='Faigy', ts=1538378476000, page='NextSong', level='paid', phase=1),\n",
       " Row(userId='100001', firstname='Delaney', ts=1538378483000, page='NextSong', level='free', phase=0),\n",
       " Row(userId='142', firstname='Grant', ts=1538378533000, page='NextSong', level='paid', phase=0),\n",
       " Row(userId='142', firstname='Grant', ts=1538378534000, page='Thumbs Up', level='paid', phase=0),\n",
       " Row(userId='100022', firstname='Mahi', ts=1538378608000, page='NextSong', level='free', phase=0),\n",
       " Row(userId='95', firstname='Faigy', ts=1538378657000, page='NextSong', level='paid', phase=1),\n",
       " Row(userId='100009', firstname='Troy', ts=1538378677000, page='NextSong', level='free', phase=1),\n",
       " Row(userId='100001', firstname='Delaney', ts=1538378687000, page='NextSong', level='free', phase=0),\n",
       " Row(userId='25', firstname='Madison', ts=1538378724000, page='NextSong', level='paid', phase=1),\n",
       " Row(userId='39', firstname='Payton', ts=1538378726000, page='NextSong', level='free', phase=3),\n",
       " Row(userId='142', firstname='Grant', ts=1538378741000, page='NextSong', level='paid', phase=0),\n",
       " Row(userId='100022', firstname='Mahi', ts=1538378841000, page='NextSong', level='free', phase=0),\n",
       " Row(userId='100022', firstname='Mahi', ts=1538378842000, page='Roll Advert', level='free', phase=0),\n",
       " Row(userId='100001', firstname='Delaney', ts=1538378877000, page='NextSong', level='free', phase=0),\n",
       " Row(userId='100009', firstname='Troy', ts=1538378887000, page='NextSong', level='free', phase=1),\n",
       " Row(userId='95', firstname='Faigy', ts=1538378893000, page='NextSong', level='paid', phase=1),\n",
       " Row(userId='100009', firstname='Troy', ts=1538378903000, page='Settings', level='free', phase=1),\n",
       " Row(userId='25', firstname='Madison', ts=1538378944000, page='NextSong', level='paid', phase=1),\n",
       " Row(userId='87', firstname='Christian', ts=1538378945000, page='NextSong', level='free', phase=0),\n",
       " Row(userId='39', firstname='Payton', ts=1538378953000, page='NextSong', level='free', phase=3),\n",
       " Row(userId='100022', firstname='Mahi', ts=1538378990000, page='NextSong', level='free', phase=0),\n",
       " Row(userId='142', firstname='Grant', ts=1538378998000, page='NextSong', level='paid', phase=0),\n",
       " Row(userId='100001', firstname='Delaney', ts=1538379041000, page='NextSong', level='free', phase=0),\n",
       " Row(userId='87', firstname='Christian', ts=1538379091000, page='NextSong', level='free', phase=0),\n",
       " Row(userId='95', firstname='Faigy', ts=1538379133000, page='NextSong', level='paid', phase=1),\n",
       " Row(userId='95', firstname='Faigy', ts=1538379133000, page='Home', level='paid', phase=1),\n",
       " Row(userId='142', firstname='Grant', ts=1538379198000, page='NextSong', level='paid', phase=0),\n",
       " Row(userId='100001', firstname='Delaney', ts=1538379207000, page='NextSong', level='free', phase=0),\n",
       " Row(userId='39', firstname='Payton', ts=1538379219000, page='NextSong', level='free', phase=3),\n",
       " Row(userId='100022', firstname='Mahi', ts=1538379229000, page='NextSong', level='free', phase=0),\n",
       " Row(userId='100001', firstname='Delaney', ts=1538379230000, page='Roll Advert', level='free', phase=0),\n",
       " Row(userId='25', firstname='Madison', ts=1538379265000, page='NextSong', level='paid', phase=1),\n",
       " Row(userId='142', firstname='Grant', ts=1538379313000, page='NextSong', level='paid', phase=0),\n",
       " Row(userId='87', firstname='Christian', ts=1538379322000, page='NextSong', level='free', phase=0),\n",
       " Row(userId='95', firstname='Faigy', ts=1538379348000, page='NextSong', level='paid', phase=1),\n",
       " Row(userId='39', firstname='Payton', ts=1538379381000, page='NextSong', level='free', phase=3),\n",
       " Row(userId='100009', firstname='Troy', ts=1538379384000, page='NextSong', level='free', phase=1),\n",
       " Row(userId='100001', firstname='Delaney', ts=1538379420000, page='NextSong', level='free', phase=0),\n",
       " Row(userId='25', firstname='Madison', ts=1538379468000, page='NextSong', level='paid', phase=1),\n",
       " Row(userId='87', firstname='Christian', ts=1538379523000, page='NextSong', level='free', phase=0),\n",
       " Row(userId='142', firstname='Grant', ts=1538379551000, page='NextSong', level='paid', phase=0),\n",
       " Row(userId='100022', firstname='Mahi', ts=1538379572000, page='NextSong', level='free', phase=0),\n",
       " Row(userId='100009', firstname='Troy', ts=1538379599000, page='NextSong', level='free', phase=1),\n",
       " Row(userId='100009', firstname='Troy', ts=1538379600000, page='Logout', level='free', phase=1),\n",
       " Row(userId='95', firstname='Faigy', ts=1538379620000, page='NextSong', level='paid', phase=1),\n",
       " Row(userId='100001', firstname='Delaney', ts=1538379668000, page='NextSong', level='free', phase=0),\n",
       " Row(userId='142', firstname='Grant', ts=1538379707000, page='NextSong', level='paid', phase=0),\n",
       " Row(userId='39', firstname='Payton', ts=1538379802000, page='NextSong', level='free', phase=3),\n",
       " Row(userId='39', firstname='Payton', ts=1538379803000, page='Logout', level='free', phase=3),\n",
       " Row(userId='25', firstname='Madison', ts=1538379816000, page='NextSong', level='paid', phase=1),\n",
       " Row(userId='95', firstname='Faigy', ts=1538379880000, page='NextSong', level='paid', phase=1),\n",
       " Row(userId='39', firstname='Payton', ts=1538379896000, page='Home', level='free', phase=3),\n",
       " Row(userId='100022', firstname='Mahi', ts=1538379978000, page='NextSong', level='free', phase=0),\n",
       " Row(userId='142', firstname='Grant', ts=1538379990000, page='NextSong', level='paid', phase=0),\n",
       " Row(userId='142', firstname='Grant', ts=1538379991000, page='Thumbs Up', level='paid', phase=0),\n",
       " Row(userId='100001', firstname='Delaney', ts=1538380000000, page='NextSong', level='free', phase=0),\n",
       " Row(userId='87', firstname='Christian', ts=1538380020000, page='NextSong', level='free', phase=0),\n",
       " Row(userId='39', firstname='Payton', ts=1538380026000, page='NextSong', level='free', phase=3),\n",
       " Row(userId='25', firstname='Madison', ts=1538380039000, page='NextSong', level='paid', phase=1),\n",
       " Row(userId='95', firstname='Faigy', ts=1538380099000, page='NextSong', level='paid', phase=1),\n",
       " Row(userId='100001', firstname='Delaney', ts=1538380179000, page='NextSong', level='free', phase=0),\n",
       " Row(userId='100001', firstname='Delaney', ts=1538380180000, page='Logout', level='free', phase=0),\n",
       " Row(userId='100022', firstname='Mahi', ts=1538380216000, page='NextSong', level='free', phase=0),\n",
       " Row(userId='100022', firstname='Mahi', ts=1538380217000, page='Thumbs Down', level='free', phase=0),\n",
       " Row(userId='87', firstname='Christian', ts=1538380219000, page='NextSong', level='free', phase=0),\n",
       " Row(userId='25', firstname='Madison', ts=1538380249000, page='NextSong', level='paid', phase=1),\n",
       " Row(userId='25', firstname='Madison', ts=1538380250000, page='Thumbs Up', level='paid', phase=1),\n",
       " Row(userId='39', firstname='Payton', ts=1538380263000, page='NextSong', level='free', phase=3),\n",
       " Row(userId='39', firstname='Payton', ts=1538380294000, page='About', level='free', phase=3),\n",
       " Row(userId='95', firstname='Faigy', ts=1538380312000, page='NextSong', level='paid', phase=1),\n",
       " Row(userId='142', firstname='Grant', ts=1538380389000, page='NextSong', level='paid', phase=0),\n",
       " Row(userId='100001', firstname='Delaney', ts=1538380429000, page='Home', level='free', phase=0),\n",
       " Row(userId='87', firstname='Christian', ts=1538380446000, page='NextSong', level='free', phase=0),\n",
       " Row(userId='100001', firstname='Delaney', ts=1538380481000, page='NextSong', level='free', phase=0),\n",
       " Row(userId='142', firstname='Grant', ts=1538380504000, page='Home', level='paid', phase=0),\n",
       " Row(userId='100022', firstname='Mahi', ts=1538380512000, page='NextSong', level='free', phase=0),\n",
       " Row(userId='25', firstname='Madison', ts=1538380529000, page='NextSong', level='paid', phase=1),\n",
       " Row(userId='25', firstname='Madison', ts=1538380530000, page='Thumbs Up', level='paid', phase=1),\n",
       " Row(userId='39', firstname='Payton', ts=1538380531000, page='NextSong', level='free', phase=3),\n",
       " Row(userId='39', firstname='Payton', ts=1538380560000, page='Roll Advert', level='free', phase=3),\n",
       " Row(userId='95', firstname='Faigy', ts=1538380595000, page='NextSong', level='paid', phase=1),\n",
       " Row(userId='25', firstname='Madison', ts=1538380675000, page='NextSong', level='paid', phase=1),\n",
       " Row(userId='87', firstname='Christian', ts=1538380687000, page='NextSong', level='free', phase=0),\n",
       " Row(userId='100022', firstname='Mahi', ts=1538380774000, page='NextSong', level='free', phase=0),\n",
       " Row(userId='100022', firstname='Mahi', ts=1538380775000, page='Thumbs Up', level='free', phase=0),\n",
       " Row(userId='95', firstname='Faigy', ts=1538380794000, page='NextSong', level='paid', phase=1),\n",
       " Row(userId='25', firstname='Madison', ts=1538380825000, page='NextSong', level='paid', phase=1),\n",
       " Row(userId='100001', firstname='Delaney', ts=1538380829000, page='NextSong', level='free', phase=0),\n",
       " Row(userId='39', firstname='Payton', ts=1538380879000, page='NextSong', level='free', phase=3),\n",
       " Row(userId='87', firstname='Christian', ts=1538380886000, page='NextSong', level='free', phase=0),\n",
       " Row(userId='100022', firstname='Mahi', ts=1538381020000, page='NextSong', level='free', phase=0),\n",
       " Row(userId='25', firstname='Madison', ts=1538381035000, page='NextSong', level='paid', phase=1),\n",
       " Row(userId='39', firstname='Payton', ts=1538381061000, page='NextSong', level='free', phase=3),\n",
       " Row(userId='25', firstname='Madison', ts=1538381169000, page='NextSong', level='paid', phase=1),\n",
       " Row(userId='142', firstname='Grant', ts=1538381172000, page='NextSong', level='paid', phase=0),\n",
       " Row(userId='87', firstname='Christian', ts=1538381216000, page='NextSong', level='free', phase=0),\n",
       " Row(userId='100022', firstname='Mahi', ts=1538381217000, page='NextSong', level='free', phase=0),\n",
       " Row(userId='95', firstname='Faigy', ts=1538381217000, page='NextSong', level='paid', phase=1),\n",
       " Row(userId='100001', firstname='Delaney', ts=1538381273000, page='NextSong', level='free', phase=0),\n",
       " Row(userId='100001', firstname='Delaney', ts=1538381274000, page='Thumbs Down', level='free', phase=0),\n",
       " Row(userId='87', firstname='Christian', ts=1538381290000, page='NextSong', level='free', phase=0),\n",
       " Row(userId='39', firstname='Payton', ts=1538381345000, page='NextSong', level='free', phase=3),\n",
       " Row(userId='100022', firstname='Mahi', ts=1538381422000, page='NextSong', level='free', phase=0),\n",
       " Row(userId='39', firstname='Payton', ts=1538381435000, page='Roll Advert', level='free', phase=3),\n",
       " Row(userId='142', firstname='Grant', ts=1538381436000, page='NextSong', level='paid', phase=0),\n",
       " Row(userId='95', firstname='Faigy', ts=1538381443000, page='NextSong', level='paid', phase=1),\n",
       " Row(userId='100001', firstname='Delaney', ts=1538381449000, page='NextSong', level='free', phase=0),\n",
       " Row(userId='95', firstname='Faigy', ts=1538381467000, page='Add to Playlist', level='paid', phase=1),\n",
       " Row(userId='142', firstname='Grant', ts=1538381483000, page='Settings', level='paid', phase=0),\n",
       " Row(userId='142', firstname='Grant', ts=1538381484000, page='Logout', level='paid', phase=0),\n",
       " Row(userId='142', firstname='Grant', ts=1538381535000, page='Home', level='paid', phase=0),\n",
       " Row(userId='100022', firstname='Mahi', ts=1538381588000, page='NextSong', level='free', phase=0),\n",
       " Row(userId='100022', firstname='Mahi', ts=1538381589000, page='Logout', level='free', phase=0),\n",
       " Row(userId='39', firstname='Payton', ts=1538381607000, page='NextSong', level='free', phase=3),\n",
       " Row(userId='142', firstname='Grant', ts=1538381637000, page='NextSong', level='paid', phase=0),\n",
       " Row(userId='25', firstname='Madison', ts=1538381684000, page='NextSong', level='paid', phase=1),\n",
       " Row(userId='100001', firstname='Delaney', ts=1538381708000, page='NextSong', level='free', phase=0),\n",
       " Row(userId='95', firstname='Faigy', ts=1538381717000, page='NextSong', level='paid', phase=1),\n",
       " Row(userId='142', firstname='Grant', ts=1538381864000, page='NextSong', level='paid', phase=0),\n",
       " Row(userId='39', firstname='Payton', ts=1538381875000, page='NextSong', level='free', phase=3),\n",
       " Row(userId='25', firstname='Madison', ts=1538381888000, page='NextSong', level='paid', phase=1),\n",
       " Row(userId='25', firstname='Madison', ts=1538381889000, page='Thumbs Up', level='paid', phase=1),\n",
       " Row(userId='95', firstname='Faigy', ts=1538381953000, page='NextSong', level='paid', phase=1),\n",
       " Row(userId='100001', firstname='Delaney', ts=1538381978000, page='NextSong', level='free', phase=0),\n",
       " Row(userId='142', firstname='Grant', ts=1538382020000, page='NextSong', level='paid', phase=0),\n",
       " Row(userId='25', firstname='Madison', ts=1538382119000, page='NextSong', level='paid', phase=1),\n",
       " Row(userId='39', firstname='Payton', ts=1538382162000, page='NextSong', level='free', phase=3),\n",
       " Row(userId='95', firstname='Faigy', ts=1538382198000, page='NextSong', level='paid', phase=1),\n",
       " Row(userId='95', firstname='Faigy', ts=1538382199000, page='Thumbs Up', level='paid', phase=1),\n",
       " Row(userId='100001', firstname='Delaney', ts=1538382217000, page='NextSong', level='free', phase=0),\n",
       " Row(userId='142', firstname='Grant', ts=1538382290000, page='NextSong', level='paid', phase=0),\n",
       " Row(userId='142', firstname='Grant', ts=1538382291000, page='Logout', level='paid', phase=0),\n",
       " Row(userId='25', firstname='Madison', ts=1538382354000, page='NextSong', level='paid', phase=1),\n",
       " Row(userId='95', firstname='Faigy', ts=1538382370000, page='NextSong', level='paid', phase=1),\n",
       " Row(userId='142', firstname='Grant', ts=1538382418000, page='Home', level='paid', phase=0),\n",
       " Row(userId='95', firstname='Faigy', ts=1538382469000, page='NextSong', level='paid', phase=1),\n",
       " Row(userId='100001', firstname='Delaney', ts=1538382476000, page='NextSong', level='free', phase=0),\n",
       " Row(userId='25', firstname='Madison', ts=1538382545000, page='NextSong', level='paid', phase=1),\n",
       " Row(userId='100001', firstname='Delaney', ts=1538382550000, page='Roll Advert', level='free', phase=0),\n",
       " Row(userId='142', firstname='Grant', ts=1538382593000, page='NextSong', level='paid', phase=0),\n",
       " Row(userId='39', firstname='Payton', ts=1538382596000, page='NextSong', level='free', phase=3),\n",
       " Row(userId='100001', firstname='Delaney', ts=1538382674000, page='NextSong', level='free', phase=0),\n",
       " Row(userId='95', firstname='Faigy', ts=1538382705000, page='NextSong', level='paid', phase=1),\n",
       " Row(userId='100001', firstname='Delaney', ts=1538382775000, page='Roll Advert', level='free', phase=0),\n",
       " Row(userId='25', firstname='Madison', ts=1538382779000, page='NextSong', level='paid', phase=1),\n",
       " Row(userId='142', firstname='Grant', ts=1538382833000, page='NextSong', level='paid', phase=0),\n",
       " Row(userId='39', firstname='Payton', ts=1538382900000, page='NextSong', level='free', phase=3),\n",
       " Row(userId='100001', firstname='Delaney', ts=1538382964000, page='NextSong', level='free', phase=0),\n",
       " Row(userId='25', firstname='Madison', ts=1538382982000, page='NextSong', level='paid', phase=1),\n",
       " Row(userId='95', firstname='Faigy', ts=1538382987000, page='NextSong', level='paid', phase=1),\n",
       " Row(userId='142', firstname='Grant', ts=1538383079000, page='NextSong', level='paid', phase=0),\n",
       " Row(userId='39', firstname='Payton', ts=1538383177000, page='NextSong', level='free', phase=3),\n",
       " Row(userId='100001', firstname='Delaney', ts=1538383234000, page='NextSong', level='free', phase=0),\n",
       " Row(userId='25', firstname='Madison', ts=1538383251000, page='NextSong', level='paid', phase=1),\n",
       " Row(userId='95', firstname='Faigy', ts=1538383275000, page='NextSong', level='paid', phase=1),\n",
       " Row(userId='142', firstname='Grant', ts=1538383312000, page='NextSong', level='paid', phase=0),\n",
       " Row(userId='39', firstname='Payton', ts=1538383446000, page='NextSong', level='free', phase=3),\n",
       " Row(userId='25', firstname='Madison', ts=1538383456000, page='NextSong', level='paid', phase=1),\n",
       " Row(userId='100001', firstname='Delaney', ts=1538383532000, page='NextSong', level='free', phase=0),\n",
       " Row(userId='142', firstname='Grant', ts=1538383559000, page='NextSong', level='paid', phase=0),\n",
       " Row(userId='25', firstname='Madison', ts=1538383610000, page='NextSong', level='paid', phase=1),\n",
       " Row(userId='39', firstname='Payton', ts=1538383622000, page='NextSong', level='free', phase=3),\n",
       " Row(userId='95', firstname='Faigy', ts=1538383719000, page='NextSong', level='paid', phase=1),\n",
       " Row(userId='100001', firstname='Delaney', ts=1538383757000, page='NextSong', level='free', phase=0),\n",
       " Row(userId='100001', firstname='Delaney', ts=1538383758000, page='Logout', level='free', phase=0),\n",
       " Row(userId='39', firstname='Payton', ts=1538383787000, page='NextSong', level='free', phase=3),\n",
       " Row(userId='142', firstname='Grant', ts=1538383792000, page='NextSong', level='paid', phase=0),\n",
       " Row(userId='100001', firstname='Delaney', ts=1538383846000, page='Home', level='free', phase=0),\n",
       " Row(userId='25', firstname='Madison', ts=1538383933000, page='NextSong', level='paid', phase=1),\n",
       " Row(userId='25', firstname='Madison', ts=1538383934000, page='Add Friend', level='paid', phase=1),\n",
       " Row(userId='142', firstname='Grant', ts=1538383941000, page='NextSong', level='paid', phase=0),\n",
       " Row(userId='100001', firstname='Delaney', ts=1538384003000, page='NextSong', level='free', phase=0),\n",
       " Row(userId='100001', firstname='Delaney', ts=1538384004000, page='Add Friend', level='free', phase=0),\n",
       " Row(userId='39', firstname='Payton', ts=1538384057000, page='NextSong', level='free', phase=3),\n",
       " Row(userId='95', firstname='Faigy', ts=1538384092000, page='NextSong', level='paid', phase=1),\n",
       " Row(userId='142', firstname='Grant', ts=1538384139000, page='NextSong', level='paid', phase=0),\n",
       " Row(userId='25', firstname='Madison', ts=1538384191000, page='NextSong', level='paid', phase=1),\n",
       " Row(userId='25', firstname='Madison', ts=1538384192000, page='Thumbs Up', level='paid', phase=1),\n",
       " Row(userId='100001', firstname='Delaney', ts=1538384240000, page='NextSong', level='free', phase=0),\n",
       " Row(userId='95', firstname='Faigy', ts=1538384350000, page='NextSong', level='paid', phase=1),\n",
       " Row(userId='131', firstname='Kael', ts=1538384355000, page='NextSong', level='free', phase=2),\n",
       " Row(userId='142', firstname='Grant', ts=1538384358000, page='NextSong', level='paid', phase=0),\n",
       " Row(userId='142', firstname='Grant', ts=1538384371000, page='Home', level='paid', phase=0),\n",
       " Row(userId='25', firstname='Madison', ts=1538384389000, page='NextSong', level='paid', phase=1),\n",
       " Row(userId='39', firstname='Payton', ts=1538384448000, page='NextSong', level='free', phase=3),\n",
       " Row(userId='142', firstname='Grant', ts=1538384567000, page='NextSong', level='paid', phase=0),\n",
       " Row(userId='25', firstname='Madison', ts=1538384625000, page='NextSong', level='paid', phase=1),\n",
       " Row(userId='95', firstname='Faigy', ts=1538384661000, page='NextSong', level='paid', phase=1),\n",
       " Row(userId='39', firstname='Payton', ts=1538384686000, page='NextSong', level='free', phase=3),\n",
       " Row(userId='131', firstname='Kael', ts=1538384770000, page='NextSong', level='free', phase=2),\n",
       " Row(userId='142', firstname='Grant', ts=1538384810000, page='NextSong', level='paid', phase=0),\n",
       " Row(userId='39', firstname='Payton', ts=1538384860000, page='NextSong', level='free', phase=3),\n",
       " Row(userId='39', firstname='Payton', ts=1538384860000, page='Roll Advert', level='free', phase=3),\n",
       " Row(userId='100001', firstname='Delaney', ts=1538384895000, page='NextSong', level='free', phase=0),\n",
       " Row(userId='25', firstname='Madison', ts=1538384924000, page='NextSong', level='paid', phase=1),\n",
       " Row(userId='25', firstname='Madison', ts=1538384925000, page='Add Friend', level='paid', phase=1),\n",
       " Row(userId='25', firstname='Madison', ts=1538384926000, page='Add Friend', level='paid', phase=1),\n",
       " Row(userId='25', firstname='Madison', ts=1538384927000, page='Add Friend', level='paid', phase=1),\n",
       " Row(userId='142', firstname='Grant', ts=1538384953000, page='NextSong', level='paid', phase=0),\n",
       " Row(userId='200014', firstname='Emmanuel', ts=1538384958000, page='Home', level='free', phase=0),\n",
       " Row(userId='95', firstname='Faigy', ts=1538384973000, page='NextSong', level='paid', phase=1),\n",
       " Row(userId='200014', firstname='Emmanuel', ts=1538384979000, page='NextSong', level='free', phase=0),\n",
       " Row(userId='25', firstname='Madison', ts=1538385014000, page='NextSong', level='paid', phase=1),\n",
       " Row(userId='131', firstname='Kael', ts=1538385046000, page='NextSong', level='free', phase=2),\n",
       " Row(userId='100001', firstname='Delaney', ts=1538385105000, page='NextSong', level='free', phase=0),\n",
       " Row(userId='39', firstname='Payton', ts=1538385114000, page='NextSong', level='free', phase=3),\n",
       " Row(userId='39', firstname='Payton', ts=1538385114000, page='Roll Advert', level='free', phase=3),\n",
       " Row(userId='95', firstname='Faigy', ts=1538385168000, page='NextSong', level='paid', phase=1),\n",
       " Row(userId='131', firstname='Kael', ts=1538385180000, page='NextSong', level='free', phase=2),\n",
       " Row(userId='200014', firstname='Emmanuel', ts=1538385205000, page='NextSong', level='free', phase=0),\n",
       " Row(userId='200014', firstname='Emmanuel', ts=1538385206000, page='Logout', level='free', phase=0),\n",
       " Row(userId='200014', firstname='Emmanuel', ts=1538385218000, page='Home', level='free', phase=0),\n",
       " Row(userId='142', firstname='Grant', ts=1538385248000, page='NextSong', level='paid', phase=0),\n",
       " Row(userId='25', firstname='Madison', ts=1538385255000, page='NextSong', level='paid', phase=1),\n",
       " Row(userId='39', firstname='Payton', ts=1538385311000, page='NextSong', level='free', phase=3),\n",
       " Row(userId='100001', firstname='Delaney', ts=1538385353000, page='NextSong', level='free', phase=0),\n",
       " Row(userId='100001', firstname='Delaney', ts=1538385354000, page='Thumbs Up', level='free', phase=0),\n",
       " Row(userId='131', firstname='Kael', ts=1538385402000, page='NextSong', level='free', phase=2),\n",
       " Row(userId='25', firstname='Madison', ts=1538385498000, page='NextSong', level='paid', phase=1),\n",
       " Row(userId='131', firstname='Kael', ts=1538385558000, page='NextSong', level='free', phase=2),\n",
       " Row(userId='142', firstname='Grant', ts=1538385559000, page='NextSong', level='paid', phase=0),\n",
       " Row(userId='39', firstname='Payton', ts=1538385562000, page='NextSong', level='free', phase=3),\n",
       " Row(userId='200014', firstname='Emmanuel', ts=1538385587000, page='NextSong', level='free', phase=0),\n",
       " Row(userId='25', firstname='Madison', ts=1538385656000, page='Help', level='paid', phase=1),\n",
       " Row(userId='95', firstname='Faigy', ts=1538385662000, page='NextSong', level='paid', phase=1),\n",
       " Row(userId='100001', firstname='Delaney', ts=1538385682000, page='NextSong', level='free', phase=0),\n",
       " Row(userId='25', firstname='Madison', ts=1538385712000, page='NextSong', level='paid', phase=1),\n",
       " Row(userId='25', firstname='Madison', ts=1538385724000, page='NextSong', level='paid', phase=1),\n",
       " Row(userId='200014', firstname='Emmanuel', ts=1538385826000, page='NextSong', level='free', phase=0),\n",
       " Row(userId='142', firstname='Grant', ts=1538385831000, page='NextSong', level='paid', phase=0),\n",
       " Row(userId='200014', firstname='Emmanuel', ts=1538385835000, page='Home', level='free', phase=0),\n",
       " Row(userId='39', firstname='Payton', ts=1538385847000, page='NextSong', level='free', phase=3),\n",
       " Row(userId='95', firstname='Faigy', ts=1538385873000, page='NextSong', level='paid', phase=1),\n",
       " Row(userId='100001', firstname='Delaney', ts=1538385917000, page='NextSong', level='free', phase=0),\n",
       " Row(userId='200014', firstname='Emmanuel', ts=1538385970000, page='NextSong', level='free', phase=0),\n",
       " Row(userId='142', firstname='Grant', ts=1538386008000, page='NextSong', level='paid', phase=0),\n",
       " Row(userId='100001', firstname='Delaney', ts=1538386066000, page='Add to Playlist', level='free', phase=0),\n",
       " Row(userId='131', firstname='Kael', ts=1538386074000, page='NextSong', level='free', phase=2),\n",
       " Row(userId='100001', firstname='Delaney', ts=1538386082000, page='NextSong', level='free', phase=0),\n",
       " Row(userId='100001', firstname='Delaney', ts=1538386083000, page='Logout', level='free', phase=0),\n",
       " Row(userId='39', firstname='Payton', ts=1538386135000, page='NextSong', level='free', phase=3),\n",
       " Row(userId='95', firstname='Faigy', ts=1538386180000, page='NextSong', level='paid', phase=1),\n",
       " Row(userId='200014', firstname='Emmanuel', ts=1538386193000, page='NextSong', level='free', phase=0),\n",
       " Row(userId='142', firstname='Grant', ts=1538386227000, page='NextSong', level='paid', phase=0),\n",
       " Row(userId='200014', firstname='Emmanuel', ts=1538386231000, page='Roll Advert', level='free', phase=0),\n",
       " Row(userId='131', firstname='Kael', ts=1538386309000, page='NextSong', level='free', phase=2),\n",
       " Row(userId='25', firstname='Madison', ts=1538386379000, page='NextSong', level='paid', phase=1),\n",
       " Row(userId='39', firstname='Payton', ts=1538386419000, page='NextSong', level='free', phase=3),\n",
       " Row(userId='39', firstname='Payton', ts=1538386420000, page='Thumbs Up', level='free', phase=3),\n",
       " Row(userId='95', firstname='Faigy', ts=1538386434000, page='NextSong', level='paid', phase=1),\n",
       " Row(userId='200014', firstname='Emmanuel', ts=1538386443000, page='NextSong', level='free', phase=0),\n",
       " Row(userId='200014', firstname='Emmanuel', ts=1538386444000, page='Thumbs Up', level='free', phase=0),\n",
       " Row(userId='142', firstname='Grant', ts=1538386444000, page='NextSong', level='paid', phase=0),\n",
       " Row(userId='131', firstname='Kael', ts=1538386520000, page='NextSong', level='free', phase=2),\n",
       " Row(userId='200014', firstname='Emmanuel', ts=1538386525000, page='NextSong', level='free', phase=0),\n",
       " Row(userId='25', firstname='Madison', ts=1538386623000, page='NextSong', level='paid', phase=1),\n",
       " Row(userId='39', firstname='Payton', ts=1538386644000, page='NextSong', level='free', phase=3),\n",
       " Row(userId='25', firstname='Madison', ts=1538386646000, page='Add to Playlist', level='paid', phase=1),\n",
       " Row(userId='142', firstname='Grant', ts=1538386646000, page='NextSong', level='paid', phase=0),\n",
       " Row(userId='95', firstname='Faigy', ts=1538386659000, page='NextSong', level='paid', phase=1),\n",
       " Row(userId='131', firstname='Kael', ts=1538386726000, page='NextSong', level='free', phase=2),\n",
       " Row(userId='25', firstname='Madison', ts=1538386805000, page='NextSong', level='paid', phase=1),\n",
       " Row(userId='200014', firstname='Emmanuel', ts=1538386816000, page='NextSong', level='free', phase=0),\n",
       " Row(userId='200014', firstname='Emmanuel', ts=1538386891000, page='NextSong', level='free', phase=0),\n",
       " Row(userId='39', firstname='Payton', ts=1538386924000, page='NextSong', level='free', phase=3),\n",
       " Row(userId='95', firstname='Faigy', ts=1538386926000, page='NextSong', level='paid', phase=1),\n",
       " Row(userId='131', firstname='Kael', ts=1538386977000, page='NextSong', level='free', phase=2),\n",
       " Row(userId='126', firstname='Daelin', ts=1538387004000, page='Home', level='free', phase=0),\n",
       " Row(userId='200014', firstname='Emmanuel', ts=1538387027000, page='NextSong', level='free', phase=0),\n",
       " Row(userId='200014', firstname='Emmanuel', ts=1538387028000, page='Thumbs Down', level='free', phase=0),\n",
       " Row(userId='126', firstname='Daelin', ts=1538387041000, page='NextSong', level='free', phase=0),\n",
       " Row(userId='25', firstname='Madison', ts=1538387082000, page='NextSong', level='paid', phase=1),\n",
       " Row(userId='95', firstname='Faigy', ts=1538387092000, page='NextSong', level='paid', phase=1),\n",
       " Row(userId='39', firstname='Payton', ts=1538387107000, page='NextSong', level='free', phase=3),\n",
       " Row(userId='142', firstname='Grant', ts=1538387111000, page='NextSong', level='paid', phase=0),\n",
       " Row(userId='39', firstname='Payton', ts=1538387139000, page='Roll Advert', level='free', phase=3),\n",
       " Row(userId='131', firstname='Kael', ts=1538387193000, page='NextSong', level='free', phase=2),\n",
       " Row(userId='200014', firstname='Emmanuel', ts=1538387228000, page='NextSong', level='free', phase=0),\n",
       " Row(userId='142', firstname='Grant', ts=1538387233000, page='NextSong', level='paid', phase=0),\n",
       " Row(userId='25', firstname='Madison', ts=1538387257000, page='Help', level='paid', phase=1),\n",
       " Row(userId='25', firstname='Madison', ts=1538387258000, page='Add Friend', level='paid', phase=1),\n",
       " Row(userId='25', firstname='Madison', ts=1538387259000, page='Add Friend', level='paid', phase=1),\n",
       " Row(userId='25', firstname='Madison', ts=1538387260000, page='Add Friend', level='paid', phase=1),\n",
       " Row(userId='126', firstname='Daelin', ts=1538387273000, page='NextSong', level='free', phase=0),\n",
       " Row(userId='25', firstname='Madison', ts=1538387302000, page='NextSong', level='paid', phase=1),\n",
       " Row(userId='39', firstname='Payton', ts=1538387315000, page='NextSong', level='free', phase=3),\n",
       " Row(userId='95', firstname='Faigy', ts=1538387392000, page='NextSong', level='paid', phase=1),\n",
       " Row(userId='25', firstname='Madison', ts=1538387470000, page='NextSong', level='paid', phase=1),\n",
       " Row(userId='142', firstname='Grant', ts=1538387535000, page='NextSong', level='paid', phase=0),\n",
       " Row(userId='25', firstname='Madison', ts=1538387548000, page='NextSong', level='paid', phase=1),\n",
       " Row(userId='39', firstname='Payton', ts=1538387562000, page='NextSong', level='free', phase=3),\n",
       " Row(userId='131', firstname='Kael', ts=1538387604000, page='NextSong', level='free', phase=2),\n",
       " Row(userId='126', firstname='Daelin', ts=1538387645000, page='NextSong', level='free', phase=0),\n",
       " Row(userId='95', firstname='Faigy', ts=1538387659000, page='NextSong', level='paid', phase=1),\n",
       " Row(userId='126', firstname='Daelin', ts=1538387676000, page='Roll Advert', level='free', phase=0),\n",
       " Row(userId='200014', firstname='Emmanuel', ts=1538387743000, page='NextSong', level='free', phase=0),\n",
       " Row(userId='200014', firstname='Emmanuel', ts=1538387743000, page='Roll Advert', level='free', phase=0),\n",
       " Row(userId='142', firstname='Grant', ts=1538387758000, page='NextSong', level='paid', phase=0),\n",
       " Row(userId='39', firstname='Payton', ts=1538387789000, page='NextSong', level='free', phase=3),\n",
       " Row(userId='25', firstname='Madison', ts=1538387838000, page='NextSong', level='paid', phase=1),\n",
       " Row(userId='131', firstname='Kael', ts=1538387868000, page='NextSong', level='free', phase=2),\n",
       " Row(userId='126', firstname='Daelin', ts=1538387870000, page='NextSong', level='free', phase=0),\n",
       " Row(userId='95', firstname='Faigy', ts=1538387899000, page='NextSong', level='paid', phase=1),\n",
       " Row(userId='95', firstname='Faigy', ts=1538387907000, page='Roll Advert', level='paid', phase=1),\n",
       " Row(userId='200014', firstname='Emmanuel', ts=1538388013000, page='NextSong', level='free', phase=0),\n",
       " Row(userId='146', firstname='Giovanni', ts=1538388015000, page='Home', level='free', phase=0),\n",
       " Row(userId='25', firstname='Madison', ts=1538388062000, page='NextSong', level='paid', phase=1),\n",
       " Row(userId='126', firstname='Daelin', ts=1538388066000, page='NextSong', level='free', phase=0),\n",
       " Row(userId='39', firstname='Payton', ts=1538388091000, page='NextSong', level='free', phase=3),\n",
       " Row(userId='146', firstname='Giovanni', ts=1538388101000, page='NextSong', level='free', phase=0),\n",
       " Row(userId='131', firstname='Kael', ts=1538388132000, page='NextSong', level='free', phase=2),\n",
       " Row(userId='25', firstname='Madison', ts=1538388149000, page='Home', level='paid', phase=1),\n",
       " Row(userId='200014', firstname='Emmanuel', ts=1538388229000, page='NextSong', level='free', phase=0),\n",
       " Row(userId='200014', firstname='Emmanuel', ts=1538388240000, page='Add to Playlist', level='free', phase=0),\n",
       " Row(userId='25', firstname='Madison', ts=1538388287000, page='NextSong', level='paid', phase=1),\n",
       " Row(userId='95', firstname='Faigy', ts=1538388293000, page='NextSong', level='paid', phase=1),\n",
       " Row(userId='95', firstname='Faigy', ts=1538388294000, page='Logout', level='paid', phase=1),\n",
       " Row(userId='95', firstname='Faigy', ts=1538388298000, page='Home', level='paid', phase=1),\n",
       " Row(userId='39', firstname='Payton', ts=1538388306000, page='NextSong', level='free', phase=3),\n",
       " Row(userId='131', firstname='Kael', ts=1538388327000, page='NextSong', level='free', phase=2),\n",
       " Row(userId='146', firstname='Giovanni', ts=1538388387000, page='NextSong', level='free', phase=0),\n",
       " Row(userId='142', firstname='Grant', ts=1538388435000, page='NextSong', level='paid', phase=0),\n",
       " Row(userId='126', firstname='Daelin', ts=1538388465000, page='NextSong', level='free', phase=0),\n",
       " Row(userId='25', firstname='Madison', ts=1538388507000, page='NextSong', level='paid', phase=1),\n",
       " Row(userId='39', firstname='Payton', ts=1538388520000, page='NextSong', level='free', phase=3),\n",
       " Row(userId='95', firstname='Faigy', ts=1538388527000, page='NextSong', level='paid', phase=1),\n",
       " Row(userId='146', firstname='Giovanni', ts=1538388620000, page='NextSong', level='free', phase=0),\n",
       " Row(userId='131', firstname='Kael', ts=1538388627000, page='NextSong', level='free', phase=2),\n",
       " Row(userId='142', firstname='Grant', ts=1538388646000, page='NextSong', level='paid', phase=0),\n",
       " Row(userId='39', firstname='Payton', ts=1538388701000, page='NextSong', level='free', phase=3),\n",
       " Row(userId='25', firstname='Madison', ts=1538388702000, page='NextSong', level='paid', phase=1),\n",
       " Row(userId='200014', firstname='Emmanuel', ts=1538388759000, page='NextSong', level='free', phase=0),\n",
       " Row(userId='131', firstname='Kael', ts=1538388796000, page='NextSong', level='free', phase=2),\n",
       " Row(userId='126', firstname='Daelin', ts=1538388801000, page='NextSong', level='free', phase=0),\n",
       " Row(userId='95', firstname='Faigy', ts=1538388802000, page='NextSong', level='paid', phase=1),\n",
       " Row(userId='131', firstname='Kael', ts=1538388861000, page='Add to Playlist', level='free', phase=2),\n",
       " Row(userId='142', firstname='Grant', ts=1538388886000, page='NextSong', level='paid', phase=0),\n",
       " Row(userId='142', firstname='Grant', ts=1538388887000, page='Thumbs Up', level='paid', phase=0),\n",
       " Row(userId='146', firstname='Giovanni', ts=1538388894000, page='NextSong', level='free', phase=0),\n",
       " Row(userId='146', firstname='Giovanni', ts=1538388903000, page='Add to Playlist', level='free', phase=0),\n",
       " Row(userId='95', firstname='Faigy', ts=1538389000000, page='NextSong', level='paid', phase=1),\n",
       " Row(userId='39', firstname='Payton', ts=1538389007000, page='NextSong', level='free', phase=3),\n",
       " Row(userId='200014', firstname='Emmanuel', ts=1538389033000, page='NextSong', level='free', phase=0),\n",
       " Row(userId='200014', firstname='Emmanuel', ts=1538389039000, page='Home', level='free', phase=0),\n",
       " Row(userId='146', firstname='Giovanni', ts=1538389062000, page='NextSong', level='free', phase=0),\n",
       " Row(userId='146', firstname='Giovanni', ts=1538389077000, page='Add to Playlist', level='free', phase=0),\n",
       " Row(userId='131', firstname='Kael', ts=1538389085000, page='NextSong', level='free', phase=2),\n",
       " Row(userId='142', firstname='Grant', ts=1538389126000, page='NextSong', level='paid', phase=0),\n",
       " Row(userId='59', firstname='Jaleel', ts=1538389169000, page='Home', level='free', phase=1),\n",
       " Row(userId='126', firstname='Daelin', ts=1538389172000, page='NextSong', level='free', phase=0),\n",
       " Row(userId='95', firstname='Faigy', ts=1538389239000, page='NextSong', level='paid', phase=1),\n",
       " Row(userId='146', firstname='Giovanni', ts=1538389270000, page='NextSong', level='free', phase=0),\n",
       " Row(userId='131', firstname='Kael', ts=1538389326000, page='NextSong', level='free', phase=2),\n",
       " Row(userId='142', firstname='Grant', ts=1538389345000, page='NextSong', level='paid', phase=0),\n",
       " Row(userId='131', firstname='Kael', ts=1538389366000, page='Help', level='free', phase=2),\n",
       " Row(userId='15', firstname='Panav', ts=1538389415000, page='Home', level='paid', phase=0),\n",
       " Row(userId='95', firstname='Faigy', ts=1538389449000, page='NextSong', level='paid', phase=1),\n",
       " Row(userId='39', firstname='Payton', ts=1538389467000, page='NextSong', level='free', phase=3),\n",
       " Row(userId='15', firstname='Panav', ts=1538389474000, page='NextSong', level='paid', phase=0),\n",
       " Row(userId='200014', firstname='Emmanuel', ts=1538389480000, page='NextSong', level='free', phase=0),\n",
       " Row(userId='146', firstname='Giovanni', ts=1538389499000, page='NextSong', level='free', phase=0),\n",
       " Row(userId='146', firstname='Giovanni', ts=1538389581000, page='Roll Advert', level='free', phase=0),\n",
       " Row(userId='15', firstname='Panav', ts=1538389586000, page='NextSong', level='paid', phase=0),\n",
       " Row(userId='59', firstname='Jaleel', ts=1538389614000, page='NextSong', level='free', phase=1),\n",
       " Row(userId='39', firstname='Payton', ts=1538389616000, page='Add to Playlist', level='free', phase=3),\n",
       " Row(userId='131', firstname='Kael', ts=1538389659000, page='NextSong', level='free', phase=2),\n",
       " Row(userId='131', firstname='Kael', ts=1538389667000, page='Home', level='free', phase=2),\n",
       " Row(userId='142', firstname='Grant', ts=1538389672000, page='NextSong', level='paid', phase=0),\n",
       " Row(userId='95', firstname='Faigy', ts=1538389718000, page='NextSong', level='paid', phase=1),\n",
       " Row(userId='39', firstname='Payton', ts=1538389718000, page='NextSong', level='free', phase=3),\n",
       " Row(userId='95', firstname='Faigy', ts=1538389719000, page='Thumbs Up', level='paid', phase=1),\n",
       " Row(userId='39', firstname='Payton', ts=1538389723000, page='Roll Advert', level='free', phase=3),\n",
       " Row(userId='146', firstname='Giovanni', ts=1538389748000, page='NextSong', level='free', phase=0),\n",
       " Row(userId='200014', firstname='Emmanuel', ts=1538389755000, page='NextSong', level='free', phase=0),\n",
       " Row(userId='15', firstname='Panav', ts=1538389840000, page='NextSong', level='paid', phase=0),\n",
       " Row(userId='131', firstname='Kael', ts=1538389860000, page='NextSong', level='free', phase=2),\n",
       " Row(userId='142', firstname='Grant', ts=1538389877000, page='NextSong', level='paid', phase=0),\n",
       " Row(userId='59', firstname='Jaleel', ts=1538389911000, page='NextSong', level='free', phase=1),\n",
       " Row(userId='131', firstname='Kael', ts=1538389930000, page='Upgrade', level='free', phase=2),\n",
       " Row(userId='131', firstname='Kael', ts=1538389931000, page='Submit Upgrade', level='free', phase=2),\n",
       " Row(userId='131', firstname='Kael', ts=1538389931000, page='Home', level='paid', phase=2),\n",
       " Row(userId='146', firstname='Giovanni', ts=1538389997000, page='NextSong', level='free', phase=0),\n",
       " Row(userId='131', firstname='Kael', ts=1538389997000, page='NextSong', level='paid', phase=2),\n",
       " Row(userId='200014', firstname='Emmanuel', ts=1538390001000, page='NextSong', level='free', phase=0),\n",
       " Row(userId='39', firstname='Payton', ts=1538390032000, page='NextSong', level='free', phase=3),\n",
       " Row(userId='39', firstname='Payton', ts=1538390033000, page='Logout', level='free', phase=3),\n",
       " Row(userId='300001', firstname='Antonina', ts=1538390082000, page='Home', level='free', phase=0),\n",
       " Row(userId='15', firstname='Panav', ts=1538390085000, page='NextSong', level='paid', phase=0),\n",
       " Row(userId='142', firstname='Grant', ts=1538390108000, page='NextSong', level='paid', phase=0),\n",
       " Row(userId='59', firstname='Jaleel', ts=1538390128000, page='NextSong', level='free', phase=1),\n",
       " Row(userId='39', firstname='Payton', ts=1538390177000, page='Home', level='free', phase=3),\n",
       " Row(userId='95', firstname='Faigy', ts=1538390178000, page='NextSong', level='paid', phase=1),\n",
       " Row(userId='200014', firstname='Emmanuel', ts=1538390220000, page='NextSong', level='free', phase=0),\n",
       " Row(userId='39', firstname='Payton', ts=1538390224000, page='NextSong', level='free', phase=3),\n",
       " Row(userId='300001', firstname='Antonina', ts=1538390239000, page='NextSong', level='free', phase=0),\n",
       " Row(userId='300001', firstname='Antonina', ts=1538390240000, page='Logout', level='free', phase=0),\n",
       " Row(userId='131', firstname='Kael', ts=1538390255000, page='NextSong', level='paid', phase=2),\n",
       " Row(userId='131', firstname='Kael', ts=1538390256000, page='Thumbs Up', level='paid', phase=2),\n",
       " Row(userId='142', firstname='Grant', ts=1538390304000, page='NextSong', level='paid', phase=0),\n",
       " Row(userId='59', firstname='Jaleel', ts=1538390313000, page='NextSong', level='free', phase=1),\n",
       " Row(userId='59', firstname='Jaleel', ts=1538390314000, page='Add Friend', level='free', phase=1),\n",
       " Row(userId='146', firstname='Giovanni', ts=1538390345000, page='NextSong', level='free', phase=0),\n",
       " Row(userId='146', firstname='Giovanni', ts=1538390372000, page='Roll Advert', level='free', phase=0),\n",
       " Row(userId='88', firstname='Zyonna', ts=1538390385000, page='NextSong', level='free', phase=0),\n",
       " Row(userId='88', firstname='Zyonna', ts=1538390386000, page='Logout', level='free', phase=0),\n",
       " Row(userId='15', firstname='Panav', ts=1538390392000, page='NextSong', level='paid', phase=0),\n",
       " Row(userId='95', firstname='Faigy', ts=1538390472000, page='NextSong', level='paid', phase=1),\n",
       " Row(userId='39', firstname='Payton', ts=1538390472000, page='NextSong', level='free', phase=3),\n",
       " Row(userId='200014', firstname='Emmanuel', ts=1538390494000, page='NextSong', level='free', phase=0),\n",
       " Row(userId='131', firstname='Kael', ts=1538390502000, page='NextSong', level='paid', phase=2),\n",
       " Row(userId='200014', firstname='Emmanuel', ts=1538390504000, page='Roll Advert', level='free', phase=0),\n",
       " Row(userId='300001', firstname='Antonina', ts=1538390515000, page='Home', level='free', phase=0),\n",
       " Row(userId='300001', firstname='Antonina', ts=1538390530000, page='NextSong', level='free', phase=0),\n",
       " Row(userId='142', firstname='Grant', ts=1538390554000, page='NextSong', level='paid', phase=0),\n",
       " Row(userId='59', firstname='Jaleel', ts=1538390568000, page='NextSong', level='free', phase=1),\n",
       " Row(userId='88', firstname='Zyonna', ts=1538390579000, page='Home', level='free', phase=0),\n",
       " Row(userId='95', firstname='Faigy', ts=1538390639000, page='NextSong', level='paid', phase=1),\n",
       " Row(userId='95', firstname='Faigy', ts=1538390640000, page='Thumbs Up', level='paid', phase=1),\n",
       " Row(userId='131', firstname='Kael', ts=1538390678000, page='NextSong', level='paid', phase=2),\n",
       " Row(userId='15', firstname='Panav', ts=1538390697000, page='NextSong', level='paid', phase=0),\n",
       " Row(userId='146', firstname='Giovanni', ts=1538390716000, page='NextSong', level='free', phase=0),\n",
       " Row(userId='146', firstname='Giovanni', ts=1538390717000, page='Logout', level='free', phase=0),\n",
       " Row(userId='200014', firstname='Emmanuel', ts=1538390732000, page='NextSong', level='free', phase=0),\n",
       " Row(userId='142', firstname='Grant', ts=1538390757000, page='NextSong', level='paid', phase=0),\n",
       " Row(userId='95', firstname='Faigy', ts=1538390843000, page='NextSong', level='paid', phase=1),\n",
       " Row(userId='200014', firstname='Emmanuel', ts=1538390859000, page='NextSong', level='free', phase=0),\n",
       " Row(userId='200014', firstname='Emmanuel', ts=1538390860000, page='Thumbs Down', level='free', phase=0),\n",
       " Row(userId='142', firstname='Grant', ts=1538390876000, page='NextSong', level='paid', phase=0),\n",
       " Row(userId='131', firstname='Kael', ts=1538390890000, page='NextSong', level='paid', phase=2),\n",
       " Row(userId='15', firstname='Panav', ts=1538390907000, page='NextSong', level='paid', phase=0),\n",
       " Row(userId='59', firstname='Jaleel', ts=1538390921000, page='NextSong', level='free', phase=1),\n",
       " Row(userId='146', firstname='Giovanni', ts=1538390969000, page='Home', level='free', phase=0),\n",
       " Row(userId='146', firstname='Giovanni', ts=1538390996000, page='NextSong', level='free', phase=0),\n",
       " Row(userId='15', firstname='Panav', ts=1538391094000, page='NextSong', level='paid', phase=0),\n",
       " Row(userId='131', firstname='Kael', ts=1538391102000, page='NextSong', level='paid', phase=2),\n",
       " Row(userId='95', firstname='Faigy', ts=1538391137000, page='NextSong', level='paid', phase=1),\n",
       " Row(userId='146', firstname='Giovanni', ts=1538391152000, page='NextSong', level='free', phase=0),\n",
       " Row(userId='300001', firstname='Antonina', ts=1538391185000, page='NextSong', level='free', phase=0),\n",
       " Row(userId='36', firstname='Carly', ts=1538391194000, page='Home', level='free', phase=0),\n",
       " Row(userId='142', firstname='Grant', ts=1538391198000, page='NextSong', level='paid', phase=0),\n",
       " Row(userId='142', firstname='Grant', ts=1538391199000, page='Thumbs Up', level='paid', phase=0),\n",
       " Row(userId='200014', firstname='Emmanuel', ts=1538391229000, page='NextSong', level='free', phase=0),\n",
       " Row(userId='200014', firstname='Emmanuel', ts=1538391230000, page='Logout', level='free', phase=0),\n",
       " Row(userId='200014', firstname='Emmanuel', ts=1538391254000, page='Home', level='free', phase=0),\n",
       " Row(userId='36', firstname='Carly', ts=1538391272000, page='NextSong', level='free', phase=0),\n",
       " Row(userId='36', firstname='Carly', ts=1538391273000, page='Thumbs Down', level='free', phase=0),\n",
       " Row(userId='131', firstname='Kael', ts=1538391301000, page='NextSong', level='paid', phase=2),\n",
       " Row(userId='146', firstname='Giovanni', ts=1538391319000, page='NextSong', level='free', phase=0),\n",
       " Row(userId='15', firstname='Panav', ts=1538391333000, page='NextSong', level='paid', phase=0),\n",
       " Row(userId='95', firstname='Faigy', ts=1538391350000, page='NextSong', level='paid', phase=1),\n",
       " Row(userId='59', firstname='Jaleel', ts=1538391392000, page='NextSong', level='free', phase=1),\n",
       " Row(userId='142', firstname='Grant', ts=1538391405000, page='NextSong', level='paid', phase=0),\n",
       " Row(userId='36', firstname='Carly', ts=1538391416000, page='NextSong', level='free', phase=0),\n",
       " Row(userId='300001', firstname='Antonina', ts=1538391435000, page='NextSong', level='free', phase=0),\n",
       " Row(userId='300001', firstname='Antonina', ts=1538391468000, page='Roll Advert', level='free', phase=0),\n",
       " Row(userId='15', firstname='Panav', ts=1538391482000, page='NextSong', level='paid', phase=0),\n",
       " Row(userId='15', firstname='Panav', ts=1538391482000, page='Home', level='paid', phase=0),\n",
       " Row(userId='200014', firstname='Emmanuel', ts=1538391521000, page='NextSong', level='free', phase=0),\n",
       " Row(userId='131', firstname='Kael', ts=1538391522000, page='NextSong', level='paid', phase=2),\n",
       " Row(userId='146', firstname='Giovanni', ts=1538391555000, page='NextSong', level='free', phase=0),\n",
       " Row(userId='146', firstname='Giovanni', ts=1538391556000, page='Thumbs Up', level='free', phase=0),\n",
       " Row(userId='95', firstname='Faigy', ts=1538391583000, page='NextSong', level='paid', phase=1),\n",
       " Row(userId='59', firstname='Jaleel', ts=1538391587000, page='NextSong', level='free', phase=1),\n",
       " Row(userId='200014', firstname='Emmanuel', ts=1538391596000, page='Roll Advert', level='free', phase=0),\n",
       " Row(userId='300001', firstname='Antonina', ts=1538391633000, page='NextSong', level='free', phase=0),\n",
       " Row(userId='142', firstname='Grant', ts=1538391640000, page='NextSong', level='paid', phase=0),\n",
       " Row(userId='36', firstname='Carly', ts=1538391640000, page='NextSong', level='free', phase=0),\n",
       " Row(userId='59', firstname='Jaleel', ts=1538391736000, page='NextSong', level='free', phase=1),\n",
       " Row(userId='131', firstname='Kael', ts=1538391794000, page='NextSong', level='paid', phase=2),\n",
       " Row(userId='142', firstname='Grant', ts=1538391798000, page='NextSong', level='paid', phase=0),\n",
       " Row(userId='142', firstname='Grant', ts=1538391799000, page='Logout', level='paid', phase=0),\n",
       " Row(userId='146', firstname='Giovanni', ts=1538391815000, page='NextSong', level='free', phase=0),\n",
       " Row(userId='15', firstname='Panav', ts=1538391850000, page='NextSong', level='paid', phase=0),\n",
       " Row(userId='36', firstname='Carly', ts=1538391864000, page='NextSong', level='free', phase=0),\n",
       " Row(userId='59', firstname='Jaleel', ts=1538391979000, page='NextSong', level='free', phase=1),\n",
       " Row(userId='142', firstname='Grant', ts=1538391986000, page='Home', level='paid', phase=0),\n",
       " Row(userId='142', firstname='Grant', ts=1538392015000, page='NextSong', level='paid', phase=0),\n",
       " Row(userId='146', firstname='Giovanni', ts=1538392064000, page='NextSong', level='free', phase=0),\n",
       " Row(userId='15', firstname='Panav', ts=1538392090000, page='NextSong', level='paid', phase=0),\n",
       " Row(userId='36', firstname='Carly', ts=1538392099000, page='NextSong', level='free', phase=0),\n",
       " Row(userId='131', firstname='Kael', ts=1538392164000, page='NextSong', level='paid', phase=2),\n",
       " Row(userId='59', firstname='Jaleel', ts=1538392194000, page='NextSong', level='free', phase=1),\n",
       " Row(userId='126', firstname='Daelin', ts=1538392196000, page='NextSong', level='free', phase=0),\n",
       " Row(userId='200014', firstname='Emmanuel', ts=1538392227000, page='NextSong', level='free', phase=0),\n",
       " Row(userId='300001', firstname='Antonina', ts=1538392243000, page='NextSong', level='free', phase=0),\n",
       " Row(userId='36', firstname='Carly', ts=1538392357000, page='NextSong', level='free', phase=0),\n",
       " Row(userId='146', firstname='Giovanni', ts=1538392370000, page='NextSong', level='free', phase=0),\n",
       " Row(userId='95', firstname='Faigy', ts=1538392375000, page='NextSong', level='paid', phase=1),\n",
       " Row(userId='146', firstname='Giovanni', ts=1538392400000, page='Roll Advert', level='free', phase=0),\n",
       " Row(userId='200019', firstname='Conley', ts=1538392417000, page='NextSong', level='free', phase=1),\n",
       " Row(userId='300001', firstname='Antonina', ts=1538392432000, page='NextSong', level='free', phase=0),\n",
       " Row(userId='200014', firstname='Emmanuel', ts=1538392439000, page='NextSong', level='free', phase=0),\n",
       " Row(userId='15', firstname='Panav', ts=1538392447000, page='NextSong', level='paid', phase=0),\n",
       " Row(userId='131', firstname='Kael', ts=1538392491000, page='NextSong', level='paid', phase=2),\n",
       " Row(userId='59', firstname='Jaleel', ts=1538392507000, page='NextSong', level='free', phase=1),\n",
       " Row(userId='126', firstname='Daelin', ts=1538392534000, page='NextSong', level='free', phase=0),\n",
       " Row(userId='126', firstname='Daelin', ts=1538392598000, page='Home', level='free', phase=0),\n",
       " Row(userId='95', firstname='Faigy', ts=1538392601000, page='NextSong', level='paid', phase=1),\n",
       " Row(userId='95', firstname='Faigy', ts=1538392612000, page='Downgrade', level='paid', phase=1),\n",
       " Row(userId='200019', firstname='Conley', ts=1538392640000, page='NextSong', level='free', phase=1),\n",
       " Row(userId='300001', firstname='Antonina', ts=1538392641000, page='NextSong', level='free', phase=0),\n",
       " Row(userId='300001', firstname='Antonina', ts=1538392642000, page='Thumbs Up', level='free', phase=0),\n",
       " Row(userId='142', firstname='Grant', ts=1538392657000, page='NextSong', level='paid', phase=0),\n",
       " Row(userId='36', firstname='Carly', ts=1538392659000, page='NextSong', level='free', phase=0),\n",
       " ...]"
      ]
     },
     "execution_count": 44,
     "metadata": {},
     "output_type": "execute_result"
    }
   ],
   "source": [
    "df_valid.select([\"userId\", \"firstname\", \"ts\", \"page\", \"level\", \"phase\"]).sort(\"ts\").collect()"
   ]
  },
  {
   "cell_type": "code",
   "execution_count": 45,
   "metadata": {},
   "outputs": [
    {
     "name": "stdout",
     "output_type": "stream",
     "text": [
      "+--------------------+\n",
      "|                page|\n",
      "+--------------------+\n",
      "|              Cancel|\n",
      "|    Submit Downgrade|\n",
      "|         Thumbs Down|\n",
      "|                Home|\n",
      "|           Downgrade|\n",
      "|         Roll Advert|\n",
      "|              Logout|\n",
      "|       Save Settings|\n",
      "|Cancellation Conf...|\n",
      "|               About|\n",
      "|            Settings|\n",
      "|     Add to Playlist|\n",
      "|          Add Friend|\n",
      "|            NextSong|\n",
      "|           Thumbs Up|\n",
      "|                Help|\n",
      "|             Upgrade|\n",
      "|               Error|\n",
      "|      Submit Upgrade|\n",
      "+--------------------+\n",
      "\n"
     ]
    }
   ],
   "source": [
    "df_valid.select(\"page\").dropDuplicates().show()"
   ]
  },
  {
   "cell_type": "markdown",
   "metadata": {},
   "source": [
    "#### Perhaps a blank user id represents users who have not signed up yet or who are signed out and are about to log in"
   ]
  },
  {
   "cell_type": "code",
   "execution_count": 46,
   "metadata": {},
   "outputs": [
    {
     "name": "stdout",
     "output_type": "stream",
     "text": [
      "+------+------+\n",
      "|gender| count|\n",
      "+------+------+\n",
      "|     F|154578|\n",
      "|     M|123576|\n",
      "+------+------+\n",
      "\n"
     ]
    }
   ],
   "source": [
    "# Evaluating #gender users in the data set?\n",
    "df_valid.groupby(\"gender\").count().show()"
   ]
  },
  {
   "cell_type": "code",
   "execution_count": 47,
   "metadata": {},
   "outputs": [],
   "source": [
    "# It seems like females use this service more than males"
   ]
  },
  {
   "cell_type": "markdown",
   "metadata": {},
   "source": [
    "#### Understand how many songs were played from the most played artist?"
   ]
  },
  {
   "cell_type": "code",
   "execution_count": 48,
   "metadata": {},
   "outputs": [
    {
     "name": "stdout",
     "output_type": "stream",
     "text": [
      "+--------------------+-----------+\n",
      "|              Artist|Artistcount|\n",
      "+--------------------+-----------+\n",
      "|       Kings Of Leon|       1841|\n",
      "|            Coldplay|       1813|\n",
      "|Florence + The Ma...|       1236|\n",
      "|       Dwight Yoakam|       1135|\n",
      "|            BjÃÂ¶rk|       1133|\n",
      "+--------------------+-----------+\n",
      "only showing top 5 rows\n",
      "\n"
     ]
    }
   ],
   "source": [
    "df_valid.filter(df.page == 'NextSong') \\\n",
    "    .select('Artist') \\\n",
    "    .groupBy('Artist') \\\n",
    "    .agg({'Artist':'count'}) \\\n",
    "    .withColumnRenamed('count(Artist)', 'Artistcount') \\\n",
    "    .sort(desc('Artistcount')) \\\n",
    "    .show(5)"
   ]
  },
  {
   "cell_type": "markdown",
   "metadata": {},
   "source": [
    "#### How many songs do users listen to on average between visiting our home page?"
   ]
  },
  {
   "cell_type": "code",
   "execution_count": 49,
   "metadata": {},
   "outputs": [
    {
     "name": "stdout",
     "output_type": "stream",
     "text": [
      "+------------------+\n",
      "|avg(count(period))|\n",
      "+------------------+\n",
      "| 23.60389072847682|\n",
      "+------------------+\n",
      "\n"
     ]
    }
   ],
   "source": [
    "\n",
    "\n",
    "function = udf(lambda ishome : int(ishome == 'Home'), IntegerType())\n",
    "\n",
    "user_window = Window \\\n",
    "    .partitionBy('userID') \\\n",
    "    .orderBy(desc('ts')) \\\n",
    "    .rangeBetween(Window.unboundedPreceding, 0)\n",
    "\n",
    "cusum = df_valid.filter((df.page == 'NextSong') | (df.page == 'Home')) \\\n",
    "    .select('userID', 'page', 'ts') \\\n",
    "    .withColumn('homevisit', function(col('page'))) \\\n",
    "    .withColumn('period', Fsum('homevisit').over(user_window))\n",
    "\n",
    "cusum.filter((cusum.page == 'NextSong')) \\\n",
    "    .groupBy('userID', 'period') \\\n",
    "    .agg({'period':'count'}) \\\n",
    "    .agg({'count(period)':'avg'}).show()"
   ]
  },
  {
   "cell_type": "markdown",
   "metadata": {},
   "source": [
    "# Feature Engineering\n",
    "Once you've familiarized yourself with the data, build out the features you find promising to train your model on. To work with the full dataset, you can follow the following steps.\n",
    "- Write a script to extract the necessary features from the smaller subset of data\n",
    "- Ensure that your script is scalable, using the best practices discussed in Lesson 3\n",
    "- Try your script on the full data set, debugging your script if necessary\n",
    "\n",
    "If you are working in the classroom workspace, you can just extract features based on the small subset of data contained here. Be sure to transfer over this work to the larger dataset when you work on your Spark cluster."
   ]
  },
  {
   "cell_type": "markdown",
   "metadata": {},
   "source": [
    "### We will build the following features:\n",
    " - Feature1: Number of days since registration\n",
    " - Feature2: Total length of listening\n",
    " - Feature3: Session Duration(3 Features: Min, Max and Avg)\n",
    " - Feature4: Number of songs per session\n",
    " - Feature5: Total number of sessions\n",
    " - Feature6: Gender(Male or Female)\n",
    " - Feature7: Distinct count of singers\n",
    " - Feature8: Churn\n",
    " - Feature9: Like (Thumbs up/down)\n",
    " - Feature10: Paid or Free user\n",
    " - Feature11: Number of songs added to Playlist\n",
    " - Feature12: Number of friends added"
   ]
  },
  {
   "cell_type": "markdown",
   "metadata": {},
   "source": [
    "**Feature1:Number of days since registration**"
   ]
  },
  {
   "cell_type": "code",
   "execution_count": 85,
   "metadata": {},
   "outputs": [
    {
     "data": {
      "text/plain": [
       "DataFrame[userId: string, regDay: double]"
      ]
     },
     "execution_count": 85,
     "metadata": {},
     "output_type": "execute_result"
    }
   ],
   "source": [
    "user_max_ts = df_valid.groupby(\"userId\").max(\"ts\").sort(\"userId\")\n",
    "user_reg_ts = df_valid.select(\"userId\", \"registration\").dropDuplicates().sort(\"userId\")\n",
    "user_reg_days = user_reg_ts.join(user_max_ts, user_reg_ts.userId == user_max_ts.userId).select(user_reg_ts[\"userId\"], ((user_max_ts[\"max(ts)\"]-user_reg_ts[\"registration\"])/(1000*60*60*24)).alias(\"regDay\"))\n",
    "user_reg_days.fillna(0)"
   ]
  },
  {
   "cell_type": "code",
   "execution_count": 86,
   "metadata": {},
   "outputs": [
    {
     "name": "stdout",
     "output_type": "stream",
     "text": [
      "+------+------------------+\n",
      "|userId|            regDay|\n",
      "+------+------------------+\n",
      "|100010| 55.64365740740741|\n",
      "|200002| 70.07462962962963|\n",
      "|   125| 71.31688657407408|\n",
      "|   124|131.55591435185184|\n",
      "|    51|19.455844907407407|\n",
      "+------+------------------+\n",
      "only showing top 5 rows\n",
      "\n"
     ]
    }
   ],
   "source": [
    "user_reg_days.show(5)"
   ]
  },
  {
   "cell_type": "markdown",
   "metadata": {},
   "source": [
    "**Feature2: Total length of listening**"
   ]
  },
  {
   "cell_type": "code",
   "execution_count": 87,
   "metadata": {},
   "outputs": [
    {
     "name": "stdout",
     "output_type": "stream",
     "text": [
      "+------+------------------+\n",
      "|userID|       listen_time|\n",
      "+------+------------------+\n",
      "|100010| 66940.89735000003|\n",
      "|200002| 94008.87593999993|\n",
      "|   125|2089.1131000000005|\n",
      "|    51| 523275.8428000004|\n",
      "|   124|1012312.0927899999|\n",
      "+------+------------------+\n",
      "only showing top 5 rows\n",
      "\n"
     ]
    }
   ],
   "source": [
    "length_listening = df_valid \\\n",
    "    .select('userID','length') \\\n",
    "    .groupBy('userID') \\\n",
    "    .sum() \\\n",
    "    .withColumnRenamed('sum(length)', 'listen_time')\n",
    "    \n",
    "length_listening.fillna(0)\n",
    "length_listening.show(5)"
   ]
  },
  {
   "cell_type": "markdown",
   "metadata": {},
   "source": [
    "**Feature3: Session Duration(3 Features: Min, Max and Avg)**"
   ]
  },
  {
   "cell_type": "code",
   "execution_count": 53,
   "metadata": {},
   "outputs": [
    {
     "name": "stdout",
     "output_type": "stream",
     "text": [
      "+----------+---------+---------+------+-------------+---------+---------+-----+--------------------+------+-----------+-------------+---------+-------------------+------+-------------+--------------------+------+-----+-------------------+-------------------+----------+-----+\n",
      "|    artist|     auth|firstName|gender|itemInSession| lastName|   length|level|            location|method|       page| registration|sessionId|               song|status|           ts|           userAgent|userId|churn|         event_time|  registration_time|downgraded|phase|\n",
      "+----------+---------+---------+------+-------------+---------+---------+-----+--------------------+------+-----------+-------------+---------+-------------------+------+-------------+--------------------+------+-----+-------------------+-------------------+----------+-----+\n",
      "|      null|Logged In| Darianna|     F|           34|Carpenter|     null| free|Bridgeport-Stamfo...|   PUT|     Logout|1538016340000|      187|               null|   307|1542823952000|\"Mozilla/5.0 (iPh...|100010|false|2018-11-21 18:12:32|2018-09-27 02:45:40|         0|    0|\n",
      "|Lily Allen|Logged In| Darianna|     F|           33|Carpenter|185.25995| free|Bridgeport-Stamfo...|   PUT|   NextSong|1538016340000|      187|                 22|   200|1542823951000|\"Mozilla/5.0 (iPh...|100010|false|2018-11-21 18:12:31|2018-09-27 02:45:40|         0|    0|\n",
      "|John Waite|Logged In| Darianna|     F|           32|Carpenter|269.76608| free|Bridgeport-Stamfo...|   PUT|   NextSong|1538016340000|      187|        Missing You|   200|1542823682000|\"Mozilla/5.0 (iPh...|100010|false|2018-11-21 18:08:02|2018-09-27 02:45:40|         0|    0|\n",
      "|   Hermano|Logged In| Darianna|     F|           31|Carpenter|115.90485| free|Bridgeport-Stamfo...|   PUT|   NextSong|1538016340000|      187|Letters From Madrid|   200|1542823567000|\"Mozilla/5.0 (iPh...|100010|false|2018-11-21 18:06:07|2018-09-27 02:45:40|         0|    0|\n",
      "|      null|Logged In| Darianna|     F|           30|Carpenter|     null| free|Bridgeport-Stamfo...|   GET|Roll Advert|1538016340000|      187|               null|   200|1542823257000|\"Mozilla/5.0 (iPh...|100010|false|2018-11-21 18:00:57|2018-09-27 02:45:40|         0|    0|\n",
      "+----------+---------+---------+------+-------------+---------+---------+-----+--------------------+------+-----------+-------------+---------+-------------------+------+-------------+--------------------+------+-----+-------------------+-------------------+----------+-----+\n",
      "only showing top 5 rows\n",
      "\n"
     ]
    }
   ],
   "source": [
    "df_valid.show(5)"
   ]
  },
  {
   "cell_type": "code",
   "execution_count": 88,
   "metadata": {},
   "outputs": [],
   "source": [
    "user_session_time = df_valid.groupby(\"userId\", \"sessionId\")\\\n",
    "                    .agg(((max(df_valid.ts)-min(df_valid.ts))/(1000*60)).alias(\"sessionTime\"))"
   ]
  },
  {
   "cell_type": "code",
   "execution_count": 89,
   "metadata": {},
   "outputs": [],
   "source": [
    "user_session_time_stat = user_session_time.groupby(\"userId\")\\\n",
    "                        .agg(avg(user_session_time.sessionTime).alias(\"avgSessionTime\"), min(user_session_time.sessionTime).alias(\"minSessionTime\"), max(user_session_time.sessionTime).alias(\"maxSessionTime\"))"
   ]
  },
  {
   "cell_type": "code",
   "execution_count": 90,
   "metadata": {},
   "outputs": [
    {
     "name": "stdout",
     "output_type": "stream",
     "text": [
      "+------+------------------+------------------+------------------+\n",
      "|userId|    avgSessionTime|    minSessionTime|    maxSessionTime|\n",
      "+------+------------------+------------------+------------------+\n",
      "|100010|154.48333333333332|             22.55|             323.0|\n",
      "|200002|266.40000000000003|              12.1|            497.45|\n",
      "|   125|29.566666666666666|29.566666666666666|29.566666666666666|\n",
      "|    51| 872.3566666666666| 67.06666666666666| 2069.383333333333|\n",
      "|   124| 578.9942528735633|               0.0|1770.6166666666666|\n",
      "+------+------------------+------------------+------------------+\n",
      "only showing top 5 rows\n",
      "\n"
     ]
    }
   ],
   "source": [
    "user_session_time_stat.fillna(0)\n",
    "user_session_time_stat.show(5)"
   ]
  },
  {
   "cell_type": "markdown",
   "metadata": {},
   "source": [
    "**Feature4: Number of songs per session**"
   ]
  },
  {
   "cell_type": "code",
   "execution_count": 91,
   "metadata": {},
   "outputs": [],
   "source": [
    "user_session_songs = df_valid.filter(df_valid.page==\"NextSong\")\\\n",
    "                    .groupby(\"userId\", \"sessionId\")\\\n",
    "                    .count()"
   ]
  },
  {
   "cell_type": "code",
   "execution_count": 92,
   "metadata": {},
   "outputs": [],
   "source": [
    "user_session_songs_avg = user_session_songs.groupby(\"userId\")\\\n",
    "                        .agg(avg(user_session_songs[\"count\"]).alias(\"avgSessionSongs\"))\n",
    "                        "
   ]
  },
  {
   "cell_type": "code",
   "execution_count": 93,
   "metadata": {},
   "outputs": [
    {
     "name": "stdout",
     "output_type": "stream",
     "text": [
      "+------+------------------+\n",
      "|userId|   avgSessionSongs|\n",
      "+------+------------------+\n",
      "|100010|39.285714285714285|\n",
      "|200002|              64.5|\n",
      "|   125|               8.0|\n",
      "|    51|             211.1|\n",
      "|   124|145.67857142857142|\n",
      "+------+------------------+\n",
      "only showing top 5 rows\n",
      "\n"
     ]
    }
   ],
   "source": [
    "user_session_songs_avg.fillna(0)\n",
    "user_session_songs_avg.show(5)"
   ]
  },
  {
   "cell_type": "markdown",
   "metadata": {},
   "source": [
    "**Feature5: Total number of sessions**"
   ]
  },
  {
   "cell_type": "code",
   "execution_count": 94,
   "metadata": {},
   "outputs": [],
   "source": [
    "user_session_count = df_valid.select(\"userId\", \"sessionId\")\\\n",
    "                    .dropDuplicates()\\\n",
    "                    .groupby(\"userId\")\\\n",
    "                    .count()\\\n",
    "                    .withColumnRenamed(\"count\", \"sessionCount\")"
   ]
  },
  {
   "cell_type": "code",
   "execution_count": 95,
   "metadata": {},
   "outputs": [
    {
     "name": "stdout",
     "output_type": "stream",
     "text": [
      "+------+------------+\n",
      "|userId|sessionCount|\n",
      "+------+------------+\n",
      "|100010|           7|\n",
      "|200002|           6|\n",
      "|   125|           1|\n",
      "|    51|          10|\n",
      "|   124|          29|\n",
      "+------+------------+\n",
      "only showing top 5 rows\n",
      "\n"
     ]
    }
   ],
   "source": [
    "user_session_count.fillna(0)\n",
    "user_session_count.show(5)"
   ]
  },
  {
   "cell_type": "markdown",
   "metadata": {},
   "source": [
    "**Feature6: Gender(Male or Female)**"
   ]
  },
  {
   "cell_type": "code",
   "execution_count": 97,
   "metadata": {},
   "outputs": [
    {
     "data": {
      "text/plain": [
       "[Row(userId='125', gender=0)]"
      ]
     },
     "execution_count": 97,
     "metadata": {},
     "output_type": "execute_result"
    }
   ],
   "source": [
    "user_gender = df_valid.select(\"userId\", \"gender\")\\\n",
    "            .dropDuplicates()\\\n",
    "            .replace([\"M\", \"F\"], [\"0\", \"1\"], \"gender\")\\\n",
    "            .select(\"userId\", col(\"gender\").cast(\"int\"))\n",
    "\n",
    "user_gender.fillna(0)\n",
    "user_gender.where(\"userId = 125\").collect()\n"
   ]
  },
  {
   "cell_type": "code",
   "execution_count": 63,
   "metadata": {},
   "outputs": [
    {
     "name": "stdout",
     "output_type": "stream",
     "text": [
      "+-------+------------------+-------------------+\n",
      "|summary|            userId|             gender|\n",
      "+-------+------------------+-------------------+\n",
      "|  count|               225|                225|\n",
      "|   mean|65391.013333333336| 0.4622222222222222|\n",
      "| stddev|105396.47791907165|0.49968243883744773|\n",
      "|    min|                10|                  0|\n",
      "|    max|                99|                  1|\n",
      "+-------+------------------+-------------------+\n",
      "\n"
     ]
    }
   ],
   "source": [
    "temp = user_gender.describe().show()"
   ]
  },
  {
   "cell_type": "code",
   "execution_count": 64,
   "metadata": {},
   "outputs": [],
   "source": [
    "#This shows that both males and females are tagged"
   ]
  },
  {
   "cell_type": "markdown",
   "metadata": {},
   "source": [
    "**Feature7: Distinct count of singers**"
   ]
  },
  {
   "cell_type": "code",
   "execution_count": 98,
   "metadata": {},
   "outputs": [],
   "source": [
    "user_singers_count = df_valid \\\n",
    "                    .filter(df_valid.page==\"NextSong\") \\\n",
    "                    .select(\"userId\", \"artist\") \\\n",
    "                    .dropDuplicates() \\\n",
    "                    .groupby(\"userId\") \\\n",
    "                    .count() \\\n",
    "                    .withColumnRenamed(\"count\", \"artist_count\")\n"
   ]
  },
  {
   "cell_type": "code",
   "execution_count": 99,
   "metadata": {},
   "outputs": [
    {
     "name": "stdout",
     "output_type": "stream",
     "text": [
      "+------+------------+\n",
      "|userId|artist_count|\n",
      "+------+------------+\n",
      "|100010|         252|\n",
      "|200002|         339|\n",
      "|   125|           8|\n",
      "|    51|        1385|\n",
      "|   124|        2232|\n",
      "|     7|         142|\n",
      "|    15|        1302|\n",
      "|    54|        1744|\n",
      "|   155|         643|\n",
      "|   132|        1299|\n",
      "|   154|          78|\n",
      "|100014|         233|\n",
      "|   101|        1241|\n",
      "|    11|         534|\n",
      "|   138|        1332|\n",
      "|300017|        2070|\n",
      "|    29|        1804|\n",
      "|    69|         865|\n",
      "|100021|         207|\n",
      "|    42|        2073|\n",
      "+------+------------+\n",
      "only showing top 20 rows\n",
      "\n"
     ]
    }
   ],
   "source": [
    "user_singers_count.fillna(0)\n",
    "user_singers_count.show()"
   ]
  },
  {
   "cell_type": "markdown",
   "metadata": {},
   "source": [
    "**Feature8: Churn**"
   ]
  },
  {
   "cell_type": "code",
   "execution_count": 100,
   "metadata": {},
   "outputs": [],
   "source": [
    "user_churn_label = df_valid \\\n",
    "                    .select(\"userId\", col(\"churn\").cast(\"int\").alias(\"churn_label\")) \\\n",
    "                    .dropDuplicates()"
   ]
  },
  {
   "cell_type": "code",
   "execution_count": 101,
   "metadata": {},
   "outputs": [
    {
     "name": "stdout",
     "output_type": "stream",
     "text": [
      "+-------+------------------+------------------+\n",
      "|summary|            userId|       churn_label|\n",
      "+-------+------------------+------------------+\n",
      "|  count|               225|               225|\n",
      "|   mean|65391.013333333336|0.2311111111111111|\n",
      "| stddev|105396.47791907164|0.4224832108996326|\n",
      "|    min|                10|                 0|\n",
      "|    max|                99|                 1|\n",
      "+-------+------------------+------------------+\n",
      "\n"
     ]
    }
   ],
   "source": [
    "user_churn_label.fillna(0)\n",
    "user_churn_label.describe().show()"
   ]
  },
  {
   "cell_type": "code",
   "execution_count": 102,
   "metadata": {},
   "outputs": [
    {
     "name": "stdout",
     "output_type": "stream",
     "text": [
      "+------+-----------+\n",
      "|userId|churn_label|\n",
      "+------+-----------+\n",
      "|    19|          0|\n",
      "|100005|          1|\n",
      "|200007|          0|\n",
      "|300007|          1|\n",
      "|    50|          0|\n",
      "|200002|          0|\n",
      "|    30|          0|\n",
      "|     8|          0|\n",
      "|100011|          1|\n",
      "|100012|          1|\n",
      "|     4|          0|\n",
      "|    65|          0|\n",
      "|   101|          1|\n",
      "|    13|          0|\n",
      "|   153|          0|\n",
      "|    42|          0|\n",
      "|100014|          1|\n",
      "|    94|          0|\n",
      "|    62|          0|\n",
      "|   114|          0|\n",
      "+------+-----------+\n",
      "only showing top 20 rows\n",
      "\n"
     ]
    }
   ],
   "source": [
    "user_churn_label.show()"
   ]
  },
  {
   "cell_type": "code",
   "execution_count": 103,
   "metadata": {},
   "outputs": [
    {
     "data": {
      "text/plain": [
       "[Row(userId='125', churn_label=1)]"
      ]
     },
     "execution_count": 103,
     "metadata": {},
     "output_type": "execute_result"
    }
   ],
   "source": [
    "user_churn_label.where(\"userId = 125\").collect()"
   ]
  },
  {
   "cell_type": "markdown",
   "metadata": {},
   "source": [
    "**Feature9: Like (Thumbs up/down)**"
   ]
  },
  {
   "cell_type": "code",
   "execution_count": 104,
   "metadata": {},
   "outputs": [
    {
     "name": "stdout",
     "output_type": "stream",
     "text": [
      "+------+------------+\n",
      "|userID|num_thumb_up|\n",
      "+------+------------+\n",
      "|100010|          17|\n",
      "|200002|          21|\n",
      "|    51|         100|\n",
      "|   124|         171|\n",
      "|     7|           7|\n",
      "|    54|         163|\n",
      "|    15|          81|\n",
      "|   155|          58|\n",
      "|   132|          96|\n",
      "|   154|          11|\n",
      "|100014|          17|\n",
      "|   101|          86|\n",
      "|    11|          40|\n",
      "|   138|          95|\n",
      "|300017|         303|\n",
      "|    29|         154|\n",
      "|    69|          72|\n",
      "|100021|          11|\n",
      "|    42|         166|\n",
      "|   112|           9|\n",
      "+------+------------+\n",
      "only showing top 20 rows\n",
      "\n"
     ]
    }
   ],
   "source": [
    "user_thumbs_up = df_valid \\\n",
    "                .select('userID','page') \\\n",
    "                .where(df_valid.page == 'Thumbs Up') \\\n",
    "                .groupBy('userID') \\\n",
    "                .count() \\\n",
    "                .withColumnRenamed('count', 'num_thumb_up') \n",
    "\n",
    "user_thumbs_up.fillna(0)\n",
    "user_thumbs_up.show()\n"
   ]
  },
  {
   "cell_type": "code",
   "execution_count": 105,
   "metadata": {},
   "outputs": [
    {
     "data": {
      "text/plain": [
       "[]"
      ]
     },
     "execution_count": 105,
     "metadata": {},
     "output_type": "execute_result"
    }
   ],
   "source": [
    "user_thumbs_up.where(\"userId = 125\").collect()"
   ]
  },
  {
   "cell_type": "code",
   "execution_count": 106,
   "metadata": {},
   "outputs": [
    {
     "name": "stdout",
     "output_type": "stream",
     "text": [
      "+------+------------+\n",
      "|userID|num_thumb_up|\n",
      "+------+------------+\n",
      "|100010|          17|\n",
      "|200002|          21|\n",
      "|    51|         100|\n",
      "|   124|         171|\n",
      "|     7|           7|\n",
      "|    54|         163|\n",
      "|    15|          81|\n",
      "|   155|          58|\n",
      "|   132|          96|\n",
      "|   154|          11|\n",
      "|100014|          17|\n",
      "|   101|          86|\n",
      "|    11|          40|\n",
      "|   138|          95|\n",
      "|300017|         303|\n",
      "|    29|         154|\n",
      "|    69|          72|\n",
      "|100021|          11|\n",
      "|    42|         166|\n",
      "|   112|           9|\n",
      "+------+------------+\n",
      "only showing top 20 rows\n",
      "\n"
     ]
    }
   ],
   "source": [
    "user_thumbs_down = df_valid \\\n",
    "                   .select('userID','page') \\\n",
    "                   .where(df_valid.page == 'Thumbs Down') \\\n",
    "                   .groupBy('userID') \\\n",
    "                   .count() \\\n",
    "                   .withColumnRenamed('count', 'num_thumb_down')\n",
    "\n",
    "user_thumbs_down.fillna(0)\n",
    "user_thumbs_up.show()"
   ]
  },
  {
   "cell_type": "code",
   "execution_count": 107,
   "metadata": {},
   "outputs": [
    {
     "data": {
      "text/plain": [
       "[]"
      ]
     },
     "execution_count": 107,
     "metadata": {},
     "output_type": "execute_result"
    }
   ],
   "source": [
    "user_thumbs_down.where(\"userId = 125\").collect()"
   ]
  },
  {
   "cell_type": "markdown",
   "metadata": {},
   "source": [
    "**Feature10: Paid or Free user**"
   ]
  },
  {
   "cell_type": "code",
   "execution_count": 71,
   "metadata": {},
   "outputs": [
    {
     "data": {
      "text/plain": [
       "Row(artist=None, auth='Logged In', firstName='Darianna', gender='F', itemInSession=34, lastName='Carpenter', length=None, level='free', location='Bridgeport-Stamford-Norwalk, CT', method='PUT', page='Logout', registration=1538016340000, sessionId=187, song=None, status=307, ts=1542823952000, userAgent='\"Mozilla/5.0 (iPhone; CPU iPhone OS 7_1_2 like Mac OS X) AppleWebKit/537.51.2 (KHTML, like Gecko) Version/7.0 Mobile/11D257 Safari/9537.53\"', userId='100010', churn=False, event_time='2018-11-21 18:12:32', registration_time='2018-09-27 02:45:40', downgraded=0, phase=0)"
      ]
     },
     "execution_count": 71,
     "metadata": {},
     "output_type": "execute_result"
    }
   ],
   "source": [
    "df_valid.head()"
   ]
  },
  {
   "cell_type": "code",
   "execution_count": 108,
   "metadata": {},
   "outputs": [],
   "source": [
    "user_paid = df_valid.groupby(\"userId\", \"level\")\\\n",
    "                    .agg(max(df_valid.ts).alias(\"finalTime\"))\n",
    "                    \n",
    "\n"
   ]
  },
  {
   "cell_type": "code",
   "execution_count": 109,
   "metadata": {},
   "outputs": [],
   "source": [
    "user_recent_level_time = user_paid.groupby(\"userId\")\\\n",
    "                                  .agg(max(user_paid.finalTime).alias(\"recent\"))\n",
    "\n",
    "user_paid_free = user_recent_level_time.join(user_paid, [user_paid.userId == user_recent_level_time.userId, user_recent_level_time.recent == user_paid.finalTime])\\\n",
    "                                          .select(user_paid.userId, \"level\")\\\n",
    "                                          .replace([\"free\", \"paid\"], [\"0\", \"1\"], \"level\")\\\n",
    "                                          .select(\"userId\", col(\"level\").cast(\"int\"))\n",
    "\n",
    " \n"
   ]
  },
  {
   "cell_type": "code",
   "execution_count": 110,
   "metadata": {},
   "outputs": [
    {
     "name": "stdout",
     "output_type": "stream",
     "text": [
      "+------+-----+\n",
      "|userId|level|\n",
      "+------+-----+\n",
      "|200008|    1|\n",
      "|    96|    1|\n",
      "|200002|    1|\n",
      "|    49|    1|\n",
      "|    68|    0|\n",
      "+------+-----+\n",
      "only showing top 5 rows\n",
      "\n"
     ]
    }
   ],
   "source": [
    "user_paid_free.show(5)"
   ]
  },
  {
   "cell_type": "code",
   "execution_count": 111,
   "metadata": {},
   "outputs": [
    {
     "data": {
      "text/plain": [
       "[Row(userId='125', level=0)]"
      ]
     },
     "execution_count": 111,
     "metadata": {},
     "output_type": "execute_result"
    }
   ],
   "source": [
    "user_paid_free.where(\"userId = 125\").collect()"
   ]
  },
  {
   "cell_type": "markdown",
   "metadata": {},
   "source": [
    "**Feature11: Number of songs added to Playlist**"
   ]
  },
  {
   "cell_type": "code",
   "execution_count": 112,
   "metadata": {},
   "outputs": [],
   "source": [
    "user_songs_playlist = df_valid \\\n",
    "                    .select('userID','page') \\\n",
    "                    .where(df_valid.page == 'Add to Playlist') \\\n",
    "                    .groupBy('userID') \\\n",
    "                    .count() \\\n",
    "                    .withColumnRenamed('count', 'add_to_playlist')\n"
   ]
  },
  {
   "cell_type": "code",
   "execution_count": 113,
   "metadata": {},
   "outputs": [
    {
     "name": "stdout",
     "output_type": "stream",
     "text": [
      "+------+---------------+\n",
      "|userID|add_to_playlist|\n",
      "+------+---------------+\n",
      "|100010|              7|\n",
      "|200002|              8|\n",
      "|    51|             52|\n",
      "|   124|            118|\n",
      "|     7|              5|\n",
      "|    15|             59|\n",
      "|    54|             72|\n",
      "|   155|             24|\n",
      "|   132|             38|\n",
      "|   154|              1|\n",
      "|100014|              7|\n",
      "|   101|             61|\n",
      "|    11|             20|\n",
      "|   138|             67|\n",
      "|300017|            113|\n",
      "|    29|             89|\n",
      "|    69|             33|\n",
      "|100021|              7|\n",
      "|    42|            104|\n",
      "|   112|              7|\n",
      "+------+---------------+\n",
      "only showing top 20 rows\n",
      "\n"
     ]
    }
   ],
   "source": [
    "user_songs_playlist.fillna(0)\n",
    "user_songs_playlist.show()"
   ]
  },
  {
   "cell_type": "code",
   "execution_count": 114,
   "metadata": {},
   "outputs": [
    {
     "data": {
      "text/plain": [
       "[]"
      ]
     },
     "execution_count": 114,
     "metadata": {},
     "output_type": "execute_result"
    }
   ],
   "source": [
    "user_songs_playlist.where(\"userId = 125\").collect()"
   ]
  },
  {
   "cell_type": "markdown",
   "metadata": {},
   "source": [
    "**Feature12: Number of friends added**"
   ]
  },
  {
   "cell_type": "code",
   "execution_count": 115,
   "metadata": {},
   "outputs": [
    {
     "data": {
      "text/plain": [
       "DataFrame[userID: string, add_friend: bigint]"
      ]
     },
     "execution_count": 115,
     "metadata": {},
     "output_type": "execute_result"
    }
   ],
   "source": [
    "user_no_of_friends = df_valid \\\n",
    "                    .select('userID','page') \\\n",
    "                    .where(df_valid.page == 'Add Friend') \\\n",
    "                    .groupBy('userID') \\\n",
    "                    .count() \\\n",
    "                    .withColumnRenamed('count', 'add_friend') \n",
    "user_no_of_friends.fillna(0)"
   ]
  },
  {
   "cell_type": "code",
   "execution_count": 116,
   "metadata": {},
   "outputs": [
    {
     "name": "stdout",
     "output_type": "stream",
     "text": [
      "+------+----------+\n",
      "|userID|add_friend|\n",
      "+------+----------+\n",
      "|100010|         4|\n",
      "|200002|         4|\n",
      "|    51|        28|\n",
      "|   124|        74|\n",
      "|     7|         1|\n",
      "|    54|        33|\n",
      "|    15|        31|\n",
      "|   155|        11|\n",
      "|   132|        41|\n",
      "|   154|         3|\n",
      "|100014|         6|\n",
      "|   101|        29|\n",
      "|    11|         6|\n",
      "|   138|        41|\n",
      "|300017|        63|\n",
      "|    29|        47|\n",
      "|    69|        12|\n",
      "|100021|         7|\n",
      "|    42|        52|\n",
      "|   112|         7|\n",
      "+------+----------+\n",
      "only showing top 20 rows\n",
      "\n"
     ]
    }
   ],
   "source": [
    "user_no_of_friends.show()"
   ]
  },
  {
   "cell_type": "code",
   "execution_count": 117,
   "metadata": {},
   "outputs": [
    {
     "data": {
      "text/plain": [
       "[]"
      ]
     },
     "execution_count": 117,
     "metadata": {},
     "output_type": "execute_result"
    }
   ],
   "source": [
    "user_no_of_friends.where(\"userId = 125\").collect()"
   ]
  },
  {
   "cell_type": "markdown",
   "metadata": {},
   "source": [
    "#### Merging all features"
   ]
  },
  {
   "cell_type": "code",
   "execution_count": 113,
   "metadata": {},
   "outputs": [
    {
     "name": "stdout",
     "output_type": "stream",
     "text": [
      "+------+------------------+------------------+\n",
      "|userId|            regDay|       listen_time|\n",
      "+------+------------------+------------------+\n",
      "|100010| 55.64365740740741| 66940.89735000003|\n",
      "|200002| 70.07462962962963| 94008.87593999993|\n",
      "|   125| 71.31688657407408|2089.1131000000005|\n",
      "|   124|131.55591435185184|1012312.0927899999|\n",
      "|    51|19.455844907407407| 523275.8428000004|\n",
      "+------+------------------+------------------+\n",
      "only showing top 5 rows\n",
      "\n"
     ]
    }
   ],
   "source": [
    "\n",
    "\n",
    "df_temp = user_reg_days.join(length_listening,'userID','outer') \\\n",
    "                       .fillna(0)\n",
    "\n",
    "df_temp.show(5)\n",
    "\n",
    "\n",
    "# This code works"
   ]
  },
  {
   "cell_type": "code",
   "execution_count": 114,
   "metadata": {},
   "outputs": [
    {
     "name": "stdout",
     "output_type": "stream",
     "text": [
      "+------+------------------+------------------+------------------+------------------+------------------+\n",
      "|userId|            regDay|       listen_time|    avgSessionTime|    minSessionTime|    maxSessionTime|\n",
      "+------+------------------+------------------+------------------+------------------+------------------+\n",
      "|100010| 55.64365740740741| 66940.89735000003|154.48333333333332|             22.55|             323.0|\n",
      "|200002| 70.07462962962963| 94008.87593999993|266.40000000000003|              12.1|            497.45|\n",
      "|   125| 71.31688657407408|2089.1131000000005|29.566666666666666|29.566666666666666|29.566666666666666|\n",
      "|   124|131.55591435185184|1012312.0927899999| 578.9942528735633|               0.0|1770.6166666666666|\n",
      "|    51|19.455844907407407| 523275.8428000004| 872.3566666666666| 67.06666666666666| 2069.383333333333|\n",
      "+------+------------------+------------------+------------------+------------------+------------------+\n",
      "only showing top 5 rows\n",
      "\n"
     ]
    }
   ],
   "source": [
    "df_temp2 = df_temp.join(user_session_time_stat,'userID','outer') \\\n",
    "                       .fillna(0)\n",
    "\n",
    "df_temp2.show(5)"
   ]
  },
  {
   "cell_type": "code",
   "execution_count": 115,
   "metadata": {},
   "outputs": [
    {
     "name": "stdout",
     "output_type": "stream",
     "text": [
      "+------+------------------+------------------+------------------+------------------+------------------+------------------+\n",
      "|userId|            regDay|       listen_time|    avgSessionTime|    minSessionTime|    maxSessionTime|   avgSessionSongs|\n",
      "+------+------------------+------------------+------------------+------------------+------------------+------------------+\n",
      "|100010| 55.64365740740741| 66940.89735000003|154.48333333333332|             22.55|             323.0|39.285714285714285|\n",
      "|200002| 70.07462962962963| 94008.87593999993|266.40000000000003|              12.1|            497.45|              64.5|\n",
      "|   125| 71.31688657407408|2089.1131000000005|29.566666666666666|29.566666666666666|29.566666666666666|               8.0|\n",
      "|   124|131.55591435185184|1012312.0927899999| 578.9942528735633|               0.0|1770.6166666666666|145.67857142857142|\n",
      "|    51|19.455844907407407| 523275.8428000004| 872.3566666666666| 67.06666666666666| 2069.383333333333|             211.1|\n",
      "+------+------------------+------------------+------------------+------------------+------------------+------------------+\n",
      "only showing top 5 rows\n",
      "\n"
     ]
    }
   ],
   "source": [
    "df_temp3 = df_temp2.join(user_session_songs_avg,'userID','outer') \\\n",
    "                       .fillna(0)\n",
    "\n",
    "df_temp3.show(5)"
   ]
  },
  {
   "cell_type": "code",
   "execution_count": 116,
   "metadata": {},
   "outputs": [
    {
     "name": "stdout",
     "output_type": "stream",
     "text": [
      "+------+------------------+------------------+------------------+------------------+------------------+------------------+------------+\n",
      "|userId|            regDay|       listen_time|    avgSessionTime|    minSessionTime|    maxSessionTime|   avgSessionSongs|sessionCount|\n",
      "+------+------------------+------------------+------------------+------------------+------------------+------------------+------------+\n",
      "|100010| 55.64365740740741| 66940.89735000003|154.48333333333332|             22.55|             323.0|39.285714285714285|           7|\n",
      "|200002| 70.07462962962963| 94008.87593999993|266.40000000000003|              12.1|            497.45|              64.5|           6|\n",
      "|   125| 71.31688657407408|2089.1131000000005|29.566666666666666|29.566666666666666|29.566666666666666|               8.0|           1|\n",
      "|   124|131.55591435185184|1012312.0927899999| 578.9942528735633|               0.0|1770.6166666666666|145.67857142857142|          29|\n",
      "|    51|19.455844907407407| 523275.8428000004| 872.3566666666666| 67.06666666666666| 2069.383333333333|             211.1|          10|\n",
      "+------+------------------+------------------+------------------+------------------+------------------+------------------+------------+\n",
      "only showing top 5 rows\n",
      "\n"
     ]
    }
   ],
   "source": [
    "df_temp4 = df_temp3.join(user_session_count,'userID','outer') \\\n",
    "                       .fillna(0)\n",
    "\n",
    "df_temp4.show(5)"
   ]
  },
  {
   "cell_type": "code",
   "execution_count": 117,
   "metadata": {},
   "outputs": [
    {
     "name": "stdout",
     "output_type": "stream",
     "text": [
      "+------+------------------+------------------+------------------+------------------+------------------+------------------+------------+------+\n",
      "|userId|            regDay|       listen_time|    avgSessionTime|    minSessionTime|    maxSessionTime|   avgSessionSongs|sessionCount|gender|\n",
      "+------+------------------+------------------+------------------+------------------+------------------+------------------+------------+------+\n",
      "|100010| 55.64365740740741| 66940.89735000003|154.48333333333332|             22.55|             323.0|39.285714285714285|           7|     1|\n",
      "|200002| 70.07462962962963| 94008.87593999993|266.40000000000003|              12.1|            497.45|              64.5|           6|     0|\n",
      "|   125| 71.31688657407408|2089.1131000000005|29.566666666666666|29.566666666666666|29.566666666666666|               8.0|           1|     0|\n",
      "|   124|131.55591435185184|1012312.0927899999| 578.9942528735633|               0.0|1770.6166666666666|145.67857142857142|          29|     1|\n",
      "|    51|19.455844907407407| 523275.8428000004| 872.3566666666666| 67.06666666666666| 2069.383333333333|             211.1|          10|     0|\n",
      "+------+------------------+------------------+------------------+------------------+------------------+------------------+------------+------+\n",
      "only showing top 5 rows\n",
      "\n"
     ]
    }
   ],
   "source": [
    "df_temp5 = df_temp4.join(user_gender,'userID','outer') \\\n",
    "                       .fillna(0)\n",
    "\n",
    "df_temp5.show(5)"
   ]
  },
  {
   "cell_type": "code",
   "execution_count": 118,
   "metadata": {},
   "outputs": [
    {
     "name": "stdout",
     "output_type": "stream",
     "text": [
      "+------+------------------+------------------+------------------+------------------+------------------+------------------+------------+------+------------+\n",
      "|userId|            regDay|       listen_time|    avgSessionTime|    minSessionTime|    maxSessionTime|   avgSessionSongs|sessionCount|gender|artist_count|\n",
      "+------+------------------+------------------+------------------+------------------+------------------+------------------+------------+------+------------+\n",
      "|100010| 55.64365740740741| 66940.89735000003|154.48333333333332|             22.55|             323.0|39.285714285714285|           7|     1|         252|\n",
      "|200002| 70.07462962962963| 94008.87593999993|266.40000000000003|              12.1|            497.45|              64.5|           6|     0|         339|\n",
      "|   125| 71.31688657407408|2089.1131000000005|29.566666666666666|29.566666666666666|29.566666666666666|               8.0|           1|     0|           8|\n",
      "|   124|131.55591435185184|1012312.0927899999| 578.9942528735633|               0.0|1770.6166666666666|145.67857142857142|          29|     1|        2232|\n",
      "|    51|19.455844907407407| 523275.8428000004| 872.3566666666666| 67.06666666666666| 2069.383333333333|             211.1|          10|     0|        1385|\n",
      "|     7| 72.77818287037037| 38034.08710000002| 87.64047619047619| 4.066666666666666|             311.3|21.428571428571427|           7|     0|         142|\n",
      "|    15|56.513576388888886|477307.60581000015| 528.2833333333333|               0.0|1455.5666666666666|136.71428571428572|          15|     0|        1302|\n",
      "|    54|110.75168981481481| 711344.9195400011|322.28963963963963|               0.0|            2043.2| 81.17142857142858|          37|     1|        1744|\n",
      "|   155|23.556018518518517|       198779.2919| 548.5722222222222|127.63333333333334|1100.0833333333333|136.66666666666666|           6|     1|         643|\n",
      "|100014| 85.08340277777778| 67703.47208000004| 184.8138888888889|              3.45|            281.75|42.833333333333336|           6|     0|         233|\n",
      "|   132|  66.8891087962963| 483118.9038399997|498.95104166666675| 8.533333333333333|1896.8833333333334|             120.5|          16|     1|        1299|\n",
      "|   154|23.872037037037035|20660.023910000007|110.68333333333332|             68.55|             168.1|              28.0|           3|     1|          78|\n",
      "|   101|        53.9659375| 447464.0146699989| 817.5800000000002|             23.85| 3300.016666666667|             179.7|          10|     0|        1241|\n",
      "|    11|124.47825231481481|159669.96303999983|161.37708333333333|             19.55|             688.5|           40.4375|          16|     1|         534|\n",
      "|   138| 66.62668981481481| 512449.8827599989| 564.2266666666667|21.716666666666665|2386.4166666666665|             138.0|          15|     0|        1332|\n",
      "|300017| 74.35851851851852| 897406.9802100015|233.32407407407405|               0.0| 987.1666666666666|59.540983606557376|          63|     1|        2070|\n",
      "|100021| 64.73886574074074| 57633.17563999999| 215.2266666666667|              30.4| 605.1833333333333|              46.0|           5|     0|         207|\n",
      "|    29|60.104050925925925| 754517.5625700009| 365.7568627450981|               8.1|2167.7833333333333| 89.05882352941177|          34|     0|        1804|\n",
      "|    69| 71.42444444444445| 286064.0256399999| 526.6851851851852|11.483333333333333|1263.7833333333333|             125.0|           9|     1|         865|\n",
      "|   112| 87.46262731481481| 53062.74659000002| 84.45166666666667|               0.0|319.68333333333334| 23.88888888888889|          10|     0|         195|\n",
      "+------+------------------+------------------+------------------+------------------+------------------+------------------+------------+------+------------+\n",
      "only showing top 20 rows\n",
      "\n"
     ]
    }
   ],
   "source": [
    "df_temp6 = df_temp5.join(user_singers_count,'userID','outer') \\\n",
    "                       .fillna(0)\n",
    "\n",
    "df_temp6.show()"
   ]
  },
  {
   "cell_type": "code",
   "execution_count": 119,
   "metadata": {},
   "outputs": [
    {
     "name": "stdout",
     "output_type": "stream",
     "text": [
      "+------+------------------+------------------+------------------+------------------+------------------+------------------+------------+------+------------+-----------+\n",
      "|userId|            regDay|       listen_time|    avgSessionTime|    minSessionTime|    maxSessionTime|   avgSessionSongs|sessionCount|gender|artist_count|churn_label|\n",
      "+------+------------------+------------------+------------------+------------------+------------------+------------------+------------+------+------------+-----------+\n",
      "|100010| 55.64365740740741| 66940.89735000003|154.48333333333332|             22.55|             323.0|39.285714285714285|           7|     1|         252|          0|\n",
      "|200002| 70.07462962962963| 94008.87593999993|266.40000000000003|              12.1|            497.45|              64.5|           6|     0|         339|          0|\n",
      "|   125| 71.31688657407408|2089.1131000000005|29.566666666666666|29.566666666666666|29.566666666666666|               8.0|           1|     0|           8|          1|\n",
      "|   124|131.55591435185184|1012312.0927899999| 578.9942528735633|               0.0|1770.6166666666666|145.67857142857142|          29|     1|        2232|          0|\n",
      "|    51|19.455844907407407| 523275.8428000004| 872.3566666666666| 67.06666666666666| 2069.383333333333|             211.1|          10|     0|        1385|          1|\n",
      "|     7| 72.77818287037037| 38034.08710000002| 87.64047619047619| 4.066666666666666|             311.3|21.428571428571427|           7|     0|         142|          0|\n",
      "|    15|56.513576388888886|477307.60581000015| 528.2833333333333|               0.0|1455.5666666666666|136.71428571428572|          15|     0|        1302|          0|\n",
      "|    54|110.75168981481481| 711344.9195400011|322.28963963963963|               0.0|            2043.2| 81.17142857142858|          37|     1|        1744|          1|\n",
      "|   155|23.556018518518517|       198779.2919| 548.5722222222222|127.63333333333334|1100.0833333333333|136.66666666666666|           6|     1|         643|          0|\n",
      "|100014| 85.08340277777778| 67703.47208000004| 184.8138888888889|              3.45|            281.75|42.833333333333336|           6|     0|         233|          1|\n",
      "|   132|  66.8891087962963| 483118.9038399997|498.95104166666675| 8.533333333333333|1896.8833333333334|             120.5|          16|     1|        1299|          0|\n",
      "|   154|23.872037037037035|20660.023910000007|110.68333333333332|             68.55|             168.1|              28.0|           3|     1|          78|          0|\n",
      "|   101|        53.9659375| 447464.0146699989| 817.5800000000002|             23.85| 3300.016666666667|             179.7|          10|     0|        1241|          1|\n",
      "|    11|124.47825231481481|159669.96303999983|161.37708333333333|             19.55|             688.5|           40.4375|          16|     1|         534|          0|\n",
      "|   138| 66.62668981481481| 512449.8827599989| 564.2266666666667|21.716666666666665|2386.4166666666665|             138.0|          15|     0|        1332|          0|\n",
      "|300017| 74.35851851851852| 897406.9802100015|233.32407407407405|               0.0| 987.1666666666666|59.540983606557376|          63|     1|        2070|          0|\n",
      "|100021| 64.73886574074074| 57633.17563999999| 215.2266666666667|              30.4| 605.1833333333333|              46.0|           5|     0|         207|          1|\n",
      "|    29|60.104050925925925| 754517.5625700009| 365.7568627450981|               8.1|2167.7833333333333| 89.05882352941177|          34|     0|        1804|          1|\n",
      "|    69| 71.42444444444445| 286064.0256399999| 526.6851851851852|11.483333333333333|1263.7833333333333|             125.0|           9|     1|         865|          0|\n",
      "|   112| 87.46262731481481| 53062.74659000002| 84.45166666666667|               0.0|319.68333333333334| 23.88888888888889|          10|     0|         195|          0|\n",
      "+------+------------------+------------------+------------------+------------------+------------------+------------------+------------+------+------------+-----------+\n",
      "only showing top 20 rows\n",
      "\n"
     ]
    }
   ],
   "source": [
    "df_temp7 = df_temp6.join(user_churn_label,'userID','outer') \\\n",
    "                       .fillna(0)\n",
    "\n",
    "df_temp7.show()"
   ]
  },
  {
   "cell_type": "code",
   "execution_count": 120,
   "metadata": {},
   "outputs": [
    {
     "name": "stdout",
     "output_type": "stream",
     "text": [
      "+------+------------------+------------------+------------------+------------------+------------------+------------------+------------+------+------------+-----------+------------+\n",
      "|userId|            regDay|       listen_time|    avgSessionTime|    minSessionTime|    maxSessionTime|   avgSessionSongs|sessionCount|gender|artist_count|churn_label|num_thumb_up|\n",
      "+------+------------------+------------------+------------------+------------------+------------------+------------------+------------+------+------------+-----------+------------+\n",
      "|100010| 55.64365740740741| 66940.89735000003|154.48333333333332|             22.55|             323.0|39.285714285714285|           7|     1|         252|          0|          17|\n",
      "|200002| 70.07462962962963| 94008.87593999993|266.40000000000003|              12.1|            497.45|              64.5|           6|     0|         339|          0|          21|\n",
      "|   125| 71.31688657407408|2089.1131000000005|29.566666666666666|29.566666666666666|29.566666666666666|               8.0|           1|     0|           8|          1|           0|\n",
      "|   124|131.55591435185184|1012312.0927899999| 578.9942528735633|               0.0|1770.6166666666666|145.67857142857142|          29|     1|        2232|          0|         171|\n",
      "|    51|19.455844907407407| 523275.8428000004| 872.3566666666666| 67.06666666666666| 2069.383333333333|             211.1|          10|     0|        1385|          1|         100|\n",
      "|     7| 72.77818287037037| 38034.08710000002| 87.64047619047619| 4.066666666666666|             311.3|21.428571428571427|           7|     0|         142|          0|           7|\n",
      "|    15|56.513576388888886|477307.60581000015| 528.2833333333333|               0.0|1455.5666666666666|136.71428571428572|          15|     0|        1302|          0|          81|\n",
      "|    54|110.75168981481481| 711344.9195400011|322.28963963963963|               0.0|            2043.2| 81.17142857142858|          37|     1|        1744|          1|         163|\n",
      "|   155|23.556018518518517|       198779.2919| 548.5722222222222|127.63333333333334|1100.0833333333333|136.66666666666666|           6|     1|         643|          0|          58|\n",
      "|100014| 85.08340277777778| 67703.47208000004| 184.8138888888889|              3.45|            281.75|42.833333333333336|           6|     0|         233|          1|          17|\n",
      "|   132|  66.8891087962963| 483118.9038399997|498.95104166666675| 8.533333333333333|1896.8833333333334|             120.5|          16|     1|        1299|          0|          96|\n",
      "|   154|23.872037037037035|20660.023910000007|110.68333333333332|             68.55|             168.1|              28.0|           3|     1|          78|          0|          11|\n",
      "|   101|        53.9659375| 447464.0146699989| 817.5800000000002|             23.85| 3300.016666666667|             179.7|          10|     0|        1241|          1|          86|\n",
      "|    11|124.47825231481481|159669.96303999983|161.37708333333333|             19.55|             688.5|           40.4375|          16|     1|         534|          0|          40|\n",
      "|   138| 66.62668981481481| 512449.8827599989| 564.2266666666667|21.716666666666665|2386.4166666666665|             138.0|          15|     0|        1332|          0|          95|\n",
      "|300017| 74.35851851851852| 897406.9802100015|233.32407407407405|               0.0| 987.1666666666666|59.540983606557376|          63|     1|        2070|          0|         303|\n",
      "|100021| 64.73886574074074| 57633.17563999999| 215.2266666666667|              30.4| 605.1833333333333|              46.0|           5|     0|         207|          1|          11|\n",
      "|    29|60.104050925925925| 754517.5625700009| 365.7568627450981|               8.1|2167.7833333333333| 89.05882352941177|          34|     0|        1804|          1|         154|\n",
      "|    69| 71.42444444444445| 286064.0256399999| 526.6851851851852|11.483333333333333|1263.7833333333333|             125.0|           9|     1|         865|          0|          72|\n",
      "|   112| 87.46262731481481| 53062.74659000002| 84.45166666666667|               0.0|319.68333333333334| 23.88888888888889|          10|     0|         195|          0|           9|\n",
      "+------+------------------+------------------+------------------+------------------+------------------+------------------+------------+------+------------+-----------+------------+\n",
      "only showing top 20 rows\n",
      "\n"
     ]
    }
   ],
   "source": [
    "df_temp8 = df_temp7.join(user_thumbs_up,'userID','outer') \\\n",
    "                       .fillna(0)\n",
    "\n",
    "df_temp8.show()"
   ]
  },
  {
   "cell_type": "code",
   "execution_count": 121,
   "metadata": {},
   "outputs": [
    {
     "name": "stdout",
     "output_type": "stream",
     "text": [
      "+------+------------------+------------------+------------------+------------------+------------------+------------------+------------+------+------------+-----------+------------+--------------+\n",
      "|userId|            regDay|       listen_time|    avgSessionTime|    minSessionTime|    maxSessionTime|   avgSessionSongs|sessionCount|gender|artist_count|churn_label|num_thumb_up|num_thumb_down|\n",
      "+------+------------------+------------------+------------------+------------------+------------------+------------------+------------+------+------------+-----------+------------+--------------+\n",
      "|100010| 55.64365740740741| 66940.89735000003|154.48333333333332|             22.55|             323.0|39.285714285714285|           7|     1|         252|          0|          17|             5|\n",
      "|200002| 70.07462962962963| 94008.87593999993|266.40000000000003|              12.1|            497.45|              64.5|           6|     0|         339|          0|          21|             6|\n",
      "|   125| 71.31688657407408|2089.1131000000005|29.566666666666666|29.566666666666666|29.566666666666666|               8.0|           1|     0|           8|          1|           0|             0|\n",
      "|   124|131.55591435185184|1012312.0927899999| 578.9942528735633|               0.0|1770.6166666666666|145.67857142857142|          29|     1|        2232|          0|         171|            41|\n",
      "|    51|19.455844907407407| 523275.8428000004| 872.3566666666666| 67.06666666666666| 2069.383333333333|             211.1|          10|     0|        1385|          1|         100|            21|\n",
      "|     7| 72.77818287037037| 38034.08710000002| 87.64047619047619| 4.066666666666666|             311.3|21.428571428571427|           7|     0|         142|          0|           7|             1|\n",
      "|    15|56.513576388888886|477307.60581000015| 528.2833333333333|               0.0|1455.5666666666666|136.71428571428572|          15|     0|        1302|          0|          81|            14|\n",
      "|    54|110.75168981481481| 711344.9195400011|322.28963963963963|               0.0|            2043.2| 81.17142857142858|          37|     1|        1744|          1|         163|            29|\n",
      "|   155|23.556018518518517|       198779.2919| 548.5722222222222|127.63333333333334|1100.0833333333333|136.66666666666666|           6|     1|         643|          0|          58|             3|\n",
      "|100014| 85.08340277777778| 67703.47208000004| 184.8138888888889|              3.45|            281.75|42.833333333333336|           6|     0|         233|          1|          17|             3|\n",
      "|   132|  66.8891087962963| 483118.9038399997|498.95104166666675| 8.533333333333333|1896.8833333333334|             120.5|          16|     1|        1299|          0|          96|            17|\n",
      "|   154|23.872037037037035|20660.023910000007|110.68333333333332|             68.55|             168.1|              28.0|           3|     1|          78|          0|          11|             0|\n",
      "|   101|        53.9659375| 447464.0146699989| 817.5800000000002|             23.85| 3300.016666666667|             179.7|          10|     0|        1241|          1|          86|            16|\n",
      "|    11|124.47825231481481|159669.96303999983|161.37708333333333|             19.55|             688.5|           40.4375|          16|     1|         534|          0|          40|             9|\n",
      "|   138| 66.62668981481481| 512449.8827599989| 564.2266666666667|21.716666666666665|2386.4166666666665|             138.0|          15|     0|        1332|          0|          95|            24|\n",
      "|300017| 74.35851851851852| 897406.9802100015|233.32407407407405|               0.0| 987.1666666666666|59.540983606557376|          63|     1|        2070|          0|         303|            28|\n",
      "|100021| 64.73886574074074| 57633.17563999999| 215.2266666666667|              30.4| 605.1833333333333|              46.0|           5|     0|         207|          1|          11|             5|\n",
      "|    29|60.104050925925925| 754517.5625700009| 365.7568627450981|               8.1|2167.7833333333333| 89.05882352941177|          34|     0|        1804|          1|         154|            22|\n",
      "|    69| 71.42444444444445| 286064.0256399999| 526.6851851851852|11.483333333333333|1263.7833333333333|             125.0|           9|     1|         865|          0|          72|             9|\n",
      "|   112| 87.46262731481481| 53062.74659000002| 84.45166666666667|               0.0|319.68333333333334| 23.88888888888889|          10|     0|         195|          0|           9|             3|\n",
      "+------+------------------+------------------+------------------+------------------+------------------+------------------+------------+------+------------+-----------+------------+--------------+\n",
      "only showing top 20 rows\n",
      "\n"
     ]
    }
   ],
   "source": [
    "df_temp9 = df_temp8.join(user_thumbs_down,'userID','outer') \\\n",
    "                       .fillna(0)\n",
    "\n",
    "df_temp9.show()"
   ]
  },
  {
   "cell_type": "code",
   "execution_count": 122,
   "metadata": {},
   "outputs": [
    {
     "name": "stdout",
     "output_type": "stream",
     "text": [
      "+------+------------------+------------------+------------------+------------------+------------------+------------------+------------+------+------------+-----------+------------+--------------+-----+\n",
      "|userId|            regDay|       listen_time|    avgSessionTime|    minSessionTime|    maxSessionTime|   avgSessionSongs|sessionCount|gender|artist_count|churn_label|num_thumb_up|num_thumb_down|level|\n",
      "+------+------------------+------------------+------------------+------------------+------------------+------------------+------------+------+------------+-----------+------------+--------------+-----+\n",
      "|100010| 55.64365740740741| 66940.89735000003|154.48333333333332|             22.55|             323.0|39.285714285714285|           7|     1|         252|          0|          17|             5|    0|\n",
      "|200002| 70.07462962962963| 94008.87593999993|266.40000000000003|              12.1|            497.45|              64.5|           6|     0|         339|          0|          21|             6|    1|\n",
      "|   125| 71.31688657407408|2089.1131000000005|29.566666666666666|29.566666666666666|29.566666666666666|               8.0|           1|     0|           8|          1|           0|             0|    0|\n",
      "|   124|131.55591435185184|1012312.0927899999| 578.9942528735633|               0.0|1770.6166666666666|145.67857142857142|          29|     1|        2232|          0|         171|            41|    1|\n",
      "|    51|19.455844907407407| 523275.8428000004| 872.3566666666666| 67.06666666666666| 2069.383333333333|             211.1|          10|     0|        1385|          1|         100|            21|    1|\n",
      "|     7| 72.77818287037037| 38034.08710000002| 87.64047619047619| 4.066666666666666|             311.3|21.428571428571427|           7|     0|         142|          0|           7|             1|    0|\n",
      "|    15|56.513576388888886|477307.60581000015| 528.2833333333333|               0.0|1455.5666666666666|136.71428571428572|          15|     0|        1302|          0|          81|            14|    1|\n",
      "|    54|110.75168981481481| 711344.9195400011|322.28963963963963|               0.0|            2043.2| 81.17142857142858|          37|     1|        1744|          1|         163|            29|    1|\n",
      "|   155|23.556018518518517|       198779.2919| 548.5722222222222|127.63333333333334|1100.0833333333333|136.66666666666666|           6|     1|         643|          0|          58|             3|    1|\n",
      "|100014| 85.08340277777778| 67703.47208000004| 184.8138888888889|              3.45|            281.75|42.833333333333336|           6|     0|         233|          1|          17|             3|    1|\n",
      "|   132|  66.8891087962963| 483118.9038399997|498.95104166666675| 8.533333333333333|1896.8833333333334|             120.5|          16|     1|        1299|          0|          96|            17|    1|\n",
      "|   154|23.872037037037035|20660.023910000007|110.68333333333332|             68.55|             168.1|              28.0|           3|     1|          78|          0|          11|             0|    0|\n",
      "|   101|        53.9659375| 447464.0146699989| 817.5800000000002|             23.85| 3300.016666666667|             179.7|          10|     0|        1241|          1|          86|            16|    1|\n",
      "|    11|124.47825231481481|159669.96303999983|161.37708333333333|             19.55|             688.5|           40.4375|          16|     1|         534|          0|          40|             9|    1|\n",
      "|   138| 66.62668981481481| 512449.8827599989| 564.2266666666667|21.716666666666665|2386.4166666666665|             138.0|          15|     0|        1332|          0|          95|            24|    1|\n",
      "|300017| 74.35851851851852| 897406.9802100015|233.32407407407405|               0.0| 987.1666666666666|59.540983606557376|          63|     1|        2070|          0|         303|            28|    1|\n",
      "|100021| 64.73886574074074| 57633.17563999999| 215.2266666666667|              30.4| 605.1833333333333|              46.0|           5|     0|         207|          1|          11|             5|    0|\n",
      "|    29|60.104050925925925| 754517.5625700009| 365.7568627450981|               8.1|2167.7833333333333| 89.05882352941177|          34|     0|        1804|          1|         154|            22|    1|\n",
      "|    69| 71.42444444444445| 286064.0256399999| 526.6851851851852|11.483333333333333|1263.7833333333333|             125.0|           9|     1|         865|          0|          72|             9|    1|\n",
      "|   112| 87.46262731481481| 53062.74659000002| 84.45166666666667|               0.0|319.68333333333334| 23.88888888888889|          10|     0|         195|          0|           9|             3|    0|\n",
      "+------+------------------+------------------+------------------+------------------+------------------+------------------+------------+------+------------+-----------+------------+--------------+-----+\n",
      "only showing top 20 rows\n",
      "\n"
     ]
    }
   ],
   "source": [
    "df_temp10 = df_temp9.join(user_paid_free,'userID','outer') \\\n",
    "                       .fillna(0)\n",
    "\n",
    "df_temp10.show()"
   ]
  },
  {
   "cell_type": "code",
   "execution_count": 123,
   "metadata": {},
   "outputs": [
    {
     "name": "stdout",
     "output_type": "stream",
     "text": [
      "+------+------------------+------------------+------------------+------------------+------------------+------------------+------------+------+------------+-----------+------------+--------------+-----+---------------+\n",
      "|userId|            regDay|       listen_time|    avgSessionTime|    minSessionTime|    maxSessionTime|   avgSessionSongs|sessionCount|gender|artist_count|churn_label|num_thumb_up|num_thumb_down|level|add_to_playlist|\n",
      "+------+------------------+------------------+------------------+------------------+------------------+------------------+------------+------+------------+-----------+------------+--------------+-----+---------------+\n",
      "|100010| 55.64365740740741| 66940.89735000003|154.48333333333332|             22.55|             323.0|39.285714285714285|           7|     1|         252|          0|          17|             5|    0|              7|\n",
      "|200002| 70.07462962962963| 94008.87593999993|266.40000000000003|              12.1|            497.45|              64.5|           6|     0|         339|          0|          21|             6|    1|              8|\n",
      "|   125| 71.31688657407408|2089.1131000000005|29.566666666666666|29.566666666666666|29.566666666666666|               8.0|           1|     0|           8|          1|           0|             0|    0|              0|\n",
      "|   124|131.55591435185184|1012312.0927899999| 578.9942528735633|               0.0|1770.6166666666666|145.67857142857142|          29|     1|        2232|          0|         171|            41|    1|            118|\n",
      "|    51|19.455844907407407| 523275.8428000004| 872.3566666666666| 67.06666666666666| 2069.383333333333|             211.1|          10|     0|        1385|          1|         100|            21|    1|             52|\n",
      "|     7| 72.77818287037037| 38034.08710000002| 87.64047619047619| 4.066666666666666|             311.3|21.428571428571427|           7|     0|         142|          0|           7|             1|    0|              5|\n",
      "|    15|56.513576388888886|477307.60581000015| 528.2833333333333|               0.0|1455.5666666666666|136.71428571428572|          15|     0|        1302|          0|          81|            14|    1|             59|\n",
      "|    54|110.75168981481481| 711344.9195400011|322.28963963963963|               0.0|            2043.2| 81.17142857142858|          37|     1|        1744|          1|         163|            29|    1|             72|\n",
      "|   155|23.556018518518517|       198779.2919| 548.5722222222222|127.63333333333334|1100.0833333333333|136.66666666666666|           6|     1|         643|          0|          58|             3|    1|             24|\n",
      "|100014| 85.08340277777778| 67703.47208000004| 184.8138888888889|              3.45|            281.75|42.833333333333336|           6|     0|         233|          1|          17|             3|    1|              7|\n",
      "|   132|  66.8891087962963| 483118.9038399997|498.95104166666675| 8.533333333333333|1896.8833333333334|             120.5|          16|     1|        1299|          0|          96|            17|    1|             38|\n",
      "|   154|23.872037037037035|20660.023910000007|110.68333333333332|             68.55|             168.1|              28.0|           3|     1|          78|          0|          11|             0|    0|              1|\n",
      "|   101|        53.9659375| 447464.0146699989| 817.5800000000002|             23.85| 3300.016666666667|             179.7|          10|     0|        1241|          1|          86|            16|    1|             61|\n",
      "|    11|124.47825231481481|159669.96303999983|161.37708333333333|             19.55|             688.5|           40.4375|          16|     1|         534|          0|          40|             9|    1|             20|\n",
      "|   138| 66.62668981481481| 512449.8827599989| 564.2266666666667|21.716666666666665|2386.4166666666665|             138.0|          15|     0|        1332|          0|          95|            24|    1|             67|\n",
      "|300017| 74.35851851851852| 897406.9802100015|233.32407407407405|               0.0| 987.1666666666666|59.540983606557376|          63|     1|        2070|          0|         303|            28|    1|            113|\n",
      "|100021| 64.73886574074074| 57633.17563999999| 215.2266666666667|              30.4| 605.1833333333333|              46.0|           5|     0|         207|          1|          11|             5|    0|              7|\n",
      "|    29|60.104050925925925| 754517.5625700009| 365.7568627450981|               8.1|2167.7833333333333| 89.05882352941177|          34|     0|        1804|          1|         154|            22|    1|             89|\n",
      "|    69| 71.42444444444445| 286064.0256399999| 526.6851851851852|11.483333333333333|1263.7833333333333|             125.0|           9|     1|         865|          0|          72|             9|    1|             33|\n",
      "|   112| 87.46262731481481| 53062.74659000002| 84.45166666666667|               0.0|319.68333333333334| 23.88888888888889|          10|     0|         195|          0|           9|             3|    0|              7|\n",
      "+------+------------------+------------------+------------------+------------------+------------------+------------------+------------+------+------------+-----------+------------+--------------+-----+---------------+\n",
      "only showing top 20 rows\n",
      "\n"
     ]
    }
   ],
   "source": [
    "df_temp11 = df_temp10.join(user_songs_playlist,'userID','outer') \\\n",
    "                       .fillna(0)\n",
    "\n",
    "df_temp11.show()"
   ]
  },
  {
   "cell_type": "code",
   "execution_count": null,
   "metadata": {},
   "outputs": [
    {
     "name": "stdout",
     "output_type": "stream",
     "text": [
      "+------+------------------+------------------+------------------+------------------+------------------+------------------+------------+------+------------+-----------+------------+--------------+-----+---------------+----------+\n",
      "|userId|            regDay|       listen_time|    avgSessionTime|    minSessionTime|    maxSessionTime|   avgSessionSongs|sessionCount|gender|artist_count|churn_label|num_thumb_up|num_thumb_down|level|add_to_playlist|add_friend|\n",
      "+------+------------------+------------------+------------------+------------------+------------------+------------------+------------+------+------------+-----------+------------+--------------+-----+---------------+----------+\n",
      "|100010| 55.64365740740741| 66940.89735000003|154.48333333333332|             22.55|             323.0|39.285714285714285|           7|     1|         252|          0|          17|             5|    0|              7|         4|\n",
      "|200002| 70.07462962962963| 94008.87593999993|266.40000000000003|              12.1|            497.45|              64.5|           6|     0|         339|          0|          21|             6|    1|              8|         4|\n",
      "|   125| 71.31688657407408|2089.1131000000005|29.566666666666666|29.566666666666666|29.566666666666666|               8.0|           1|     0|           8|          1|           0|             0|    0|              0|         0|\n",
      "|   124|131.55591435185184|1012312.0927899999| 578.9942528735633|               0.0|1770.6166666666666|145.67857142857142|          29|     1|        2232|          0|         171|            41|    1|            118|        74|\n",
      "|    51|19.455844907407407| 523275.8428000004| 872.3566666666666| 67.06666666666666| 2069.383333333333|             211.1|          10|     0|        1385|          1|         100|            21|    1|             52|        28|\n",
      "|     7| 72.77818287037037| 38034.08710000002| 87.64047619047619| 4.066666666666666|             311.3|21.428571428571427|           7|     0|         142|          0|           7|             1|    0|              5|         1|\n",
      "|    15|56.513576388888886|477307.60581000015| 528.2833333333333|               0.0|1455.5666666666666|136.71428571428572|          15|     0|        1302|          0|          81|            14|    1|             59|        31|\n",
      "|    54|110.75168981481481| 711344.9195400011|322.28963963963963|               0.0|            2043.2| 81.17142857142858|          37|     1|        1744|          1|         163|            29|    1|             72|        33|\n",
      "|   155|23.556018518518517|       198779.2919| 548.5722222222222|127.63333333333334|1100.0833333333333|136.66666666666666|           6|     1|         643|          0|          58|             3|    1|             24|        11|\n",
      "|100014| 85.08340277777778| 67703.47208000004| 184.8138888888889|              3.45|            281.75|42.833333333333336|           6|     0|         233|          1|          17|             3|    1|              7|         6|\n",
      "|   132|  66.8891087962963| 483118.9038399997|498.95104166666675| 8.533333333333333|1896.8833333333334|             120.5|          16|     1|        1299|          0|          96|            17|    1|             38|        41|\n",
      "|   154|23.872037037037035|20660.023910000007|110.68333333333332|             68.55|             168.1|              28.0|           3|     1|          78|          0|          11|             0|    0|              1|         3|\n",
      "|   101|        53.9659375| 447464.0146699989| 817.5800000000002|             23.85| 3300.016666666667|             179.7|          10|     0|        1241|          1|          86|            16|    1|             61|        29|\n",
      "|    11|124.47825231481481|159669.96303999983|161.37708333333333|             19.55|             688.5|           40.4375|          16|     1|         534|          0|          40|             9|    1|             20|         6|\n",
      "|   138| 66.62668981481481| 512449.8827599989| 564.2266666666667|21.716666666666665|2386.4166666666665|             138.0|          15|     0|        1332|          0|          95|            24|    1|             67|        41|\n",
      "|300017| 74.35851851851852| 897406.9802100015|233.32407407407405|               0.0| 987.1666666666666|59.540983606557376|          63|     1|        2070|          0|         303|            28|    1|            113|        63|\n",
      "|100021| 64.73886574074074| 57633.17563999999| 215.2266666666667|              30.4| 605.1833333333333|              46.0|           5|     0|         207|          1|          11|             5|    0|              7|         7|\n",
      "|    29|60.104050925925925| 754517.5625700009| 365.7568627450981|               8.1|2167.7833333333333| 89.05882352941177|          34|     0|        1804|          1|         154|            22|    1|             89|        47|\n",
      "|    69| 71.42444444444445| 286064.0256399999| 526.6851851851852|11.483333333333333|1263.7833333333333|             125.0|           9|     1|         865|          0|          72|             9|    1|             33|        12|\n",
      "|   112| 87.46262731481481| 53062.74659000002| 84.45166666666667|               0.0|319.68333333333334| 23.88888888888889|          10|     0|         195|          0|           9|             3|    0|              7|         7|\n",
      "+------+------------------+------------------+------------------+------------------+------------------+------------------+------------+------+------------+-----------+------------+--------------+-----+---------------+----------+\n",
      "only showing top 20 rows\n",
      "\n"
     ]
    }
   ],
   "source": [
    "df_temp12 = df_temp11.join(user_no_of_friends,'userID','outer') \\\n",
    "                       .fillna(0)\n",
    "\n",
    "df_temp12.show()"
   ]
  },
  {
   "cell_type": "code",
   "execution_count": null,
   "metadata": {},
   "outputs": [],
   "source": [
    "df_merge_all = df_temp12"
   ]
  },
  {
   "cell_type": "code",
   "execution_count": null,
   "metadata": {},
   "outputs": [
    {
     "data": {
      "text/plain": [
       "\"\\ndf_temp = user_reg_days.join(length_listening,'userID','outer')     .join(user_session_time_stat,'userID','outer')     .join(user_session_songs_avg,'userID','outer')     .join(user_session_count,'userID','outer')     .join(user_gender,'userID','outer')     .join(user_singers_count,'userUD','outer')\\n    .join(user_churn_label,'userID','outer')     .join(user_thumbs_up,'userID','outer')     .join(user_thumbs_down,'userID','outer')     .join(user_paid,'userID','outer')     .join(user_songs_playlist,'userID','outer')     .join(user_no_of_friends,'userID','outer')     .fillna(0)\\n                       \\n\\ndf_temp.show(5)\\n\\n\""
      ]
     },
     "execution_count": 126,
     "metadata": {},
     "output_type": "execute_result"
    }
   ],
   "source": [
    "### Looks like there is an error when joinging multiple tables together, but, runs smoothly while doing it one by one\n",
    "\"\"\"\n",
    "df_temp = user_reg_days.join(length_listening,'userID','outer') \\\n",
    "    .join(user_session_time_stat,'userID','outer') \\\n",
    "    .join(user_session_songs_avg,'userID','outer') \\\n",
    "    .join(user_session_count,'userID','outer') \\\n",
    "    .join(user_gender,'userID','outer') \\\n",
    "    .join(user_singers_count,'userUD','outer')\n",
    "    .join(user_churn_label,'userID','outer') \\\n",
    "    .join(user_thumbs_up,'userID','outer') \\\n",
    "    .join(user_thumbs_down,'userID','outer') \\\n",
    "    .join(user_paid,'userID','outer') \\\n",
    "    .join(user_songs_playlist,'userID','outer') \\\n",
    "    .join(user_no_of_friends,'userID','outer') \\\n",
    "    .fillna(0)\n",
    "                       \n",
    "\n",
    "df_temp.show(5)\n",
    "\n",
    "\"\"\""
   ]
  },
  {
   "cell_type": "code",
   "execution_count": 118,
   "metadata": {},
   "outputs": [],
   "source": [
    "\n",
    "#This code runs perfectly fine, but, I have used a simple approach of joining all tables as there was an issue with some nulls \n",
    "#further down \n",
    "\n",
    "# creating a list for features\n",
    "features_list = []\n",
    "features_list.append(user_reg_days)\n",
    "features_list.append(length_listening)\n",
    "features_list.append(user_session_time_stat)\n",
    "features_list.append(user_session_songs_avg)\n",
    "features_list.append(user_session_count)\n",
    "features_list.append(user_gender)\n",
    "features_list.append(user_singers_count)\n",
    "features_list.append(user_churn_label)\n",
    "features_list.append(user_thumbs_up)\n",
    "features_list.append(user_thumbs_down)\n",
    "features_list.append(user_paid_free)\n",
    "features_list.append(user_songs_playlist)\n",
    "features_list.append(user_no_of_friends)\n"
   ]
  },
  {
   "cell_type": "code",
   "execution_count": 127,
   "metadata": {},
   "outputs": [],
   "source": [
    "\n",
    "#This code runs perfectly fine, but, I have used a simple approach of joining all tables as there was an issue with some nulls \n",
    "#further down \n",
    "\n",
    "# defining a fuction for merging\n",
    "def merge(df1, df2):\n",
    "    df2 = df2.withColumnRenamed(\"userId\", \"userIdTemp\")\n",
    "    df = df1.join(df2, df1.userId == df2.userIdTemp, \"left_outer\").drop(\"userIdTemp\")\n",
    "    df.fillna(0)\n",
    "    return df\n",
    "\n",
    "    "
   ]
  },
  {
   "cell_type": "code",
   "execution_count": 128,
   "metadata": {},
   "outputs": [],
   "source": [
    "\n",
    "#This code runs perfectly fine, but, I have used a simple approach of joining all tables as there was an issue with some nulls \n",
    "#further down \n",
    "\n",
    "# use function to merge the features in the list\n",
    "df_model = df_valid.select(\"userId\").dropDuplicates()\n",
    "\n",
    "for feature in features_list:\n",
    "    df_model = merge(df_model, feature)\n",
    "    df_model.fillna(0)\n"
   ]
  },
  {
   "cell_type": "code",
   "execution_count": 121,
   "metadata": {},
   "outputs": [
    {
     "name": "stdout",
     "output_type": "stream",
     "text": [
      "+------+------------------+------------------+------------------+------------------+------------------+------------------+------------+------+------------+-----------+------------+--------------+-----+---------------+----------+\n",
      "|userId|            regDay|       listen_time|    avgSessionTime|    minSessionTime|    maxSessionTime|   avgSessionSongs|sessionCount|gender|artist_count|churn_label|num_thumb_up|num_thumb_down|level|add_to_playlist|add_friend|\n",
      "+------+------------------+------------------+------------------+------------------+------------------+------------------+------------+------+------------+-----------+------------+--------------+-----+---------------+----------+\n",
      "|100010| 55.64365740740741| 66940.89735000003|154.48333333333332|             22.55|             323.0|39.285714285714285|           7|     1|         252|          0|          17|             5|    0|              7|         4|\n",
      "|200002| 70.07462962962963| 94008.87593999993|266.40000000000003|              12.1|            497.45|              64.5|           6|     0|         339|          0|          21|             6|    1|              8|         4|\n",
      "|   125| 71.31688657407408|2089.1131000000005|29.566666666666666|29.566666666666666|29.566666666666666|               8.0|           1|     0|           8|          1|        null|          null|    0|           null|      null|\n",
      "|   124|131.55591435185184|1012312.0927899999| 578.9942528735633|               0.0|1770.6166666666666|145.67857142857142|          29|     1|        2232|          0|         171|            41|    1|            118|        74|\n",
      "|    51|19.455844907407407| 523275.8428000004| 872.3566666666666| 67.06666666666666| 2069.383333333333|             211.1|          10|     0|        1385|          1|         100|            21|    1|             52|        28|\n",
      "|     7| 72.77818287037037| 38034.08710000002| 87.64047619047619| 4.066666666666666|             311.3|21.428571428571427|           7|     0|         142|          0|           7|             1|    0|              5|         1|\n",
      "|    15|56.513576388888886|477307.60581000015| 528.2833333333333|               0.0|1455.5666666666666|136.71428571428572|          15|     0|        1302|          0|          81|            14|    1|             59|        31|\n",
      "|    54|110.75168981481481| 711344.9195400011|322.28963963963963|               0.0|            2043.2| 81.17142857142858|          37|     1|        1744|          1|         163|            29|    1|             72|        33|\n",
      "|   155|23.556018518518517|       198779.2919| 548.5722222222222|127.63333333333334|1100.0833333333333|136.66666666666666|           6|     1|         643|          0|          58|             3|    1|             24|        11|\n",
      "|100014| 85.08340277777778| 67703.47208000004| 184.8138888888889|              3.45|            281.75|42.833333333333336|           6|     0|         233|          1|          17|             3|    1|              7|         6|\n",
      "|   132|  66.8891087962963| 483118.9038399997|498.95104166666675| 8.533333333333333|1896.8833333333334|             120.5|          16|     1|        1299|          0|          96|            17|    1|             38|        41|\n",
      "|   154|23.872037037037035|20660.023910000007|110.68333333333332|             68.55|             168.1|              28.0|           3|     1|          78|          0|          11|          null|    0|              1|         3|\n",
      "|   101|        53.9659375| 447464.0146699989| 817.5800000000002|             23.85| 3300.016666666667|             179.7|          10|     0|        1241|          1|          86|            16|    1|             61|        29|\n",
      "|    11|124.47825231481481|159669.96303999983|161.37708333333333|             19.55|             688.5|           40.4375|          16|     1|         534|          0|          40|             9|    1|             20|         6|\n",
      "|   138| 66.62668981481481| 512449.8827599989| 564.2266666666667|21.716666666666665|2386.4166666666665|             138.0|          15|     0|        1332|          0|          95|            24|    1|             67|        41|\n",
      "|300017| 74.35851851851852| 897406.9802100015|233.32407407407405|               0.0| 987.1666666666666|59.540983606557376|          63|     1|        2070|          0|         303|            28|    1|            113|        63|\n",
      "|100021| 64.73886574074074| 57633.17563999999| 215.2266666666667|              30.4| 605.1833333333333|              46.0|           5|     0|         207|          1|          11|             5|    0|              7|         7|\n",
      "|    29|60.104050925925925| 754517.5625700009| 365.7568627450981|               8.1|2167.7833333333333| 89.05882352941177|          34|     0|        1804|          1|         154|            22|    1|             89|        47|\n",
      "|    69| 71.42444444444445| 286064.0256399999| 526.6851851851852|11.483333333333333|1263.7833333333333|             125.0|           9|     1|         865|          0|          72|             9|    1|             33|        12|\n",
      "|   112| 87.46262731481481| 53062.74659000002| 84.45166666666667|               0.0|319.68333333333334| 23.88888888888889|          10|     0|         195|          0|           9|             3|    0|              7|         7|\n",
      "+------+------------------+------------------+------------------+------------------+------------------+------------------+------------+------+------------+-----------+------------+--------------+-----+---------------+----------+\n",
      "only showing top 20 rows\n",
      "\n"
     ]
    }
   ],
   "source": [
    "df_model.show()"
   ]
  },
  {
   "cell_type": "markdown",
   "metadata": {},
   "source": [
    "#### The cells below is an exploration exercise for one particular userID = 125"
   ]
  },
  {
   "cell_type": "code",
   "execution_count": 129,
   "metadata": {},
   "outputs": [
    {
     "data": {
      "text/plain": [
       "[Row(userId='125', regDay=71.31688657407408, listen_time=2089.1131000000005, avgSessionTime=29.566666666666666, minSessionTime=29.566666666666666, maxSessionTime=29.566666666666666, avgSessionSongs=8.0, sessionCount=1, gender=0, artist_count=8, churn_label=1, num_thumb_up=None, num_thumb_down=None, level=0, add_to_playlist=None, add_friend=None)]"
      ]
     },
     "execution_count": 129,
     "metadata": {},
     "output_type": "execute_result"
    }
   ],
   "source": [
    "df_model.where(\"userId = 125\").collect()"
   ]
  },
  {
   "cell_type": "code",
   "execution_count": 123,
   "metadata": {},
   "outputs": [
    {
     "data": {
      "text/plain": [
       "DataFrame[userId: string, regDay: double, listen_time: double, avgSessionTime: double, minSessionTime: double, maxSessionTime: double, avgSessionSongs: double, sessionCount: bigint, gender: int, artist_count: bigint, churn_label: int, num_thumb_up: bigint, num_thumb_down: bigint, level: int, add_to_playlist: bigint, add_friend: bigint]"
      ]
     },
     "execution_count": 123,
     "metadata": {},
     "output_type": "execute_result"
    }
   ],
   "source": [
    "df_model.fillna(0)"
   ]
  },
  {
   "cell_type": "code",
   "execution_count": 124,
   "metadata": {},
   "outputs": [
    {
     "data": {
      "text/plain": [
       "[Row(userId='125', regDay=71.31688657407408, listen_time=2089.1131000000005, avgSessionTime=29.566666666666666, minSessionTime=29.566666666666666, maxSessionTime=29.566666666666666, avgSessionSongs=8.0, sessionCount=1, gender=0, artist_count=8, churn_label=1, num_thumb_up=None, num_thumb_down=None, level=0, add_to_playlist=None, add_friend=None)]"
      ]
     },
     "execution_count": 124,
     "metadata": {},
     "output_type": "execute_result"
    }
   ],
   "source": [
    "df_model.where(\"userId = 125\").collect()"
   ]
  },
  {
   "cell_type": "code",
   "execution_count": 125,
   "metadata": {},
   "outputs": [
    {
     "data": {
      "text/plain": [
       "DataFrame[userId: string, regDay: double, listen_time: double, avgSessionTime: double, minSessionTime: double, maxSessionTime: double, avgSessionSongs: double, sessionCount: bigint, gender: int, artist_count: bigint, churn_label: int, num_thumb_up: bigint, num_thumb_down: bigint, level: int, add_to_playlist: bigint, add_friend: bigint]"
      ]
     },
     "execution_count": 125,
     "metadata": {},
     "output_type": "execute_result"
    }
   ],
   "source": [
    "df_model.fillna(\"\")"
   ]
  },
  {
   "cell_type": "code",
   "execution_count": 126,
   "metadata": {},
   "outputs": [
    {
     "data": {
      "text/plain": [
       "[Row(userId='125', regDay=71.31688657407408, listen_time=2089.1131000000005, avgSessionTime=29.566666666666666, minSessionTime=29.566666666666666, maxSessionTime=29.566666666666666, avgSessionSongs=8.0, sessionCount=1, gender=0, artist_count=8, churn_label=1, num_thumb_up=None, num_thumb_down=None, level=0, add_to_playlist=None, add_friend=None)]"
      ]
     },
     "execution_count": 126,
     "metadata": {},
     "output_type": "execute_result"
    }
   ],
   "source": [
    "df_model.where(\"userId = 125\").collect()"
   ]
  },
  {
   "cell_type": "code",
   "execution_count": null,
   "metadata": {},
   "outputs": [
    {
     "name": "stdout",
     "output_type": "stream",
     "text": [
      "+-------+------------------+-------------------+------------------+------------------+-----------------+-----------------+-----------------+------------------+------------------+-----------------+------------------+------------------+------------------+------------------+------------------+------------------+\n",
      "|summary|            userId|             regDay|       listen_time|    avgSessionTime|   minSessionTime|   maxSessionTime|  avgSessionSongs|      sessionCount|            gender|     artist_count|       churn_label|      num_thumb_up|    num_thumb_down|             level|   add_to_playlist|        add_friend|\n",
      "+-------+------------------+-------------------+------------------+------------------+-----------------+-----------------+-----------------+------------------+------------------+-----------------+------------------+------------------+------------------+------------------+------------------+------------------+\n",
      "|  count|               225|                225|               225|               225|              225|              225|              225|               225|               225|              225|               225|               225|               225|               225|               225|               225|\n",
      "|   mean|65391.013333333336|  79.84568348765428|252558.32065155543| 288.1659840733499|36.13177777777776|968.0325185185188|70.78971233958933|14.115555555555556|0.4622222222222222|696.3777777777777|0.2311111111111111|55.782222222222224|11.315555555555555|0.6444444444444445|29.004444444444445| 19.00888888888889|\n",
      "| stddev|105396.47791907164|  37.66147001861254| 275396.4038847635|176.84244472357116|90.64909420429706| 723.317736950286| 42.6153697543817|14.646884657111562|0.4996824388374478|603.9518698630802|0.4224832108996327| 65.47792460907043|13.077481251105503|0.4797486114192829|32.716653931055426|20.581716728496275|\n",
      "|    min|                10|0.31372685185185184|         691.66884|               7.0|              0.0|              7.0|              3.0|                 1|                 0|                3|                 0|                 0|                 0|                 0|                 0|                 0|\n",
      "|    max|                99|  256.3776736111111|1991154.9155799907|            1179.9|904.8666666666667|4455.083333333333|286.6666666666667|               107|                 1|             3544|                 1|               437|                75|                 1|               240|               143|\n",
      "+-------+------------------+-------------------+------------------+------------------+-----------------+-----------------+-----------------+------------------+------------------+-----------------+------------------+------------------+------------------+------------------+------------------+------------------+\n",
      "\n"
     ]
    }
   ],
   "source": [
    "df_merge_all.describe().show(5)"
   ]
  },
  {
   "cell_type": "code",
   "execution_count": 83,
   "metadata": {},
   "outputs": [
    {
     "name": "stdout",
     "output_type": "stream",
     "text": [
      "+-------+------------------+-------------------+------------------+------------------+-----------------+-----------------+-----------------+------------------+------------------+-----------------+------------------+-----------------+------------------+------------------+-----------------+------------------+\n",
      "|summary|            userId|             regDay|       listen_time|    avgSessionTime|   minSessionTime|   maxSessionTime|  avgSessionSongs|      sessionCount|            gender|     artist_count|       churn_label|     num_thumb_up|    num_thumb_down|             level|  add_to_playlist|        add_friend|\n",
      "+-------+------------------+-------------------+------------------+------------------+-----------------+-----------------+-----------------+------------------+------------------+-----------------+------------------+-----------------+------------------+------------------+-----------------+------------------+\n",
      "|  count|               225|                225|               225|               225|              225|              225|              225|               225|               225|              225|               225|              220|               203|               225|              215|               206|\n",
      "|   mean|65391.013333333336|  79.84568348765428|252558.32065155543| 288.1659840733499|36.13177777777776|968.0325185185188|70.78971233958933|14.115555555555556|0.4622222222222222|696.3777777777777|0.2311111111111111|            57.05|12.541871921182265|0.6444444444444445|30.35348837209302|20.762135922330096|\n",
      "| stddev|105396.47791907164|  37.66147001861254| 275396.4038847635|176.84244472357116|90.64909420429706| 723.317736950286| 42.6153697543817|14.646884657111562|0.4996824388374478|603.9518698630802|0.4224832108996327|65.67028650524044|13.198108566983787|0.4797486114192829| 32.8520568555997|20.646779074405007|\n",
      "|    min|                10|0.31372685185185184|         691.66884|               7.0|              0.0|              7.0|              3.0|                 1|                 0|                3|                 0|                1|                 1|                 0|                1|                 1|\n",
      "|    max|                99|  256.3776736111111|1991154.9155799907|            1179.9|904.8666666666667|4455.083333333333|286.6666666666667|               107|                 1|             3544|                 1|              437|                75|                 1|              240|               143|\n",
      "+-------+------------------+-------------------+------------------+------------------+-----------------+-----------------+-----------------+------------------+------------------+-----------------+------------------+-----------------+------------------+------------------+-----------------+------------------+\n",
      "\n"
     ]
    }
   ],
   "source": [
    "df_model.describe().show(5)"
   ]
  },
  {
   "cell_type": "markdown",
   "metadata": {},
   "source": [
    "### Creating a CSV, so that the models can be run as a separate session"
   ]
  },
  {
   "cell_type": "code",
   "execution_count": 5,
   "metadata": {},
   "outputs": [],
   "source": [
    "# creating a path\n",
    "out_path = \"data/sparkify_model_vf.csv\""
   ]
  },
  {
   "cell_type": "code",
   "execution_count": null,
   "metadata": {},
   "outputs": [],
   "source": [
    "#saving the csv\n",
    "df_model.write.save(out_path, format=\"csv\", header=True)"
   ]
  },
  {
   "cell_type": "code",
   "execution_count": 6,
   "metadata": {},
   "outputs": [],
   "source": [
    "# creating a path\n",
    "out_path_merge = \"data/sparkify_model_merge.csv\""
   ]
  },
  {
   "cell_type": "code",
   "execution_count": null,
   "metadata": {},
   "outputs": [],
   "source": [
    "#saving the csv\n",
    "df_merge_all.write.save(out_path_merge, format=\"csv\", header=True)"
   ]
  },
  {
   "cell_type": "code",
   "execution_count": 7,
   "metadata": {},
   "outputs": [],
   "source": [
    "#validating the csv\n",
    "df_model_2 = spark.read.csv(out_path, header=True)"
   ]
  },
  {
   "cell_type": "code",
   "execution_count": 8,
   "metadata": {},
   "outputs": [
    {
     "name": "stdout",
     "output_type": "stream",
     "text": [
      "+------+------------------+------------------+------------------+------------------+-----------------+-----------------+------------+------+------------+-----------+------------+--------------+-----+---------------+----------+\n",
      "|userId|            regDay|       listen_time|    avgSessionTime|    minSessionTime|   maxSessionTime|  avgSessionSongs|sessionCount|gender|artist_count|churn_label|num_thumb_up|num_thumb_down|level|add_to_playlist|add_friend|\n",
      "+------+------------------+------------------+------------------+------------------+-----------------+-----------------+------------+------+------------+-----------+------------+--------------+-----+---------------+----------+\n",
      "|100004|172.44008101851853|231480.38928999988|185.98650793650793|               0.0|940.2166666666667|             47.1|          21|     1|         733|          0|          35|            11|    1|             23|        19|\n",
      "|   104|125.58270833333333| 441694.4612499993| 281.0339743589744|25.783333333333335|           993.65|             68.5|          26|     1|        1214|          0|          84|            17|    1|             43|        23|\n",
      "|    60| 71.48456018518519|412321.50107999996|380.71481481481476| 7.716666666666667|992.2333333333333|91.33333333333333|          18|     0|        1137|          0|          84|             9|    1|             58|        27|\n",
      "|    68| 100.0112962962963| 7079.692970000001| 63.74166666666667| 33.53333333333333|            93.95|             14.5|           2|     1|          29|          0|           2|          null|    0|           null|         7|\n",
      "|    90|101.98753472222222| 9481.230569999998| 29.70666666666667|               0.0|74.38333333333334|             9.25|           5|     0|          37|          0|        null|          null|    0|           null|      null|\n",
      "+------+------------------+------------------+------------------+------------------+-----------------+-----------------+------------+------+------------+-----------+------------+--------------+-----+---------------+----------+\n",
      "only showing top 5 rows\n",
      "\n"
     ]
    }
   ],
   "source": [
    "df_model_2.show(5)"
   ]
  },
  {
   "cell_type": "code",
   "execution_count": 9,
   "metadata": {},
   "outputs": [],
   "source": [
    "df_model_3 = spark.read.csv(out_path_merge, header=True)"
   ]
  },
  {
   "cell_type": "code",
   "execution_count": 10,
   "metadata": {},
   "outputs": [
    {
     "name": "stdout",
     "output_type": "stream",
     "text": [
      "+-------+------------------+-------------------+------------------+------------------+-----------------+------------------+------------------+------------------+------------------+-----------------+-------------------+------------------+------------------+-------------------+------------------+-----------------+\n",
      "|summary|            userId|             regDay|       listen_time|    avgSessionTime|   minSessionTime|    maxSessionTime|   avgSessionSongs|      sessionCount|            gender|     artist_count|        churn_label|      num_thumb_up|    num_thumb_down|              level|   add_to_playlist|       add_friend|\n",
      "+-------+------------------+-------------------+------------------+------------------+-----------------+------------------+------------------+------------------+------------------+-----------------+-------------------+------------------+------------------+-------------------+------------------+-----------------+\n",
      "|  count|               225|                225|               225|               225|              225|               225|               225|               225|               225|              225|                225|               225|               225|                225|               225|              225|\n",
      "|   mean|65391.013333333336|  79.84568348765433|252558.32065155546|288.16598407334976|36.13177777777778| 968.0325185185186| 70.78971233958934|14.115555555555556|0.4622222222222222|696.3777777777777| 0.2311111111111111|55.782222222222224|11.315555555555555| 0.6444444444444445|29.004444444444445|19.00888888888889|\n",
      "| stddev|105396.47791907165|  37.66147001861255| 275396.4038847635|176.84244472357113|90.64909420429709| 723.3177369502856|42.615369754381696|14.646884657111563|0.4996824388374476|603.9518698630803|0.42248321089963264| 65.47792460907044|  13.0774812511055|0.47974861141928293|32.716653931055426|20.58171672849628|\n",
      "|    min|                10|0.31372685185185184|1012312.0927899999|100.79722222222222|              0.0|101.88333333333334|100.38888888888889|                 1|                 0|             1001|                  0|                 0|                 0|                  0|                 0|                0|\n",
      "|    max|                99|  99.22612268518519| 97796.86112999993| 99.11666666666667|98.38333333333334| 995.3166666666667| 99.71428571428571|                 9|                 1|              982|                  1|                98|                 9|                  1|                 9|               93|\n",
      "+-------+------------------+-------------------+------------------+------------------+-----------------+------------------+------------------+------------------+------------------+-----------------+-------------------+------------------+------------------+-------------------+------------------+-----------------+\n",
      "\n"
     ]
    }
   ],
   "source": [
    "df_model_3.describe().show()"
   ]
  },
  {
   "cell_type": "code",
   "execution_count": 11,
   "metadata": {},
   "outputs": [
    {
     "name": "stdout",
     "output_type": "stream",
     "text": [
      "+-----------+-----+\n",
      "|churn_label|count|\n",
      "+-----------+-----+\n",
      "|          0|  173|\n",
      "|          1|   52|\n",
      "+-----------+-----+\n",
      "\n"
     ]
    }
   ],
   "source": [
    "df_model_2.groupby(\"churn_label\").count().show()"
   ]
  },
  {
   "cell_type": "code",
   "execution_count": 12,
   "metadata": {},
   "outputs": [
    {
     "name": "stdout",
     "output_type": "stream",
     "text": [
      "+-----------+-----+\n",
      "|churn_label|count|\n",
      "+-----------+-----+\n",
      "|          0|  173|\n",
      "|          1|   52|\n",
      "+-----------+-----+\n",
      "\n"
     ]
    }
   ],
   "source": [
    "df_model_3.groupby(\"churn_label\").count().show()"
   ]
  },
  {
   "cell_type": "code",
   "execution_count": 143,
   "metadata": {},
   "outputs": [],
   "source": [
    "#The dataframes match !!"
   ]
  },
  {
   "cell_type": "markdown",
   "metadata": {},
   "source": [
    "# Modeling\n",
    "Split the full dataset into train, test, and validation sets. Test out several of the machine learning methods you learned. Evaluate the accuracy of the various models, tuning parameters as necessary. Determine your winning model based on test accuracy and report results on the validation set. Since the churned users are a fairly small subset, I suggest using F1 score as the metric to optimize."
   ]
  },
  {
   "cell_type": "code",
   "execution_count": 33,
   "metadata": {},
   "outputs": [],
   "source": [
    "# reading the csv\n",
    "out_path_merge = \"data/sparkify_model_merge.csv\"\n",
    "data = spark.read.csv(out_path_merge, header=True)"
   ]
  },
  {
   "cell_type": "code",
   "execution_count": 34,
   "metadata": {},
   "outputs": [
    {
     "data": {
      "text/plain": [
       "[Row(userId='125', regDay='71.31688657407408', listen_time='2089.1131000000005', avgSessionTime='29.566666666666666', minSessionTime='29.566666666666666', maxSessionTime='29.566666666666666', avgSessionSongs='8.0', sessionCount='1', gender='0', artist_count='8', churn_label='1', num_thumb_up='0', num_thumb_down='0', level='0', add_to_playlist='0', add_friend='0')]"
      ]
     },
     "execution_count": 34,
     "metadata": {},
     "output_type": "execute_result"
    }
   ],
   "source": [
    "#checking for the same user id\n",
    "data.where(\"userId = 125\").collect()"
   ]
  },
  {
   "cell_type": "code",
   "execution_count": 35,
   "metadata": {},
   "outputs": [
    {
     "name": "stdout",
     "output_type": "stream",
     "text": [
      "+------+------------------+------------------+------------------+--------------------+------------------+------------------+------------+------+------------+-----------+------------+--------------+-----+---------------+----------+\n",
      "|userId|            regDay|       listen_time|    avgSessionTime|      minSessionTime|    maxSessionTime|   avgSessionSongs|sessionCount|gender|artist_count|churn_label|num_thumb_up|num_thumb_down|level|add_to_playlist|add_friend|\n",
      "+------+------------------+------------------+------------------+--------------------+------------------+------------------+------------+------+------------+-----------+------------+--------------+-----+---------------+----------+\n",
      "|100004|172.44008101851853|231480.38928999988|185.98650793650793|                 0.0| 940.2166666666667|              47.1|          21|     1|         733|          0|          35|            11|    1|             23|        19|\n",
      "|   104|125.58270833333333| 441694.4612499993| 281.0339743589744|  25.783333333333335|            993.65|              68.5|          26|     1|        1214|          0|          84|            17|    1|             43|        23|\n",
      "|    60| 71.48456018518519|412321.50107999996|380.71481481481476|   7.716666666666667| 992.2333333333333| 91.33333333333333|          18|     0|        1137|          0|          84|             9|    1|             58|        27|\n",
      "|    68| 100.0112962962963| 7079.692970000001| 63.74166666666667|   33.53333333333333|             93.95|              14.5|           2|     1|          29|          0|           2|             0|    0|              0|         7|\n",
      "|    90|101.98753472222222| 9481.230569999998| 29.70666666666667|                 0.0| 74.38333333333334|              9.25|           5|     0|          37|          0|           0|             0|    0|              0|         0|\n",
      "|   103| 42.13234953703704|267252.93391999986|401.67121212121214|                 0.0|1775.0833333333333|             107.3|          11|     1|         834|          1|          52|             9|    1|             42|        25|\n",
      "|200005|113.13180555555556|32765.638170000006| 87.39722222222223|                24.0|185.08333333333334|23.166666666666668|           6|     0|         131|          0|           7|             0|    1|              5|         3|\n",
      "|    38| 75.06532407407407|327566.46343999973|342.28749999999997|  25.716666666666665|           1179.95|            82.625|          16|     0|         939|          0|          65|            21|    1|             30|        21|\n",
      "|    40| 78.96927083333334| 259785.3331599999|251.47058823529417|   9.383333333333333| 797.4833333333333|63.411764705882355|          17|     1|         825|          0|          66|            11|    1|             39|        23|\n",
      "|   128| 95.33168981481481|429447.28833999945| 416.6254901960784|                 0.0|            1817.3|             108.0|          17|     0|        1163|          0|          87|            18|    1|             53|        28|\n",
      "|200024| 28.42769675925926| 103471.7455799999|211.70833333333331|  52.166666666666664| 579.0333333333333|            52.125|           8|     0|         368|          1|          19|            13|    1|             15|         9|\n",
      "|    23|135.89708333333334|164815.40200000003| 682.5541666666667|  29.783333333333335| 2374.633333333333|             164.0|           4|     1|         553|          0|          28|             6|    1|             21|        15|\n",
      "|    41|110.77247685185185|      473900.08914| 657.6722222222223|0.016666666666666666|            2278.2|157.83333333333334|          12|     1|        1319|          0|          76|            10|    1|             61|        36|\n",
      "|   126| 62.09569444444445| 648839.6086000006|           357.505|                 0.0|           1533.75| 88.86206896551724|          30|     0|        1643|          0|         135|            21|    1|             72|        33|\n",
      "|   131|120.89991898148148|389584.29663999996|340.22456140350874|                 0.0| 855.6666666666666|              92.0|          19|     0|        1100|          0|          72|            20|    0|             51|        26|\n",
      "|   140| 80.60512731481481|1410075.4463299962|328.06525821596244|                 0.0| 2230.266666666667| 84.53731343283582|          71|     1|        2819|          0|         277|            75|    1|            148|       143|\n",
      "|    17|13.099016203703703|225482.83847000013|            601.25|   9.933333333333334|1546.4333333333334|132.42857142857142|           7|     1|         741|          1|          40|            13|    1|             30|        12|\n",
      "|   108| 62.23815972222222| 156542.7986499999|432.82777777777784|  1.9666666666666666|1206.2333333333333|             105.5|           6|     1|         509|          0|          20|             6|    1|             15|        15|\n",
      "|   117| 72.10061342592593| 88033.85588999995|109.70384615384616|   6.016666666666667| 576.4833333333333|26.384615384615383|          13|     1|         298|          0|          11|             3|    0|             10|        10|\n",
      "|300010| 74.17873842592593| 65846.45058000002|155.42857142857142|  13.683333333333334|            330.95| 37.57142857142857|           7|     0|         244|          0|          21|             1|    0|              7|         8|\n",
      "+------+------------------+------------------+------------------+--------------------+------------------+------------------+------------+------+------------+-----------+------------+--------------+-----+---------------+----------+\n",
      "only showing top 20 rows\n",
      "\n"
     ]
    }
   ],
   "source": [
    "data.show()"
   ]
  },
  {
   "cell_type": "code",
   "execution_count": 36,
   "metadata": {},
   "outputs": [],
   "source": [
    "#importing necessary ML packages\n",
    "from pyspark.ml import Pipeline\n",
    "from pyspark.ml.classification import LogisticRegression, RandomForestClassifier, GBTClassifier, DecisionTreeClassifier\n",
    "from pyspark.ml.evaluation import MulticlassClassificationEvaluator, BinaryClassificationEvaluator\n",
    "from pyspark.ml.feature import CountVectorizer, IDF, Normalizer, PCA, RegexTokenizer, StandardScaler\n",
    "from pyspark.ml.feature import StopWordsRemover, StringIndexer, VectorAssembler\n",
    "from pyspark.ml.regression import LinearRegression\n",
    "from pyspark.ml.tuning import CrossValidator, ParamGridBuilder\n",
    "from pyspark.ml.param import Param, Params"
   ]
  },
  {
   "cell_type": "code",
   "execution_count": 37,
   "metadata": {},
   "outputs": [
    {
     "data": {
      "text/plain": [
       "'\\n\\ncols = [\"regDay\", \"listen_time\", \"avgSessionTime\", \"minSessionTime\", \"maxSessionTime\", \"avgSessionSongs\",        \"sessionCount\",\"gender\",\"artist_count\",\"churn_label\",\"num_thumb_up\",\"num_thumb_down\",        \"level\",\"add_to_playlist\",\"add_friend\"]\\n\\nassembler = VectorAssembler(inputCols=cols, outputCol=\"NumFeatures\")\\ndata = assembler.transform(df_final)\\n\\n'"
      ]
     },
     "execution_count": 37,
     "metadata": {},
     "output_type": "execute_result"
    }
   ],
   "source": [
    "#Vectorinzing\n",
    "\"\"\"\n",
    "\n",
    "cols = [\"regDay\", \"listen_time\", \"avgSessionTime\", \"minSessionTime\", \"maxSessionTime\", \"avgSessionSongs\",\\\n",
    "        \"sessionCount\",\"gender\",\"artist_count\",\"churn_label\",\"num_thumb_up\",\"num_thumb_down\",\\\n",
    "        \"level\",\"add_to_playlist\",\"add_friend\"]\n",
    "\n",
    "assembler = VectorAssembler(inputCols=cols, outputCol=\"NumFeatures\")\n",
    "data = assembler.transform(df_final)\n",
    "\n",
    "\"\"\"\n",
    "# everything is being read as strings. We will need to convert them to numeric first"
   ]
  },
  {
   "cell_type": "code",
   "execution_count": 38,
   "metadata": {},
   "outputs": [],
   "source": [
    "#Converting all feature columns to numeric\n",
    "cols = data.columns[1:]\n",
    "for c in cols:\n",
    "    c_name = c + \"Num\"\n",
    "    data = data.withColumn(c_name, data[c].cast(\"float\"))\n",
    "    data = data.drop(c)"
   ]
  },
  {
   "cell_type": "code",
   "execution_count": 39,
   "metadata": {},
   "outputs": [
    {
     "data": {
      "text/plain": [
       "['regDay',\n",
       " 'listen_time',\n",
       " 'avgSessionTime',\n",
       " 'minSessionTime',\n",
       " 'maxSessionTime',\n",
       " 'avgSessionSongs',\n",
       " 'sessionCount',\n",
       " 'gender',\n",
       " 'artist_count',\n",
       " 'churn_label',\n",
       " 'num_thumb_up',\n",
       " 'num_thumb_down',\n",
       " 'level',\n",
       " 'add_to_playlist',\n",
       " 'add_friend']"
      ]
     },
     "execution_count": 39,
     "metadata": {},
     "output_type": "execute_result"
    }
   ],
   "source": [
    "# seeing if the right columns are being converted\n",
    "cols"
   ]
  },
  {
   "cell_type": "code",
   "execution_count": 40,
   "metadata": {},
   "outputs": [
    {
     "name": "stdout",
     "output_type": "stream",
     "text": [
      "+------+----------+--------------+-----------------+-----------------+-----------------+------------------+---------------+---------+---------------+--------------+---------------+-----------------+--------+------------------+-------------+\n",
      "|userId| regDayNum|listen_timeNum|avgSessionTimeNum|minSessionTimeNum|maxSessionTimeNum|avgSessionSongsNum|sessionCountNum|genderNum|artist_countNum|churn_labelNum|num_thumb_upNum|num_thumb_downNum|levelNum|add_to_playlistNum|add_friendNum|\n",
      "+------+----------+--------------+-----------------+-----------------+-----------------+------------------+---------------+---------+---------------+--------------+---------------+-----------------+--------+------------------+-------------+\n",
      "|100004| 172.44008|     231480.39|        185.98651|              0.0|         940.2167|              47.1|           21.0|      1.0|          733.0|           0.0|           35.0|             11.0|     1.0|              23.0|         19.0|\n",
      "|   104| 125.58271|     441694.47|        281.03397|        25.783333|           993.65|              68.5|           26.0|      1.0|         1214.0|           0.0|           84.0|             17.0|     1.0|              43.0|         23.0|\n",
      "|    60|  71.48456|      412321.5|         380.7148|        7.7166667|        992.23334|         91.333336|           18.0|      0.0|         1137.0|           0.0|           84.0|              9.0|     1.0|              58.0|         27.0|\n",
      "|    68|  100.0113|      7079.693|        63.741665|        33.533333|            93.95|              14.5|            2.0|      1.0|           29.0|           0.0|            2.0|              0.0|     0.0|               0.0|          7.0|\n",
      "|    90| 101.98753|       9481.23|        29.706667|              0.0|         74.38333|              9.25|            5.0|      0.0|           37.0|           0.0|            0.0|              0.0|     0.0|               0.0|          0.0|\n",
      "|   103|  42.13235|     267252.94|         401.6712|              0.0|        1775.0834|             107.3|           11.0|      1.0|          834.0|           1.0|           52.0|              9.0|     1.0|              42.0|         25.0|\n",
      "|200005|113.131805|     32765.639|        87.397224|             24.0|        185.08333|         23.166666|            6.0|      0.0|          131.0|           0.0|            7.0|              0.0|     1.0|               5.0|          3.0|\n",
      "|    38|  75.06532|     327566.47|         342.2875|        25.716667|          1179.95|            82.625|           16.0|      0.0|          939.0|           0.0|           65.0|             21.0|     1.0|              30.0|         21.0|\n",
      "|    40|  78.96927|     259785.33|        251.47058|         9.383333|        797.48334|         63.411766|           17.0|      1.0|          825.0|           0.0|           66.0|             11.0|     1.0|              39.0|         23.0|\n",
      "|   128|  95.33169|     429447.28|         416.6255|              0.0|           1817.3|             108.0|           17.0|      0.0|         1163.0|           0.0|           87.0|             18.0|     1.0|              53.0|         28.0|\n",
      "|200024| 28.427696|     103471.74|        211.70833|        52.166668|         579.0333|            52.125|            8.0|      0.0|          368.0|           1.0|           19.0|             13.0|     1.0|              15.0|          9.0|\n",
      "|    23| 135.89708|      164815.4|        682.55414|        29.783333|        2374.6333|             164.0|            4.0|      1.0|          553.0|           0.0|           28.0|              6.0|     1.0|              21.0|         15.0|\n",
      "|    41| 110.77248|      473900.1|        657.67224|      0.016666668|           2278.2|         157.83333|           12.0|      1.0|         1319.0|           0.0|           76.0|             10.0|     1.0|              61.0|         36.0|\n",
      "|   126| 62.095695|      648839.6|          357.505|              0.0|          1533.75|          88.86207|           30.0|      0.0|         1643.0|           0.0|          135.0|             21.0|     1.0|              72.0|         33.0|\n",
      "|   131| 120.89992|     389584.28|        340.22455|              0.0|         855.6667|              92.0|           19.0|      0.0|         1100.0|           0.0|           72.0|             20.0|     0.0|              51.0|         26.0|\n",
      "|   140| 80.605125|     1410075.5|        328.06525|              0.0|        2230.2666|         84.537315|           71.0|      1.0|         2819.0|           0.0|          277.0|             75.0|     1.0|             148.0|        143.0|\n",
      "|    17| 13.099016|     225482.84|           601.25|         9.933333|        1546.4333|         132.42857|            7.0|      1.0|          741.0|           1.0|           40.0|             13.0|     1.0|              30.0|         12.0|\n",
      "|   108|  62.23816|      156542.8|         432.8278|        1.9666667|        1206.2333|             105.5|            6.0|      1.0|          509.0|           0.0|           20.0|              6.0|     1.0|              15.0|         15.0|\n",
      "|   117|  72.10062|      88033.86|        109.70385|         6.016667|        576.48334|         26.384615|           13.0|      1.0|          298.0|           0.0|           11.0|              3.0|     0.0|              10.0|         10.0|\n",
      "|300010|  74.17874|      65846.45|        155.42857|        13.683333|           330.95|          37.57143|            7.0|      0.0|          244.0|           0.0|           21.0|              1.0|     0.0|               7.0|          8.0|\n",
      "+------+----------+--------------+-----------------+-----------------+-----------------+------------------+---------------+---------+---------------+--------------+---------------+-----------------+--------+------------------+-------------+\n",
      "only showing top 20 rows\n",
      "\n"
     ]
    }
   ],
   "source": [
    "data.na.fill(0)\n",
    "data.show()"
   ]
  },
  {
   "cell_type": "code",
   "execution_count": 41,
   "metadata": {},
   "outputs": [
    {
     "data": {
      "text/plain": [
       "[Row(userId='125', regDayNum=71.31688690185547, listen_timeNum=2089.113037109375, avgSessionTimeNum=29.566667556762695, minSessionTimeNum=29.566667556762695, maxSessionTimeNum=29.566667556762695, avgSessionSongsNum=8.0, sessionCountNum=1.0, genderNum=0.0, artist_countNum=8.0, churn_labelNum=1.0, num_thumb_upNum=0.0, num_thumb_downNum=0.0, levelNum=0.0, add_to_playlistNum=0.0, add_friendNum=0.0)]"
      ]
     },
     "execution_count": 41,
     "metadata": {},
     "output_type": "execute_result"
    }
   ],
   "source": [
    "#checking for the same user id\n",
    "data.where(\"userId = 125\").collect()"
   ]
  },
  {
   "cell_type": "code",
   "execution_count": 42,
   "metadata": {},
   "outputs": [
    {
     "data": {
      "text/plain": [
       "['regDayNum',\n",
       " 'listen_timeNum',\n",
       " 'avgSessionTimeNum',\n",
       " 'minSessionTimeNum',\n",
       " 'maxSessionTimeNum',\n",
       " 'avgSessionSongsNum',\n",
       " 'sessionCountNum',\n",
       " 'genderNum',\n",
       " 'artist_countNum',\n",
       " 'churn_labelNum',\n",
       " 'num_thumb_upNum',\n",
       " 'num_thumb_downNum',\n",
       " 'levelNum',\n",
       " 'add_to_playlistNum',\n",
       " 'add_friendNum']"
      ]
     },
     "execution_count": 42,
     "metadata": {},
     "output_type": "execute_result"
    }
   ],
   "source": [
    "# Now we can vectorize it\n",
    "cols_vector = data.columns[1:]\n",
    "cols_vector"
   ]
  },
  {
   "cell_type": "code",
   "execution_count": 43,
   "metadata": {},
   "outputs": [],
   "source": [
    "#Re-arring the columns\n",
    "data = data.select('churn_labelNum','regDayNum', 'listen_timeNum', 'avgSessionTimeNum', 'minSessionTimeNum', \\\n",
    "                   'maxSessionTimeNum', 'avgSessionSongsNum', 'sessionCountNum', 'genderNum', 'artist_countNum',\\\n",
    "                   'num_thumb_upNum', 'num_thumb_downNum', 'levelNum', 'add_to_playlistNum', 'add_friendNum')"
   ]
  },
  {
   "cell_type": "code",
   "execution_count": 44,
   "metadata": {},
   "outputs": [
    {
     "data": {
      "text/plain": [
       "['regDayNum',\n",
       " 'listen_timeNum',\n",
       " 'avgSessionTimeNum',\n",
       " 'minSessionTimeNum',\n",
       " 'maxSessionTimeNum',\n",
       " 'avgSessionSongsNum',\n",
       " 'sessionCountNum',\n",
       " 'genderNum',\n",
       " 'artist_countNum',\n",
       " 'num_thumb_upNum',\n",
       " 'num_thumb_downNum',\n",
       " 'levelNum',\n",
       " 'add_to_playlistNum',\n",
       " 'add_friendNum']"
      ]
     },
     "execution_count": 44,
     "metadata": {},
     "output_type": "execute_result"
    }
   ],
   "source": [
    "# rechecking the columns\n",
    "cols_vector = data.columns[1:]\n",
    "cols_vector"
   ]
  },
  {
   "cell_type": "code",
   "execution_count": 45,
   "metadata": {},
   "outputs": [],
   "source": [
    "# Assembler\n",
    "assembler = VectorAssembler(inputCols=cols_vector, outputCol=\"NumFeatures\")\n",
    "data = assembler.transform(data)"
   ]
  },
  {
   "cell_type": "code",
   "execution_count": 46,
   "metadata": {},
   "outputs": [
    {
     "name": "stdout",
     "output_type": "stream",
     "text": [
      "+--------------+---------+--------------+-----------------+-----------------+-----------------+------------------+---------------+---------+---------------+---------------+-----------------+--------+------------------+-------------+--------------------+\n",
      "|churn_labelNum|regDayNum|listen_timeNum|avgSessionTimeNum|minSessionTimeNum|maxSessionTimeNum|avgSessionSongsNum|sessionCountNum|genderNum|artist_countNum|num_thumb_upNum|num_thumb_downNum|levelNum|add_to_playlistNum|add_friendNum|         NumFeatures|\n",
      "+--------------+---------+--------------+-----------------+-----------------+-----------------+------------------+---------------+---------+---------------+---------------+-----------------+--------+------------------+-------------+--------------------+\n",
      "|           0.0|172.44008|     231480.39|        185.98651|              0.0|         940.2167|              47.1|           21.0|      1.0|          733.0|           35.0|             11.0|     1.0|              23.0|         19.0|[172.440078735351...|\n",
      "|           0.0|125.58271|     441694.47|        281.03397|        25.783333|           993.65|              68.5|           26.0|      1.0|         1214.0|           84.0|             17.0|     1.0|              43.0|         23.0|[125.582710266113...|\n",
      "|           0.0| 71.48456|      412321.5|         380.7148|        7.7166667|        992.23334|         91.333336|           18.0|      0.0|         1137.0|           84.0|              9.0|     1.0|              58.0|         27.0|[71.4845581054687...|\n",
      "|           0.0| 100.0113|      7079.693|        63.741665|        33.533333|            93.95|              14.5|            2.0|      1.0|           29.0|            2.0|              0.0|     0.0|               0.0|          7.0|[100.011299133300...|\n",
      "|           0.0|101.98753|       9481.23|        29.706667|              0.0|         74.38333|              9.25|            5.0|      0.0|           37.0|            0.0|              0.0|     0.0|               0.0|          0.0|(14,[0,1,2,4,5,6,...|\n",
      "+--------------+---------+--------------+-----------------+-----------------+-----------------+------------------+---------------+---------+---------------+---------------+-----------------+--------+------------------+-------------+--------------------+\n",
      "only showing top 5 rows\n",
      "\n"
     ]
    }
   ],
   "source": [
    "data.show(5)"
   ]
  },
  {
   "cell_type": "code",
   "execution_count": 47,
   "metadata": {},
   "outputs": [],
   "source": [
    "# Scaling the vectors\n",
    "scaler = StandardScaler(inputCol=\"NumFeatures\", outputCol=\"features\", withStd=True)\n",
    "scalerModel = scaler.fit(data)\n",
    "data = scalerModel.transform(data)"
   ]
  },
  {
   "cell_type": "code",
   "execution_count": 48,
   "metadata": {},
   "outputs": [
    {
     "name": "stdout",
     "output_type": "stream",
     "text": [
      "+--------------+---------+--------------+-----------------+-----------------+-----------------+------------------+---------------+---------+---------------+---------------+-----------------+--------+------------------+-------------+--------------------+--------------------+\n",
      "|churn_labelNum|regDayNum|listen_timeNum|avgSessionTimeNum|minSessionTimeNum|maxSessionTimeNum|avgSessionSongsNum|sessionCountNum|genderNum|artist_countNum|num_thumb_upNum|num_thumb_downNum|levelNum|add_to_playlistNum|add_friendNum|         NumFeatures|            features|\n",
      "+--------------+---------+--------------+-----------------+-----------------+-----------------+------------------+---------------+---------+---------------+---------------+-----------------+--------+------------------+-------------+--------------------+--------------------+\n",
      "|           0.0|172.44008|     231480.39|        185.98651|              0.0|         940.2167|              47.1|           21.0|      1.0|          733.0|           35.0|             11.0|     1.0|              23.0|         19.0|[172.440078735351...|[4.57868685571351...|\n",
      "|           0.0|125.58271|     441694.47|        281.03397|        25.783333|           993.65|              68.5|           26.0|      1.0|         1214.0|           84.0|             17.0|     1.0|              43.0|         23.0|[125.582710266113...|[3.33451427891543...|\n",
      "|           0.0| 71.48456|      412321.5|         380.7148|        7.7166667|        992.23334|         91.333336|           18.0|      0.0|         1137.0|           84.0|              9.0|     1.0|              58.0|         27.0|[71.4845581054687...|[1.89808198293810...|\n",
      "|           0.0| 100.0113|      7079.693|        63.741665|        33.533333|            93.95|              14.5|            2.0|      1.0|           29.0|            2.0|              0.0|     0.0|               0.0|          7.0|[100.011299133300...|[2.65553358663944...|\n",
      "|           0.0|101.98753|       9481.23|        29.706667|              0.0|         74.38333|              9.25|            5.0|      0.0|           37.0|            0.0|              0.0|     0.0|               0.0|          0.0|(14,[0,1,2,4,5,6,...|(14,[0,1,2,4,5,6,...|\n",
      "+--------------+---------+--------------+-----------------+-----------------+-----------------+------------------+---------------+---------+---------------+---------------+-----------------+--------+------------------+-------------+--------------------+--------------------+\n",
      "only showing top 5 rows\n",
      "\n"
     ]
    }
   ],
   "source": [
    "data.show(5)"
   ]
  },
  {
   "cell_type": "code",
   "execution_count": 49,
   "metadata": {},
   "outputs": [],
   "source": [
    "#Creating the label column for logistic to run\n",
    "data = data.select(data.churn_labelNum.alias(\"label\"),\"features\")"
   ]
  },
  {
   "cell_type": "code",
   "execution_count": 50,
   "metadata": {},
   "outputs": [
    {
     "name": "stdout",
     "output_type": "stream",
     "text": [
      "+-----+--------------------+\n",
      "|label|            features|\n",
      "+-----+--------------------+\n",
      "|  0.0|[4.57868685571351...|\n",
      "|  0.0|[3.33451427891543...|\n",
      "|  0.0|[1.89808198293810...|\n",
      "|  0.0|[2.65553358663944...|\n",
      "|  0.0|(14,[0,1,2,4,5,6,...|\n",
      "+-----+--------------------+\n",
      "only showing top 5 rows\n",
      "\n"
     ]
    }
   ],
   "source": [
    "data.show(5)"
   ]
  },
  {
   "cell_type": "code",
   "execution_count": 51,
   "metadata": {},
   "outputs": [
    {
     "name": "stdout",
     "output_type": "stream",
     "text": [
      "+-----+-----+\n",
      "|label|count|\n",
      "+-----+-----+\n",
      "|  1.0|   52|\n",
      "|  0.0|  173|\n",
      "+-----+-----+\n",
      "\n"
     ]
    }
   ],
   "source": [
    "data.groupby(\"label\").count().show()"
   ]
  },
  {
   "cell_type": "code",
   "execution_count": 52,
   "metadata": {},
   "outputs": [],
   "source": [
    "data = data.select(col(\"label\").cast(\"int\"),\"features\")"
   ]
  },
  {
   "cell_type": "code",
   "execution_count": 53,
   "metadata": {},
   "outputs": [
    {
     "name": "stdout",
     "output_type": "stream",
     "text": [
      "+-----+-----+\n",
      "|label|count|\n",
      "+-----+-----+\n",
      "|    1|   52|\n",
      "|    0|  173|\n",
      "+-----+-----+\n",
      "\n"
     ]
    }
   ],
   "source": [
    "data.groupby(\"label\").count().show()"
   ]
  },
  {
   "cell_type": "code",
   "execution_count": 54,
   "metadata": {},
   "outputs": [],
   "source": [
    "# train test split\n",
    "train, test = data.randomSplit([0.7, 0.3], seed=42)\n"
   ]
  },
  {
   "cell_type": "code",
   "execution_count": 55,
   "metadata": {},
   "outputs": [
    {
     "name": "stdout",
     "output_type": "stream",
     "text": [
      "+-----+-----+\n",
      "|label|count|\n",
      "+-----+-----+\n",
      "|    1|   35|\n",
      "|    0|  121|\n",
      "+-----+-----+\n",
      "\n"
     ]
    }
   ],
   "source": [
    "#checking counts\n",
    "train.groupby(\"label\").count().show()"
   ]
  },
  {
   "cell_type": "code",
   "execution_count": 56,
   "metadata": {},
   "outputs": [
    {
     "name": "stdout",
     "output_type": "stream",
     "text": [
      "+-----+-----+\n",
      "|label|count|\n",
      "+-----+-----+\n",
      "|    1|   17|\n",
      "|    0|   52|\n",
      "+-----+-----+\n",
      "\n"
     ]
    }
   ],
   "source": [
    "#checking counts\n",
    "test.groupby(\"label\").count().show()"
   ]
  },
  {
   "cell_type": "markdown",
   "metadata": {},
   "source": [
    "#### Using the following ML Algortithms\n",
    " 1. Decision Tree\n",
    " 2. Logistic Regression\n",
    " 3. Gradient Boost\n"
   ]
  },
  {
   "cell_type": "code",
   "execution_count": 100,
   "metadata": {},
   "outputs": [],
   "source": [
    "# writing a function to experiment with different algorithms\n",
    "\n",
    "def models(ml_model):\n",
    "    dt = ml_model()\n",
    "    #paramGrid = ParamGridBuilder() \\\n",
    "     #      .build()\n",
    "\n",
    "    #crossval_dt = CrossValidator(estimator=dt,\n",
    "     #                     estimatorParamMaps=paramGrid,\n",
    "      #                    evaluator=MulticlassClassificationEvaluator(),\n",
    "       #                   numFolds=3)\n",
    "\n",
    "    cvModel_dt = dt.fit(train)\n",
    "     \n",
    "    results_gbt = cvModel_dt.transform(test)\n",
    "    evaluator = MulticlassClassificationEvaluator(predictionCol=\"prediction\")\n",
    "    \n",
    "    print('Metrics for', ml_model, 'model:')\n",
    "    print('Accuracy: {}'.format(evaluator.evaluate(results_gbt, {evaluator.metricName: \"accuracy\"})))\n",
    "    print('F-1 Score:{}'.format(evaluator.evaluate(results_gbt, {evaluator.metricName: \"f1\"})))\n",
    "    "
   ]
  },
  {
   "cell_type": "code",
   "execution_count": 73,
   "metadata": {},
   "outputs": [
    {
     "name": "stdout",
     "output_type": "stream",
     "text": [
      "Metrics for <class 'pyspark.ml.classification.DecisionTreeClassifier'> model:\n",
      "Accuracy: 0.7246376811594203\n",
      "F-1 Score:0.7072151997395798\n"
     ]
    }
   ],
   "source": [
    "models(DecisionTreeClassifier)"
   ]
  },
  {
   "cell_type": "code",
   "execution_count": 101,
   "metadata": {},
   "outputs": [
    {
     "name": "stdout",
     "output_type": "stream",
     "text": [
      "Metrics for <class 'pyspark.ml.classification.LogisticRegression'> model:\n",
      "Accuracy: 0.782608695652174\n",
      "F-1 Score:0.7104974712997327\n"
     ]
    }
   ],
   "source": [
    "models(LogisticRegression)"
   ]
  },
  {
   "cell_type": "code",
   "execution_count": 75,
   "metadata": {},
   "outputs": [
    {
     "name": "stdout",
     "output_type": "stream",
     "text": [
      "Metrics for <class 'pyspark.ml.classification.GBTClassifier'> model:\n",
      "Accuracy: 0.6956521739130435\n",
      "F-1 Score:0.6657962310136223\n"
     ]
    }
   ],
   "source": [
    "models(GBTClassifier)"
   ]
  },
  {
   "cell_type": "markdown",
   "metadata": {},
   "source": [
    "**Observations:**\n",
    " 1. Decision Tree model has a accuracy of: **0.7246** , and F1 score of:**0.7002** \n",
    " 2. Logistic Regression model has a accuracy of: **0.7826** , and F1 score of:**0.7104** \n",
    " 3. Gradient Boost model has a accuracy of: **0.6956** , and F1 score of:**0.6657** \n",
    " \n",
    " _______________________________________________________________________________________________________\n",
    " \n",
    " - Logistic Regression has the best F1 score and accuracy\n",
    " "
   ]
  },
  {
   "cell_type": "markdown",
   "metadata": {},
   "source": [
    "#### Hyper Parameter tuning\n",
    "We use grid search to fine tune our Random Forest Classifier. We mainly tuned two parameters,elastic net regularization. elasticNetParam corresponds to α and regParam corresponds to λ"
   ]
  },
  {
   "cell_type": "code",
   "execution_count": 99,
   "metadata": {},
   "outputs": [
    {
     "name": "stdout",
     "output_type": "stream",
     "text": [
      "Metrics for Logistic Regression model:\n",
      "Accuracy: 0.782608695652174\n",
      "F-1 Score:0.7104974712997327\n"
     ]
    }
   ],
   "source": [
    "# Extracting the co-efficient for Logistic regression\n",
    "# Re-run the function for Logistic Regression\n",
    "\n",
    "\n",
    "dt = LogisticRegression(maxIter=500)\n",
    "paramGrid = ParamGridBuilder() \\\n",
    "    .addGrid(dt.elasticNetParam,[0.0,0.05,0.1]) \\\n",
    "    .addGrid(dt.regParam,[0.0,0.1,0.5,1]) \\\n",
    "    .build()\n",
    "\n",
    "crossval_dt = CrossValidator(estimator=dt,\n",
    "                          estimatorParamMaps=paramGrid,\n",
    "                          evaluator=MulticlassClassificationEvaluator(),\n",
    "                          numFolds=3)\n",
    "\n",
    "cvModel_dt = crossval_dt.fit(train)\n",
    "cvModel_dt.avgMetrics\n",
    "    \n",
    "results_gbt = cvModel_dt.transform(test)\n",
    "evaluator = MulticlassClassificationEvaluator(predictionCol=\"prediction\")\n",
    "    \n",
    "print('Metrics for Logistic Regression model:')\n",
    "print('Accuracy: {}'.format(evaluator.evaluate(results_gbt, {evaluator.metricName: \"accuracy\"})))\n",
    "print('F-1 Score:{}'.format(evaluator.evaluate(results_gbt, {evaluator.metricName: \"f1\"})))\n"
   ]
  },
  {
   "cell_type": "markdown",
   "metadata": {},
   "source": [
    "#### Even with additional parameters tuning the accuracy and F1 score does not improve. This means that the model is not multicolinear and categorical variables don't need any regularization"
   ]
  },
  {
   "cell_type": "code",
   "execution_count": 102,
   "metadata": {},
   "outputs": [],
   "source": [
    "# Extracting the co-efficients"
   ]
  },
  {
   "cell_type": "code",
   "execution_count": 103,
   "metadata": {},
   "outputs": [
    {
     "data": {
      "text/plain": [
       "DenseMatrix(1, 14, [-1.0184, -0.6438, 1.944, -0.5826, -0.3085, -1.7493, -0.6358, -0.0425, 1.1501, -1.0067, 0.3065, 0.1436, 0.7762, -0.9026], 1)"
      ]
     },
     "execution_count": 103,
     "metadata": {},
     "output_type": "execute_result"
    }
   ],
   "source": [
    "cvModel_dt.bestModel.coefficientMatrix"
   ]
  },
  {
   "cell_type": "code",
   "execution_count": 104,
   "metadata": {},
   "outputs": [
    {
     "data": {
      "text/plain": [
       "DenseMatrix(1, 14, [-1.0184, -0.6438, 1.944, -0.5826, -0.3085, -1.7493, -0.6358, -0.0425, 1.1501, -1.0067, 0.3065, 0.1436, 0.7762, -0.9026], 1)"
      ]
     },
     "execution_count": 104,
     "metadata": {},
     "output_type": "execute_result"
    }
   ],
   "source": [
    "feature_importance = cvModel_dt.bestModel.coefficientMatrix\n",
    "feature_importance"
   ]
  },
  {
   "cell_type": "code",
   "execution_count": 105,
   "metadata": {},
   "outputs": [],
   "source": [
    "#Extracting the co-efficients against each independent variable"
   ]
  },
  {
   "cell_type": "code",
   "execution_count": 106,
   "metadata": {},
   "outputs": [],
   "source": [
    "coeff_dict = {}"
   ]
  },
  {
   "cell_type": "code",
   "execution_count": 107,
   "metadata": {},
   "outputs": [
    {
     "data": {
      "text/plain": [
       "{'regDay': [-1.0184429914901953],\n",
       " 'listen_time': [-0.64381557182060256],\n",
       " 'avgSessionTime': [1.9440075895748192],\n",
       " 'minSessionTime': [-0.58256300736774946],\n",
       " 'maxSessionTime': [-0.30854503056179566],\n",
       " 'avgSessionSongs': [-1.7493192327906224],\n",
       " 'sessionCount': [-0.63579931065892226],\n",
       " 'gender': [-0.042520949032590773],\n",
       " 'artist_count': [1.1501141047165628],\n",
       " 'num_thumb_up': [-1.0067445352916415],\n",
       " 'num_thumb_down': [0.30649201502288909],\n",
       " 'level': [0.14360778029360957],\n",
       " 'add_to_playlist': [0.77621372974384184],\n",
       " 'add_friend': [-0.90264491109301193]}"
      ]
     },
     "execution_count": 107,
     "metadata": {},
     "output_type": "execute_result"
    }
   ],
   "source": [
    "coeff_dict = {\n",
    "'regDay':[feature_importance[0,0]],\n",
    "'listen_time': [feature_importance[0,1]],\n",
    "'avgSessionTime': [feature_importance[0,2]],\n",
    "'minSessionTime' : [feature_importance[0,3]],\n",
    "'maxSessionTime': [feature_importance[0,4]],\n",
    "'avgSessionSongs' : [feature_importance[0,5]],\n",
    "'sessionCount' : [feature_importance[0,6]],\n",
    "'gender' : [feature_importance[0,7]],\n",
    "'artist_count' : [feature_importance[0,8]],\n",
    "'num_thumb_up' : [feature_importance[0,9]],\n",
    "'num_thumb_down' : [feature_importance[0,10]],\n",
    "'level' : [feature_importance[0,11]],\n",
    "'add_to_playlist' : [feature_importance[0,12]],\n",
    "'add_friend' : [feature_importance[0,13]]\n",
    "    }\n",
    "\n",
    "coeff_dict"
   ]
  },
  {
   "cell_type": "code",
   "execution_count": 108,
   "metadata": {},
   "outputs": [
    {
     "data": {
      "text/html": [
       "<div>\n",
       "<style scoped>\n",
       "    .dataframe tbody tr th:only-of-type {\n",
       "        vertical-align: middle;\n",
       "    }\n",
       "\n",
       "    .dataframe tbody tr th {\n",
       "        vertical-align: top;\n",
       "    }\n",
       "\n",
       "    .dataframe thead th {\n",
       "        text-align: right;\n",
       "    }\n",
       "</style>\n",
       "<table border=\"1\" class=\"dataframe\">\n",
       "  <thead>\n",
       "    <tr style=\"text-align: right;\">\n",
       "      <th></th>\n",
       "      <th>coeff</th>\n",
       "    </tr>\n",
       "  </thead>\n",
       "  <tbody>\n",
       "    <tr>\n",
       "      <th>regDay</th>\n",
       "      <td>-1.018443</td>\n",
       "    </tr>\n",
       "    <tr>\n",
       "      <th>listen_time</th>\n",
       "      <td>-0.643816</td>\n",
       "    </tr>\n",
       "    <tr>\n",
       "      <th>avgSessionTime</th>\n",
       "      <td>1.944008</td>\n",
       "    </tr>\n",
       "    <tr>\n",
       "      <th>minSessionTime</th>\n",
       "      <td>-0.582563</td>\n",
       "    </tr>\n",
       "    <tr>\n",
       "      <th>maxSessionTime</th>\n",
       "      <td>-0.308545</td>\n",
       "    </tr>\n",
       "    <tr>\n",
       "      <th>avgSessionSongs</th>\n",
       "      <td>-1.749319</td>\n",
       "    </tr>\n",
       "    <tr>\n",
       "      <th>sessionCount</th>\n",
       "      <td>-0.635799</td>\n",
       "    </tr>\n",
       "    <tr>\n",
       "      <th>gender</th>\n",
       "      <td>-0.042521</td>\n",
       "    </tr>\n",
       "    <tr>\n",
       "      <th>artist_count</th>\n",
       "      <td>1.150114</td>\n",
       "    </tr>\n",
       "    <tr>\n",
       "      <th>num_thumb_up</th>\n",
       "      <td>-1.006745</td>\n",
       "    </tr>\n",
       "    <tr>\n",
       "      <th>num_thumb_down</th>\n",
       "      <td>0.306492</td>\n",
       "    </tr>\n",
       "    <tr>\n",
       "      <th>level</th>\n",
       "      <td>0.143608</td>\n",
       "    </tr>\n",
       "    <tr>\n",
       "      <th>add_to_playlist</th>\n",
       "      <td>0.776214</td>\n",
       "    </tr>\n",
       "    <tr>\n",
       "      <th>add_friend</th>\n",
       "      <td>-0.902645</td>\n",
       "    </tr>\n",
       "  </tbody>\n",
       "</table>\n",
       "</div>"
      ],
      "text/plain": [
       "                    coeff\n",
       "regDay          -1.018443\n",
       "listen_time     -0.643816\n",
       "avgSessionTime   1.944008\n",
       "minSessionTime  -0.582563\n",
       "maxSessionTime  -0.308545\n",
       "avgSessionSongs -1.749319\n",
       "sessionCount    -0.635799\n",
       "gender          -0.042521\n",
       "artist_count     1.150114\n",
       "num_thumb_up    -1.006745\n",
       "num_thumb_down   0.306492\n",
       "level            0.143608\n",
       "add_to_playlist  0.776214\n",
       "add_friend      -0.902645"
      ]
     },
     "execution_count": 108,
     "metadata": {},
     "output_type": "execute_result"
    }
   ],
   "source": [
    "#Converting the dictionary to a dataframe\n",
    "df_coeff = pd.DataFrame.from_dict(coeff_dict,orient='index',columns = [\"coeff\"])\n",
    "df_coeff"
   ]
  },
  {
   "cell_type": "code",
   "execution_count": 109,
   "metadata": {},
   "outputs": [
    {
     "data": {
      "text/html": [
       "<div>\n",
       "<style scoped>\n",
       "    .dataframe tbody tr th:only-of-type {\n",
       "        vertical-align: middle;\n",
       "    }\n",
       "\n",
       "    .dataframe tbody tr th {\n",
       "        vertical-align: top;\n",
       "    }\n",
       "\n",
       "    .dataframe thead th {\n",
       "        text-align: right;\n",
       "    }\n",
       "</style>\n",
       "<table border=\"1\" class=\"dataframe\">\n",
       "  <thead>\n",
       "    <tr style=\"text-align: right;\">\n",
       "      <th></th>\n",
       "      <th>coeff</th>\n",
       "    </tr>\n",
       "    <tr>\n",
       "      <th>Variable</th>\n",
       "      <th></th>\n",
       "    </tr>\n",
       "  </thead>\n",
       "  <tbody>\n",
       "    <tr>\n",
       "      <th>regDay</th>\n",
       "      <td>-1.018443</td>\n",
       "    </tr>\n",
       "    <tr>\n",
       "      <th>listen_time</th>\n",
       "      <td>-0.643816</td>\n",
       "    </tr>\n",
       "    <tr>\n",
       "      <th>avgSessionTime</th>\n",
       "      <td>1.944008</td>\n",
       "    </tr>\n",
       "    <tr>\n",
       "      <th>minSessionTime</th>\n",
       "      <td>-0.582563</td>\n",
       "    </tr>\n",
       "    <tr>\n",
       "      <th>maxSessionTime</th>\n",
       "      <td>-0.308545</td>\n",
       "    </tr>\n",
       "    <tr>\n",
       "      <th>avgSessionSongs</th>\n",
       "      <td>-1.749319</td>\n",
       "    </tr>\n",
       "    <tr>\n",
       "      <th>sessionCount</th>\n",
       "      <td>-0.635799</td>\n",
       "    </tr>\n",
       "    <tr>\n",
       "      <th>gender</th>\n",
       "      <td>-0.042521</td>\n",
       "    </tr>\n",
       "    <tr>\n",
       "      <th>artist_count</th>\n",
       "      <td>1.150114</td>\n",
       "    </tr>\n",
       "    <tr>\n",
       "      <th>num_thumb_up</th>\n",
       "      <td>-1.006745</td>\n",
       "    </tr>\n",
       "    <tr>\n",
       "      <th>num_thumb_down</th>\n",
       "      <td>0.306492</td>\n",
       "    </tr>\n",
       "    <tr>\n",
       "      <th>level</th>\n",
       "      <td>0.143608</td>\n",
       "    </tr>\n",
       "    <tr>\n",
       "      <th>add_to_playlist</th>\n",
       "      <td>0.776214</td>\n",
       "    </tr>\n",
       "    <tr>\n",
       "      <th>add_friend</th>\n",
       "      <td>-0.902645</td>\n",
       "    </tr>\n",
       "  </tbody>\n",
       "</table>\n",
       "</div>"
      ],
      "text/plain": [
       "                    coeff\n",
       "Variable                 \n",
       "regDay          -1.018443\n",
       "listen_time     -0.643816\n",
       "avgSessionTime   1.944008\n",
       "minSessionTime  -0.582563\n",
       "maxSessionTime  -0.308545\n",
       "avgSessionSongs -1.749319\n",
       "sessionCount    -0.635799\n",
       "gender          -0.042521\n",
       "artist_count     1.150114\n",
       "num_thumb_up    -1.006745\n",
       "num_thumb_down   0.306492\n",
       "level            0.143608\n",
       "add_to_playlist  0.776214\n",
       "add_friend      -0.902645"
      ]
     },
     "execution_count": 109,
     "metadata": {},
     "output_type": "execute_result"
    }
   ],
   "source": [
    "#renaming the index column\n",
    "df_coeff.index.name = 'Variable'\n",
    "df_coeff"
   ]
  },
  {
   "cell_type": "code",
   "execution_count": 110,
   "metadata": {},
   "outputs": [],
   "source": [
    "# Converting the importance into a %\n",
    "df_coeff[\"importance\"] =df_coeff[\"coeff\"].abs()*100 / df_coeff[\"coeff\"].max()"
   ]
  },
  {
   "cell_type": "code",
   "execution_count": 111,
   "metadata": {},
   "outputs": [
    {
     "data": {
      "text/html": [
       "<div>\n",
       "<style scoped>\n",
       "    .dataframe tbody tr th:only-of-type {\n",
       "        vertical-align: middle;\n",
       "    }\n",
       "\n",
       "    .dataframe tbody tr th {\n",
       "        vertical-align: top;\n",
       "    }\n",
       "\n",
       "    .dataframe thead th {\n",
       "        text-align: right;\n",
       "    }\n",
       "</style>\n",
       "<table border=\"1\" class=\"dataframe\">\n",
       "  <thead>\n",
       "    <tr style=\"text-align: right;\">\n",
       "      <th></th>\n",
       "      <th>coeff</th>\n",
       "      <th>importance</th>\n",
       "    </tr>\n",
       "    <tr>\n",
       "      <th>Variable</th>\n",
       "      <th></th>\n",
       "      <th></th>\n",
       "    </tr>\n",
       "  </thead>\n",
       "  <tbody>\n",
       "    <tr>\n",
       "      <th>regDay</th>\n",
       "      <td>-1.018443</td>\n",
       "      <td>52.388838</td>\n",
       "    </tr>\n",
       "    <tr>\n",
       "      <th>listen_time</th>\n",
       "      <td>-0.643816</td>\n",
       "      <td>33.117956</td>\n",
       "    </tr>\n",
       "    <tr>\n",
       "      <th>avgSessionTime</th>\n",
       "      <td>1.944008</td>\n",
       "      <td>100.000000</td>\n",
       "    </tr>\n",
       "    <tr>\n",
       "      <th>minSessionTime</th>\n",
       "      <td>-0.582563</td>\n",
       "      <td>29.967116</td>\n",
       "    </tr>\n",
       "    <tr>\n",
       "      <th>maxSessionTime</th>\n",
       "      <td>-0.308545</td>\n",
       "      <td>15.871596</td>\n",
       "    </tr>\n",
       "    <tr>\n",
       "      <th>avgSessionSongs</th>\n",
       "      <td>-1.749319</td>\n",
       "      <td>89.985206</td>\n",
       "    </tr>\n",
       "    <tr>\n",
       "      <th>sessionCount</th>\n",
       "      <td>-0.635799</td>\n",
       "      <td>32.705598</td>\n",
       "    </tr>\n",
       "    <tr>\n",
       "      <th>gender</th>\n",
       "      <td>-0.042521</td>\n",
       "      <td>2.187283</td>\n",
       "    </tr>\n",
       "    <tr>\n",
       "      <th>artist_count</th>\n",
       "      <td>1.150114</td>\n",
       "      <td>59.162017</td>\n",
       "    </tr>\n",
       "    <tr>\n",
       "      <th>num_thumb_up</th>\n",
       "      <td>-1.006745</td>\n",
       "      <td>51.787068</td>\n",
       "    </tr>\n",
       "    <tr>\n",
       "      <th>num_thumb_down</th>\n",
       "      <td>0.306492</td>\n",
       "      <td>15.765989</td>\n",
       "    </tr>\n",
       "    <tr>\n",
       "      <th>level</th>\n",
       "      <td>0.143608</td>\n",
       "      <td>7.387203</td>\n",
       "    </tr>\n",
       "    <tr>\n",
       "      <th>add_to_playlist</th>\n",
       "      <td>0.776214</td>\n",
       "      <td>39.928534</td>\n",
       "    </tr>\n",
       "    <tr>\n",
       "      <th>add_friend</th>\n",
       "      <td>-0.902645</td>\n",
       "      <td>46.432170</td>\n",
       "    </tr>\n",
       "  </tbody>\n",
       "</table>\n",
       "</div>"
      ],
      "text/plain": [
       "                    coeff  importance\n",
       "Variable                             \n",
       "regDay          -1.018443   52.388838\n",
       "listen_time     -0.643816   33.117956\n",
       "avgSessionTime   1.944008  100.000000\n",
       "minSessionTime  -0.582563   29.967116\n",
       "maxSessionTime  -0.308545   15.871596\n",
       "avgSessionSongs -1.749319   89.985206\n",
       "sessionCount    -0.635799   32.705598\n",
       "gender          -0.042521    2.187283\n",
       "artist_count     1.150114   59.162017\n",
       "num_thumb_up    -1.006745   51.787068\n",
       "num_thumb_down   0.306492   15.765989\n",
       "level            0.143608    7.387203\n",
       "add_to_playlist  0.776214   39.928534\n",
       "add_friend      -0.902645   46.432170"
      ]
     },
     "execution_count": 111,
     "metadata": {},
     "output_type": "execute_result"
    }
   ],
   "source": [
    "df_coeff"
   ]
  },
  {
   "cell_type": "code",
   "execution_count": 112,
   "metadata": {},
   "outputs": [
    {
     "data": {
      "text/html": [
       "<div>\n",
       "<style scoped>\n",
       "    .dataframe tbody tr th:only-of-type {\n",
       "        vertical-align: middle;\n",
       "    }\n",
       "\n",
       "    .dataframe tbody tr th {\n",
       "        vertical-align: top;\n",
       "    }\n",
       "\n",
       "    .dataframe thead th {\n",
       "        text-align: right;\n",
       "    }\n",
       "</style>\n",
       "<table border=\"1\" class=\"dataframe\">\n",
       "  <thead>\n",
       "    <tr style=\"text-align: right;\">\n",
       "      <th></th>\n",
       "      <th>Variable</th>\n",
       "      <th>coeff</th>\n",
       "      <th>importance</th>\n",
       "    </tr>\n",
       "  </thead>\n",
       "  <tbody>\n",
       "    <tr>\n",
       "      <th>2</th>\n",
       "      <td>avgSessionTime</td>\n",
       "      <td>1.944008</td>\n",
       "      <td>100.000000</td>\n",
       "    </tr>\n",
       "    <tr>\n",
       "      <th>5</th>\n",
       "      <td>avgSessionSongs</td>\n",
       "      <td>-1.749319</td>\n",
       "      <td>89.985206</td>\n",
       "    </tr>\n",
       "    <tr>\n",
       "      <th>8</th>\n",
       "      <td>artist_count</td>\n",
       "      <td>1.150114</td>\n",
       "      <td>59.162017</td>\n",
       "    </tr>\n",
       "    <tr>\n",
       "      <th>0</th>\n",
       "      <td>regDay</td>\n",
       "      <td>-1.018443</td>\n",
       "      <td>52.388838</td>\n",
       "    </tr>\n",
       "    <tr>\n",
       "      <th>9</th>\n",
       "      <td>num_thumb_up</td>\n",
       "      <td>-1.006745</td>\n",
       "      <td>51.787068</td>\n",
       "    </tr>\n",
       "    <tr>\n",
       "      <th>13</th>\n",
       "      <td>add_friend</td>\n",
       "      <td>-0.902645</td>\n",
       "      <td>46.432170</td>\n",
       "    </tr>\n",
       "    <tr>\n",
       "      <th>12</th>\n",
       "      <td>add_to_playlist</td>\n",
       "      <td>0.776214</td>\n",
       "      <td>39.928534</td>\n",
       "    </tr>\n",
       "    <tr>\n",
       "      <th>1</th>\n",
       "      <td>listen_time</td>\n",
       "      <td>-0.643816</td>\n",
       "      <td>33.117956</td>\n",
       "    </tr>\n",
       "    <tr>\n",
       "      <th>6</th>\n",
       "      <td>sessionCount</td>\n",
       "      <td>-0.635799</td>\n",
       "      <td>32.705598</td>\n",
       "    </tr>\n",
       "    <tr>\n",
       "      <th>3</th>\n",
       "      <td>minSessionTime</td>\n",
       "      <td>-0.582563</td>\n",
       "      <td>29.967116</td>\n",
       "    </tr>\n",
       "    <tr>\n",
       "      <th>4</th>\n",
       "      <td>maxSessionTime</td>\n",
       "      <td>-0.308545</td>\n",
       "      <td>15.871596</td>\n",
       "    </tr>\n",
       "    <tr>\n",
       "      <th>10</th>\n",
       "      <td>num_thumb_down</td>\n",
       "      <td>0.306492</td>\n",
       "      <td>15.765989</td>\n",
       "    </tr>\n",
       "    <tr>\n",
       "      <th>11</th>\n",
       "      <td>level</td>\n",
       "      <td>0.143608</td>\n",
       "      <td>7.387203</td>\n",
       "    </tr>\n",
       "    <tr>\n",
       "      <th>7</th>\n",
       "      <td>gender</td>\n",
       "      <td>-0.042521</td>\n",
       "      <td>2.187283</td>\n",
       "    </tr>\n",
       "  </tbody>\n",
       "</table>\n",
       "</div>"
      ],
      "text/plain": [
       "           Variable     coeff  importance\n",
       "2    avgSessionTime  1.944008  100.000000\n",
       "5   avgSessionSongs -1.749319   89.985206\n",
       "8      artist_count  1.150114   59.162017\n",
       "0            regDay -1.018443   52.388838\n",
       "9      num_thumb_up -1.006745   51.787068\n",
       "13       add_friend -0.902645   46.432170\n",
       "12  add_to_playlist  0.776214   39.928534\n",
       "1       listen_time -0.643816   33.117956\n",
       "6      sessionCount -0.635799   32.705598\n",
       "3    minSessionTime -0.582563   29.967116\n",
       "4    maxSessionTime -0.308545   15.871596\n",
       "10   num_thumb_down  0.306492   15.765989\n",
       "11            level  0.143608    7.387203\n",
       "7            gender -0.042521    2.187283"
      ]
     },
     "execution_count": 112,
     "metadata": {},
     "output_type": "execute_result"
    }
   ],
   "source": [
    "#resetting teh index and sorting\n",
    "df = df_coeff.reset_index()\n",
    "df = df.sort_values('importance',ascending = False)\n",
    "df"
   ]
  },
  {
   "cell_type": "code",
   "execution_count": 113,
   "metadata": {},
   "outputs": [
    {
     "data": {
      "image/png": "[encoded data removed]",
      "text/plain": [
       "<matplotlib.figure.Figure at 0x7f9f14c0d2b0>"
      ]
     },
     "metadata": {
      "needs_background": "light"
     },
     "output_type": "display_data"
    }
   ],
   "source": [
    "#horizontal bar plot of importance\n",
    "ax = sns.barplot(data=df, y='Variable', x='importance', orient='h')\n",
    "plt.xlabel('Importance of variables')\n",
    "plt.ylabel('Variables')\n",
    "plt.title('Overall importance of Logistic Regression Model')\n",
    "sns.despine(ax=ax);"
   ]
  },
  {
   "cell_type": "markdown",
   "metadata": {},
   "source": [
    "#### Observations:\n",
    " - It is evident that the count of artists that a user listens to is the most important variable that will inofrm us the likelihookd of churn of a user \n",
    " - Hence, the top 5 important features are:\n",
    "     - Average Session Time that a user spends in session\n",
    "     - Total number of songs listened in each session\n",
    "     - Total number of artists a user listens to\n",
    "     - Number of days since registration\n",
    "     - Number of times the user has voted 'positively'"
   ]
  },
  {
   "cell_type": "markdown",
   "metadata": {},
   "source": [
    "# Conclusion \n",
    "**Summary**\n",
    "In this notebook, have developed a model to predict customer churn. The data is cleaned with all missing data .\n",
    " - rows with no userId\n",
    " - converted timestamp\n",
    " - converted gender to binary numeric column\n",
    " - 12 features were built for our model. \n",
    "\n",
    "We selected 4 models: \n",
    " 1. Decision Tree\n",
    " 2. Logistic Regression\n",
    " 3. Gradient Boost\n",
    "\n",
    "Based on F1 score and Accuracy metrics, Logistic Regression provided the most optimal result. The same was tuned \n",
    "The overall F1 score is 71% and Accuracy is 78% \n",
    "\n",
    "The top 5 important features are:\n",
    " 1. Average Session Time that a user spends in session\n",
    " 2. Total number of songs listened in each session\n",
    " 3. Total number of artists a user listens to\n",
    " 4. Number of days since registration\n",
    " 5. Number of times the user has voted 'positively'\n",
    "\n",
    "**Reflection**\n",
    "This project provides an opportunity for me to learn Spark. The ability to distribute data, run queries and build necessary conclusions. The ability to run SQL and ML algorithms beyond pandas, sklearn\n",
    "\n",
    "**Improvement**\n",
    "The features provide a good understanding of the reasons for churn. However, if we can interact with end users / owner of Sparkify app to deign necessary hypotheses and test them, we can improve the model by buidling more relevant features \n",
    "Also, the model could be imporved if run on the entire 12GB data"
   ]
  }
 ],
 "metadata": {
  "kernelspec": {
   "display_name": "Python 3",
   "language": "python",
   "name": "python3"
  },
  "language_info": {
   "codemirror_mode": {
    "name": "ipython",
    "version": 3
   },
   "file_extension": ".py",
   "mimetype": "text/x-python",
   "name": "python",
   "nbconvert_exporter": "python",
   "pygments_lexer": "ipython3",
   "version": "3.6.3"
  }
 },
 "nbformat": 4,
 "nbformat_minor": 2
}
